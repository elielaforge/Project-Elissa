{
 "cells": [
  {
   "cell_type": "code",
   "execution_count": 1,
   "metadata": {},
   "outputs": [],
   "source": [
    "import pandas as pd\n",
    "import seaborn as sns\n",
    "import numpy as np \n",
    "import matplotlib.pyplot as plt \n",
    "import plotly.express as px"
   ]
  },
  {
   "cell_type": "code",
   "execution_count": 2,
   "metadata": {},
   "outputs": [],
   "source": [
    "products_df = pd.read_csv(\"./products.csv\")\n",
    "reviews_df = pd.read_csv(\"./reviews_en (1).csv\")\n",
    "scores = pd.read_csv(\"./scores (1).csv\")"
   ]
  },
  {
   "cell_type": "code",
   "execution_count": 3,
   "metadata": {},
   "outputs": [
    {
     "data": {
      "text/plain": [
       "array(['Tampons', nan, 'Serviettes hygièniques', 'Lames', 'Shorties',\n",
       "       'Déodorant', 'Culottes', 'Culottes et slips',\n",
       "       'Culottes et sous-vêtements de protection', 'Femme',\n",
       "       'Hygiène et soins intimes', 'Coupes menstruelles',\n",
       "       'Hygiène et épilation', 'Vitamines, minéraux et compléments',\n",
       "       'Protège-slips',\n",
       "       'Protections, serviettes hygiéniques, couches pour adultes, protège-slips',\n",
       "       'Vêtements de contention médicaux', 'Incontinence', 'Visage',\n",
       "       'Coussinets pour chaussures', 'Beauté et soins',\n",
       "       \"Produits d'hygiène féminine\", 'Épilation à la cire', 'Bannetons',\n",
       "       'Bien-être', \"Diffuseurs d'huiles essentielles\"], dtype=object)"
      ]
     },
     "execution_count": 3,
     "metadata": {},
     "output_type": "execute_result"
    }
   ],
   "source": [
    "products_df[\"category\"].unique()"
   ]
  },
  {
   "cell_type": "code",
   "execution_count": 4,
   "metadata": {},
   "outputs": [],
   "source": [
    "# Set option to display all columns (None means no limit)\n",
    "#pd.set_option('display.max_columns', None)\n",
    "\n",
    "# Set option to display all rows (None means no limit)\n",
    "#pd.set_option('display.max_rows', None)\n",
    "\n",
    "# Increase the width of columns to prevent wrapping\n",
    "#pd.set_option('display.max_colwidth', None)\n"
   ]
  },
  {
   "cell_type": "markdown",
   "metadata": {},
   "source": [
    "### 1. Data cleaning"
   ]
  },
  {
   "cell_type": "code",
   "execution_count": 5,
   "metadata": {},
   "outputs": [],
   "source": [
    "scores.drop(columns=\"Unnamed: 0\", inplace=True)"
   ]
  },
  {
   "cell_type": "code",
   "execution_count": 6,
   "metadata": {},
   "outputs": [
    {
     "data": {
      "text/plain": [
       "Index(['asin', 'price_weighted_normalized', 'leak_weighted_normalized',\n",
       "       'absorb_weighted_normalized', 'comfort_weighted_normalized',\n",
       "       'material_weighted_normalized', 'package_weighted_normalized',\n",
       "       'size_weighted_normalized'],\n",
       "      dtype='object')"
      ]
     },
     "execution_count": 6,
     "metadata": {},
     "output_type": "execute_result"
    }
   ],
   "source": [
    "scores.columns"
   ]
  },
  {
   "cell_type": "code",
   "execution_count": 7,
   "metadata": {},
   "outputs": [
    {
     "data": {
      "text/plain": [
       "asin                            0\n",
       "price_weighted_normalized       0\n",
       "leak_weighted_normalized        0\n",
       "absorb_weighted_normalized      0\n",
       "comfort_weighted_normalized     0\n",
       "material_weighted_normalized    0\n",
       "package_weighted_normalized     0\n",
       "size_weighted_normalized        0\n",
       "dtype: int64"
      ]
     },
     "execution_count": 7,
     "metadata": {},
     "output_type": "execute_result"
    }
   ],
   "source": [
    "scores.isna().sum()"
   ]
  },
  {
   "cell_type": "code",
   "execution_count": 8,
   "metadata": {},
   "outputs": [
    {
     "data": {
      "text/plain": [
       "asin                             object\n",
       "price_weighted_normalized       float64\n",
       "leak_weighted_normalized        float64\n",
       "absorb_weighted_normalized      float64\n",
       "comfort_weighted_normalized     float64\n",
       "material_weighted_normalized    float64\n",
       "package_weighted_normalized     float64\n",
       "size_weighted_normalized        float64\n",
       "dtype: object"
      ]
     },
     "execution_count": 8,
     "metadata": {},
     "output_type": "execute_result"
    }
   ],
   "source": [
    "scores.dtypes"
   ]
  },
  {
   "cell_type": "code",
   "execution_count": 9,
   "metadata": {},
   "outputs": [
    {
     "data": {
      "text/plain": [
       "Index(['Unnamed: 0', 'asin', 'thumbnail', 'title', 'avg_rating', 'brand',\n",
       "       'category', 'feature_bullets', 'num_reviews', 'price', 'unities'],\n",
       "      dtype='object')"
      ]
     },
     "execution_count": 9,
     "metadata": {},
     "output_type": "execute_result"
    }
   ],
   "source": [
    "products_df.columns"
   ]
  },
  {
   "cell_type": "code",
   "execution_count": 10,
   "metadata": {},
   "outputs": [
    {
     "data": {
      "text/html": [
       "<div>\n",
       "<style scoped>\n",
       "    .dataframe tbody tr th:only-of-type {\n",
       "        vertical-align: middle;\n",
       "    }\n",
       "\n",
       "    .dataframe tbody tr th {\n",
       "        vertical-align: top;\n",
       "    }\n",
       "\n",
       "    .dataframe thead th {\n",
       "        text-align: right;\n",
       "    }\n",
       "</style>\n",
       "<table border=\"1\" class=\"dataframe\">\n",
       "  <thead>\n",
       "    <tr style=\"text-align: right;\">\n",
       "      <th></th>\n",
       "      <th>asin</th>\n",
       "      <th>category</th>\n",
       "      <th>price_weighted_normalized</th>\n",
       "      <th>leak_weighted_normalized</th>\n",
       "      <th>absorb_weighted_normalized</th>\n",
       "      <th>comfort_weighted_normalized</th>\n",
       "      <th>material_weighted_normalized</th>\n",
       "      <th>package_weighted_normalized</th>\n",
       "      <th>size_weighted_normalized</th>\n",
       "    </tr>\n",
       "  </thead>\n",
       "  <tbody>\n",
       "    <tr>\n",
       "      <th>0</th>\n",
       "      <td>B00028O5RY</td>\n",
       "      <td>Tampons</td>\n",
       "      <td>0.169639</td>\n",
       "      <td>0.110371</td>\n",
       "      <td>0.300328</td>\n",
       "      <td>0.173599</td>\n",
       "      <td>0.392496</td>\n",
       "      <td>0.128133</td>\n",
       "      <td>0.054343</td>\n",
       "    </tr>\n",
       "    <tr>\n",
       "      <th>1</th>\n",
       "      <td>B000E3DXCA</td>\n",
       "      <td>Tampons</td>\n",
       "      <td>0.167318</td>\n",
       "      <td>0.034397</td>\n",
       "      <td>0.010872</td>\n",
       "      <td>0.059157</td>\n",
       "      <td>0.354336</td>\n",
       "      <td>0.079694</td>\n",
       "      <td>0.011167</td>\n",
       "    </tr>\n",
       "    <tr>\n",
       "      <th>2</th>\n",
       "      <td>B000FAG6X0</td>\n",
       "      <td>Coupes menstruelles</td>\n",
       "      <td>0.000000</td>\n",
       "      <td>0.125531</td>\n",
       "      <td>0.026924</td>\n",
       "      <td>0.091767</td>\n",
       "      <td>0.354336</td>\n",
       "      <td>0.146735</td>\n",
       "      <td>0.006268</td>\n",
       "    </tr>\n",
       "    <tr>\n",
       "      <th>3</th>\n",
       "      <td>B000W6KKLQ</td>\n",
       "      <td>Protège-slips</td>\n",
       "      <td>0.000000</td>\n",
       "      <td>0.070897</td>\n",
       "      <td>0.026924</td>\n",
       "      <td>0.095683</td>\n",
       "      <td>0.354336</td>\n",
       "      <td>0.079694</td>\n",
       "      <td>0.000000</td>\n",
       "    </tr>\n",
       "    <tr>\n",
       "      <th>4</th>\n",
       "      <td>B000W6KKMK</td>\n",
       "      <td>Protège-slips</td>\n",
       "      <td>0.049417</td>\n",
       "      <td>0.070897</td>\n",
       "      <td>0.064849</td>\n",
       "      <td>0.098378</td>\n",
       "      <td>0.354336</td>\n",
       "      <td>0.079694</td>\n",
       "      <td>0.000000</td>\n",
       "    </tr>\n",
       "    <tr>\n",
       "      <th>...</th>\n",
       "      <td>...</td>\n",
       "      <td>...</td>\n",
       "      <td>...</td>\n",
       "      <td>...</td>\n",
       "      <td>...</td>\n",
       "      <td>...</td>\n",
       "      <td>...</td>\n",
       "      <td>...</td>\n",
       "      <td>...</td>\n",
       "    </tr>\n",
       "    <tr>\n",
       "      <th>612</th>\n",
       "      <td>B0CL3VMWJR</td>\n",
       "      <td>Tampons</td>\n",
       "      <td>0.945101</td>\n",
       "      <td>0.070897</td>\n",
       "      <td>0.026924</td>\n",
       "      <td>0.059157</td>\n",
       "      <td>0.354336</td>\n",
       "      <td>0.079694</td>\n",
       "      <td>0.168199</td>\n",
       "    </tr>\n",
       "    <tr>\n",
       "      <th>613</th>\n",
       "      <td>B0CL56DM4L</td>\n",
       "      <td>Tampons</td>\n",
       "      <td>0.596292</td>\n",
       "      <td>0.070897</td>\n",
       "      <td>0.026924</td>\n",
       "      <td>0.059157</td>\n",
       "      <td>0.354336</td>\n",
       "      <td>0.079694</td>\n",
       "      <td>0.106122</td>\n",
       "    </tr>\n",
       "    <tr>\n",
       "      <th>614</th>\n",
       "      <td>B0CL56VDZV</td>\n",
       "      <td>Tampons</td>\n",
       "      <td>0.000000</td>\n",
       "      <td>0.070897</td>\n",
       "      <td>0.026924</td>\n",
       "      <td>0.059157</td>\n",
       "      <td>0.577897</td>\n",
       "      <td>0.079694</td>\n",
       "      <td>0.000000</td>\n",
       "    </tr>\n",
       "    <tr>\n",
       "      <th>615</th>\n",
       "      <td>B0CL9VMF6K</td>\n",
       "      <td>Serviettes hygièniques</td>\n",
       "      <td>0.000000</td>\n",
       "      <td>0.070897</td>\n",
       "      <td>0.026924</td>\n",
       "      <td>0.059157</td>\n",
       "      <td>0.354336</td>\n",
       "      <td>0.079694</td>\n",
       "      <td>0.000000</td>\n",
       "    </tr>\n",
       "    <tr>\n",
       "      <th>616</th>\n",
       "      <td>B0CLY65M7V</td>\n",
       "      <td>Tampons</td>\n",
       "      <td>0.000000</td>\n",
       "      <td>0.070897</td>\n",
       "      <td>0.026924</td>\n",
       "      <td>0.059157</td>\n",
       "      <td>0.354336</td>\n",
       "      <td>0.079694</td>\n",
       "      <td>0.000000</td>\n",
       "    </tr>\n",
       "  </tbody>\n",
       "</table>\n",
       "<p>617 rows × 9 columns</p>\n",
       "</div>"
      ],
      "text/plain": [
       "           asin                category  price_weighted_normalized  \\\n",
       "0    B00028O5RY                 Tampons                   0.169639   \n",
       "1    B000E3DXCA                 Tampons                   0.167318   \n",
       "2    B000FAG6X0     Coupes menstruelles                   0.000000   \n",
       "3    B000W6KKLQ           Protège-slips                   0.000000   \n",
       "4    B000W6KKMK           Protège-slips                   0.049417   \n",
       "..          ...                     ...                        ...   \n",
       "612  B0CL3VMWJR                 Tampons                   0.945101   \n",
       "613  B0CL56DM4L                 Tampons                   0.596292   \n",
       "614  B0CL56VDZV                 Tampons                   0.000000   \n",
       "615  B0CL9VMF6K  Serviettes hygièniques                   0.000000   \n",
       "616  B0CLY65M7V                 Tampons                   0.000000   \n",
       "\n",
       "     leak_weighted_normalized  absorb_weighted_normalized  \\\n",
       "0                    0.110371                    0.300328   \n",
       "1                    0.034397                    0.010872   \n",
       "2                    0.125531                    0.026924   \n",
       "3                    0.070897                    0.026924   \n",
       "4                    0.070897                    0.064849   \n",
       "..                        ...                         ...   \n",
       "612                  0.070897                    0.026924   \n",
       "613                  0.070897                    0.026924   \n",
       "614                  0.070897                    0.026924   \n",
       "615                  0.070897                    0.026924   \n",
       "616                  0.070897                    0.026924   \n",
       "\n",
       "     comfort_weighted_normalized  material_weighted_normalized  \\\n",
       "0                       0.173599                      0.392496   \n",
       "1                       0.059157                      0.354336   \n",
       "2                       0.091767                      0.354336   \n",
       "3                       0.095683                      0.354336   \n",
       "4                       0.098378                      0.354336   \n",
       "..                           ...                           ...   \n",
       "612                     0.059157                      0.354336   \n",
       "613                     0.059157                      0.354336   \n",
       "614                     0.059157                      0.577897   \n",
       "615                     0.059157                      0.354336   \n",
       "616                     0.059157                      0.354336   \n",
       "\n",
       "     package_weighted_normalized  size_weighted_normalized  \n",
       "0                       0.128133                  0.054343  \n",
       "1                       0.079694                  0.011167  \n",
       "2                       0.146735                  0.006268  \n",
       "3                       0.079694                  0.000000  \n",
       "4                       0.079694                  0.000000  \n",
       "..                           ...                       ...  \n",
       "612                     0.079694                  0.168199  \n",
       "613                     0.079694                  0.106122  \n",
       "614                     0.079694                  0.000000  \n",
       "615                     0.079694                  0.000000  \n",
       "616                     0.079694                  0.000000  \n",
       "\n",
       "[617 rows x 9 columns]"
      ]
     },
     "execution_count": 10,
     "metadata": {},
     "output_type": "execute_result"
    }
   ],
   "source": [
    "products_scores = products_df.merge(scores, on=\"asin\", how=\"right\")\n",
    "products_scores = products_scores[[\"asin\", \"category\",'price_weighted_normalized', 'leak_weighted_normalized',\n",
    "       'absorb_weighted_normalized', 'comfort_weighted_normalized',\n",
    "       'material_weighted_normalized', 'package_weighted_normalized',\n",
    "       'size_weighted_normalized']]\n",
    "\n",
    "products_scores"
   ]
  },
  {
   "cell_type": "code",
   "execution_count": 11,
   "metadata": {},
   "outputs": [
    {
     "data": {
      "text/html": [
       "<div>\n",
       "<style scoped>\n",
       "    .dataframe tbody tr th:only-of-type {\n",
       "        vertical-align: middle;\n",
       "    }\n",
       "\n",
       "    .dataframe tbody tr th {\n",
       "        vertical-align: top;\n",
       "    }\n",
       "\n",
       "    .dataframe thead th {\n",
       "        text-align: right;\n",
       "    }\n",
       "</style>\n",
       "<table border=\"1\" class=\"dataframe\">\n",
       "  <thead>\n",
       "    <tr style=\"text-align: right;\">\n",
       "      <th></th>\n",
       "      <th>Unnamed: 0</th>\n",
       "      <th>asin</th>\n",
       "      <th>thumbnail</th>\n",
       "      <th>title</th>\n",
       "      <th>avg_rating</th>\n",
       "      <th>brand</th>\n",
       "      <th>category</th>\n",
       "      <th>feature_bullets</th>\n",
       "      <th>num_reviews</th>\n",
       "      <th>price</th>\n",
       "      <th>unities</th>\n",
       "    </tr>\n",
       "  </thead>\n",
       "  <tbody>\n",
       "    <tr>\n",
       "      <th>0</th>\n",
       "      <td>0</td>\n",
       "      <td>B07BFMNKBJ</td>\n",
       "      <td>https://m.media-amazon.com/images/I/71MyAkpL3P...</td>\n",
       "      <td>Nett Original Tampon sans Applicateur, Super P...</td>\n",
       "      <td>4.7</td>\n",
       "      <td>Nett</td>\n",
       "      <td>Tampons</td>\n",
       "      <td>['Son ouverture en corolle permet une adaptati...</td>\n",
       "      <td>223.0</td>\n",
       "      <td>2.66</td>\n",
       "      <td>32.0</td>\n",
       "    </tr>\n",
       "    <tr>\n",
       "      <th>1</th>\n",
       "      <td>1</td>\n",
       "      <td>B07YQG6J8C</td>\n",
       "      <td>https://m.media-amazon.com/images/I/71z+FTDoel...</td>\n",
       "      <td>Nett® ProComfort® Normal, Tampon Sans Applicat...</td>\n",
       "      <td>4.6</td>\n",
       "      <td>Nett</td>\n",
       "      <td>Tampons</td>\n",
       "      <td>[\"Les tampons Nett ProComfort sont ultra confo...</td>\n",
       "      <td>303.0</td>\n",
       "      <td>3.79</td>\n",
       "      <td>24.0</td>\n",
       "    </tr>\n",
       "    <tr>\n",
       "      <th>2</th>\n",
       "      <td>2</td>\n",
       "      <td>B07DX91LR6</td>\n",
       "      <td>https://m.media-amazon.com/images/I/81aKn18Bqs...</td>\n",
       "      <td>Tampax Compak Pearl, Super, 18 Tampons Avec Ap...</td>\n",
       "      <td>4.7</td>\n",
       "      <td>Always</td>\n",
       "      <td>Tampons</td>\n",
       "      <td>['La combinaison n°\\xa01 de confort, protectio...</td>\n",
       "      <td>859.0</td>\n",
       "      <td>3.10</td>\n",
       "      <td>18.0</td>\n",
       "    </tr>\n",
       "    <tr>\n",
       "      <th>3</th>\n",
       "      <td>3</td>\n",
       "      <td>B082VVC4ZB</td>\n",
       "      <td>https://m.media-amazon.com/images/I/71IHCEr+Kr...</td>\n",
       "      <td>Nett Original Tampon sans Applicateur, Super, ...</td>\n",
       "      <td>4.7</td>\n",
       "      <td>Nett</td>\n",
       "      <td>Tampons</td>\n",
       "      <td>['Son ouverture en corolle permet une adaptati...</td>\n",
       "      <td>144.0</td>\n",
       "      <td>2.81</td>\n",
       "      <td>32.0</td>\n",
       "    </tr>\n",
       "    <tr>\n",
       "      <th>4</th>\n",
       "      <td>4</td>\n",
       "      <td>B0BQJQW12P</td>\n",
       "      <td>https://m.media-amazon.com/images/I/61omM04gC2...</td>\n",
       "      <td>Tampax Cotton Protection, Super Plus, 18 Tampo...</td>\n",
       "      <td>4.7</td>\n",
       "      <td>Always</td>\n",
       "      <td>Tampons</td>\n",
       "      <td>['Tampax offre une protection longue durée ave...</td>\n",
       "      <td>30.0</td>\n",
       "      <td>4.50</td>\n",
       "      <td>18.0</td>\n",
       "    </tr>\n",
       "  </tbody>\n",
       "</table>\n",
       "</div>"
      ],
      "text/plain": [
       "   Unnamed: 0        asin                                          thumbnail  \\\n",
       "0           0  B07BFMNKBJ  https://m.media-amazon.com/images/I/71MyAkpL3P...   \n",
       "1           1  B07YQG6J8C  https://m.media-amazon.com/images/I/71z+FTDoel...   \n",
       "2           2  B07DX91LR6  https://m.media-amazon.com/images/I/81aKn18Bqs...   \n",
       "3           3  B082VVC4ZB  https://m.media-amazon.com/images/I/71IHCEr+Kr...   \n",
       "4           4  B0BQJQW12P  https://m.media-amazon.com/images/I/61omM04gC2...   \n",
       "\n",
       "                                               title  avg_rating   brand  \\\n",
       "0  Nett Original Tampon sans Applicateur, Super P...         4.7    Nett   \n",
       "1  Nett® ProComfort® Normal, Tampon Sans Applicat...         4.6    Nett   \n",
       "2  Tampax Compak Pearl, Super, 18 Tampons Avec Ap...         4.7  Always   \n",
       "3  Nett Original Tampon sans Applicateur, Super, ...         4.7    Nett   \n",
       "4  Tampax Cotton Protection, Super Plus, 18 Tampo...         4.7  Always   \n",
       "\n",
       "  category                                    feature_bullets  num_reviews  \\\n",
       "0  Tampons  ['Son ouverture en corolle permet une adaptati...        223.0   \n",
       "1  Tampons  [\"Les tampons Nett ProComfort sont ultra confo...        303.0   \n",
       "2  Tampons  ['La combinaison n°\\xa01 de confort, protectio...        859.0   \n",
       "3  Tampons  ['Son ouverture en corolle permet une adaptati...        144.0   \n",
       "4  Tampons  ['Tampax offre une protection longue durée ave...         30.0   \n",
       "\n",
       "   price  unities  \n",
       "0   2.66     32.0  \n",
       "1   3.79     24.0  \n",
       "2   3.10     18.0  \n",
       "3   2.81     32.0  \n",
       "4   4.50     18.0  "
      ]
     },
     "execution_count": 11,
     "metadata": {},
     "output_type": "execute_result"
    }
   ],
   "source": [
    "products_df.head()"
   ]
  },
  {
   "cell_type": "code",
   "execution_count": 12,
   "metadata": {},
   "outputs": [],
   "source": [
    "products_df.drop(columns=[\"Unnamed: 0\"], inplace=True)"
   ]
  },
  {
   "cell_type": "code",
   "execution_count": 13,
   "metadata": {},
   "outputs": [
    {
     "data": {
      "text/plain": [
       "asin                 0\n",
       "thumbnail            0\n",
       "title                0\n",
       "avg_rating         179\n",
       "brand                2\n",
       "category             3\n",
       "feature_bullets     66\n",
       "num_reviews        179\n",
       "price               44\n",
       "unities            703\n",
       "dtype: int64"
      ]
     },
     "execution_count": 13,
     "metadata": {},
     "output_type": "execute_result"
    }
   ],
   "source": [
    "products_df.isna().sum()"
   ]
  },
  {
   "cell_type": "code",
   "execution_count": 14,
   "metadata": {},
   "outputs": [
    {
     "data": {
      "text/plain": [
       "asin                object\n",
       "thumbnail           object\n",
       "title               object\n",
       "avg_rating         float64\n",
       "brand               object\n",
       "category            object\n",
       "feature_bullets     object\n",
       "num_reviews        float64\n",
       "price              float64\n",
       "unities            float64\n",
       "dtype: object"
      ]
     },
     "execution_count": 14,
     "metadata": {},
     "output_type": "execute_result"
    }
   ],
   "source": [
    "products_df.dtypes"
   ]
  },
  {
   "cell_type": "code",
   "execution_count": 15,
   "metadata": {},
   "outputs": [],
   "source": [
    "products_df['category'] = products_df['category'].astype(str).fillna('Unknown')\n"
   ]
  },
  {
   "cell_type": "code",
   "execution_count": 16,
   "metadata": {},
   "outputs": [
    {
     "data": {
      "text/plain": [
       "array(['Tampons', 'nan', 'Serviettes hygièniques', 'Lames', 'Shorties',\n",
       "       'Déodorant', 'Culottes', 'Culottes et slips',\n",
       "       'Culottes et sous-vêtements de protection', 'Femme',\n",
       "       'Hygiène et soins intimes', 'Coupes menstruelles',\n",
       "       'Hygiène et épilation', 'Vitamines, minéraux et compléments',\n",
       "       'Protège-slips',\n",
       "       'Protections, serviettes hygiéniques, couches pour adultes, protège-slips',\n",
       "       'Vêtements de contention médicaux', 'Incontinence', 'Visage',\n",
       "       'Coussinets pour chaussures', 'Beauté et soins',\n",
       "       \"Produits d'hygiène féminine\", 'Épilation à la cire', 'Bannetons',\n",
       "       'Bien-être', \"Diffuseurs d'huiles essentielles\"], dtype=object)"
      ]
     },
     "execution_count": 16,
     "metadata": {},
     "output_type": "execute_result"
    }
   ],
   "source": [
    "products_df[\"category\"].unique()"
   ]
  },
  {
   "cell_type": "code",
   "execution_count": 17,
   "metadata": {},
   "outputs": [
    {
     "data": {
      "text/html": [
       "<div>\n",
       "<style scoped>\n",
       "    .dataframe tbody tr th:only-of-type {\n",
       "        vertical-align: middle;\n",
       "    }\n",
       "\n",
       "    .dataframe tbody tr th {\n",
       "        vertical-align: top;\n",
       "    }\n",
       "\n",
       "    .dataframe thead th {\n",
       "        text-align: right;\n",
       "    }\n",
       "</style>\n",
       "<table border=\"1\" class=\"dataframe\">\n",
       "  <thead>\n",
       "    <tr style=\"text-align: right;\">\n",
       "      <th></th>\n",
       "      <th>Unnamed: 0</th>\n",
       "      <th>asin</th>\n",
       "      <th>rating</th>\n",
       "      <th>title</th>\n",
       "      <th>country</th>\n",
       "      <th>date</th>\n",
       "      <th>body</th>\n",
       "      <th>body_en</th>\n",
       "    </tr>\n",
       "  </thead>\n",
       "  <tbody>\n",
       "    <tr>\n",
       "      <th>0</th>\n",
       "      <td>0</td>\n",
       "      <td>B07BFMNKBJ</td>\n",
       "      <td>1</td>\n",
       "      <td>Pas reçue</td>\n",
       "      <td>France</td>\n",
       "      <td>2020-12-02</td>\n",
       "      <td>Ont me dis que je les reçue alors que non !</td>\n",
       "      <td>I was told that I received them when I didn&amp;#3...</td>\n",
       "    </tr>\n",
       "    <tr>\n",
       "      <th>1</th>\n",
       "      <td>1</td>\n",
       "      <td>B07BFMNKBJ</td>\n",
       "      <td>1</td>\n",
       "      <td>Sans commentaire</td>\n",
       "      <td>France</td>\n",
       "      <td>2018-10-11</td>\n",
       "      <td>Sans commentaire</td>\n",
       "      <td>No comment</td>\n",
       "    </tr>\n",
       "    <tr>\n",
       "      <th>2</th>\n",
       "      <td>2</td>\n",
       "      <td>B07BFMNKBJ</td>\n",
       "      <td>5</td>\n",
       "      <td>Parfait 👌</td>\n",
       "      <td>France</td>\n",
       "      <td>2022-01-27</td>\n",
       "      <td>J'utilise ce modèle depuis des années, je ne c...</td>\n",
       "      <td>I have been using this model for years, I no l...</td>\n",
       "    </tr>\n",
       "    <tr>\n",
       "      <th>3</th>\n",
       "      <td>3</td>\n",
       "      <td>B07BFMNKBJ</td>\n",
       "      <td>4</td>\n",
       "      <td>Bien mais</td>\n",
       "      <td>France</td>\n",
       "      <td>2021-11-21</td>\n",
       "      <td>Légèrement moins cher qu’en grande surface mai...</td>\n",
       "      <td>Slightly cheaper than supermarkets but Pro Con...</td>\n",
       "    </tr>\n",
       "    <tr>\n",
       "      <th>4</th>\n",
       "      <td>4</td>\n",
       "      <td>B07BFMNKBJ</td>\n",
       "      <td>4</td>\n",
       "      <td>Bons tampons</td>\n",
       "      <td>France</td>\n",
       "      <td>2022-01-29</td>\n",
       "      <td>Rien de particulier à signaler.</td>\n",
       "      <td>Nothing special to report.</td>\n",
       "    </tr>\n",
       "  </tbody>\n",
       "</table>\n",
       "</div>"
      ],
      "text/plain": [
       "   Unnamed: 0        asin  rating             title country        date  \\\n",
       "0           0  B07BFMNKBJ       1         Pas reçue  France  2020-12-02   \n",
       "1           1  B07BFMNKBJ       1  Sans commentaire  France  2018-10-11   \n",
       "2           2  B07BFMNKBJ       5         Parfait 👌  France  2022-01-27   \n",
       "3           3  B07BFMNKBJ       4         Bien mais  France  2021-11-21   \n",
       "4           4  B07BFMNKBJ       4      Bons tampons  France  2022-01-29   \n",
       "\n",
       "                                                body  \\\n",
       "0        Ont me dis que je les reçue alors que non !   \n",
       "1                                   Sans commentaire   \n",
       "2  J'utilise ce modèle depuis des années, je ne c...   \n",
       "3  Légèrement moins cher qu’en grande surface mai...   \n",
       "4                    Rien de particulier à signaler.   \n",
       "\n",
       "                                             body_en  \n",
       "0  I was told that I received them when I didn&#3...  \n",
       "1                                         No comment  \n",
       "2  I have been using this model for years, I no l...  \n",
       "3  Slightly cheaper than supermarkets but Pro Con...  \n",
       "4                         Nothing special to report.  "
      ]
     },
     "execution_count": 17,
     "metadata": {},
     "output_type": "execute_result"
    }
   ],
   "source": [
    "reviews_df.head()"
   ]
  },
  {
   "cell_type": "code",
   "execution_count": 18,
   "metadata": {},
   "outputs": [],
   "source": [
    "reviews_df.drop(columns=\"Unnamed: 0\", inplace= True)"
   ]
  },
  {
   "cell_type": "code",
   "execution_count": 19,
   "metadata": {},
   "outputs": [
    {
     "data": {
      "text/html": [
       "<div>\n",
       "<style scoped>\n",
       "    .dataframe tbody tr th:only-of-type {\n",
       "        vertical-align: middle;\n",
       "    }\n",
       "\n",
       "    .dataframe tbody tr th {\n",
       "        vertical-align: top;\n",
       "    }\n",
       "\n",
       "    .dataframe thead th {\n",
       "        text-align: right;\n",
       "    }\n",
       "</style>\n",
       "<table border=\"1\" class=\"dataframe\">\n",
       "  <thead>\n",
       "    <tr style=\"text-align: right;\">\n",
       "      <th></th>\n",
       "      <th>rating</th>\n",
       "    </tr>\n",
       "  </thead>\n",
       "  <tbody>\n",
       "    <tr>\n",
       "      <th>count</th>\n",
       "      <td>12634.000000</td>\n",
       "    </tr>\n",
       "    <tr>\n",
       "      <th>mean</th>\n",
       "      <td>4.218300</td>\n",
       "    </tr>\n",
       "    <tr>\n",
       "      <th>std</th>\n",
       "      <td>1.233517</td>\n",
       "    </tr>\n",
       "    <tr>\n",
       "      <th>min</th>\n",
       "      <td>1.000000</td>\n",
       "    </tr>\n",
       "    <tr>\n",
       "      <th>25%</th>\n",
       "      <td>4.000000</td>\n",
       "    </tr>\n",
       "    <tr>\n",
       "      <th>50%</th>\n",
       "      <td>5.000000</td>\n",
       "    </tr>\n",
       "    <tr>\n",
       "      <th>75%</th>\n",
       "      <td>5.000000</td>\n",
       "    </tr>\n",
       "    <tr>\n",
       "      <th>max</th>\n",
       "      <td>5.000000</td>\n",
       "    </tr>\n",
       "  </tbody>\n",
       "</table>\n",
       "</div>"
      ],
      "text/plain": [
       "             rating\n",
       "count  12634.000000\n",
       "mean       4.218300\n",
       "std        1.233517\n",
       "min        1.000000\n",
       "25%        4.000000\n",
       "50%        5.000000\n",
       "75%        5.000000\n",
       "max        5.000000"
      ]
     },
     "execution_count": 19,
     "metadata": {},
     "output_type": "execute_result"
    }
   ],
   "source": [
    "reviews_df.describe()"
   ]
  },
  {
   "cell_type": "code",
   "execution_count": 20,
   "metadata": {},
   "outputs": [
    {
     "data": {
      "text/plain": [
       "asin        0\n",
       "rating      0\n",
       "title      19\n",
       "country     0\n",
       "date        0\n",
       "body        0\n",
       "body_en     0\n",
       "dtype: int64"
      ]
     },
     "execution_count": 20,
     "metadata": {},
     "output_type": "execute_result"
    }
   ],
   "source": [
    "reviews_df.isna().sum()"
   ]
  },
  {
   "cell_type": "code",
   "execution_count": 21,
   "metadata": {},
   "outputs": [],
   "source": [
    "reviews_df['date'] = pd.to_datetime(reviews_df['date'], format='%Y-%m-%d')"
   ]
  },
  {
   "cell_type": "code",
   "execution_count": 22,
   "metadata": {},
   "outputs": [
    {
     "data": {
      "text/plain": [
       "asin               object\n",
       "rating              int64\n",
       "title              object\n",
       "country            object\n",
       "date       datetime64[ns]\n",
       "body               object\n",
       "body_en            object\n",
       "dtype: object"
      ]
     },
     "execution_count": 22,
     "metadata": {},
     "output_type": "execute_result"
    }
   ],
   "source": [
    "reviews_df.dtypes"
   ]
  },
  {
   "cell_type": "code",
   "execution_count": 23,
   "metadata": {},
   "outputs": [],
   "source": [
    "products_df['asin'] = products_df['asin'].str.strip().str.upper()\n",
    "reviews_df['asin'] = reviews_df['asin'].str.strip().str.upper()"
   ]
  },
  {
   "cell_type": "markdown",
   "metadata": {},
   "source": [
    "Our analysis being reviews-centric, I decided to remove products without reviews."
   ]
  },
  {
   "cell_type": "code",
   "execution_count": 24,
   "metadata": {},
   "outputs": [
    {
     "name": "stdout",
     "output_type": "stream",
     "text": [
      "ASINs in reviews not in products: set()\n",
      "ASINs in products not in reviews: {'B09MTFMH32', 'B0CJBZWYYP', 'B07DXBMTCR', 'B0CMX83WXS', 'B09X345FKL', 'B0CL1T18SW', 'B07CQ5HXP2', 'B0CFT5754Q', 'B0CNXCWKCR', 'B0BRQVDXB3', 'B08VHRYZ9R', 'B0CH7CX28G', 'B0958YKW8D', 'B00BIVCXLE', 'B07X9F5LM6', 'B0C88JTLNZ', 'B0C4JXSHNF', 'B07FGGF77H', 'B0CBSPK724', 'B0BZY64R31', 'B09H3CDFD5', 'B0CLLBBYQ5', 'B0CMX8T7C7', 'B09P5RWWGL', 'B07W846D7G', 'B0CL58MHY4', 'B0CL583N8D', 'B0BVN2XD1X', 'B0B1SYYR9H', 'B07DX4L5KF', 'B0CMX95V41', 'B0BZWCFX52', 'B0BWJSPXH2', 'B07B4TDJBM', 'B0C9V3KB6R', 'B0CM3Y8GPG', 'B07C87JS56', 'B093KG7WRG', 'B08SSCDQKC', 'B0CJXTCYD8', 'B07D4MZ5GW', 'B08NZ26Y9D', 'B0841P256Q', 'B07QHYWYWK', 'B0BD7S8CCN', 'B0CBG1N1ZQ', 'B0CGVTYX3C', 'B0CJXXJS59', 'B0BYXSJMGM', 'B0CL7S3HWJ', 'B0BV2DTJ39', 'B0CCVR5KWD', 'B0CLG43TJ3', 'B0BL41PYPR', 'B07DX6T934', 'B01LFBZKD4', 'B08RC7WFG4', 'B09F668NY1', 'B0CLB1BV4Z', 'B00SPI6H88', 'B0CBSPYM4L', 'B07FDHSYLD', 'B0BP2G3PT4', 'B08Z7PVGJ2', 'B07PF6KDQ4', 'B0CJMFDJH9', 'B07CG9QM37', 'B0CBSQ31Q1', 'B09G2YYJ1J', 'B0BZYZTZD2', 'B09J84ZNZN', 'B0CHB2JD8Z', 'B0CBSP1DJV', 'B0BZWBSK6L', 'B0BTM3V265', 'B0CBSMRLJT', 'B0BP2RZNS4', 'B09KZCLWQT', 'B0CLR6BC7S', 'B0BZWCB2PF', 'B0CGM31QT8', 'B07DXGK3TJ', 'B097SZ1YDS', 'B07DX7PWBN', 'B0CHJZKK1N', 'B0CJC3P8MS', 'B09F9WDS5P', 'B08XP1MZ1G', 'B0BWR33ZPT', 'B0BWR1Z8WD', 'B002WDPMJC', 'B07STNB9SM', 'B09W1NH5FQ', 'B09HR81X76', 'B0BNYN4JL6', 'B00FUY8DW8', 'B00GEU8HX2', 'B0BP2L9WM1', 'B0CBFZMSD3', 'B0CMXBX2DB', 'B09N7GMKFT', 'B0CLNLDDX8', 'B093KLZWBB', 'B07SVP6YPX', 'B0853BMG6S', 'B09D3WBR69', 'B09QT4GH6M', 'B0CL7RYQGT', 'B00IXH1DFS', 'B09KLK4X3N', 'B099KNHSLJ', 'B09T2VZH75', 'B0CLB1C61J', 'B09YM78JTZ', 'B0C8TRKS32', 'B0812C3V79', 'B0CLRDX1D7', 'B0CKYLSHQB', 'B0B1QS5FSV', 'B0BS3RHYW6', 'B0CDNWF9XH', 'B0BS3PJDKG', 'B0CPPBDJCH', 'B09LM5ZHF1', 'B0C4H3PHTK', 'B0CLS2XWK1', 'B0BK7YC6ZZ', 'B079QDVF8R', 'B0CL7QR28J', 'B07NC9C2XK', 'B0BXBKWQCG', 'B0CLVBQSP7', 'B0CBFY1X22', 'B0CM6FZDMM', 'B00MH8WQCI', 'B0B1JBJL6C', 'B09HSNSHV4', 'B09Q133F41', 'B0CBSQ6C63', 'B0C88JKXLJ', 'B0B2S8C8FR', 'B0CG9QDGS1', 'B0CKYDN51S', 'B00GEU1XZG', 'B0CMX9B3YB', 'B07KG8C6LP', 'B09F65JBFM', 'B0CMX9BFHJ', 'B0BP2KVG6Y', 'B01LNQ7YGC', 'B0CH8DF79L', 'B0BFC16W6Q', 'B00F2JKRO8', 'B0BYSWRF39', 'B08VHQJZ6W', 'B0C2QLHZ88', 'B09H3CL25Y', 'B09WN14DW1', 'B0BRQSTXTD', 'B0BWR3VZB9', 'B0CLB12TCD', 'B0BTNBSTS6', 'B0BX6VVPWL', 'B09SFBXMKW', 'B0CMXB2R7Z', 'B0C7WMH3VD', 'B0CKYSKDX7', 'B00V771APY', 'B07D4ZSVN4', 'B0CBFYPLQY', 'B08XP1MJ6N', 'B0CBSPJWYY', 'B09H3H37QC', 'B08XP2QKK2', 'B0CNXGLRFW', 'B09HQ21XQN', 'B0B11GZFXD', 'B09K5BFTS9', 'B09J94M6HK', 'B07DX94LFM', 'B09VKYCY6L', 'B07QMP3H4M', 'B08YN59ZY3', 'B09L1B3TXL', 'B0CMX99854', 'B0CQZQB3M1', 'B0CMX9P5ZM', 'B0C2MYVKBF', 'B0CKMXTRYH', 'B076PRTP1W', 'B0C88FR83J', 'B07JLV25KJ', 'B0CBG1MX61', 'B001FUHYKI', 'B0CHK142D4', 'B0CBFYMVYZ', 'B0CBMK1HVN', 'B081QR6ZGC', 'B07QJ6FC47', 'B0C3R8H7QJ', 'B08VS5V5VT', 'B0CMX9MHKK', 'B0BWZ2DYKJ', 'B014VDE8C2', 'B096W96YYL', 'B0CCN2S547', 'B00RLHNA48', 'B07X6GSCB7', 'B0CL56R5M4', 'B0BHZHG9KW', 'B0CNRVN9GR', 'B0BNG8Y91T', 'B0CBSPDCPM', 'B095WRBCWH', 'B087NQ6SLD', 'B0CJ9DDX8T', 'B0BWVP6N7K', 'B0CMX9P6R7', 'B08NZ1Z3HL', 'B09J7VZR6S', 'B002MA4SI6', 'B0B285525F', 'B0CMX9MHTY', 'B0CBFXVQZM', 'B07GTG4MXL', 'B094X89ZCV', 'B08NZ2V6KB', 'B0B463RK77', 'B0CQZQJLTR', 'B08VHNWP26', 'B0853C5FBZ', 'B0CHYZ5NW8', 'B07GX3Y86F', 'B0B7R3C2ML', 'B0BZW9QJR2', 'B08P3KP26X', 'B07DX8XXVZ', 'B0BKB13D9G', 'B00TPLXHDW', 'B07YBFRM6D', 'B09TDM8GDR', 'B091397H2V', 'B08XP299MK', 'B0CJXGCKT7', 'B09NMYTNH8', 'B09MTWQPJT', 'B09ZJ65SCQ', 'B019S8T6O0', 'B093BR1KKJ', 'B09VFYFGFQ', 'B0BP2GM87T', 'B0CPPBZG1Q'}\n"
     ]
    }
   ],
   "source": [
    "# Checking if all asins of product are in reviews and vice versa\n",
    "asin_in_reviews_not_in_products = set(reviews_df['asin']) - set(products_df['asin'])\n",
    "\n",
    "asin_in_products_not_in_reviews = set(products_df['asin']) - set(reviews_df['asin'])\n",
    "\n",
    "print(f\"ASINs in reviews not in products: {asin_in_reviews_not_in_products}\")\n",
    "print(f\"ASINs in products not in reviews: {asin_in_products_not_in_reviews}\")"
   ]
  },
  {
   "cell_type": "code",
   "execution_count": 25,
   "metadata": {},
   "outputs": [],
   "source": [
    "products = products_df[products_df['asin'].isin(reviews_df['asin'])]\n",
    "reviews = reviews_df[reviews_df['asin'].isin(products_df['asin'])]"
   ]
  },
  {
   "cell_type": "code",
   "execution_count": 26,
   "metadata": {},
   "outputs": [
    {
     "name": "stdout",
     "output_type": "stream",
     "text": [
      "ASINs in reviews not in products: set()\n",
      "ASINs in products not in reviews: set()\n"
     ]
    }
   ],
   "source": [
    "asin_in_reviews_not_in_products = set(reviews['asin']) - set(products['asin'])\n",
    "\n",
    "asin_in_products_not_in_reviews = set(products['asin']) - set(reviews['asin'])\n",
    "\n",
    "print(f\"ASINs in reviews not in products: {asin_in_reviews_not_in_products}\")\n",
    "print(f\"ASINs in products not in reviews: {asin_in_products_not_in_reviews}\")"
   ]
  },
  {
   "cell_type": "markdown",
   "metadata": {},
   "source": [
    "### 2. Summary Statistics"
   ]
  },
  {
   "cell_type": "code",
   "execution_count": 27,
   "metadata": {},
   "outputs": [
    {
     "data": {
      "text/html": [
       "<div>\n",
       "<style scoped>\n",
       "    .dataframe tbody tr th:only-of-type {\n",
       "        vertical-align: middle;\n",
       "    }\n",
       "\n",
       "    .dataframe tbody tr th {\n",
       "        vertical-align: top;\n",
       "    }\n",
       "\n",
       "    .dataframe thead th {\n",
       "        text-align: right;\n",
       "    }\n",
       "</style>\n",
       "<table border=\"1\" class=\"dataframe\">\n",
       "  <thead>\n",
       "    <tr style=\"text-align: right;\">\n",
       "      <th></th>\n",
       "      <th>avg_rating</th>\n",
       "      <th>num_reviews</th>\n",
       "      <th>price</th>\n",
       "      <th>unities</th>\n",
       "    </tr>\n",
       "  </thead>\n",
       "  <tbody>\n",
       "    <tr>\n",
       "      <th>count</th>\n",
       "      <td>617.000000</td>\n",
       "      <td>617.000000</td>\n",
       "      <td>583.000000</td>\n",
       "      <td>122.000000</td>\n",
       "    </tr>\n",
       "    <tr>\n",
       "      <th>mean</th>\n",
       "      <td>4.292707</td>\n",
       "      <td>614.341977</td>\n",
       "      <td>15.930292</td>\n",
       "      <td>15.131148</td>\n",
       "    </tr>\n",
       "    <tr>\n",
       "      <th>std</th>\n",
       "      <td>0.459809</td>\n",
       "      <td>1655.613556</td>\n",
       "      <td>11.139588</td>\n",
       "      <td>25.893919</td>\n",
       "    </tr>\n",
       "    <tr>\n",
       "      <th>min</th>\n",
       "      <td>1.000000</td>\n",
       "      <td>1.000000</td>\n",
       "      <td>1.130000</td>\n",
       "      <td>1.000000</td>\n",
       "    </tr>\n",
       "    <tr>\n",
       "      <th>25%</th>\n",
       "      <td>4.100000</td>\n",
       "      <td>25.000000</td>\n",
       "      <td>7.990000</td>\n",
       "      <td>1.000000</td>\n",
       "    </tr>\n",
       "    <tr>\n",
       "      <th>50%</th>\n",
       "      <td>4.400000</td>\n",
       "      <td>107.000000</td>\n",
       "      <td>13.720000</td>\n",
       "      <td>2.000000</td>\n",
       "    </tr>\n",
       "    <tr>\n",
       "      <th>75%</th>\n",
       "      <td>4.600000</td>\n",
       "      <td>456.000000</td>\n",
       "      <td>21.090000</td>\n",
       "      <td>19.500000</td>\n",
       "    </tr>\n",
       "    <tr>\n",
       "      <th>max</th>\n",
       "      <td>5.000000</td>\n",
       "      <td>18631.000000</td>\n",
       "      <td>69.900000</td>\n",
       "      <td>200.000000</td>\n",
       "    </tr>\n",
       "  </tbody>\n",
       "</table>\n",
       "</div>"
      ],
      "text/plain": [
       "       avg_rating   num_reviews       price     unities\n",
       "count  617.000000    617.000000  583.000000  122.000000\n",
       "mean     4.292707    614.341977   15.930292   15.131148\n",
       "std      0.459809   1655.613556   11.139588   25.893919\n",
       "min      1.000000      1.000000    1.130000    1.000000\n",
       "25%      4.100000     25.000000    7.990000    1.000000\n",
       "50%      4.400000    107.000000   13.720000    2.000000\n",
       "75%      4.600000    456.000000   21.090000   19.500000\n",
       "max      5.000000  18631.000000   69.900000  200.000000"
      ]
     },
     "execution_count": 27,
     "metadata": {},
     "output_type": "execute_result"
    }
   ],
   "source": [
    "products.describe()"
   ]
  },
  {
   "cell_type": "code",
   "execution_count": 28,
   "metadata": {},
   "outputs": [
    {
     "data": {
      "text/html": [
       "<div>\n",
       "<style scoped>\n",
       "    .dataframe tbody tr th:only-of-type {\n",
       "        vertical-align: middle;\n",
       "    }\n",
       "\n",
       "    .dataframe tbody tr th {\n",
       "        vertical-align: top;\n",
       "    }\n",
       "\n",
       "    .dataframe thead th {\n",
       "        text-align: right;\n",
       "    }\n",
       "</style>\n",
       "<table border=\"1\" class=\"dataframe\">\n",
       "  <thead>\n",
       "    <tr style=\"text-align: right;\">\n",
       "      <th></th>\n",
       "      <th>avg_rating</th>\n",
       "      <th>num_reviews</th>\n",
       "      <th>price</th>\n",
       "      <th>unities</th>\n",
       "    </tr>\n",
       "  </thead>\n",
       "  <tbody>\n",
       "    <tr>\n",
       "      <th>count</th>\n",
       "      <td>690.000000</td>\n",
       "      <td>690.000000</td>\n",
       "      <td>825.000000</td>\n",
       "      <td>166.000000</td>\n",
       "    </tr>\n",
       "    <tr>\n",
       "      <th>mean</th>\n",
       "      <td>4.302174</td>\n",
       "      <td>553.118841</td>\n",
       "      <td>15.805515</td>\n",
       "      <td>11.975904</td>\n",
       "    </tr>\n",
       "    <tr>\n",
       "      <th>std</th>\n",
       "      <td>0.520002</td>\n",
       "      <td>1576.638048</td>\n",
       "      <td>11.428267</td>\n",
       "      <td>23.191940</td>\n",
       "    </tr>\n",
       "    <tr>\n",
       "      <th>min</th>\n",
       "      <td>1.000000</td>\n",
       "      <td>1.000000</td>\n",
       "      <td>1.130000</td>\n",
       "      <td>1.000000</td>\n",
       "    </tr>\n",
       "    <tr>\n",
       "      <th>25%</th>\n",
       "      <td>4.100000</td>\n",
       "      <td>15.000000</td>\n",
       "      <td>7.640000</td>\n",
       "      <td>1.000000</td>\n",
       "    </tr>\n",
       "    <tr>\n",
       "      <th>50%</th>\n",
       "      <td>4.400000</td>\n",
       "      <td>82.500000</td>\n",
       "      <td>12.500000</td>\n",
       "      <td>1.000000</td>\n",
       "    </tr>\n",
       "    <tr>\n",
       "      <th>75%</th>\n",
       "      <td>4.600000</td>\n",
       "      <td>382.750000</td>\n",
       "      <td>20.870000</td>\n",
       "      <td>16.000000</td>\n",
       "    </tr>\n",
       "    <tr>\n",
       "      <th>max</th>\n",
       "      <td>5.000000</td>\n",
       "      <td>18631.000000</td>\n",
       "      <td>69.900000</td>\n",
       "      <td>200.000000</td>\n",
       "    </tr>\n",
       "  </tbody>\n",
       "</table>\n",
       "</div>"
      ],
      "text/plain": [
       "       avg_rating   num_reviews       price     unities\n",
       "count  690.000000    690.000000  825.000000  166.000000\n",
       "mean     4.302174    553.118841   15.805515   11.975904\n",
       "std      0.520002   1576.638048   11.428267   23.191940\n",
       "min      1.000000      1.000000    1.130000    1.000000\n",
       "25%      4.100000     15.000000    7.640000    1.000000\n",
       "50%      4.400000     82.500000   12.500000    1.000000\n",
       "75%      4.600000    382.750000   20.870000   16.000000\n",
       "max      5.000000  18631.000000   69.900000  200.000000"
      ]
     },
     "execution_count": 28,
     "metadata": {},
     "output_type": "execute_result"
    }
   ],
   "source": [
    "products_df.describe()"
   ]
  },
  {
   "cell_type": "markdown",
   "metadata": {},
   "source": [
    "The removal of products without reviews does not significantly impact the average rating and price of the products but does affect the average number of reviews and quantities (unities). The datasets are largely consistent in terms of spread and maximum values, with slight variations in the mean and quartiles for number of reviews and unities, reflecting the broader range of products included in the unfiltered dataset."
   ]
  },
  {
   "cell_type": "markdown",
   "metadata": {},
   "source": [
    "### 3. Data Visualization"
   ]
  },
  {
   "cell_type": "markdown",
   "metadata": {},
   "source": [
    "##### **A. Average ratings Analysis**"
   ]
  },
  {
   "cell_type": "code",
   "execution_count": 29,
   "metadata": {},
   "outputs": [
    {
     "data": {
      "application/vnd.plotly.v1+json": {
       "config": {
        "plotlyServerURL": "https://plot.ly"
       },
       "data": [
        {
         "alignmentgroup": "True",
         "bingroup": "x",
         "hovertemplate": "category=Tampons<br>Average Rating=%{x}<br>count=%{y}<extra></extra>",
         "legendgroup": "Tampons",
         "marker": {
          "color": "#636EFA",
          "pattern": {
           "shape": ""
          }
         },
         "name": "Tampons",
         "offsetgroup": "Tampons",
         "orientation": "v",
         "showlegend": true,
         "type": "histogram",
         "x": [
          4.7,
          4.6,
          4.7,
          4.7,
          4.7,
          4.7,
          4.4,
          4.8,
          4.2,
          4.6,
          4.6,
          4.3,
          4.6,
          4.7,
          4.7,
          4.6,
          4.3,
          4.6,
          4.6,
          4.2,
          4.7,
          4.6,
          4,
          4.3,
          4.5,
          4.1,
          4,
          4.4,
          4.5,
          4.8,
          4.7,
          5,
          3.9,
          4.8,
          4.7,
          4.6,
          4.3,
          5,
          4.4,
          4.3,
          4.4,
          4.4,
          3.2,
          3.7,
          4.7,
          4.2,
          null,
          3.8,
          4.3,
          4.5,
          3.7,
          null,
          4.7,
          3.9,
          4.7,
          4.6,
          4.5,
          4,
          4.8,
          4.5,
          3,
          null,
          4.5,
          4.6,
          4.2,
          3.5,
          null,
          4.5,
          4.8,
          null,
          4.6,
          5,
          4,
          null,
          5,
          null,
          3,
          4.5,
          null,
          null,
          null,
          null,
          4.5,
          4.5,
          null,
          4.7,
          null,
          null,
          4.2,
          null,
          null,
          null,
          null,
          null,
          null,
          null,
          null,
          null,
          null,
          null,
          null,
          null,
          null,
          null,
          null,
          null,
          null,
          null,
          null,
          null,
          null,
          null,
          null,
          null,
          null,
          null,
          null,
          null,
          null,
          null,
          null,
          null,
          null,
          null,
          null,
          null,
          null,
          null,
          null,
          4.7,
          3.9,
          4.7,
          4.5,
          null,
          4.7,
          4.4,
          3.6,
          4.2,
          4.3,
          4.4,
          4.2,
          3.4,
          4.3,
          2.8,
          4.2,
          3.9,
          4.5,
          4.2,
          4.2,
          3.8,
          4.1,
          null,
          3,
          4.4,
          4.6,
          3.8,
          4.5,
          3.8,
          4.5,
          4,
          4,
          4.5,
          4.4,
          null,
          4.2,
          4.2,
          4.3,
          4.5,
          4.2,
          4.4,
          4.4,
          4.1,
          4.4,
          4.5,
          null,
          4.4,
          4.1,
          4.3,
          4.3,
          4.3,
          4.2,
          4.2,
          null,
          3.7,
          4.3,
          4.2,
          3.5,
          4.3,
          4.3,
          4.3,
          4.2,
          3.7,
          4.2,
          4.4,
          4.8,
          4.6,
          4.2,
          4,
          4.1,
          4.4,
          4.4,
          4.2,
          3.3,
          4.3,
          4.1,
          4.1,
          4.4,
          4.4,
          5,
          4.4,
          3.7,
          4.1,
          4.3,
          4.8,
          4.1,
          null,
          null,
          null,
          4.3,
          null,
          3.7,
          null,
          4.4,
          4.4,
          4.6,
          3.5,
          null,
          3.9,
          5,
          4,
          null,
          4.5,
          4,
          4.3,
          4.1,
          4.2,
          4.5,
          4.5,
          4.1,
          null,
          null,
          4.9,
          4.4,
          4.2,
          4,
          4.3,
          3.7,
          3.8,
          4.3,
          2.8,
          5,
          null,
          null,
          null,
          4.2,
          4.8,
          4.5,
          null,
          4.4,
          2.5,
          4.4,
          null,
          4.4,
          null,
          3.7,
          4.2,
          null,
          4,
          null,
          2.5,
          3.8,
          3.9,
          2,
          5,
          4.3,
          3.9,
          5,
          4.1,
          5,
          null,
          null,
          3.9,
          null,
          null,
          null,
          null,
          null,
          null,
          3.6,
          4.5,
          4.4,
          5,
          4.3,
          4.3,
          4.1,
          5,
          4.5,
          4.2,
          null,
          4.2,
          null,
          null,
          null,
          4.1,
          null,
          4.1,
          4.4,
          3.9,
          3.3,
          3.7,
          4.2,
          3.6,
          1,
          null,
          4.4,
          3.2,
          null,
          4.5,
          3.8,
          4.1,
          4.2,
          4.2,
          3.3,
          4.5,
          4.6,
          4.7,
          4.2,
          3.7,
          4.4,
          4.6
         ],
         "xaxis": "x",
         "yaxis": "y"
        },
        {
         "alignmentgroup": "True",
         "bingroup": "x",
         "hovertemplate": "category=nan<br>Average Rating=%{x}<br>count=%{y}<extra></extra>",
         "legendgroup": "nan",
         "marker": {
          "color": "#EF553B",
          "pattern": {
           "shape": ""
          }
         },
         "name": "nan",
         "offsetgroup": "nan",
         "orientation": "v",
         "showlegend": true,
         "type": "histogram",
         "x": [
          4.8,
          4.6,
          3
         ],
         "xaxis": "x",
         "yaxis": "y"
        },
        {
         "alignmentgroup": "True",
         "bingroup": "x",
         "hovertemplate": "category=Serviettes hygièniques<br>Average Rating=%{x}<br>count=%{y}<extra></extra>",
         "legendgroup": "Serviettes hygièniques",
         "marker": {
          "color": "#00CC96",
          "pattern": {
           "shape": ""
          }
         },
         "name": "Serviettes hygièniques",
         "offsetgroup": "Serviettes hygièniques",
         "orientation": "v",
         "showlegend": true,
         "type": "histogram",
         "x": [
          3.8,
          4.7,
          4.5,
          4.2,
          3.9,
          4.7,
          4.4,
          4.4,
          4.6,
          4.7,
          4.6,
          4.6,
          4.4,
          4.9,
          4.6,
          4.5,
          4.8,
          4.2,
          4.7,
          4.7,
          4.4,
          4.7,
          5,
          4.6,
          4.5,
          4.8,
          4.3,
          4.5,
          4.6,
          4.5,
          4.3,
          4.7,
          4.5,
          4.5,
          4.6,
          4.5,
          4.7,
          4.7,
          4.3,
          4.6,
          4.7,
          4,
          4.6,
          4.1,
          4.2,
          4.7,
          1,
          4.3,
          4.4,
          4.3,
          4.4,
          4.7,
          4.7,
          4,
          4.3,
          4,
          null,
          4.2,
          4.8,
          4.4,
          4.5,
          4.6,
          null,
          4.6,
          null,
          4.1,
          4.4,
          4.4,
          4.1,
          3.9,
          4.2,
          4.4,
          4.7,
          4.5,
          4.3,
          5,
          4.6,
          4.5,
          5,
          4.6,
          4.4,
          4.7,
          4.2,
          4.7,
          3.9,
          4.7,
          4,
          3.5,
          4.6,
          null,
          4.7,
          4.1,
          4.2,
          4.6,
          4.2,
          4.8,
          3.6,
          4.4,
          4.7,
          4.6,
          4.1,
          4.5,
          null,
          3.8,
          4.4,
          4.5,
          4.6,
          null,
          4.7,
          4.6,
          3.9,
          null,
          4.6,
          4.6,
          4.5,
          4.1,
          4.6,
          4.6,
          4.3,
          4.5,
          4.4,
          4.7,
          4.3,
          3.9,
          4.4,
          4.6,
          null,
          4.5,
          5,
          4.6,
          5,
          3.8,
          4.7,
          4.6,
          4.4,
          4.5,
          4.6,
          4.5,
          5,
          4.5,
          4.2,
          3.6,
          4.7,
          3.7,
          3.5,
          4.1,
          2.9,
          5,
          3.5,
          null,
          4.1,
          4.5,
          4.6,
          3.9,
          5,
          null,
          4.5,
          5,
          5,
          5,
          4.5,
          4.4,
          3.9,
          4,
          4.2,
          4.7,
          4.5,
          4.5,
          4,
          null,
          4.5,
          null,
          null,
          5,
          4.7,
          null,
          null,
          4.8,
          4.3,
          4.8,
          4.9,
          5,
          4.4,
          5,
          4.6,
          null,
          4.2,
          3.7,
          5,
          4.2,
          4.5,
          4.2,
          4.6,
          4.2,
          4.7,
          4.6,
          null,
          4.4,
          4.1,
          4.6,
          4.6
         ],
         "xaxis": "x",
         "yaxis": "y"
        },
        {
         "alignmentgroup": "True",
         "bingroup": "x",
         "hovertemplate": "category=Lames<br>Average Rating=%{x}<br>count=%{y}<extra></extra>",
         "legendgroup": "Lames",
         "marker": {
          "color": "#AB63FA",
          "pattern": {
           "shape": ""
          }
         },
         "name": "Lames",
         "offsetgroup": "Lames",
         "orientation": "v",
         "showlegend": true,
         "type": "histogram",
         "x": [
          4
         ],
         "xaxis": "x",
         "yaxis": "y"
        },
        {
         "alignmentgroup": "True",
         "bingroup": "x",
         "hovertemplate": "category=Shorties<br>Average Rating=%{x}<br>count=%{y}<extra></extra>",
         "legendgroup": "Shorties",
         "marker": {
          "color": "#FFA15A",
          "pattern": {
           "shape": ""
          }
         },
         "name": "Shorties",
         "offsetgroup": "Shorties",
         "orientation": "v",
         "showlegend": true,
         "type": "histogram",
         "x": [
          4.5,
          3.7,
          null
         ],
         "xaxis": "x",
         "yaxis": "y"
        },
        {
         "alignmentgroup": "True",
         "bingroup": "x",
         "hovertemplate": "category=Déodorant<br>Average Rating=%{x}<br>count=%{y}<extra></extra>",
         "legendgroup": "Déodorant",
         "marker": {
          "color": "#19D3F3",
          "pattern": {
           "shape": ""
          }
         },
         "name": "Déodorant",
         "offsetgroup": "Déodorant",
         "orientation": "v",
         "showlegend": true,
         "type": "histogram",
         "x": [
          null
         ],
         "xaxis": "x",
         "yaxis": "y"
        },
        {
         "alignmentgroup": "True",
         "bingroup": "x",
         "hovertemplate": "category=Culottes<br>Average Rating=%{x}<br>count=%{y}<extra></extra>",
         "legendgroup": "Culottes",
         "marker": {
          "color": "#FF6692",
          "pattern": {
           "shape": ""
          }
         },
         "name": "Culottes",
         "offsetgroup": "Culottes",
         "orientation": "v",
         "showlegend": true,
         "type": "histogram",
         "x": [
          null
         ],
         "xaxis": "x",
         "yaxis": "y"
        },
        {
         "alignmentgroup": "True",
         "bingroup": "x",
         "hovertemplate": "category=Culottes et slips<br>Average Rating=%{x}<br>count=%{y}<extra></extra>",
         "legendgroup": "Culottes et slips",
         "marker": {
          "color": "#B6E880",
          "pattern": {
           "shape": ""
          }
         },
         "name": "Culottes et slips",
         "offsetgroup": "Culottes et slips",
         "orientation": "v",
         "showlegend": true,
         "type": "histogram",
         "x": [
          null,
          4.2,
          4.2,
          4.2
         ],
         "xaxis": "x",
         "yaxis": "y"
        },
        {
         "alignmentgroup": "True",
         "bingroup": "x",
         "hovertemplate": "category=Culottes et sous-vêtements de protection<br>Average Rating=%{x}<br>count=%{y}<extra></extra>",
         "legendgroup": "Culottes et sous-vêtements de protection",
         "marker": {
          "color": "#FF97FF",
          "pattern": {
           "shape": ""
          }
         },
         "name": "Culottes et sous-vêtements de protection",
         "offsetgroup": "Culottes et sous-vêtements de protection",
         "orientation": "v",
         "showlegend": true,
         "type": "histogram",
         "x": [
          null,
          null,
          null,
          4.3,
          4.3,
          4.3,
          4.4,
          4.1,
          4.3,
          4.3,
          4.3,
          null,
          null,
          4.1
         ],
         "xaxis": "x",
         "yaxis": "y"
        },
        {
         "alignmentgroup": "True",
         "bingroup": "x",
         "hovertemplate": "category=Femme<br>Average Rating=%{x}<br>count=%{y}<extra></extra>",
         "legendgroup": "Femme",
         "marker": {
          "color": "#FECB52",
          "pattern": {
           "shape": ""
          }
         },
         "name": "Femme",
         "offsetgroup": "Femme",
         "orientation": "v",
         "showlegend": true,
         "type": "histogram",
         "x": [
          null
         ],
         "xaxis": "x",
         "yaxis": "y"
        },
        {
         "alignmentgroup": "True",
         "bingroup": "x",
         "hovertemplate": "category=Hygiène et soins intimes<br>Average Rating=%{x}<br>count=%{y}<extra></extra>",
         "legendgroup": "Hygiène et soins intimes",
         "marker": {
          "color": "#636EFA",
          "pattern": {
           "shape": ""
          }
         },
         "name": "Hygiène et soins intimes",
         "offsetgroup": "Hygiène et soins intimes",
         "orientation": "v",
         "showlegend": true,
         "type": "histogram",
         "x": [
          4.7,
          4.4,
          3.9,
          3.9,
          4.8,
          4.2,
          4.2,
          null,
          4.3,
          null,
          4.3,
          4.5,
          4.1
         ],
         "xaxis": "x",
         "yaxis": "y"
        },
        {
         "alignmentgroup": "True",
         "bingroup": "x",
         "hovertemplate": "category=Coupes menstruelles<br>Average Rating=%{x}<br>count=%{y}<extra></extra>",
         "legendgroup": "Coupes menstruelles",
         "marker": {
          "color": "#EF553B",
          "pattern": {
           "shape": ""
          }
         },
         "name": "Coupes menstruelles",
         "offsetgroup": "Coupes menstruelles",
         "orientation": "v",
         "showlegend": true,
         "type": "histogram",
         "x": [
          3.9,
          4.5,
          1,
          null,
          4.5,
          null,
          4.5,
          4.3,
          null,
          null,
          null
         ],
         "xaxis": "x",
         "yaxis": "y"
        },
        {
         "alignmentgroup": "True",
         "bingroup": "x",
         "hovertemplate": "category=Hygiène et épilation<br>Average Rating=%{x}<br>count=%{y}<extra></extra>",
         "legendgroup": "Hygiène et épilation",
         "marker": {
          "color": "#00CC96",
          "pattern": {
           "shape": ""
          }
         },
         "name": "Hygiène et épilation",
         "offsetgroup": "Hygiène et épilation",
         "orientation": "v",
         "showlegend": true,
         "type": "histogram",
         "x": [
          4.3,
          4.6,
          4.2,
          4.5,
          4.5
         ],
         "xaxis": "x",
         "yaxis": "y"
        },
        {
         "alignmentgroup": "True",
         "bingroup": "x",
         "hovertemplate": "category=Vitamines, minéraux et compléments<br>Average Rating=%{x}<br>count=%{y}<extra></extra>",
         "legendgroup": "Vitamines, minéraux et compléments",
         "marker": {
          "color": "#AB63FA",
          "pattern": {
           "shape": ""
          }
         },
         "name": "Vitamines, minéraux et compléments",
         "offsetgroup": "Vitamines, minéraux et compléments",
         "orientation": "v",
         "showlegend": true,
         "type": "histogram",
         "x": [
          4.4,
          5
         ],
         "xaxis": "x",
         "yaxis": "y"
        },
        {
         "alignmentgroup": "True",
         "bingroup": "x",
         "hovertemplate": "category=Protège-slips<br>Average Rating=%{x}<br>count=%{y}<extra></extra>",
         "legendgroup": "Protège-slips",
         "marker": {
          "color": "#FFA15A",
          "pattern": {
           "shape": ""
          }
         },
         "name": "Protège-slips",
         "offsetgroup": "Protège-slips",
         "orientation": "v",
         "showlegend": true,
         "type": "histogram",
         "x": [
          4.5,
          4.5,
          4.5,
          3.9,
          4.2,
          4.5,
          4.4,
          4.5,
          4.4,
          4.6,
          4.1,
          4.1,
          4.4,
          4.7,
          4.4,
          4.3,
          4.5,
          4.4,
          4.5,
          3.5,
          3.5,
          4.4,
          4.7,
          4.4,
          4.1,
          4.4,
          5,
          null,
          4.3,
          4.1,
          4.1,
          4.5,
          4.6,
          5,
          3.9,
          null,
          4.7,
          null,
          4.7,
          4.5,
          4.6,
          4.4,
          3.8,
          null,
          4.2,
          null,
          4.2,
          3.1,
          3.9,
          4.1,
          4.5,
          null,
          3.1,
          5,
          4.4,
          4.6,
          3.9,
          4,
          4.3,
          4.3,
          4.4,
          3.9,
          4.7,
          4.2,
          5,
          4.6,
          4.5,
          5,
          4.1,
          4.4,
          4.6,
          4.2,
          4,
          5,
          3.3,
          3.8,
          4.4,
          4.5,
          null,
          null,
          null,
          null,
          4.2,
          4.6,
          4.8,
          4.4,
          null,
          null,
          3.9,
          5,
          4.4,
          4.9,
          null,
          3.4,
          4.7,
          3.9,
          5,
          null,
          4.5,
          5,
          4.3,
          null,
          3.9,
          null,
          4.3,
          4.5,
          4.3,
          4.6,
          4.4,
          3,
          4.3,
          null,
          null,
          4,
          4.4,
          4.2,
          4.5,
          3,
          3.9,
          4.4,
          5,
          4.3,
          3.8,
          4.2,
          3,
          4.3,
          4.4,
          null,
          4.4,
          4.5,
          4.6,
          4,
          5,
          4.6,
          5,
          3.3,
          4,
          4.6,
          4.4,
          4.6,
          3.7,
          4.4,
          null,
          5,
          4.2,
          4.6,
          4.3,
          4.7,
          4.6,
          null,
          4.6,
          1,
          4.4,
          4.4,
          4.7,
          4.1,
          4.7,
          3.8,
          4.3,
          null,
          4.6,
          4.5,
          3.6,
          4.5,
          4.6,
          4.5,
          5,
          4.1,
          null,
          null,
          4,
          4.6,
          4.8,
          null,
          4.6,
          4.1,
          5,
          null,
          4,
          3.9,
          4.5,
          3.5,
          null,
          null,
          4.5,
          4.5,
          2.4,
          4.5,
          4.1,
          3.5,
          5,
          null,
          4.5,
          3.6,
          4.8,
          3.8,
          4.5,
          3.8,
          4.4,
          3,
          null,
          4.4,
          null,
          null,
          null,
          null,
          null,
          null,
          4.6,
          4.7,
          5,
          null,
          null,
          5,
          3.7,
          null,
          null,
          null,
          4.5,
          null,
          null,
          null,
          4.2,
          null,
          null,
          4.7,
          4.5,
          null,
          null,
          null,
          4,
          4.3,
          2.8,
          4.4,
          4.5,
          5,
          4.6,
          4,
          null,
          4.2,
          4.8,
          5,
          5,
          3.8,
          4.6,
          4.4,
          null,
          4.4,
          4,
          3.7,
          1,
          4.5,
          3.2,
          4.4,
          4.4,
          4,
          4,
          4.5,
          4.4
         ],
         "xaxis": "x",
         "yaxis": "y"
        },
        {
         "alignmentgroup": "True",
         "bingroup": "x",
         "hovertemplate": "category=Protections, serviettes hygiéniques, couches pour adultes, protège-slips<br>Average Rating=%{x}<br>count=%{y}<extra></extra>",
         "legendgroup": "Protections, serviettes hygiéniques, couches pour adultes, protège-slips",
         "marker": {
          "color": "#19D3F3",
          "pattern": {
           "shape": ""
          }
         },
         "name": "Protections, serviettes hygiéniques, couches pour adultes, protège-slips",
         "offsetgroup": "Protections, serviettes hygiéniques, couches pour adultes, protège-slips",
         "orientation": "v",
         "showlegend": true,
         "type": "histogram",
         "x": [
          4.6,
          4.6,
          4.6,
          4.5,
          4.7,
          4.4
         ],
         "xaxis": "x",
         "yaxis": "y"
        },
        {
         "alignmentgroup": "True",
         "bingroup": "x",
         "hovertemplate": "category=Vêtements de contention médicaux<br>Average Rating=%{x}<br>count=%{y}<extra></extra>",
         "legendgroup": "Vêtements de contention médicaux",
         "marker": {
          "color": "#FF6692",
          "pattern": {
           "shape": ""
          }
         },
         "name": "Vêtements de contention médicaux",
         "offsetgroup": "Vêtements de contention médicaux",
         "orientation": "v",
         "showlegend": true,
         "type": "histogram",
         "x": [
          4.5
         ],
         "xaxis": "x",
         "yaxis": "y"
        },
        {
         "alignmentgroup": "True",
         "bingroup": "x",
         "hovertemplate": "category=Incontinence<br>Average Rating=%{x}<br>count=%{y}<extra></extra>",
         "legendgroup": "Incontinence",
         "marker": {
          "color": "#B6E880",
          "pattern": {
           "shape": ""
          }
         },
         "name": "Incontinence",
         "offsetgroup": "Incontinence",
         "orientation": "v",
         "showlegend": true,
         "type": "histogram",
         "x": [
          4.5,
          4.5,
          4.6
         ],
         "xaxis": "x",
         "yaxis": "y"
        },
        {
         "alignmentgroup": "True",
         "bingroup": "x",
         "hovertemplate": "category=Visage<br>Average Rating=%{x}<br>count=%{y}<extra></extra>",
         "legendgroup": "Visage",
         "marker": {
          "color": "#FF97FF",
          "pattern": {
           "shape": ""
          }
         },
         "name": "Visage",
         "offsetgroup": "Visage",
         "orientation": "v",
         "showlegend": true,
         "type": "histogram",
         "x": [
          4
         ],
         "xaxis": "x",
         "yaxis": "y"
        },
        {
         "alignmentgroup": "True",
         "bingroup": "x",
         "hovertemplate": "category=Coussinets pour chaussures<br>Average Rating=%{x}<br>count=%{y}<extra></extra>",
         "legendgroup": "Coussinets pour chaussures",
         "marker": {
          "color": "#FECB52",
          "pattern": {
           "shape": ""
          }
         },
         "name": "Coussinets pour chaussures",
         "offsetgroup": "Coussinets pour chaussures",
         "orientation": "v",
         "showlegend": true,
         "type": "histogram",
         "x": [
          null
         ],
         "xaxis": "x",
         "yaxis": "y"
        },
        {
         "alignmentgroup": "True",
         "bingroup": "x",
         "hovertemplate": "category=Beauté et soins<br>Average Rating=%{x}<br>count=%{y}<extra></extra>",
         "legendgroup": "Beauté et soins",
         "marker": {
          "color": "#636EFA",
          "pattern": {
           "shape": ""
          }
         },
         "name": "Beauté et soins",
         "offsetgroup": "Beauté et soins",
         "orientation": "v",
         "showlegend": true,
         "type": "histogram",
         "x": [
          5
         ],
         "xaxis": "x",
         "yaxis": "y"
        },
        {
         "alignmentgroup": "True",
         "bingroup": "x",
         "hovertemplate": "category=Produits d'hygiène féminine<br>Average Rating=%{x}<br>count=%{y}<extra></extra>",
         "legendgroup": "Produits d'hygiène féminine",
         "marker": {
          "color": "#EF553B",
          "pattern": {
           "shape": ""
          }
         },
         "name": "Produits d'hygiène féminine",
         "offsetgroup": "Produits d'hygiène féminine",
         "orientation": "v",
         "showlegend": true,
         "type": "histogram",
         "x": [
          4.6,
          4.5
         ],
         "xaxis": "x",
         "yaxis": "y"
        },
        {
         "alignmentgroup": "True",
         "bingroup": "x",
         "hovertemplate": "category=Épilation à la cire<br>Average Rating=%{x}<br>count=%{y}<extra></extra>",
         "legendgroup": "Épilation à la cire",
         "marker": {
          "color": "#00CC96",
          "pattern": {
           "shape": ""
          }
         },
         "name": "Épilation à la cire",
         "offsetgroup": "Épilation à la cire",
         "orientation": "v",
         "showlegend": true,
         "type": "histogram",
         "x": [
          null
         ],
         "xaxis": "x",
         "yaxis": "y"
        },
        {
         "alignmentgroup": "True",
         "bingroup": "x",
         "hovertemplate": "category=Bannetons<br>Average Rating=%{x}<br>count=%{y}<extra></extra>",
         "legendgroup": "Bannetons",
         "marker": {
          "color": "#AB63FA",
          "pattern": {
           "shape": ""
          }
         },
         "name": "Bannetons",
         "offsetgroup": "Bannetons",
         "orientation": "v",
         "showlegend": true,
         "type": "histogram",
         "x": [
          4.1
         ],
         "xaxis": "x",
         "yaxis": "y"
        },
        {
         "alignmentgroup": "True",
         "bingroup": "x",
         "hovertemplate": "category=Bien-être<br>Average Rating=%{x}<br>count=%{y}<extra></extra>",
         "legendgroup": "Bien-être",
         "marker": {
          "color": "#FFA15A",
          "pattern": {
           "shape": ""
          }
         },
         "name": "Bien-être",
         "offsetgroup": "Bien-être",
         "orientation": "v",
         "showlegend": true,
         "type": "histogram",
         "x": [
          null
         ],
         "xaxis": "x",
         "yaxis": "y"
        },
        {
         "alignmentgroup": "True",
         "bingroup": "x",
         "hovertemplate": "category=Diffuseurs d'huiles essentielles<br>Average Rating=%{x}<br>count=%{y}<extra></extra>",
         "legendgroup": "Diffuseurs d'huiles essentielles",
         "marker": {
          "color": "#19D3F3",
          "pattern": {
           "shape": ""
          }
         },
         "name": "Diffuseurs d'huiles essentielles",
         "offsetgroup": "Diffuseurs d'huiles essentielles",
         "orientation": "v",
         "showlegend": true,
         "type": "histogram",
         "x": [
          4.3,
          4.3
         ],
         "xaxis": "x",
         "yaxis": "y"
        }
       ],
       "layout": {
        "bargap": 0.2,
        "barmode": "relative",
        "legend": {
         "title": {
          "text": "category"
         },
         "tracegroupgap": 0
        },
        "template": {
         "data": {
          "bar": [
           {
            "error_x": {
             "color": "#2a3f5f"
            },
            "error_y": {
             "color": "#2a3f5f"
            },
            "marker": {
             "line": {
              "color": "#E5ECF6",
              "width": 0.5
             },
             "pattern": {
              "fillmode": "overlay",
              "size": 10,
              "solidity": 0.2
             }
            },
            "type": "bar"
           }
          ],
          "barpolar": [
           {
            "marker": {
             "line": {
              "color": "#E5ECF6",
              "width": 0.5
             },
             "pattern": {
              "fillmode": "overlay",
              "size": 10,
              "solidity": 0.2
             }
            },
            "type": "barpolar"
           }
          ],
          "carpet": [
           {
            "aaxis": {
             "endlinecolor": "#2a3f5f",
             "gridcolor": "white",
             "linecolor": "white",
             "minorgridcolor": "white",
             "startlinecolor": "#2a3f5f"
            },
            "baxis": {
             "endlinecolor": "#2a3f5f",
             "gridcolor": "white",
             "linecolor": "white",
             "minorgridcolor": "white",
             "startlinecolor": "#2a3f5f"
            },
            "type": "carpet"
           }
          ],
          "choropleth": [
           {
            "colorbar": {
             "outlinewidth": 0,
             "ticks": ""
            },
            "type": "choropleth"
           }
          ],
          "contour": [
           {
            "colorbar": {
             "outlinewidth": 0,
             "ticks": ""
            },
            "colorscale": [
             [
              0,
              "#0d0887"
             ],
             [
              0.1111111111111111,
              "#46039f"
             ],
             [
              0.2222222222222222,
              "#7201a8"
             ],
             [
              0.3333333333333333,
              "#9c179e"
             ],
             [
              0.4444444444444444,
              "#bd3786"
             ],
             [
              0.5555555555555556,
              "#d8576b"
             ],
             [
              0.6666666666666666,
              "#ed7953"
             ],
             [
              0.7777777777777778,
              "#fb9f3a"
             ],
             [
              0.8888888888888888,
              "#fdca26"
             ],
             [
              1,
              "#f0f921"
             ]
            ],
            "type": "contour"
           }
          ],
          "contourcarpet": [
           {
            "colorbar": {
             "outlinewidth": 0,
             "ticks": ""
            },
            "type": "contourcarpet"
           }
          ],
          "heatmap": [
           {
            "colorbar": {
             "outlinewidth": 0,
             "ticks": ""
            },
            "colorscale": [
             [
              0,
              "#0d0887"
             ],
             [
              0.1111111111111111,
              "#46039f"
             ],
             [
              0.2222222222222222,
              "#7201a8"
             ],
             [
              0.3333333333333333,
              "#9c179e"
             ],
             [
              0.4444444444444444,
              "#bd3786"
             ],
             [
              0.5555555555555556,
              "#d8576b"
             ],
             [
              0.6666666666666666,
              "#ed7953"
             ],
             [
              0.7777777777777778,
              "#fb9f3a"
             ],
             [
              0.8888888888888888,
              "#fdca26"
             ],
             [
              1,
              "#f0f921"
             ]
            ],
            "type": "heatmap"
           }
          ],
          "heatmapgl": [
           {
            "colorbar": {
             "outlinewidth": 0,
             "ticks": ""
            },
            "colorscale": [
             [
              0,
              "#0d0887"
             ],
             [
              0.1111111111111111,
              "#46039f"
             ],
             [
              0.2222222222222222,
              "#7201a8"
             ],
             [
              0.3333333333333333,
              "#9c179e"
             ],
             [
              0.4444444444444444,
              "#bd3786"
             ],
             [
              0.5555555555555556,
              "#d8576b"
             ],
             [
              0.6666666666666666,
              "#ed7953"
             ],
             [
              0.7777777777777778,
              "#fb9f3a"
             ],
             [
              0.8888888888888888,
              "#fdca26"
             ],
             [
              1,
              "#f0f921"
             ]
            ],
            "type": "heatmapgl"
           }
          ],
          "histogram": [
           {
            "marker": {
             "pattern": {
              "fillmode": "overlay",
              "size": 10,
              "solidity": 0.2
             }
            },
            "type": "histogram"
           }
          ],
          "histogram2d": [
           {
            "colorbar": {
             "outlinewidth": 0,
             "ticks": ""
            },
            "colorscale": [
             [
              0,
              "#0d0887"
             ],
             [
              0.1111111111111111,
              "#46039f"
             ],
             [
              0.2222222222222222,
              "#7201a8"
             ],
             [
              0.3333333333333333,
              "#9c179e"
             ],
             [
              0.4444444444444444,
              "#bd3786"
             ],
             [
              0.5555555555555556,
              "#d8576b"
             ],
             [
              0.6666666666666666,
              "#ed7953"
             ],
             [
              0.7777777777777778,
              "#fb9f3a"
             ],
             [
              0.8888888888888888,
              "#fdca26"
             ],
             [
              1,
              "#f0f921"
             ]
            ],
            "type": "histogram2d"
           }
          ],
          "histogram2dcontour": [
           {
            "colorbar": {
             "outlinewidth": 0,
             "ticks": ""
            },
            "colorscale": [
             [
              0,
              "#0d0887"
             ],
             [
              0.1111111111111111,
              "#46039f"
             ],
             [
              0.2222222222222222,
              "#7201a8"
             ],
             [
              0.3333333333333333,
              "#9c179e"
             ],
             [
              0.4444444444444444,
              "#bd3786"
             ],
             [
              0.5555555555555556,
              "#d8576b"
             ],
             [
              0.6666666666666666,
              "#ed7953"
             ],
             [
              0.7777777777777778,
              "#fb9f3a"
             ],
             [
              0.8888888888888888,
              "#fdca26"
             ],
             [
              1,
              "#f0f921"
             ]
            ],
            "type": "histogram2dcontour"
           }
          ],
          "mesh3d": [
           {
            "colorbar": {
             "outlinewidth": 0,
             "ticks": ""
            },
            "type": "mesh3d"
           }
          ],
          "parcoords": [
           {
            "line": {
             "colorbar": {
              "outlinewidth": 0,
              "ticks": ""
             }
            },
            "type": "parcoords"
           }
          ],
          "pie": [
           {
            "automargin": true,
            "type": "pie"
           }
          ],
          "scatter": [
           {
            "fillpattern": {
             "fillmode": "overlay",
             "size": 10,
             "solidity": 0.2
            },
            "type": "scatter"
           }
          ],
          "scatter3d": [
           {
            "line": {
             "colorbar": {
              "outlinewidth": 0,
              "ticks": ""
             }
            },
            "marker": {
             "colorbar": {
              "outlinewidth": 0,
              "ticks": ""
             }
            },
            "type": "scatter3d"
           }
          ],
          "scattercarpet": [
           {
            "marker": {
             "colorbar": {
              "outlinewidth": 0,
              "ticks": ""
             }
            },
            "type": "scattercarpet"
           }
          ],
          "scattergeo": [
           {
            "marker": {
             "colorbar": {
              "outlinewidth": 0,
              "ticks": ""
             }
            },
            "type": "scattergeo"
           }
          ],
          "scattergl": [
           {
            "marker": {
             "colorbar": {
              "outlinewidth": 0,
              "ticks": ""
             }
            },
            "type": "scattergl"
           }
          ],
          "scattermapbox": [
           {
            "marker": {
             "colorbar": {
              "outlinewidth": 0,
              "ticks": ""
             }
            },
            "type": "scattermapbox"
           }
          ],
          "scatterpolar": [
           {
            "marker": {
             "colorbar": {
              "outlinewidth": 0,
              "ticks": ""
             }
            },
            "type": "scatterpolar"
           }
          ],
          "scatterpolargl": [
           {
            "marker": {
             "colorbar": {
              "outlinewidth": 0,
              "ticks": ""
             }
            },
            "type": "scatterpolargl"
           }
          ],
          "scatterternary": [
           {
            "marker": {
             "colorbar": {
              "outlinewidth": 0,
              "ticks": ""
             }
            },
            "type": "scatterternary"
           }
          ],
          "surface": [
           {
            "colorbar": {
             "outlinewidth": 0,
             "ticks": ""
            },
            "colorscale": [
             [
              0,
              "#0d0887"
             ],
             [
              0.1111111111111111,
              "#46039f"
             ],
             [
              0.2222222222222222,
              "#7201a8"
             ],
             [
              0.3333333333333333,
              "#9c179e"
             ],
             [
              0.4444444444444444,
              "#bd3786"
             ],
             [
              0.5555555555555556,
              "#d8576b"
             ],
             [
              0.6666666666666666,
              "#ed7953"
             ],
             [
              0.7777777777777778,
              "#fb9f3a"
             ],
             [
              0.8888888888888888,
              "#fdca26"
             ],
             [
              1,
              "#f0f921"
             ]
            ],
            "type": "surface"
           }
          ],
          "table": [
           {
            "cells": {
             "fill": {
              "color": "#EBF0F8"
             },
             "line": {
              "color": "white"
             }
            },
            "header": {
             "fill": {
              "color": "#C8D4E3"
             },
             "line": {
              "color": "white"
             }
            },
            "type": "table"
           }
          ]
         },
         "layout": {
          "annotationdefaults": {
           "arrowcolor": "#2a3f5f",
           "arrowhead": 0,
           "arrowwidth": 1
          },
          "autotypenumbers": "strict",
          "coloraxis": {
           "colorbar": {
            "outlinewidth": 0,
            "ticks": ""
           }
          },
          "colorscale": {
           "diverging": [
            [
             0,
             "#8e0152"
            ],
            [
             0.1,
             "#c51b7d"
            ],
            [
             0.2,
             "#de77ae"
            ],
            [
             0.3,
             "#f1b6da"
            ],
            [
             0.4,
             "#fde0ef"
            ],
            [
             0.5,
             "#f7f7f7"
            ],
            [
             0.6,
             "#e6f5d0"
            ],
            [
             0.7,
             "#b8e186"
            ],
            [
             0.8,
             "#7fbc41"
            ],
            [
             0.9,
             "#4d9221"
            ],
            [
             1,
             "#276419"
            ]
           ],
           "sequential": [
            [
             0,
             "#0d0887"
            ],
            [
             0.1111111111111111,
             "#46039f"
            ],
            [
             0.2222222222222222,
             "#7201a8"
            ],
            [
             0.3333333333333333,
             "#9c179e"
            ],
            [
             0.4444444444444444,
             "#bd3786"
            ],
            [
             0.5555555555555556,
             "#d8576b"
            ],
            [
             0.6666666666666666,
             "#ed7953"
            ],
            [
             0.7777777777777778,
             "#fb9f3a"
            ],
            [
             0.8888888888888888,
             "#fdca26"
            ],
            [
             1,
             "#f0f921"
            ]
           ],
           "sequentialminus": [
            [
             0,
             "#0d0887"
            ],
            [
             0.1111111111111111,
             "#46039f"
            ],
            [
             0.2222222222222222,
             "#7201a8"
            ],
            [
             0.3333333333333333,
             "#9c179e"
            ],
            [
             0.4444444444444444,
             "#bd3786"
            ],
            [
             0.5555555555555556,
             "#d8576b"
            ],
            [
             0.6666666666666666,
             "#ed7953"
            ],
            [
             0.7777777777777778,
             "#fb9f3a"
            ],
            [
             0.8888888888888888,
             "#fdca26"
            ],
            [
             1,
             "#f0f921"
            ]
           ]
          },
          "colorway": [
           "#636efa",
           "#EF553B",
           "#00cc96",
           "#ab63fa",
           "#FFA15A",
           "#19d3f3",
           "#FF6692",
           "#B6E880",
           "#FF97FF",
           "#FECB52"
          ],
          "font": {
           "color": "#2a3f5f"
          },
          "geo": {
           "bgcolor": "white",
           "lakecolor": "white",
           "landcolor": "#E5ECF6",
           "showlakes": true,
           "showland": true,
           "subunitcolor": "white"
          },
          "hoverlabel": {
           "align": "left"
          },
          "hovermode": "closest",
          "mapbox": {
           "style": "light"
          },
          "paper_bgcolor": "white",
          "plot_bgcolor": "#E5ECF6",
          "polar": {
           "angularaxis": {
            "gridcolor": "white",
            "linecolor": "white",
            "ticks": ""
           },
           "bgcolor": "#E5ECF6",
           "radialaxis": {
            "gridcolor": "white",
            "linecolor": "white",
            "ticks": ""
           }
          },
          "scene": {
           "xaxis": {
            "backgroundcolor": "#E5ECF6",
            "gridcolor": "white",
            "gridwidth": 2,
            "linecolor": "white",
            "showbackground": true,
            "ticks": "",
            "zerolinecolor": "white"
           },
           "yaxis": {
            "backgroundcolor": "#E5ECF6",
            "gridcolor": "white",
            "gridwidth": 2,
            "linecolor": "white",
            "showbackground": true,
            "ticks": "",
            "zerolinecolor": "white"
           },
           "zaxis": {
            "backgroundcolor": "#E5ECF6",
            "gridcolor": "white",
            "gridwidth": 2,
            "linecolor": "white",
            "showbackground": true,
            "ticks": "",
            "zerolinecolor": "white"
           }
          },
          "shapedefaults": {
           "line": {
            "color": "#2a3f5f"
           }
          },
          "ternary": {
           "aaxis": {
            "gridcolor": "white",
            "linecolor": "white",
            "ticks": ""
           },
           "baxis": {
            "gridcolor": "white",
            "linecolor": "white",
            "ticks": ""
           },
           "bgcolor": "#E5ECF6",
           "caxis": {
            "gridcolor": "white",
            "linecolor": "white",
            "ticks": ""
           }
          },
          "title": {
           "x": 0.05
          },
          "xaxis": {
           "automargin": true,
           "gridcolor": "white",
           "linecolor": "white",
           "ticks": "",
           "title": {
            "standoff": 15
           },
           "zerolinecolor": "white",
           "zerolinewidth": 2
          },
          "yaxis": {
           "automargin": true,
           "gridcolor": "white",
           "linecolor": "white",
           "ticks": "",
           "title": {
            "standoff": 15
           },
           "zerolinecolor": "white",
           "zerolinewidth": 2
          }
         }
        },
        "title": {
         "text": "Distribution of Average Ratings by Category"
        },
        "xaxis": {
         "anchor": "y",
         "domain": [
          0,
          1
         ],
         "title": {
          "text": "Average Rating"
         }
        },
        "yaxis": {
         "anchor": "x",
         "domain": [
          0,
          1
         ],
         "title": {
          "text": "count"
         }
        }
       }
      }
     },
     "metadata": {},
     "output_type": "display_data"
    }
   ],
   "source": [
    "fig = px.histogram(products_df, x=\"avg_rating\",\n",
    "                   color=\"category\", \n",
    "                   title=\"Distribution of Average Ratings by Category\",\n",
    "                   labels={\"avg_rating\": \"Average Rating\"}, \n",
    "                   color_discrete_sequence=px.colors.qualitative.Plotly\n",
    "                  )\n",
    "\n",
    "fig.update_layout(bargap=0.2) # Adjust the gap between bars\n",
    "fig.show()"
   ]
  },
  {
   "cell_type": "markdown",
   "metadata": {},
   "source": [
    "ps: just click on the legend to filter its awesome!"
   ]
  },
  {
   "cell_type": "code",
   "execution_count": 30,
   "metadata": {},
   "outputs": [
    {
     "data": {
      "text/plain": [
       "category\n",
       "Bannetons                                                                   4.100000\n",
       "Beauté et soins                                                             5.000000\n",
       "Bien-être                                                                        NaN\n",
       "Coupes menstruelles                                                         3.783333\n",
       "Coussinets pour chaussures                                                       NaN\n",
       "Culottes                                                                         NaN\n",
       "Culottes et slips                                                           4.200000\n",
       "Culottes et sous-vêtements de protection                                    4.266667\n",
       "Diffuseurs d'huiles essentielles                                            4.300000\n",
       "Déodorant                                                                        NaN\n",
       "Femme                                                                            NaN\n",
       "Hygiène et soins intimes                                                    4.300000\n",
       "Hygiène et épilation                                                        4.420000\n",
       "Incontinence                                                                4.533333\n",
       "Lames                                                                       4.000000\n",
       "Produits d'hygiène féminine                                                 4.550000\n",
       "Protections, serviettes hygiéniques, couches pour adultes, protège-slips    4.566667\n",
       "Protège-slips                                                               4.276442\n",
       "Serviettes hygièniques                                                      4.423913\n",
       "Shorties                                                                    4.100000\n",
       "Tampons                                                                     4.232636\n",
       "Visage                                                                      4.000000\n",
       "Vitamines, minéraux et compléments                                          4.700000\n",
       "Vêtements de contention médicaux                                            4.500000\n",
       "nan                                                                         4.133333\n",
       "Épilation à la cire                                                              NaN\n",
       "Name: avg_rating, dtype: float64"
      ]
     },
     "execution_count": 30,
     "metadata": {},
     "output_type": "execute_result"
    }
   ],
   "source": [
    "products_df.groupby(\"category\")[\"avg_rating\"].mean()"
   ]
  },
  {
   "cell_type": "markdown",
   "metadata": {},
   "source": [
    "Across the categories, menstrual products on Amazon generally receive high average ratings, ranging between 4.23 and 4.57. Notably, \"Serviettes hygiéniques\" (sanitary pads) and the broader category of \"Protections, serviettes hygiéniques, couches pour adultes, protège-slips\" emerge as the top-rated categories. This suggests that customers are particularly satisfied with these products, reflecting their quality, effectiveness, and possibly the value they provide to users. The high ratings across all categories highlight a general customer satisfaction with menstrual products available on the platform, with sanitary pads and related protective products standing out for their exceptional reviews."
   ]
  },
  {
   "cell_type": "code",
   "execution_count": 31,
   "metadata": {},
   "outputs": [],
   "source": [
    "# Sort products within each category by average rating in descending order\n",
    "sorted_products = products_df.sort_values(['category', 'avg_rating'], ascending=[True, False])\n",
    "\n",
    "# Group by category and take the top 10 products from each category\n",
    "top_products_per_category = sorted_products.groupby('category').head(10)"
   ]
  },
  {
   "cell_type": "code",
   "execution_count": 32,
   "metadata": {},
   "outputs": [
    {
     "name": "stderr",
     "output_type": "stream",
     "text": [
      "C:\\Users\\eliel\\AppData\\Local\\Temp\\ipykernel_8884\\3222186631.py:1: SettingWithCopyWarning:\n",
      "\n",
      "\n",
      "A value is trying to be set on a copy of a slice from a DataFrame.\n",
      "Try using .loc[row_indexer,col_indexer] = value instead\n",
      "\n",
      "See the caveats in the documentation: https://pandas.pydata.org/pandas-docs/stable/user_guide/indexing.html#returning-a-view-versus-a-copy\n",
      "\n"
     ]
    }
   ],
   "source": [
    "top_products_per_category[\"product\"] = top_products_per_category[\"brand\"] + \"-\" + top_products_per_category[\"asin\"]"
   ]
  },
  {
   "cell_type": "code",
   "execution_count": 33,
   "metadata": {},
   "outputs": [
    {
     "data": {
      "application/vnd.plotly.v1+json": {
       "config": {
        "plotlyServerURL": "https://plot.ly"
       },
       "data": [
        {
         "alignmentgroup": "True",
         "hovertemplate": "category=Bannetons<br>Average Rating=%{x}<br>Product=%{y}<extra></extra>",
         "legendgroup": "Bannetons",
         "marker": {
          "color": "#FFC0CB",
          "pattern": {
           "shape": ""
          }
         },
         "name": "Bannetons",
         "offsetgroup": "Bannetons",
         "orientation": "h",
         "showlegend": true,
         "textposition": "auto",
         "type": "bar",
         "x": [
          4.1
         ],
         "xaxis": "x",
         "y": [
          "Goods-B0C668XCZQ"
         ],
         "yaxis": "y"
        },
        {
         "alignmentgroup": "True",
         "hovertemplate": "category=Beauté et soins<br>Average Rating=%{x}<br>Product=%{y}<extra></extra>",
         "legendgroup": "Beauté et soins",
         "marker": {
          "color": "#FFB6C1",
          "pattern": {
           "shape": ""
          }
         },
         "name": "Beauté et soins",
         "offsetgroup": "Beauté et soins",
         "orientation": "h",
         "showlegend": true,
         "textposition": "auto",
         "type": "bar",
         "x": [
          5
         ],
         "xaxis": "x",
         "y": [
          "Ecorita-B0CJHJ6D74"
         ],
         "yaxis": "y"
        },
        {
         "alignmentgroup": "True",
         "hovertemplate": "category=Bien-être<br>Average Rating=%{x}<br>Product=%{y}<extra></extra>",
         "legendgroup": "Bien-être",
         "marker": {
          "color": "#FF69B4",
          "pattern": {
           "shape": ""
          }
         },
         "name": "Bien-être",
         "offsetgroup": "Bien-être",
         "orientation": "h",
         "showlegend": true,
         "textposition": "auto",
         "type": "bar",
         "x": [
          null
         ],
         "xaxis": "x",
         "y": [
          "Slip-B00TPLXHDW"
         ],
         "yaxis": "y"
        },
        {
         "alignmentgroup": "True",
         "hovertemplate": "category=Coupes menstruelles<br>Average Rating=%{x}<br>Product=%{y}<extra></extra>",
         "legendgroup": "Coupes menstruelles",
         "marker": {
          "color": "#FF1493",
          "pattern": {
           "shape": ""
          }
         },
         "name": "Coupes menstruelles",
         "offsetgroup": "Coupes menstruelles",
         "orientation": "h",
         "showlegend": true,
         "textposition": "auto",
         "type": "bar",
         "x": [
          4.5,
          4.5,
          4.5,
          4.3,
          3.9,
          1,
          null,
          null,
          null,
          null
         ],
         "xaxis": "x",
         "y": [
          "enna-B01N63E1OD",
          "DivaCup-B000FAG6X0",
          "Omnitex-B0C9QT2QX6",
          "riijk-B07QJ6FC47",
          "INTIMINA-B00BL1137Q",
          "FENYW-B0CKYLSHQB",
          "LOKBY-B0CNXCWKCR",
          "XPJBKC-B0CL1T18SW",
          "LOKBY-B0CNXGLRFW",
          "Leikurvo-B0CLVBQSP7"
         ],
         "yaxis": "y"
        },
        {
         "alignmentgroup": "True",
         "hovertemplate": "category=Coussinets pour chaussures<br>Average Rating=%{x}<br>Product=%{y}<extra></extra>",
         "legendgroup": "Coussinets pour chaussures",
         "marker": {
          "color": "#DB7093",
          "pattern": {
           "shape": ""
          }
         },
         "name": "Coussinets pour chaussures",
         "offsetgroup": "Coussinets pour chaussures",
         "orientation": "h",
         "showlegend": true,
         "textposition": "auto",
         "type": "bar",
         "x": [
          null
         ],
         "xaxis": "x",
         "y": [
          "TRADERPLUS-B0CLNLDDX8"
         ],
         "yaxis": "y"
        },
        {
         "alignmentgroup": "True",
         "hovertemplate": "category=Culottes<br>Average Rating=%{x}<br>Product=%{y}<extra></extra>",
         "legendgroup": "Culottes",
         "marker": {
          "color": "#C71585",
          "pattern": {
           "shape": ""
          }
         },
         "name": "Culottes",
         "offsetgroup": "Culottes",
         "orientation": "h",
         "showlegend": true,
         "textposition": "auto",
         "type": "bar",
         "x": [
          null
         ],
         "xaxis": "x",
         "y": [
          "Fulidngzg-B0CBSMRLJT"
         ],
         "yaxis": "y"
        },
        {
         "alignmentgroup": "True",
         "hovertemplate": "category=Culottes et slips<br>Average Rating=%{x}<br>Product=%{y}<extra></extra>",
         "legendgroup": "Culottes et slips",
         "marker": {
          "color": "#FFAEB9",
          "pattern": {
           "shape": ""
          }
         },
         "name": "Culottes et slips",
         "offsetgroup": "Culottes et slips",
         "orientation": "h",
         "showlegend": true,
         "textposition": "auto",
         "type": "bar",
         "x": [
          4.2,
          4.2,
          4.2,
          null
         ],
         "xaxis": "x",
         "y": [
          "IINTI-MACY-B09ZPGC5Z9",
          "NoBlood-B098BRY6TD",
          "NoBlood-B082J6FMKW",
          "Fulidngzg-B0CBSPJWYY"
         ],
         "yaxis": "y"
        },
        {
         "alignmentgroup": "True",
         "hovertemplate": "category=Culottes et sous-vêtements de protection<br>Average Rating=%{x}<br>Product=%{y}<extra></extra>",
         "legendgroup": "Culottes et sous-vêtements de protection",
         "marker": {
          "color": "#FF82AB",
          "pattern": {
           "shape": ""
          }
         },
         "name": "Culottes et sous-vêtements de protection",
         "offsetgroup": "Culottes et sous-vêtements de protection",
         "orientation": "h",
         "showlegend": true,
         "textposition": "auto",
         "type": "bar",
         "x": [
          4.4,
          4.3,
          4.3,
          4.3,
          4.3,
          4.3,
          4.3,
          4.1,
          4.1,
          null
         ],
         "xaxis": "x",
         "y": [
          "TENA-B06XYJC7DT",
          "Neione-B0BKL9CGL8",
          "Rovtop-B095HRKBDT",
          "NANASPHERE-B0BM54M3TS",
          "MALVON-B09CNSW4B1",
          "Oséclore-B0B71WTTC4",
          "Oséclore-B0B723C8J5",
          "INNERSY-B09BTQ5434",
          "INNERSY-B09BTBF7RH",
          "Fulidngzg-B0CBSQ6C63"
         ],
         "yaxis": "y"
        },
        {
         "alignmentgroup": "True",
         "hovertemplate": "category=Diffuseurs d'huiles essentielles<br>Average Rating=%{x}<br>Product=%{y}<extra></extra>",
         "legendgroup": "Diffuseurs d'huiles essentielles",
         "marker": {
          "color": "#FF34B3",
          "pattern": {
           "shape": ""
          }
         },
         "name": "Diffuseurs d'huiles essentielles",
         "offsetgroup": "Diffuseurs d'huiles essentielles",
         "orientation": "h",
         "showlegend": true,
         "textposition": "auto",
         "type": "bar",
         "x": [
          4.3,
          4.3
         ],
         "xaxis": "x",
         "y": [
          "Cupimatch-B07V1G729W",
          "PandaHall-B094XXX5HW"
         ],
         "yaxis": "y"
        },
        {
         "alignmentgroup": "True",
         "hovertemplate": "category=Déodorant<br>Average Rating=%{x}<br>Product=%{y}<extra></extra>",
         "legendgroup": "Déodorant",
         "marker": {
          "color": "#FF3E96",
          "pattern": {
           "shape": ""
          }
         },
         "name": "Déodorant",
         "offsetgroup": "Déodorant",
         "orientation": "h",
         "showlegend": true,
         "textposition": "auto",
         "type": "bar",
         "x": [
          null
         ],
         "xaxis": "x",
         "y": [
          "FOTABPYTI-B0C4JXSHNF"
         ],
         "yaxis": "y"
        },
        {
         "alignmentgroup": "True",
         "hovertemplate": "category=Femme<br>Average Rating=%{x}<br>Product=%{y}<extra></extra>",
         "legendgroup": "Femme",
         "marker": {
          "color": "#FFC0CB",
          "pattern": {
           "shape": ""
          }
         },
         "name": "Femme",
         "offsetgroup": "Femme",
         "orientation": "h",
         "showlegend": true,
         "textposition": "auto",
         "type": "bar",
         "x": [
          null
         ],
         "xaxis": "x",
         "y": [
          "Bodhi2000-B0B1SYYR9H"
         ],
         "yaxis": "y"
        },
        {
         "alignmentgroup": "True",
         "hovertemplate": "category=Hygiène et soins intimes<br>Average Rating=%{x}<br>Product=%{y}<extra></extra>",
         "legendgroup": "Hygiène et soins intimes",
         "marker": {
          "color": "#FFB6C1",
          "pattern": {
           "shape": ""
          }
         },
         "name": "Hygiène et soins intimes",
         "offsetgroup": "Hygiène et soins intimes",
         "orientation": "h",
         "showlegend": true,
         "textposition": "auto",
         "type": "bar",
         "x": [
          4.8,
          4.7,
          4.5,
          4.4,
          4.3,
          4.3,
          4.2,
          4.2,
          4.1,
          3.9
         ],
         "xaxis": "x",
         "y": [
          "Merula-B085WDWJ9N",
          "Claripharm-B079Q1FLZ9",
          "OrganiCup-B074P5PQ7M",
          "Rainbowcup-B07CG98SVR",
          "LUNA-B079QFXG19",
          "AvaLoona-B07NL923F6",
          "LUNA-B079QDMMM9",
          "Lumma-B07Y5JZ1RG",
          "Natur'Eden-B0983JCQS9",
          "Lumma-B07TDMGPYG"
         ],
         "yaxis": "y"
        },
        {
         "alignmentgroup": "True",
         "hovertemplate": "category=Hygiène et épilation<br>Average Rating=%{x}<br>Product=%{y}<extra></extra>",
         "legendgroup": "Hygiène et épilation",
         "marker": {
          "color": "#FF69B4",
          "pattern": {
           "shape": ""
          }
         },
         "name": "Hygiène et épilation",
         "offsetgroup": "Hygiène et épilation",
         "orientation": "h",
         "showlegend": true,
         "textposition": "auto",
         "type": "bar",
         "x": [
          4.6,
          4.5,
          4.5,
          4.3,
          4.2
         ],
         "xaxis": "x",
         "y": [
          "Cup-B0727P5W6L",
          "Green-B07YQFV3GB",
          "WOMAN-B07MTMGQ1P",
          "MAMICUP-B016AGSNHY",
          "Cup-B07JGTJ56P"
         ],
         "yaxis": "y"
        },
        {
         "alignmentgroup": "True",
         "hovertemplate": "category=Incontinence<br>Average Rating=%{x}<br>Product=%{y}<extra></extra>",
         "legendgroup": "Incontinence",
         "marker": {
          "color": "#FF1493",
          "pattern": {
           "shape": ""
          }
         },
         "name": "Incontinence",
         "offsetgroup": "Incontinence",
         "orientation": "h",
         "showlegend": true,
         "textposition": "auto",
         "type": "bar",
         "x": [
          4.6,
          4.5,
          4.5
         ],
         "xaxis": "x",
         "y": [
          "TENA-B001NZHAZY",
          "Always-B01BV4XLN6",
          "Always-B01BV4XLOU"
         ],
         "yaxis": "y"
        },
        {
         "alignmentgroup": "True",
         "hovertemplate": "category=Lames<br>Average Rating=%{x}<br>Product=%{y}<extra></extra>",
         "legendgroup": "Lames",
         "marker": {
          "color": "#DB7093",
          "pattern": {
           "shape": ""
          }
         },
         "name": "Lames",
         "offsetgroup": "Lames",
         "orientation": "h",
         "showlegend": true,
         "textposition": "auto",
         "type": "bar",
         "x": [
          4
         ],
         "xaxis": "x",
         "y": [
          "Bodyotics-B0BCWGYJQF"
         ],
         "yaxis": "y"
        },
        {
         "alignmentgroup": "True",
         "hovertemplate": "category=Produits d'hygiène féminine<br>Average Rating=%{x}<br>Product=%{y}<extra></extra>",
         "legendgroup": "Produits d'hygiène féminine",
         "marker": {
          "color": "#C71585",
          "pattern": {
           "shape": ""
          }
         },
         "name": "Produits d'hygiène féminine",
         "offsetgroup": "Produits d'hygiène féminine",
         "orientation": "h",
         "showlegend": true,
         "textposition": "auto",
         "type": "bar",
         "x": [
          4.6,
          4.5
         ],
         "xaxis": "x",
         "y": [
          "ZDZQTM-B091BVF2K2",
          "Natracare-B00F2JKRO8"
         ],
         "yaxis": "y"
        },
        {
         "alignmentgroup": "True",
         "hovertemplate": "category=Protections, serviettes hygiéniques, couches pour adultes, protège-slips<br>Average Rating=%{x}<br>Product=%{y}<extra></extra>",
         "legendgroup": "Protections, serviettes hygiéniques, couches pour adultes, protège-slips",
         "marker": {
          "color": "#FFAEB9",
          "pattern": {
           "shape": ""
          }
         },
         "name": "Protections, serviettes hygiéniques, couches pour adultes, protège-slips",
         "offsetgroup": "Protections, serviettes hygiéniques, couches pour adultes, protège-slips",
         "orientation": "h",
         "showlegend": true,
         "textposition": "auto",
         "type": "bar",
         "x": [
          4.7,
          4.6,
          4.6,
          4.6,
          4.5,
          4.4
         ],
         "xaxis": "x",
         "y": [
          "TENA-B06XYHT94X",
          "Always-B07JHCVT2R",
          "TENA-B06XYKCVWP",
          "TENA-B06XYJGQ1Z",
          "TENA-B06XYDHPRC",
          "TENA-B06XYDRJDN"
         ],
         "yaxis": "y"
        },
        {
         "alignmentgroup": "True",
         "hovertemplate": "category=Protège-slips<br>Average Rating=%{x}<br>Product=%{y}<extra></extra>",
         "legendgroup": "Protège-slips",
         "marker": {
          "color": "#FF82AB",
          "pattern": {
           "shape": ""
          }
         },
         "name": "Protège-slips",
         "offsetgroup": "Protège-slips",
         "orientation": "h",
         "showlegend": true,
         "textposition": "auto",
         "type": "bar",
         "x": [
          5,
          5,
          5,
          5,
          5,
          5,
          5,
          5,
          5,
          5
         ],
         "xaxis": "x",
         "y": [
          "Always-B0BS72CCY3",
          "Beauté-B08XP2QKK2",
          "Beauté-B07SVP6YPX",
          "Molicare-B09M7FH2FG",
          "Green-B0CLB1BV4Z",
          "Always-B09F9WDS5P",
          "Beauté-B08XKLPQDT",
          "Pack-B07PF6KDQ4",
          "Natracare-B019S8T6O0",
          "Carefree-B07X6GSCB7"
         ],
         "yaxis": "y"
        },
        {
         "alignmentgroup": "True",
         "hovertemplate": "category=Serviettes hygièniques<br>Average Rating=%{x}<br>Product=%{y}<extra></extra>",
         "legendgroup": "Serviettes hygièniques",
         "marker": {
          "color": "#FF34B3",
          "pattern": {
           "shape": ""
          }
         },
         "name": "Serviettes hygièniques",
         "offsetgroup": "Serviettes hygièniques",
         "orientation": "h",
         "showlegend": true,
         "textposition": "auto",
         "type": "bar",
         "x": [
          5,
          5,
          5,
          5,
          5,
          5,
          5,
          5,
          5,
          5
         ],
         "xaxis": "x",
         "y": [
          "Always-B0BWR1Z8WD",
          "Always-B0CLB12TCD",
          "Nana-B00GEU8HX2",
          "Monoprix-B07DXBMTCR",
          "Always-B09G2YYJ1J",
          "Always-B0BWR3VZB9",
          "JHO.-B0C4TH74KS",
          "volumoon-B0CJ9DDX8T",
          "Bella-B091397H2V",
          "Organyc-B00SPI6H88"
         ],
         "yaxis": "y"
        },
        {
         "alignmentgroup": "True",
         "hovertemplate": "category=Shorties<br>Average Rating=%{x}<br>Product=%{y}<extra></extra>",
         "legendgroup": "Shorties",
         "marker": {
          "color": "#FF3E96",
          "pattern": {
           "shape": ""
          }
         },
         "name": "Shorties",
         "offsetgroup": "Shorties",
         "orientation": "h",
         "showlegend": true,
         "textposition": "auto",
         "type": "bar",
         "x": [
          4.5,
          3.7,
          null
         ],
         "xaxis": "x",
         "y": [
          "femtis-B0B5HMR5MW",
          "FEOYA-B08PBV8BHL",
          "Fulidngzg-B0CBSPK724"
         ],
         "yaxis": "y"
        },
        {
         "alignmentgroup": "True",
         "hovertemplate": "category=Tampons<br>Average Rating=%{x}<br>Product=%{y}<extra></extra>",
         "legendgroup": "Tampons",
         "marker": {
          "color": "#FFC0CB",
          "pattern": {
           "shape": ""
          }
         },
         "name": "Tampons",
         "offsetgroup": "Tampons",
         "orientation": "h",
         "showlegend": true,
         "textposition": "auto",
         "type": "bar",
         "x": [
          5,
          5,
          5,
          5,
          5,
          5,
          5,
          5,
          5,
          5
         ],
         "xaxis": "x",
         "y": [
          "Beauté-B08NZ2V6KB",
          "Saforelle-B07JLV25KJ",
          "o.b.-B0958YKW8D",
          "Tampax-B09MTWQPJT",
          "Acboor-B0CG9QDGS1",
          "FENYW-B0CL3VMWJR",
          "Lamazuna-B00UDFHFEQ",
          "GJGJZD-B0CL3GQ5VP",
          "FENYW-B0CKYD431D",
          "CUP-B09MTFMH32"
         ],
         "yaxis": "y"
        },
        {
         "alignmentgroup": "True",
         "hovertemplate": "category=Visage<br>Average Rating=%{x}<br>Product=%{y}<extra></extra>",
         "legendgroup": "Visage",
         "marker": {
          "color": "#FFB6C1",
          "pattern": {
           "shape": ""
          }
         },
         "name": "Visage",
         "offsetgroup": "Visage",
         "orientation": "h",
         "showlegend": true,
         "textposition": "auto",
         "type": "bar",
         "x": [
          4
         ],
         "xaxis": "x",
         "y": [
          "Organyc-B00DBWR7RS"
         ],
         "yaxis": "y"
        },
        {
         "alignmentgroup": "True",
         "hovertemplate": "category=Vitamines, minéraux et compléments<br>Average Rating=%{x}<br>Product=%{y}<extra></extra>",
         "legendgroup": "Vitamines, minéraux et compléments",
         "marker": {
          "color": "#FF69B4",
          "pattern": {
           "shape": ""
          }
         },
         "name": "Vitamines, minéraux et compléments",
         "offsetgroup": "Vitamines, minéraux et compléments",
         "orientation": "h",
         "showlegend": true,
         "textposition": "auto",
         "type": "bar",
         "x": [
          5,
          4.4
         ],
         "xaxis": "x",
         "y": [
          "Phytoceutic-B07KG8C6LP",
          "Softcup-B000X29GY6"
         ],
         "yaxis": "y"
        },
        {
         "alignmentgroup": "True",
         "hovertemplate": "category=Vêtements de contention médicaux<br>Average Rating=%{x}<br>Product=%{y}<extra></extra>",
         "legendgroup": "Vêtements de contention médicaux",
         "marker": {
          "color": "#FF1493",
          "pattern": {
           "shape": ""
          }
         },
         "name": "Vêtements de contention médicaux",
         "offsetgroup": "Vêtements de contention médicaux",
         "orientation": "h",
         "showlegend": true,
         "textposition": "auto",
         "type": "bar",
         "x": [
          4.5
         ],
         "xaxis": "x",
         "y": [
          "Lansinoh-B0BV2WJZ3N"
         ],
         "yaxis": "y"
        },
        {
         "alignmentgroup": "True",
         "hovertemplate": "category=nan<br>Average Rating=%{x}<br>Product=%{y}<extra></extra>",
         "legendgroup": "nan",
         "marker": {
          "color": "#DB7093",
          "pattern": {
           "shape": ""
          }
         },
         "name": "nan",
         "offsetgroup": "nan",
         "orientation": "h",
         "showlegend": true,
         "textposition": "auto",
         "type": "bar",
         "x": [
          4.8,
          4.6,
          3
         ],
         "xaxis": "x",
         "y": [
          "o.b.-B08YLH3MB2",
          "P&G-B014KORVYE",
          "Naroote-B09SFBXMKW"
         ],
         "yaxis": "y"
        },
        {
         "alignmentgroup": "True",
         "hovertemplate": "category=Épilation à la cire<br>Average Rating=%{x}<br>Product=%{y}<extra></extra>",
         "legendgroup": "Épilation à la cire",
         "marker": {
          "color": "#C71585",
          "pattern": {
           "shape": ""
          }
         },
         "name": "Épilation à la cire",
         "offsetgroup": "Épilation à la cire",
         "orientation": "h",
         "showlegend": true,
         "textposition": "auto",
         "type": "bar",
         "x": [
          null
         ],
         "xaxis": "x",
         "y": [
          "DAUZ-B0CM3Y8GPG"
         ],
         "yaxis": "y"
        }
       ],
       "layout": {
        "barmode": "relative",
        "coloraxis": {
         "colorbar": {
          "title": {
           "text": "Category"
          }
         }
        },
        "legend": {
         "title": {
          "text": "category"
         },
         "tracegroupgap": 0
        },
        "template": {
         "data": {
          "bar": [
           {
            "error_x": {
             "color": "#2a3f5f"
            },
            "error_y": {
             "color": "#2a3f5f"
            },
            "marker": {
             "line": {
              "color": "#E5ECF6",
              "width": 0.5
             },
             "pattern": {
              "fillmode": "overlay",
              "size": 10,
              "solidity": 0.2
             }
            },
            "type": "bar"
           }
          ],
          "barpolar": [
           {
            "marker": {
             "line": {
              "color": "#E5ECF6",
              "width": 0.5
             },
             "pattern": {
              "fillmode": "overlay",
              "size": 10,
              "solidity": 0.2
             }
            },
            "type": "barpolar"
           }
          ],
          "carpet": [
           {
            "aaxis": {
             "endlinecolor": "#2a3f5f",
             "gridcolor": "white",
             "linecolor": "white",
             "minorgridcolor": "white",
             "startlinecolor": "#2a3f5f"
            },
            "baxis": {
             "endlinecolor": "#2a3f5f",
             "gridcolor": "white",
             "linecolor": "white",
             "minorgridcolor": "white",
             "startlinecolor": "#2a3f5f"
            },
            "type": "carpet"
           }
          ],
          "choropleth": [
           {
            "colorbar": {
             "outlinewidth": 0,
             "ticks": ""
            },
            "type": "choropleth"
           }
          ],
          "contour": [
           {
            "colorbar": {
             "outlinewidth": 0,
             "ticks": ""
            },
            "colorscale": [
             [
              0,
              "#0d0887"
             ],
             [
              0.1111111111111111,
              "#46039f"
             ],
             [
              0.2222222222222222,
              "#7201a8"
             ],
             [
              0.3333333333333333,
              "#9c179e"
             ],
             [
              0.4444444444444444,
              "#bd3786"
             ],
             [
              0.5555555555555556,
              "#d8576b"
             ],
             [
              0.6666666666666666,
              "#ed7953"
             ],
             [
              0.7777777777777778,
              "#fb9f3a"
             ],
             [
              0.8888888888888888,
              "#fdca26"
             ],
             [
              1,
              "#f0f921"
             ]
            ],
            "type": "contour"
           }
          ],
          "contourcarpet": [
           {
            "colorbar": {
             "outlinewidth": 0,
             "ticks": ""
            },
            "type": "contourcarpet"
           }
          ],
          "heatmap": [
           {
            "colorbar": {
             "outlinewidth": 0,
             "ticks": ""
            },
            "colorscale": [
             [
              0,
              "#0d0887"
             ],
             [
              0.1111111111111111,
              "#46039f"
             ],
             [
              0.2222222222222222,
              "#7201a8"
             ],
             [
              0.3333333333333333,
              "#9c179e"
             ],
             [
              0.4444444444444444,
              "#bd3786"
             ],
             [
              0.5555555555555556,
              "#d8576b"
             ],
             [
              0.6666666666666666,
              "#ed7953"
             ],
             [
              0.7777777777777778,
              "#fb9f3a"
             ],
             [
              0.8888888888888888,
              "#fdca26"
             ],
             [
              1,
              "#f0f921"
             ]
            ],
            "type": "heatmap"
           }
          ],
          "heatmapgl": [
           {
            "colorbar": {
             "outlinewidth": 0,
             "ticks": ""
            },
            "colorscale": [
             [
              0,
              "#0d0887"
             ],
             [
              0.1111111111111111,
              "#46039f"
             ],
             [
              0.2222222222222222,
              "#7201a8"
             ],
             [
              0.3333333333333333,
              "#9c179e"
             ],
             [
              0.4444444444444444,
              "#bd3786"
             ],
             [
              0.5555555555555556,
              "#d8576b"
             ],
             [
              0.6666666666666666,
              "#ed7953"
             ],
             [
              0.7777777777777778,
              "#fb9f3a"
             ],
             [
              0.8888888888888888,
              "#fdca26"
             ],
             [
              1,
              "#f0f921"
             ]
            ],
            "type": "heatmapgl"
           }
          ],
          "histogram": [
           {
            "marker": {
             "pattern": {
              "fillmode": "overlay",
              "size": 10,
              "solidity": 0.2
             }
            },
            "type": "histogram"
           }
          ],
          "histogram2d": [
           {
            "colorbar": {
             "outlinewidth": 0,
             "ticks": ""
            },
            "colorscale": [
             [
              0,
              "#0d0887"
             ],
             [
              0.1111111111111111,
              "#46039f"
             ],
             [
              0.2222222222222222,
              "#7201a8"
             ],
             [
              0.3333333333333333,
              "#9c179e"
             ],
             [
              0.4444444444444444,
              "#bd3786"
             ],
             [
              0.5555555555555556,
              "#d8576b"
             ],
             [
              0.6666666666666666,
              "#ed7953"
             ],
             [
              0.7777777777777778,
              "#fb9f3a"
             ],
             [
              0.8888888888888888,
              "#fdca26"
             ],
             [
              1,
              "#f0f921"
             ]
            ],
            "type": "histogram2d"
           }
          ],
          "histogram2dcontour": [
           {
            "colorbar": {
             "outlinewidth": 0,
             "ticks": ""
            },
            "colorscale": [
             [
              0,
              "#0d0887"
             ],
             [
              0.1111111111111111,
              "#46039f"
             ],
             [
              0.2222222222222222,
              "#7201a8"
             ],
             [
              0.3333333333333333,
              "#9c179e"
             ],
             [
              0.4444444444444444,
              "#bd3786"
             ],
             [
              0.5555555555555556,
              "#d8576b"
             ],
             [
              0.6666666666666666,
              "#ed7953"
             ],
             [
              0.7777777777777778,
              "#fb9f3a"
             ],
             [
              0.8888888888888888,
              "#fdca26"
             ],
             [
              1,
              "#f0f921"
             ]
            ],
            "type": "histogram2dcontour"
           }
          ],
          "mesh3d": [
           {
            "colorbar": {
             "outlinewidth": 0,
             "ticks": ""
            },
            "type": "mesh3d"
           }
          ],
          "parcoords": [
           {
            "line": {
             "colorbar": {
              "outlinewidth": 0,
              "ticks": ""
             }
            },
            "type": "parcoords"
           }
          ],
          "pie": [
           {
            "automargin": true,
            "type": "pie"
           }
          ],
          "scatter": [
           {
            "fillpattern": {
             "fillmode": "overlay",
             "size": 10,
             "solidity": 0.2
            },
            "type": "scatter"
           }
          ],
          "scatter3d": [
           {
            "line": {
             "colorbar": {
              "outlinewidth": 0,
              "ticks": ""
             }
            },
            "marker": {
             "colorbar": {
              "outlinewidth": 0,
              "ticks": ""
             }
            },
            "type": "scatter3d"
           }
          ],
          "scattercarpet": [
           {
            "marker": {
             "colorbar": {
              "outlinewidth": 0,
              "ticks": ""
             }
            },
            "type": "scattercarpet"
           }
          ],
          "scattergeo": [
           {
            "marker": {
             "colorbar": {
              "outlinewidth": 0,
              "ticks": ""
             }
            },
            "type": "scattergeo"
           }
          ],
          "scattergl": [
           {
            "marker": {
             "colorbar": {
              "outlinewidth": 0,
              "ticks": ""
             }
            },
            "type": "scattergl"
           }
          ],
          "scattermapbox": [
           {
            "marker": {
             "colorbar": {
              "outlinewidth": 0,
              "ticks": ""
             }
            },
            "type": "scattermapbox"
           }
          ],
          "scatterpolar": [
           {
            "marker": {
             "colorbar": {
              "outlinewidth": 0,
              "ticks": ""
             }
            },
            "type": "scatterpolar"
           }
          ],
          "scatterpolargl": [
           {
            "marker": {
             "colorbar": {
              "outlinewidth": 0,
              "ticks": ""
             }
            },
            "type": "scatterpolargl"
           }
          ],
          "scatterternary": [
           {
            "marker": {
             "colorbar": {
              "outlinewidth": 0,
              "ticks": ""
             }
            },
            "type": "scatterternary"
           }
          ],
          "surface": [
           {
            "colorbar": {
             "outlinewidth": 0,
             "ticks": ""
            },
            "colorscale": [
             [
              0,
              "#0d0887"
             ],
             [
              0.1111111111111111,
              "#46039f"
             ],
             [
              0.2222222222222222,
              "#7201a8"
             ],
             [
              0.3333333333333333,
              "#9c179e"
             ],
             [
              0.4444444444444444,
              "#bd3786"
             ],
             [
              0.5555555555555556,
              "#d8576b"
             ],
             [
              0.6666666666666666,
              "#ed7953"
             ],
             [
              0.7777777777777778,
              "#fb9f3a"
             ],
             [
              0.8888888888888888,
              "#fdca26"
             ],
             [
              1,
              "#f0f921"
             ]
            ],
            "type": "surface"
           }
          ],
          "table": [
           {
            "cells": {
             "fill": {
              "color": "#EBF0F8"
             },
             "line": {
              "color": "white"
             }
            },
            "header": {
             "fill": {
              "color": "#C8D4E3"
             },
             "line": {
              "color": "white"
             }
            },
            "type": "table"
           }
          ]
         },
         "layout": {
          "annotationdefaults": {
           "arrowcolor": "#2a3f5f",
           "arrowhead": 0,
           "arrowwidth": 1
          },
          "autotypenumbers": "strict",
          "coloraxis": {
           "colorbar": {
            "outlinewidth": 0,
            "ticks": ""
           }
          },
          "colorscale": {
           "diverging": [
            [
             0,
             "#8e0152"
            ],
            [
             0.1,
             "#c51b7d"
            ],
            [
             0.2,
             "#de77ae"
            ],
            [
             0.3,
             "#f1b6da"
            ],
            [
             0.4,
             "#fde0ef"
            ],
            [
             0.5,
             "#f7f7f7"
            ],
            [
             0.6,
             "#e6f5d0"
            ],
            [
             0.7,
             "#b8e186"
            ],
            [
             0.8,
             "#7fbc41"
            ],
            [
             0.9,
             "#4d9221"
            ],
            [
             1,
             "#276419"
            ]
           ],
           "sequential": [
            [
             0,
             "#0d0887"
            ],
            [
             0.1111111111111111,
             "#46039f"
            ],
            [
             0.2222222222222222,
             "#7201a8"
            ],
            [
             0.3333333333333333,
             "#9c179e"
            ],
            [
             0.4444444444444444,
             "#bd3786"
            ],
            [
             0.5555555555555556,
             "#d8576b"
            ],
            [
             0.6666666666666666,
             "#ed7953"
            ],
            [
             0.7777777777777778,
             "#fb9f3a"
            ],
            [
             0.8888888888888888,
             "#fdca26"
            ],
            [
             1,
             "#f0f921"
            ]
           ],
           "sequentialminus": [
            [
             0,
             "#0d0887"
            ],
            [
             0.1111111111111111,
             "#46039f"
            ],
            [
             0.2222222222222222,
             "#7201a8"
            ],
            [
             0.3333333333333333,
             "#9c179e"
            ],
            [
             0.4444444444444444,
             "#bd3786"
            ],
            [
             0.5555555555555556,
             "#d8576b"
            ],
            [
             0.6666666666666666,
             "#ed7953"
            ],
            [
             0.7777777777777778,
             "#fb9f3a"
            ],
            [
             0.8888888888888888,
             "#fdca26"
            ],
            [
             1,
             "#f0f921"
            ]
           ]
          },
          "colorway": [
           "#636efa",
           "#EF553B",
           "#00cc96",
           "#ab63fa",
           "#FFA15A",
           "#19d3f3",
           "#FF6692",
           "#B6E880",
           "#FF97FF",
           "#FECB52"
          ],
          "font": {
           "color": "#2a3f5f"
          },
          "geo": {
           "bgcolor": "white",
           "lakecolor": "white",
           "landcolor": "#E5ECF6",
           "showlakes": true,
           "showland": true,
           "subunitcolor": "white"
          },
          "hoverlabel": {
           "align": "left"
          },
          "hovermode": "closest",
          "mapbox": {
           "style": "light"
          },
          "paper_bgcolor": "white",
          "plot_bgcolor": "#E5ECF6",
          "polar": {
           "angularaxis": {
            "gridcolor": "white",
            "linecolor": "white",
            "ticks": ""
           },
           "bgcolor": "#E5ECF6",
           "radialaxis": {
            "gridcolor": "white",
            "linecolor": "white",
            "ticks": ""
           }
          },
          "scene": {
           "xaxis": {
            "backgroundcolor": "#E5ECF6",
            "gridcolor": "white",
            "gridwidth": 2,
            "linecolor": "white",
            "showbackground": true,
            "ticks": "",
            "zerolinecolor": "white"
           },
           "yaxis": {
            "backgroundcolor": "#E5ECF6",
            "gridcolor": "white",
            "gridwidth": 2,
            "linecolor": "white",
            "showbackground": true,
            "ticks": "",
            "zerolinecolor": "white"
           },
           "zaxis": {
            "backgroundcolor": "#E5ECF6",
            "gridcolor": "white",
            "gridwidth": 2,
            "linecolor": "white",
            "showbackground": true,
            "ticks": "",
            "zerolinecolor": "white"
           }
          },
          "shapedefaults": {
           "line": {
            "color": "#2a3f5f"
           }
          },
          "ternary": {
           "aaxis": {
            "gridcolor": "white",
            "linecolor": "white",
            "ticks": ""
           },
           "baxis": {
            "gridcolor": "white",
            "linecolor": "white",
            "ticks": ""
           },
           "bgcolor": "#E5ECF6",
           "caxis": {
            "gridcolor": "white",
            "linecolor": "white",
            "ticks": ""
           }
          },
          "title": {
           "x": 0.05
          },
          "xaxis": {
           "automargin": true,
           "gridcolor": "white",
           "linecolor": "white",
           "ticks": "",
           "title": {
            "standoff": 15
           },
           "zerolinecolor": "white",
           "zerolinewidth": 2
          },
          "yaxis": {
           "automargin": true,
           "gridcolor": "white",
           "linecolor": "white",
           "ticks": "",
           "title": {
            "standoff": 15
           },
           "zerolinecolor": "white",
           "zerolinewidth": 2
          }
         }
        },
        "title": {
         "text": "Top 10 Products with Highest Average Rating per Category"
        },
        "xaxis": {
         "anchor": "y",
         "domain": [
          0,
          1
         ],
         "range": [
          3.5,
          5
         ],
         "title": {
          "text": "Average Rating"
         }
        },
        "yaxis": {
         "anchor": "x",
         "categoryorder": "total ascending",
         "domain": [
          0,
          1
         ],
         "title": {
          "text": "Product Title"
         }
        }
       }
      }
     },
     "metadata": {},
     "output_type": "display_data"
    }
   ],
   "source": [
    "shades_of_pink = ['#FFC0CB', '#FFB6C1', '#FF69B4', '#FF1493', '#DB7093', '#C71585', '#FFAEB9', '#FF82AB', '#FF34B3', '#FF3E96']\n",
    "\n",
    "fig8 = px.bar(top_products_per_category, \n",
    "             x='avg_rating', y='product', color='category',\n",
    "             title='Top 10 Products with Highest Average Rating per Category',\n",
    "             labels={'avg_rating': 'Average Rating', 'product': 'Product'},\n",
    "             orientation='h',\n",
    "             color_discrete_sequence=shades_of_pink)\n",
    "\n",
    "fig8.update_xaxes(range=[3.5, 5])\n",
    "\n",
    "fig8.update_layout(yaxis={'categoryorder': 'total ascending'},\n",
    "                  xaxis_title='Average Rating',\n",
    "                  yaxis_title='Product Title',\n",
    "                  coloraxis_colorbar={'title':'Category'})\n",
    "\n",
    "\n",
    "\n",
    "\n",
    "fig8.show()"
   ]
  },
  {
   "cell_type": "markdown",
   "metadata": {},
   "source": [
    "##### **B. Number of reviews Analysis**"
   ]
  },
  {
   "cell_type": "code",
   "execution_count": 34,
   "metadata": {},
   "outputs": [],
   "source": [
    "nreviews_per_cat = products_df.groupby(\"category\")[\"num_reviews\"].sum().reset_index()\n",
    "nreviews_per_cat.sort_values(\"num_reviews\",ascending=False, inplace=True)"
   ]
  },
  {
   "cell_type": "code",
   "execution_count": 35,
   "metadata": {},
   "outputs": [
    {
     "data": {
      "application/vnd.plotly.v1+json": {
       "config": {
        "plotlyServerURL": "https://plot.ly"
       },
       "data": [
        {
         "alignmentgroup": "True",
         "hovertemplate": "category=%{x}<br>Number of Reviews=%{y}<extra></extra>",
         "legendgroup": "",
         "marker": {
          "color": "#FFC0CB",
          "pattern": {
           "shape": ""
          }
         },
         "name": "",
         "offsetgroup": "",
         "orientation": "v",
         "showlegend": false,
         "textposition": "auto",
         "type": "bar",
         "x": [
          "Serviettes hygièniques",
          "Tampons",
          "Protège-slips",
          "Coupes menstruelles",
          "Vitamines, minéraux et compléments",
          "Culottes et slips",
          "Culottes et sous-vêtements de protection",
          "Protections, serviettes hygiéniques, couches pour adultes, protège-slips",
          "Hygiène et épilation",
          "Hygiène et soins intimes",
          "Visage",
          "nan",
          "Incontinence",
          "Diffuseurs d'huiles essentielles",
          "Vêtements de contention médicaux",
          "Lames",
          "Shorties",
          "Produits d'hygiène féminine",
          "Bannetons",
          "Beauté et soins",
          "Coussinets pour chaussures",
          "Culottes",
          "Déodorant",
          "Bien-être",
          "Femme",
          "Épilation à la cire"
         ],
         "xaxis": "x",
         "y": [
          109103,
          94551,
          89719,
          19482,
          18632,
          14360,
          13722,
          8759,
          5518,
          2546,
          1721,
          1447,
          999,
          370,
          321,
          253,
          109,
          23,
          14,
          3,
          0,
          0,
          0,
          0,
          0,
          0
         ],
         "yaxis": "y"
        }
       ],
       "layout": {
        "barmode": "relative",
        "height": 600,
        "legend": {
         "tracegroupgap": 0
        },
        "template": {
         "data": {
          "bar": [
           {
            "error_x": {
             "color": "#2a3f5f"
            },
            "error_y": {
             "color": "#2a3f5f"
            },
            "marker": {
             "line": {
              "color": "#E5ECF6",
              "width": 0.5
             },
             "pattern": {
              "fillmode": "overlay",
              "size": 10,
              "solidity": 0.2
             }
            },
            "type": "bar"
           }
          ],
          "barpolar": [
           {
            "marker": {
             "line": {
              "color": "#E5ECF6",
              "width": 0.5
             },
             "pattern": {
              "fillmode": "overlay",
              "size": 10,
              "solidity": 0.2
             }
            },
            "type": "barpolar"
           }
          ],
          "carpet": [
           {
            "aaxis": {
             "endlinecolor": "#2a3f5f",
             "gridcolor": "white",
             "linecolor": "white",
             "minorgridcolor": "white",
             "startlinecolor": "#2a3f5f"
            },
            "baxis": {
             "endlinecolor": "#2a3f5f",
             "gridcolor": "white",
             "linecolor": "white",
             "minorgridcolor": "white",
             "startlinecolor": "#2a3f5f"
            },
            "type": "carpet"
           }
          ],
          "choropleth": [
           {
            "colorbar": {
             "outlinewidth": 0,
             "ticks": ""
            },
            "type": "choropleth"
           }
          ],
          "contour": [
           {
            "colorbar": {
             "outlinewidth": 0,
             "ticks": ""
            },
            "colorscale": [
             [
              0,
              "#0d0887"
             ],
             [
              0.1111111111111111,
              "#46039f"
             ],
             [
              0.2222222222222222,
              "#7201a8"
             ],
             [
              0.3333333333333333,
              "#9c179e"
             ],
             [
              0.4444444444444444,
              "#bd3786"
             ],
             [
              0.5555555555555556,
              "#d8576b"
             ],
             [
              0.6666666666666666,
              "#ed7953"
             ],
             [
              0.7777777777777778,
              "#fb9f3a"
             ],
             [
              0.8888888888888888,
              "#fdca26"
             ],
             [
              1,
              "#f0f921"
             ]
            ],
            "type": "contour"
           }
          ],
          "contourcarpet": [
           {
            "colorbar": {
             "outlinewidth": 0,
             "ticks": ""
            },
            "type": "contourcarpet"
           }
          ],
          "heatmap": [
           {
            "colorbar": {
             "outlinewidth": 0,
             "ticks": ""
            },
            "colorscale": [
             [
              0,
              "#0d0887"
             ],
             [
              0.1111111111111111,
              "#46039f"
             ],
             [
              0.2222222222222222,
              "#7201a8"
             ],
             [
              0.3333333333333333,
              "#9c179e"
             ],
             [
              0.4444444444444444,
              "#bd3786"
             ],
             [
              0.5555555555555556,
              "#d8576b"
             ],
             [
              0.6666666666666666,
              "#ed7953"
             ],
             [
              0.7777777777777778,
              "#fb9f3a"
             ],
             [
              0.8888888888888888,
              "#fdca26"
             ],
             [
              1,
              "#f0f921"
             ]
            ],
            "type": "heatmap"
           }
          ],
          "heatmapgl": [
           {
            "colorbar": {
             "outlinewidth": 0,
             "ticks": ""
            },
            "colorscale": [
             [
              0,
              "#0d0887"
             ],
             [
              0.1111111111111111,
              "#46039f"
             ],
             [
              0.2222222222222222,
              "#7201a8"
             ],
             [
              0.3333333333333333,
              "#9c179e"
             ],
             [
              0.4444444444444444,
              "#bd3786"
             ],
             [
              0.5555555555555556,
              "#d8576b"
             ],
             [
              0.6666666666666666,
              "#ed7953"
             ],
             [
              0.7777777777777778,
              "#fb9f3a"
             ],
             [
              0.8888888888888888,
              "#fdca26"
             ],
             [
              1,
              "#f0f921"
             ]
            ],
            "type": "heatmapgl"
           }
          ],
          "histogram": [
           {
            "marker": {
             "pattern": {
              "fillmode": "overlay",
              "size": 10,
              "solidity": 0.2
             }
            },
            "type": "histogram"
           }
          ],
          "histogram2d": [
           {
            "colorbar": {
             "outlinewidth": 0,
             "ticks": ""
            },
            "colorscale": [
             [
              0,
              "#0d0887"
             ],
             [
              0.1111111111111111,
              "#46039f"
             ],
             [
              0.2222222222222222,
              "#7201a8"
             ],
             [
              0.3333333333333333,
              "#9c179e"
             ],
             [
              0.4444444444444444,
              "#bd3786"
             ],
             [
              0.5555555555555556,
              "#d8576b"
             ],
             [
              0.6666666666666666,
              "#ed7953"
             ],
             [
              0.7777777777777778,
              "#fb9f3a"
             ],
             [
              0.8888888888888888,
              "#fdca26"
             ],
             [
              1,
              "#f0f921"
             ]
            ],
            "type": "histogram2d"
           }
          ],
          "histogram2dcontour": [
           {
            "colorbar": {
             "outlinewidth": 0,
             "ticks": ""
            },
            "colorscale": [
             [
              0,
              "#0d0887"
             ],
             [
              0.1111111111111111,
              "#46039f"
             ],
             [
              0.2222222222222222,
              "#7201a8"
             ],
             [
              0.3333333333333333,
              "#9c179e"
             ],
             [
              0.4444444444444444,
              "#bd3786"
             ],
             [
              0.5555555555555556,
              "#d8576b"
             ],
             [
              0.6666666666666666,
              "#ed7953"
             ],
             [
              0.7777777777777778,
              "#fb9f3a"
             ],
             [
              0.8888888888888888,
              "#fdca26"
             ],
             [
              1,
              "#f0f921"
             ]
            ],
            "type": "histogram2dcontour"
           }
          ],
          "mesh3d": [
           {
            "colorbar": {
             "outlinewidth": 0,
             "ticks": ""
            },
            "type": "mesh3d"
           }
          ],
          "parcoords": [
           {
            "line": {
             "colorbar": {
              "outlinewidth": 0,
              "ticks": ""
             }
            },
            "type": "parcoords"
           }
          ],
          "pie": [
           {
            "automargin": true,
            "type": "pie"
           }
          ],
          "scatter": [
           {
            "fillpattern": {
             "fillmode": "overlay",
             "size": 10,
             "solidity": 0.2
            },
            "type": "scatter"
           }
          ],
          "scatter3d": [
           {
            "line": {
             "colorbar": {
              "outlinewidth": 0,
              "ticks": ""
             }
            },
            "marker": {
             "colorbar": {
              "outlinewidth": 0,
              "ticks": ""
             }
            },
            "type": "scatter3d"
           }
          ],
          "scattercarpet": [
           {
            "marker": {
             "colorbar": {
              "outlinewidth": 0,
              "ticks": ""
             }
            },
            "type": "scattercarpet"
           }
          ],
          "scattergeo": [
           {
            "marker": {
             "colorbar": {
              "outlinewidth": 0,
              "ticks": ""
             }
            },
            "type": "scattergeo"
           }
          ],
          "scattergl": [
           {
            "marker": {
             "colorbar": {
              "outlinewidth": 0,
              "ticks": ""
             }
            },
            "type": "scattergl"
           }
          ],
          "scattermapbox": [
           {
            "marker": {
             "colorbar": {
              "outlinewidth": 0,
              "ticks": ""
             }
            },
            "type": "scattermapbox"
           }
          ],
          "scatterpolar": [
           {
            "marker": {
             "colorbar": {
              "outlinewidth": 0,
              "ticks": ""
             }
            },
            "type": "scatterpolar"
           }
          ],
          "scatterpolargl": [
           {
            "marker": {
             "colorbar": {
              "outlinewidth": 0,
              "ticks": ""
             }
            },
            "type": "scatterpolargl"
           }
          ],
          "scatterternary": [
           {
            "marker": {
             "colorbar": {
              "outlinewidth": 0,
              "ticks": ""
             }
            },
            "type": "scatterternary"
           }
          ],
          "surface": [
           {
            "colorbar": {
             "outlinewidth": 0,
             "ticks": ""
            },
            "colorscale": [
             [
              0,
              "#0d0887"
             ],
             [
              0.1111111111111111,
              "#46039f"
             ],
             [
              0.2222222222222222,
              "#7201a8"
             ],
             [
              0.3333333333333333,
              "#9c179e"
             ],
             [
              0.4444444444444444,
              "#bd3786"
             ],
             [
              0.5555555555555556,
              "#d8576b"
             ],
             [
              0.6666666666666666,
              "#ed7953"
             ],
             [
              0.7777777777777778,
              "#fb9f3a"
             ],
             [
              0.8888888888888888,
              "#fdca26"
             ],
             [
              1,
              "#f0f921"
             ]
            ],
            "type": "surface"
           }
          ],
          "table": [
           {
            "cells": {
             "fill": {
              "color": "#EBF0F8"
             },
             "line": {
              "color": "white"
             }
            },
            "header": {
             "fill": {
              "color": "#C8D4E3"
             },
             "line": {
              "color": "white"
             }
            },
            "type": "table"
           }
          ]
         },
         "layout": {
          "annotationdefaults": {
           "arrowcolor": "#2a3f5f",
           "arrowhead": 0,
           "arrowwidth": 1
          },
          "autotypenumbers": "strict",
          "coloraxis": {
           "colorbar": {
            "outlinewidth": 0,
            "ticks": ""
           }
          },
          "colorscale": {
           "diverging": [
            [
             0,
             "#8e0152"
            ],
            [
             0.1,
             "#c51b7d"
            ],
            [
             0.2,
             "#de77ae"
            ],
            [
             0.3,
             "#f1b6da"
            ],
            [
             0.4,
             "#fde0ef"
            ],
            [
             0.5,
             "#f7f7f7"
            ],
            [
             0.6,
             "#e6f5d0"
            ],
            [
             0.7,
             "#b8e186"
            ],
            [
             0.8,
             "#7fbc41"
            ],
            [
             0.9,
             "#4d9221"
            ],
            [
             1,
             "#276419"
            ]
           ],
           "sequential": [
            [
             0,
             "#0d0887"
            ],
            [
             0.1111111111111111,
             "#46039f"
            ],
            [
             0.2222222222222222,
             "#7201a8"
            ],
            [
             0.3333333333333333,
             "#9c179e"
            ],
            [
             0.4444444444444444,
             "#bd3786"
            ],
            [
             0.5555555555555556,
             "#d8576b"
            ],
            [
             0.6666666666666666,
             "#ed7953"
            ],
            [
             0.7777777777777778,
             "#fb9f3a"
            ],
            [
             0.8888888888888888,
             "#fdca26"
            ],
            [
             1,
             "#f0f921"
            ]
           ],
           "sequentialminus": [
            [
             0,
             "#0d0887"
            ],
            [
             0.1111111111111111,
             "#46039f"
            ],
            [
             0.2222222222222222,
             "#7201a8"
            ],
            [
             0.3333333333333333,
             "#9c179e"
            ],
            [
             0.4444444444444444,
             "#bd3786"
            ],
            [
             0.5555555555555556,
             "#d8576b"
            ],
            [
             0.6666666666666666,
             "#ed7953"
            ],
            [
             0.7777777777777778,
             "#fb9f3a"
            ],
            [
             0.8888888888888888,
             "#fdca26"
            ],
            [
             1,
             "#f0f921"
            ]
           ]
          },
          "colorway": [
           "#636efa",
           "#EF553B",
           "#00cc96",
           "#ab63fa",
           "#FFA15A",
           "#19d3f3",
           "#FF6692",
           "#B6E880",
           "#FF97FF",
           "#FECB52"
          ],
          "font": {
           "color": "#2a3f5f"
          },
          "geo": {
           "bgcolor": "white",
           "lakecolor": "white",
           "landcolor": "#E5ECF6",
           "showlakes": true,
           "showland": true,
           "subunitcolor": "white"
          },
          "hoverlabel": {
           "align": "left"
          },
          "hovermode": "closest",
          "mapbox": {
           "style": "light"
          },
          "paper_bgcolor": "white",
          "plot_bgcolor": "#E5ECF6",
          "polar": {
           "angularaxis": {
            "gridcolor": "white",
            "linecolor": "white",
            "ticks": ""
           },
           "bgcolor": "#E5ECF6",
           "radialaxis": {
            "gridcolor": "white",
            "linecolor": "white",
            "ticks": ""
           }
          },
          "scene": {
           "xaxis": {
            "backgroundcolor": "#E5ECF6",
            "gridcolor": "white",
            "gridwidth": 2,
            "linecolor": "white",
            "showbackground": true,
            "ticks": "",
            "zerolinecolor": "white"
           },
           "yaxis": {
            "backgroundcolor": "#E5ECF6",
            "gridcolor": "white",
            "gridwidth": 2,
            "linecolor": "white",
            "showbackground": true,
            "ticks": "",
            "zerolinecolor": "white"
           },
           "zaxis": {
            "backgroundcolor": "#E5ECF6",
            "gridcolor": "white",
            "gridwidth": 2,
            "linecolor": "white",
            "showbackground": true,
            "ticks": "",
            "zerolinecolor": "white"
           }
          },
          "shapedefaults": {
           "line": {
            "color": "#2a3f5f"
           }
          },
          "ternary": {
           "aaxis": {
            "gridcolor": "white",
            "linecolor": "white",
            "ticks": ""
           },
           "baxis": {
            "gridcolor": "white",
            "linecolor": "white",
            "ticks": ""
           },
           "bgcolor": "#E5ECF6",
           "caxis": {
            "gridcolor": "white",
            "linecolor": "white",
            "ticks": ""
           }
          },
          "title": {
           "x": 0.05
          },
          "xaxis": {
           "automargin": true,
           "gridcolor": "white",
           "linecolor": "white",
           "ticks": "",
           "title": {
            "standoff": 15
           },
           "zerolinecolor": "white",
           "zerolinewidth": 2
          },
          "yaxis": {
           "automargin": true,
           "gridcolor": "white",
           "linecolor": "white",
           "ticks": "",
           "title": {
            "standoff": 15
           },
           "zerolinecolor": "white",
           "zerolinewidth": 2
          }
         }
        },
        "title": {
         "text": "Number of reviews per category"
        },
        "width": 800,
        "xaxis": {
         "anchor": "y",
         "domain": [
          0,
          1
         ],
         "title": {
          "text": "category"
         }
        },
        "yaxis": {
         "anchor": "x",
         "domain": [
          0,
          1
         ],
         "title": {
          "text": "Number of Reviews"
         }
        }
       }
      }
     },
     "metadata": {},
     "output_type": "display_data"
    }
   ],
   "source": [
    "fig2 = px.bar(nreviews_per_cat, \n",
    "              y= \"num_reviews\",\n",
    "              x=\"category\",\n",
    "              title = \"Number of reviews per category\",\n",
    "              labels = {\"num_reviews\" : \"Number of Reviews\"},\n",
    "              color_discrete_sequence=shades_of_pink\n",
    "              )\n",
    "\n",
    "fig2.update_layout(width=800, height=600)  # Example: Set width to 800 pixels and height to 600 pixels\n",
    "\n",
    "fig2.show()"
   ]
  },
  {
   "cell_type": "markdown",
   "metadata": {},
   "source": [
    "When plotting the number of reviews per product to identify popular products, it's observed that \"Serviettes hygiéniques\" (sanitary pads) and \"Tampons\" dominate in terms of review volume, significantly outnumbering the reviews received by products in other categories. This disparity suggests that sanitary pads and tampons are the most engaged-with and possibly the most purchased or used menstrual products among the range available on Amazon."
   ]
  },
  {
   "cell_type": "code",
   "execution_count": 36,
   "metadata": {},
   "outputs": [
    {
     "data": {
      "text/html": [
       "<div>\n",
       "<style scoped>\n",
       "    .dataframe tbody tr th:only-of-type {\n",
       "        vertical-align: middle;\n",
       "    }\n",
       "\n",
       "    .dataframe tbody tr th {\n",
       "        vertical-align: top;\n",
       "    }\n",
       "\n",
       "    .dataframe thead th {\n",
       "        text-align: right;\n",
       "    }\n",
       "</style>\n",
       "<table border=\"1\" class=\"dataframe\">\n",
       "  <thead>\n",
       "    <tr style=\"text-align: right;\">\n",
       "      <th></th>\n",
       "      <th>asin</th>\n",
       "      <th>rating</th>\n",
       "      <th>title</th>\n",
       "      <th>country</th>\n",
       "      <th>date</th>\n",
       "      <th>body</th>\n",
       "      <th>body_en</th>\n",
       "    </tr>\n",
       "  </thead>\n",
       "  <tbody>\n",
       "    <tr>\n",
       "      <th>0</th>\n",
       "      <td>B07BFMNKBJ</td>\n",
       "      <td>1</td>\n",
       "      <td>Pas reçue</td>\n",
       "      <td>France</td>\n",
       "      <td>2020-12-02</td>\n",
       "      <td>Ont me dis que je les reçue alors que non !</td>\n",
       "      <td>I was told that I received them when I didn&amp;#3...</td>\n",
       "    </tr>\n",
       "    <tr>\n",
       "      <th>1</th>\n",
       "      <td>B07BFMNKBJ</td>\n",
       "      <td>1</td>\n",
       "      <td>Sans commentaire</td>\n",
       "      <td>France</td>\n",
       "      <td>2018-10-11</td>\n",
       "      <td>Sans commentaire</td>\n",
       "      <td>No comment</td>\n",
       "    </tr>\n",
       "    <tr>\n",
       "      <th>2</th>\n",
       "      <td>B07BFMNKBJ</td>\n",
       "      <td>5</td>\n",
       "      <td>Parfait 👌</td>\n",
       "      <td>France</td>\n",
       "      <td>2022-01-27</td>\n",
       "      <td>J'utilise ce modèle depuis des années, je ne c...</td>\n",
       "      <td>I have been using this model for years, I no l...</td>\n",
       "    </tr>\n",
       "    <tr>\n",
       "      <th>3</th>\n",
       "      <td>B07BFMNKBJ</td>\n",
       "      <td>4</td>\n",
       "      <td>Bien mais</td>\n",
       "      <td>France</td>\n",
       "      <td>2021-11-21</td>\n",
       "      <td>Légèrement moins cher qu’en grande surface mai...</td>\n",
       "      <td>Slightly cheaper than supermarkets but Pro Con...</td>\n",
       "    </tr>\n",
       "    <tr>\n",
       "      <th>4</th>\n",
       "      <td>B07BFMNKBJ</td>\n",
       "      <td>4</td>\n",
       "      <td>Bons tampons</td>\n",
       "      <td>France</td>\n",
       "      <td>2022-01-29</td>\n",
       "      <td>Rien de particulier à signaler.</td>\n",
       "      <td>Nothing special to report.</td>\n",
       "    </tr>\n",
       "  </tbody>\n",
       "</table>\n",
       "</div>"
      ],
      "text/plain": [
       "         asin  rating             title country       date  \\\n",
       "0  B07BFMNKBJ       1         Pas reçue  France 2020-12-02   \n",
       "1  B07BFMNKBJ       1  Sans commentaire  France 2018-10-11   \n",
       "2  B07BFMNKBJ       5         Parfait 👌  France 2022-01-27   \n",
       "3  B07BFMNKBJ       4         Bien mais  France 2021-11-21   \n",
       "4  B07BFMNKBJ       4      Bons tampons  France 2022-01-29   \n",
       "\n",
       "                                                body  \\\n",
       "0        Ont me dis que je les reçue alors que non !   \n",
       "1                                   Sans commentaire   \n",
       "2  J'utilise ce modèle depuis des années, je ne c...   \n",
       "3  Légèrement moins cher qu’en grande surface mai...   \n",
       "4                    Rien de particulier à signaler.   \n",
       "\n",
       "                                             body_en  \n",
       "0  I was told that I received them when I didn&#3...  \n",
       "1                                         No comment  \n",
       "2  I have been using this model for years, I no l...  \n",
       "3  Slightly cheaper than supermarkets but Pro Con...  \n",
       "4                         Nothing special to report.  "
      ]
     },
     "execution_count": 36,
     "metadata": {},
     "output_type": "execute_result"
    }
   ],
   "source": [
    "reviews.head()"
   ]
  },
  {
   "cell_type": "code",
   "execution_count": 37,
   "metadata": {},
   "outputs": [
    {
     "data": {
      "text/html": [
       "<div>\n",
       "<style scoped>\n",
       "    .dataframe tbody tr th:only-of-type {\n",
       "        vertical-align: middle;\n",
       "    }\n",
       "\n",
       "    .dataframe tbody tr th {\n",
       "        vertical-align: top;\n",
       "    }\n",
       "\n",
       "    .dataframe thead th {\n",
       "        text-align: right;\n",
       "    }\n",
       "</style>\n",
       "<table border=\"1\" class=\"dataframe\">\n",
       "  <thead>\n",
       "    <tr style=\"text-align: right;\">\n",
       "      <th></th>\n",
       "      <th>category</th>\n",
       "      <th>num_reviews</th>\n",
       "    </tr>\n",
       "  </thead>\n",
       "  <tbody>\n",
       "    <tr>\n",
       "      <th>0</th>\n",
       "      <td>Bannetons</td>\n",
       "      <td>14.000000</td>\n",
       "    </tr>\n",
       "    <tr>\n",
       "      <th>1</th>\n",
       "      <td>Beauté et soins</td>\n",
       "      <td>3.000000</td>\n",
       "    </tr>\n",
       "    <tr>\n",
       "      <th>2</th>\n",
       "      <td>Bien-être</td>\n",
       "      <td>NaN</td>\n",
       "    </tr>\n",
       "    <tr>\n",
       "      <th>3</th>\n",
       "      <td>Coupes menstruelles</td>\n",
       "      <td>3247.000000</td>\n",
       "    </tr>\n",
       "    <tr>\n",
       "      <th>4</th>\n",
       "      <td>Coussinets pour chaussures</td>\n",
       "      <td>NaN</td>\n",
       "    </tr>\n",
       "    <tr>\n",
       "      <th>5</th>\n",
       "      <td>Culottes</td>\n",
       "      <td>NaN</td>\n",
       "    </tr>\n",
       "    <tr>\n",
       "      <th>6</th>\n",
       "      <td>Culottes et slips</td>\n",
       "      <td>4786.666667</td>\n",
       "    </tr>\n",
       "    <tr>\n",
       "      <th>7</th>\n",
       "      <td>Culottes et sous-vêtements de protection</td>\n",
       "      <td>1524.666667</td>\n",
       "    </tr>\n",
       "    <tr>\n",
       "      <th>8</th>\n",
       "      <td>Diffuseurs d'huiles essentielles</td>\n",
       "      <td>185.000000</td>\n",
       "    </tr>\n",
       "    <tr>\n",
       "      <th>9</th>\n",
       "      <td>Déodorant</td>\n",
       "      <td>NaN</td>\n",
       "    </tr>\n",
       "    <tr>\n",
       "      <th>10</th>\n",
       "      <td>Femme</td>\n",
       "      <td>NaN</td>\n",
       "    </tr>\n",
       "    <tr>\n",
       "      <th>11</th>\n",
       "      <td>Hygiène et soins intimes</td>\n",
       "      <td>231.454545</td>\n",
       "    </tr>\n",
       "    <tr>\n",
       "      <th>12</th>\n",
       "      <td>Hygiène et épilation</td>\n",
       "      <td>1103.600000</td>\n",
       "    </tr>\n",
       "    <tr>\n",
       "      <th>13</th>\n",
       "      <td>Incontinence</td>\n",
       "      <td>333.000000</td>\n",
       "    </tr>\n",
       "    <tr>\n",
       "      <th>14</th>\n",
       "      <td>Lames</td>\n",
       "      <td>253.000000</td>\n",
       "    </tr>\n",
       "    <tr>\n",
       "      <th>15</th>\n",
       "      <td>Produits d'hygiène féminine</td>\n",
       "      <td>11.500000</td>\n",
       "    </tr>\n",
       "    <tr>\n",
       "      <th>16</th>\n",
       "      <td>Protections, serviettes hygiéniques, couches p...</td>\n",
       "      <td>1459.833333</td>\n",
       "    </tr>\n",
       "    <tr>\n",
       "      <th>17</th>\n",
       "      <td>Protège-slips</td>\n",
       "      <td>431.341346</td>\n",
       "    </tr>\n",
       "    <tr>\n",
       "      <th>18</th>\n",
       "      <td>Serviettes hygièniques</td>\n",
       "      <td>592.951087</td>\n",
       "    </tr>\n",
       "    <tr>\n",
       "      <th>19</th>\n",
       "      <td>Shorties</td>\n",
       "      <td>54.500000</td>\n",
       "    </tr>\n",
       "    <tr>\n",
       "      <th>20</th>\n",
       "      <td>Tampons</td>\n",
       "      <td>395.610879</td>\n",
       "    </tr>\n",
       "    <tr>\n",
       "      <th>21</th>\n",
       "      <td>Visage</td>\n",
       "      <td>1721.000000</td>\n",
       "    </tr>\n",
       "    <tr>\n",
       "      <th>22</th>\n",
       "      <td>Vitamines, minéraux et compléments</td>\n",
       "      <td>9316.000000</td>\n",
       "    </tr>\n",
       "    <tr>\n",
       "      <th>23</th>\n",
       "      <td>Vêtements de contention médicaux</td>\n",
       "      <td>321.000000</td>\n",
       "    </tr>\n",
       "    <tr>\n",
       "      <th>24</th>\n",
       "      <td>nan</td>\n",
       "      <td>482.333333</td>\n",
       "    </tr>\n",
       "    <tr>\n",
       "      <th>25</th>\n",
       "      <td>Épilation à la cire</td>\n",
       "      <td>NaN</td>\n",
       "    </tr>\n",
       "  </tbody>\n",
       "</table>\n",
       "</div>"
      ],
      "text/plain": [
       "                                             category  num_reviews\n",
       "0                                           Bannetons    14.000000\n",
       "1                                     Beauté et soins     3.000000\n",
       "2                                           Bien-être          NaN\n",
       "3                                 Coupes menstruelles  3247.000000\n",
       "4                          Coussinets pour chaussures          NaN\n",
       "5                                            Culottes          NaN\n",
       "6                                   Culottes et slips  4786.666667\n",
       "7            Culottes et sous-vêtements de protection  1524.666667\n",
       "8                    Diffuseurs d'huiles essentielles   185.000000\n",
       "9                                           Déodorant          NaN\n",
       "10                                              Femme          NaN\n",
       "11                           Hygiène et soins intimes   231.454545\n",
       "12                               Hygiène et épilation  1103.600000\n",
       "13                                       Incontinence   333.000000\n",
       "14                                              Lames   253.000000\n",
       "15                        Produits d'hygiène féminine    11.500000\n",
       "16  Protections, serviettes hygiéniques, couches p...  1459.833333\n",
       "17                                      Protège-slips   431.341346\n",
       "18                             Serviettes hygièniques   592.951087\n",
       "19                                           Shorties    54.500000\n",
       "20                                            Tampons   395.610879\n",
       "21                                             Visage  1721.000000\n",
       "22                 Vitamines, minéraux et compléments  9316.000000\n",
       "23                   Vêtements de contention médicaux   321.000000\n",
       "24                                                nan   482.333333\n",
       "25                                Épilation à la cire          NaN"
      ]
     },
     "execution_count": 37,
     "metadata": {},
     "output_type": "execute_result"
    }
   ],
   "source": [
    "avg_nreviews = products_df.groupby(\"category\")[\"num_reviews\"].mean().reset_index()\n",
    "avg_nreviews"
   ]
  },
  {
   "cell_type": "code",
   "execution_count": 38,
   "metadata": {},
   "outputs": [
    {
     "data": {
      "application/vnd.plotly.v1+json": {
       "config": {
        "plotlyServerURL": "https://plot.ly"
       },
       "data": [
        {
         "alignmentgroup": "True",
         "hovertemplate": "category=%{x}<br>Average Number of Reviews=%{text}<extra></extra>",
         "legendgroup": "Bannetons",
         "marker": {
          "color": "#FFC0CB",
          "pattern": {
           "shape": ""
          }
         },
         "name": "Bannetons",
         "offsetgroup": "Bannetons",
         "orientation": "v",
         "showlegend": true,
         "text": [
          14
         ],
         "textposition": "outside",
         "texttemplate": "%{text:.2s}",
         "type": "bar",
         "x": [
          "Bannetons"
         ],
         "xaxis": "x",
         "y": [
          14
         ],
         "yaxis": "y"
        },
        {
         "alignmentgroup": "True",
         "hovertemplate": "category=%{x}<br>Average Number of Reviews=%{text}<extra></extra>",
         "legendgroup": "Beauté et soins",
         "marker": {
          "color": "#FFB6C1",
          "pattern": {
           "shape": ""
          }
         },
         "name": "Beauté et soins",
         "offsetgroup": "Beauté et soins",
         "orientation": "v",
         "showlegend": true,
         "text": [
          3
         ],
         "textposition": "outside",
         "texttemplate": "%{text:.2s}",
         "type": "bar",
         "x": [
          "Beauté et soins"
         ],
         "xaxis": "x",
         "y": [
          3
         ],
         "yaxis": "y"
        },
        {
         "alignmentgroup": "True",
         "hovertemplate": "category=%{x}<br>Average Number of Reviews=%{text}<extra></extra>",
         "legendgroup": "Bien-être",
         "marker": {
          "color": "#FF69B4",
          "pattern": {
           "shape": ""
          }
         },
         "name": "Bien-être",
         "offsetgroup": "Bien-être",
         "orientation": "v",
         "showlegend": true,
         "text": [
          null
         ],
         "textposition": "outside",
         "texttemplate": "%{text:.2s}",
         "type": "bar",
         "x": [
          "Bien-être"
         ],
         "xaxis": "x",
         "y": [
          null
         ],
         "yaxis": "y"
        },
        {
         "alignmentgroup": "True",
         "hovertemplate": "category=%{x}<br>Average Number of Reviews=%{text}<extra></extra>",
         "legendgroup": "Coupes menstruelles",
         "marker": {
          "color": "#FF1493",
          "pattern": {
           "shape": ""
          }
         },
         "name": "Coupes menstruelles",
         "offsetgroup": "Coupes menstruelles",
         "orientation": "v",
         "showlegend": true,
         "text": [
          3247
         ],
         "textposition": "outside",
         "texttemplate": "%{text:.2s}",
         "type": "bar",
         "x": [
          "Coupes menstruelles"
         ],
         "xaxis": "x",
         "y": [
          3247
         ],
         "yaxis": "y"
        },
        {
         "alignmentgroup": "True",
         "hovertemplate": "category=%{x}<br>Average Number of Reviews=%{text}<extra></extra>",
         "legendgroup": "Coussinets pour chaussures",
         "marker": {
          "color": "#DB7093",
          "pattern": {
           "shape": ""
          }
         },
         "name": "Coussinets pour chaussures",
         "offsetgroup": "Coussinets pour chaussures",
         "orientation": "v",
         "showlegend": true,
         "text": [
          null
         ],
         "textposition": "outside",
         "texttemplate": "%{text:.2s}",
         "type": "bar",
         "x": [
          "Coussinets pour chaussures"
         ],
         "xaxis": "x",
         "y": [
          null
         ],
         "yaxis": "y"
        },
        {
         "alignmentgroup": "True",
         "hovertemplate": "category=%{x}<br>Average Number of Reviews=%{text}<extra></extra>",
         "legendgroup": "Culottes",
         "marker": {
          "color": "#C71585",
          "pattern": {
           "shape": ""
          }
         },
         "name": "Culottes",
         "offsetgroup": "Culottes",
         "orientation": "v",
         "showlegend": true,
         "text": [
          null
         ],
         "textposition": "outside",
         "texttemplate": "%{text:.2s}",
         "type": "bar",
         "x": [
          "Culottes"
         ],
         "xaxis": "x",
         "y": [
          null
         ],
         "yaxis": "y"
        },
        {
         "alignmentgroup": "True",
         "hovertemplate": "category=%{x}<br>Average Number of Reviews=%{text}<extra></extra>",
         "legendgroup": "Culottes et slips",
         "marker": {
          "color": "#FFAEB9",
          "pattern": {
           "shape": ""
          }
         },
         "name": "Culottes et slips",
         "offsetgroup": "Culottes et slips",
         "orientation": "v",
         "showlegend": true,
         "text": [
          4786.666666666667
         ],
         "textposition": "outside",
         "texttemplate": "%{text:.2s}",
         "type": "bar",
         "x": [
          "Culottes et slips"
         ],
         "xaxis": "x",
         "y": [
          4786.666666666667
         ],
         "yaxis": "y"
        },
        {
         "alignmentgroup": "True",
         "hovertemplate": "category=%{x}<br>Average Number of Reviews=%{text}<extra></extra>",
         "legendgroup": "Culottes et sous-vêtements de protection",
         "marker": {
          "color": "#FF82AB",
          "pattern": {
           "shape": ""
          }
         },
         "name": "Culottes et sous-vêtements de protection",
         "offsetgroup": "Culottes et sous-vêtements de protection",
         "orientation": "v",
         "showlegend": true,
         "text": [
          1524.6666666666667
         ],
         "textposition": "outside",
         "texttemplate": "%{text:.2s}",
         "type": "bar",
         "x": [
          "Culottes et sous-vêtements de protection"
         ],
         "xaxis": "x",
         "y": [
          1524.6666666666667
         ],
         "yaxis": "y"
        },
        {
         "alignmentgroup": "True",
         "hovertemplate": "category=%{x}<br>Average Number of Reviews=%{text}<extra></extra>",
         "legendgroup": "Diffuseurs d'huiles essentielles",
         "marker": {
          "color": "#FF34B3",
          "pattern": {
           "shape": ""
          }
         },
         "name": "Diffuseurs d'huiles essentielles",
         "offsetgroup": "Diffuseurs d'huiles essentielles",
         "orientation": "v",
         "showlegend": true,
         "text": [
          185
         ],
         "textposition": "outside",
         "texttemplate": "%{text:.2s}",
         "type": "bar",
         "x": [
          "Diffuseurs d'huiles essentielles"
         ],
         "xaxis": "x",
         "y": [
          185
         ],
         "yaxis": "y"
        },
        {
         "alignmentgroup": "True",
         "hovertemplate": "category=%{x}<br>Average Number of Reviews=%{text}<extra></extra>",
         "legendgroup": "Déodorant",
         "marker": {
          "color": "#FF3E96",
          "pattern": {
           "shape": ""
          }
         },
         "name": "Déodorant",
         "offsetgroup": "Déodorant",
         "orientation": "v",
         "showlegend": true,
         "text": [
          null
         ],
         "textposition": "outside",
         "texttemplate": "%{text:.2s}",
         "type": "bar",
         "x": [
          "Déodorant"
         ],
         "xaxis": "x",
         "y": [
          null
         ],
         "yaxis": "y"
        },
        {
         "alignmentgroup": "True",
         "hovertemplate": "category=%{x}<br>Average Number of Reviews=%{text}<extra></extra>",
         "legendgroup": "Femme",
         "marker": {
          "color": "#FFC0CB",
          "pattern": {
           "shape": ""
          }
         },
         "name": "Femme",
         "offsetgroup": "Femme",
         "orientation": "v",
         "showlegend": true,
         "text": [
          null
         ],
         "textposition": "outside",
         "texttemplate": "%{text:.2s}",
         "type": "bar",
         "x": [
          "Femme"
         ],
         "xaxis": "x",
         "y": [
          null
         ],
         "yaxis": "y"
        },
        {
         "alignmentgroup": "True",
         "hovertemplate": "category=%{x}<br>Average Number of Reviews=%{text}<extra></extra>",
         "legendgroup": "Hygiène et soins intimes",
         "marker": {
          "color": "#FFB6C1",
          "pattern": {
           "shape": ""
          }
         },
         "name": "Hygiène et soins intimes",
         "offsetgroup": "Hygiène et soins intimes",
         "orientation": "v",
         "showlegend": true,
         "text": [
          231.45454545454547
         ],
         "textposition": "outside",
         "texttemplate": "%{text:.2s}",
         "type": "bar",
         "x": [
          "Hygiène et soins intimes"
         ],
         "xaxis": "x",
         "y": [
          231.45454545454547
         ],
         "yaxis": "y"
        },
        {
         "alignmentgroup": "True",
         "hovertemplate": "category=%{x}<br>Average Number of Reviews=%{text}<extra></extra>",
         "legendgroup": "Hygiène et épilation",
         "marker": {
          "color": "#FF69B4",
          "pattern": {
           "shape": ""
          }
         },
         "name": "Hygiène et épilation",
         "offsetgroup": "Hygiène et épilation",
         "orientation": "v",
         "showlegend": true,
         "text": [
          1103.6
         ],
         "textposition": "outside",
         "texttemplate": "%{text:.2s}",
         "type": "bar",
         "x": [
          "Hygiène et épilation"
         ],
         "xaxis": "x",
         "y": [
          1103.6
         ],
         "yaxis": "y"
        },
        {
         "alignmentgroup": "True",
         "hovertemplate": "category=%{x}<br>Average Number of Reviews=%{text}<extra></extra>",
         "legendgroup": "Incontinence",
         "marker": {
          "color": "#FF1493",
          "pattern": {
           "shape": ""
          }
         },
         "name": "Incontinence",
         "offsetgroup": "Incontinence",
         "orientation": "v",
         "showlegend": true,
         "text": [
          333
         ],
         "textposition": "outside",
         "texttemplate": "%{text:.2s}",
         "type": "bar",
         "x": [
          "Incontinence"
         ],
         "xaxis": "x",
         "y": [
          333
         ],
         "yaxis": "y"
        },
        {
         "alignmentgroup": "True",
         "hovertemplate": "category=%{x}<br>Average Number of Reviews=%{text}<extra></extra>",
         "legendgroup": "Lames",
         "marker": {
          "color": "#DB7093",
          "pattern": {
           "shape": ""
          }
         },
         "name": "Lames",
         "offsetgroup": "Lames",
         "orientation": "v",
         "showlegend": true,
         "text": [
          253
         ],
         "textposition": "outside",
         "texttemplate": "%{text:.2s}",
         "type": "bar",
         "x": [
          "Lames"
         ],
         "xaxis": "x",
         "y": [
          253
         ],
         "yaxis": "y"
        },
        {
         "alignmentgroup": "True",
         "hovertemplate": "category=%{x}<br>Average Number of Reviews=%{text}<extra></extra>",
         "legendgroup": "Produits d'hygiène féminine",
         "marker": {
          "color": "#C71585",
          "pattern": {
           "shape": ""
          }
         },
         "name": "Produits d'hygiène féminine",
         "offsetgroup": "Produits d'hygiène féminine",
         "orientation": "v",
         "showlegend": true,
         "text": [
          11.5
         ],
         "textposition": "outside",
         "texttemplate": "%{text:.2s}",
         "type": "bar",
         "x": [
          "Produits d'hygiène féminine"
         ],
         "xaxis": "x",
         "y": [
          11.5
         ],
         "yaxis": "y"
        },
        {
         "alignmentgroup": "True",
         "hovertemplate": "category=%{x}<br>Average Number of Reviews=%{text}<extra></extra>",
         "legendgroup": "Protections, serviettes hygiéniques, couches pour adultes, protège-slips",
         "marker": {
          "color": "#FFAEB9",
          "pattern": {
           "shape": ""
          }
         },
         "name": "Protections, serviettes hygiéniques, couches pour adultes, protège-slips",
         "offsetgroup": "Protections, serviettes hygiéniques, couches pour adultes, protège-slips",
         "orientation": "v",
         "showlegend": true,
         "text": [
          1459.8333333333333
         ],
         "textposition": "outside",
         "texttemplate": "%{text:.2s}",
         "type": "bar",
         "x": [
          "Protections, serviettes hygiéniques, couches pour adultes, protège-slips"
         ],
         "xaxis": "x",
         "y": [
          1459.8333333333333
         ],
         "yaxis": "y"
        },
        {
         "alignmentgroup": "True",
         "hovertemplate": "category=%{x}<br>Average Number of Reviews=%{text}<extra></extra>",
         "legendgroup": "Protège-slips",
         "marker": {
          "color": "#FF82AB",
          "pattern": {
           "shape": ""
          }
         },
         "name": "Protège-slips",
         "offsetgroup": "Protège-slips",
         "orientation": "v",
         "showlegend": true,
         "text": [
          431.34134615384613
         ],
         "textposition": "outside",
         "texttemplate": "%{text:.2s}",
         "type": "bar",
         "x": [
          "Protège-slips"
         ],
         "xaxis": "x",
         "y": [
          431.34134615384613
         ],
         "yaxis": "y"
        },
        {
         "alignmentgroup": "True",
         "hovertemplate": "category=%{x}<br>Average Number of Reviews=%{text}<extra></extra>",
         "legendgroup": "Serviettes hygièniques",
         "marker": {
          "color": "#FF34B3",
          "pattern": {
           "shape": ""
          }
         },
         "name": "Serviettes hygièniques",
         "offsetgroup": "Serviettes hygièniques",
         "orientation": "v",
         "showlegend": true,
         "text": [
          592.9510869565217
         ],
         "textposition": "outside",
         "texttemplate": "%{text:.2s}",
         "type": "bar",
         "x": [
          "Serviettes hygièniques"
         ],
         "xaxis": "x",
         "y": [
          592.9510869565217
         ],
         "yaxis": "y"
        },
        {
         "alignmentgroup": "True",
         "hovertemplate": "category=%{x}<br>Average Number of Reviews=%{text}<extra></extra>",
         "legendgroup": "Shorties",
         "marker": {
          "color": "#FF3E96",
          "pattern": {
           "shape": ""
          }
         },
         "name": "Shorties",
         "offsetgroup": "Shorties",
         "orientation": "v",
         "showlegend": true,
         "text": [
          54.5
         ],
         "textposition": "outside",
         "texttemplate": "%{text:.2s}",
         "type": "bar",
         "x": [
          "Shorties"
         ],
         "xaxis": "x",
         "y": [
          54.5
         ],
         "yaxis": "y"
        },
        {
         "alignmentgroup": "True",
         "hovertemplate": "category=%{x}<br>Average Number of Reviews=%{text}<extra></extra>",
         "legendgroup": "Tampons",
         "marker": {
          "color": "#FFC0CB",
          "pattern": {
           "shape": ""
          }
         },
         "name": "Tampons",
         "offsetgroup": "Tampons",
         "orientation": "v",
         "showlegend": true,
         "text": [
          395.61087866108784
         ],
         "textposition": "outside",
         "texttemplate": "%{text:.2s}",
         "type": "bar",
         "x": [
          "Tampons"
         ],
         "xaxis": "x",
         "y": [
          395.61087866108784
         ],
         "yaxis": "y"
        },
        {
         "alignmentgroup": "True",
         "hovertemplate": "category=%{x}<br>Average Number of Reviews=%{text}<extra></extra>",
         "legendgroup": "Visage",
         "marker": {
          "color": "#FFB6C1",
          "pattern": {
           "shape": ""
          }
         },
         "name": "Visage",
         "offsetgroup": "Visage",
         "orientation": "v",
         "showlegend": true,
         "text": [
          1721
         ],
         "textposition": "outside",
         "texttemplate": "%{text:.2s}",
         "type": "bar",
         "x": [
          "Visage"
         ],
         "xaxis": "x",
         "y": [
          1721
         ],
         "yaxis": "y"
        },
        {
         "alignmentgroup": "True",
         "hovertemplate": "category=%{x}<br>Average Number of Reviews=%{text}<extra></extra>",
         "legendgroup": "Vitamines, minéraux et compléments",
         "marker": {
          "color": "#FF69B4",
          "pattern": {
           "shape": ""
          }
         },
         "name": "Vitamines, minéraux et compléments",
         "offsetgroup": "Vitamines, minéraux et compléments",
         "orientation": "v",
         "showlegend": true,
         "text": [
          9316
         ],
         "textposition": "outside",
         "texttemplate": "%{text:.2s}",
         "type": "bar",
         "x": [
          "Vitamines, minéraux et compléments"
         ],
         "xaxis": "x",
         "y": [
          9316
         ],
         "yaxis": "y"
        },
        {
         "alignmentgroup": "True",
         "hovertemplate": "category=%{x}<br>Average Number of Reviews=%{text}<extra></extra>",
         "legendgroup": "Vêtements de contention médicaux",
         "marker": {
          "color": "#FF1493",
          "pattern": {
           "shape": ""
          }
         },
         "name": "Vêtements de contention médicaux",
         "offsetgroup": "Vêtements de contention médicaux",
         "orientation": "v",
         "showlegend": true,
         "text": [
          321
         ],
         "textposition": "outside",
         "texttemplate": "%{text:.2s}",
         "type": "bar",
         "x": [
          "Vêtements de contention médicaux"
         ],
         "xaxis": "x",
         "y": [
          321
         ],
         "yaxis": "y"
        },
        {
         "alignmentgroup": "True",
         "hovertemplate": "category=%{x}<br>Average Number of Reviews=%{text}<extra></extra>",
         "legendgroup": "nan",
         "marker": {
          "color": "#DB7093",
          "pattern": {
           "shape": ""
          }
         },
         "name": "nan",
         "offsetgroup": "nan",
         "orientation": "v",
         "showlegend": true,
         "text": [
          482.3333333333333
         ],
         "textposition": "outside",
         "texttemplate": "%{text:.2s}",
         "type": "bar",
         "x": [
          "nan"
         ],
         "xaxis": "x",
         "y": [
          482.3333333333333
         ],
         "yaxis": "y"
        },
        {
         "alignmentgroup": "True",
         "hovertemplate": "category=%{x}<br>Average Number of Reviews=%{text}<extra></extra>",
         "legendgroup": "Épilation à la cire",
         "marker": {
          "color": "#C71585",
          "pattern": {
           "shape": ""
          }
         },
         "name": "Épilation à la cire",
         "offsetgroup": "Épilation à la cire",
         "orientation": "v",
         "showlegend": true,
         "text": [
          null
         ],
         "textposition": "outside",
         "texttemplate": "%{text:.2s}",
         "type": "bar",
         "x": [
          "Épilation à la cire"
         ],
         "xaxis": "x",
         "y": [
          null
         ],
         "yaxis": "y"
        }
       ],
       "layout": {
        "barmode": "relative",
        "height": 600,
        "legend": {
         "title": {
          "text": "category"
         },
         "tracegroupgap": 0
        },
        "margin": {
         "b": 20,
         "l": 20,
         "r": 20,
         "t": 30
        },
        "template": {
         "data": {
          "bar": [
           {
            "error_x": {
             "color": "#2a3f5f"
            },
            "error_y": {
             "color": "#2a3f5f"
            },
            "marker": {
             "line": {
              "color": "#E5ECF6",
              "width": 0.5
             },
             "pattern": {
              "fillmode": "overlay",
              "size": 10,
              "solidity": 0.2
             }
            },
            "type": "bar"
           }
          ],
          "barpolar": [
           {
            "marker": {
             "line": {
              "color": "#E5ECF6",
              "width": 0.5
             },
             "pattern": {
              "fillmode": "overlay",
              "size": 10,
              "solidity": 0.2
             }
            },
            "type": "barpolar"
           }
          ],
          "carpet": [
           {
            "aaxis": {
             "endlinecolor": "#2a3f5f",
             "gridcolor": "white",
             "linecolor": "white",
             "minorgridcolor": "white",
             "startlinecolor": "#2a3f5f"
            },
            "baxis": {
             "endlinecolor": "#2a3f5f",
             "gridcolor": "white",
             "linecolor": "white",
             "minorgridcolor": "white",
             "startlinecolor": "#2a3f5f"
            },
            "type": "carpet"
           }
          ],
          "choropleth": [
           {
            "colorbar": {
             "outlinewidth": 0,
             "ticks": ""
            },
            "type": "choropleth"
           }
          ],
          "contour": [
           {
            "colorbar": {
             "outlinewidth": 0,
             "ticks": ""
            },
            "colorscale": [
             [
              0,
              "#0d0887"
             ],
             [
              0.1111111111111111,
              "#46039f"
             ],
             [
              0.2222222222222222,
              "#7201a8"
             ],
             [
              0.3333333333333333,
              "#9c179e"
             ],
             [
              0.4444444444444444,
              "#bd3786"
             ],
             [
              0.5555555555555556,
              "#d8576b"
             ],
             [
              0.6666666666666666,
              "#ed7953"
             ],
             [
              0.7777777777777778,
              "#fb9f3a"
             ],
             [
              0.8888888888888888,
              "#fdca26"
             ],
             [
              1,
              "#f0f921"
             ]
            ],
            "type": "contour"
           }
          ],
          "contourcarpet": [
           {
            "colorbar": {
             "outlinewidth": 0,
             "ticks": ""
            },
            "type": "contourcarpet"
           }
          ],
          "heatmap": [
           {
            "colorbar": {
             "outlinewidth": 0,
             "ticks": ""
            },
            "colorscale": [
             [
              0,
              "#0d0887"
             ],
             [
              0.1111111111111111,
              "#46039f"
             ],
             [
              0.2222222222222222,
              "#7201a8"
             ],
             [
              0.3333333333333333,
              "#9c179e"
             ],
             [
              0.4444444444444444,
              "#bd3786"
             ],
             [
              0.5555555555555556,
              "#d8576b"
             ],
             [
              0.6666666666666666,
              "#ed7953"
             ],
             [
              0.7777777777777778,
              "#fb9f3a"
             ],
             [
              0.8888888888888888,
              "#fdca26"
             ],
             [
              1,
              "#f0f921"
             ]
            ],
            "type": "heatmap"
           }
          ],
          "heatmapgl": [
           {
            "colorbar": {
             "outlinewidth": 0,
             "ticks": ""
            },
            "colorscale": [
             [
              0,
              "#0d0887"
             ],
             [
              0.1111111111111111,
              "#46039f"
             ],
             [
              0.2222222222222222,
              "#7201a8"
             ],
             [
              0.3333333333333333,
              "#9c179e"
             ],
             [
              0.4444444444444444,
              "#bd3786"
             ],
             [
              0.5555555555555556,
              "#d8576b"
             ],
             [
              0.6666666666666666,
              "#ed7953"
             ],
             [
              0.7777777777777778,
              "#fb9f3a"
             ],
             [
              0.8888888888888888,
              "#fdca26"
             ],
             [
              1,
              "#f0f921"
             ]
            ],
            "type": "heatmapgl"
           }
          ],
          "histogram": [
           {
            "marker": {
             "pattern": {
              "fillmode": "overlay",
              "size": 10,
              "solidity": 0.2
             }
            },
            "type": "histogram"
           }
          ],
          "histogram2d": [
           {
            "colorbar": {
             "outlinewidth": 0,
             "ticks": ""
            },
            "colorscale": [
             [
              0,
              "#0d0887"
             ],
             [
              0.1111111111111111,
              "#46039f"
             ],
             [
              0.2222222222222222,
              "#7201a8"
             ],
             [
              0.3333333333333333,
              "#9c179e"
             ],
             [
              0.4444444444444444,
              "#bd3786"
             ],
             [
              0.5555555555555556,
              "#d8576b"
             ],
             [
              0.6666666666666666,
              "#ed7953"
             ],
             [
              0.7777777777777778,
              "#fb9f3a"
             ],
             [
              0.8888888888888888,
              "#fdca26"
             ],
             [
              1,
              "#f0f921"
             ]
            ],
            "type": "histogram2d"
           }
          ],
          "histogram2dcontour": [
           {
            "colorbar": {
             "outlinewidth": 0,
             "ticks": ""
            },
            "colorscale": [
             [
              0,
              "#0d0887"
             ],
             [
              0.1111111111111111,
              "#46039f"
             ],
             [
              0.2222222222222222,
              "#7201a8"
             ],
             [
              0.3333333333333333,
              "#9c179e"
             ],
             [
              0.4444444444444444,
              "#bd3786"
             ],
             [
              0.5555555555555556,
              "#d8576b"
             ],
             [
              0.6666666666666666,
              "#ed7953"
             ],
             [
              0.7777777777777778,
              "#fb9f3a"
             ],
             [
              0.8888888888888888,
              "#fdca26"
             ],
             [
              1,
              "#f0f921"
             ]
            ],
            "type": "histogram2dcontour"
           }
          ],
          "mesh3d": [
           {
            "colorbar": {
             "outlinewidth": 0,
             "ticks": ""
            },
            "type": "mesh3d"
           }
          ],
          "parcoords": [
           {
            "line": {
             "colorbar": {
              "outlinewidth": 0,
              "ticks": ""
             }
            },
            "type": "parcoords"
           }
          ],
          "pie": [
           {
            "automargin": true,
            "type": "pie"
           }
          ],
          "scatter": [
           {
            "fillpattern": {
             "fillmode": "overlay",
             "size": 10,
             "solidity": 0.2
            },
            "type": "scatter"
           }
          ],
          "scatter3d": [
           {
            "line": {
             "colorbar": {
              "outlinewidth": 0,
              "ticks": ""
             }
            },
            "marker": {
             "colorbar": {
              "outlinewidth": 0,
              "ticks": ""
             }
            },
            "type": "scatter3d"
           }
          ],
          "scattercarpet": [
           {
            "marker": {
             "colorbar": {
              "outlinewidth": 0,
              "ticks": ""
             }
            },
            "type": "scattercarpet"
           }
          ],
          "scattergeo": [
           {
            "marker": {
             "colorbar": {
              "outlinewidth": 0,
              "ticks": ""
             }
            },
            "type": "scattergeo"
           }
          ],
          "scattergl": [
           {
            "marker": {
             "colorbar": {
              "outlinewidth": 0,
              "ticks": ""
             }
            },
            "type": "scattergl"
           }
          ],
          "scattermapbox": [
           {
            "marker": {
             "colorbar": {
              "outlinewidth": 0,
              "ticks": ""
             }
            },
            "type": "scattermapbox"
           }
          ],
          "scatterpolar": [
           {
            "marker": {
             "colorbar": {
              "outlinewidth": 0,
              "ticks": ""
             }
            },
            "type": "scatterpolar"
           }
          ],
          "scatterpolargl": [
           {
            "marker": {
             "colorbar": {
              "outlinewidth": 0,
              "ticks": ""
             }
            },
            "type": "scatterpolargl"
           }
          ],
          "scatterternary": [
           {
            "marker": {
             "colorbar": {
              "outlinewidth": 0,
              "ticks": ""
             }
            },
            "type": "scatterternary"
           }
          ],
          "surface": [
           {
            "colorbar": {
             "outlinewidth": 0,
             "ticks": ""
            },
            "colorscale": [
             [
              0,
              "#0d0887"
             ],
             [
              0.1111111111111111,
              "#46039f"
             ],
             [
              0.2222222222222222,
              "#7201a8"
             ],
             [
              0.3333333333333333,
              "#9c179e"
             ],
             [
              0.4444444444444444,
              "#bd3786"
             ],
             [
              0.5555555555555556,
              "#d8576b"
             ],
             [
              0.6666666666666666,
              "#ed7953"
             ],
             [
              0.7777777777777778,
              "#fb9f3a"
             ],
             [
              0.8888888888888888,
              "#fdca26"
             ],
             [
              1,
              "#f0f921"
             ]
            ],
            "type": "surface"
           }
          ],
          "table": [
           {
            "cells": {
             "fill": {
              "color": "#EBF0F8"
             },
             "line": {
              "color": "white"
             }
            },
            "header": {
             "fill": {
              "color": "#C8D4E3"
             },
             "line": {
              "color": "white"
             }
            },
            "type": "table"
           }
          ]
         },
         "layout": {
          "annotationdefaults": {
           "arrowcolor": "#2a3f5f",
           "arrowhead": 0,
           "arrowwidth": 1
          },
          "autotypenumbers": "strict",
          "coloraxis": {
           "colorbar": {
            "outlinewidth": 0,
            "ticks": ""
           }
          },
          "colorscale": {
           "diverging": [
            [
             0,
             "#8e0152"
            ],
            [
             0.1,
             "#c51b7d"
            ],
            [
             0.2,
             "#de77ae"
            ],
            [
             0.3,
             "#f1b6da"
            ],
            [
             0.4,
             "#fde0ef"
            ],
            [
             0.5,
             "#f7f7f7"
            ],
            [
             0.6,
             "#e6f5d0"
            ],
            [
             0.7,
             "#b8e186"
            ],
            [
             0.8,
             "#7fbc41"
            ],
            [
             0.9,
             "#4d9221"
            ],
            [
             1,
             "#276419"
            ]
           ],
           "sequential": [
            [
             0,
             "#0d0887"
            ],
            [
             0.1111111111111111,
             "#46039f"
            ],
            [
             0.2222222222222222,
             "#7201a8"
            ],
            [
             0.3333333333333333,
             "#9c179e"
            ],
            [
             0.4444444444444444,
             "#bd3786"
            ],
            [
             0.5555555555555556,
             "#d8576b"
            ],
            [
             0.6666666666666666,
             "#ed7953"
            ],
            [
             0.7777777777777778,
             "#fb9f3a"
            ],
            [
             0.8888888888888888,
             "#fdca26"
            ],
            [
             1,
             "#f0f921"
            ]
           ],
           "sequentialminus": [
            [
             0,
             "#0d0887"
            ],
            [
             0.1111111111111111,
             "#46039f"
            ],
            [
             0.2222222222222222,
             "#7201a8"
            ],
            [
             0.3333333333333333,
             "#9c179e"
            ],
            [
             0.4444444444444444,
             "#bd3786"
            ],
            [
             0.5555555555555556,
             "#d8576b"
            ],
            [
             0.6666666666666666,
             "#ed7953"
            ],
            [
             0.7777777777777778,
             "#fb9f3a"
            ],
            [
             0.8888888888888888,
             "#fdca26"
            ],
            [
             1,
             "#f0f921"
            ]
           ]
          },
          "colorway": [
           "#636efa",
           "#EF553B",
           "#00cc96",
           "#ab63fa",
           "#FFA15A",
           "#19d3f3",
           "#FF6692",
           "#B6E880",
           "#FF97FF",
           "#FECB52"
          ],
          "font": {
           "color": "#2a3f5f"
          },
          "geo": {
           "bgcolor": "white",
           "lakecolor": "white",
           "landcolor": "#E5ECF6",
           "showlakes": true,
           "showland": true,
           "subunitcolor": "white"
          },
          "hoverlabel": {
           "align": "left"
          },
          "hovermode": "closest",
          "mapbox": {
           "style": "light"
          },
          "paper_bgcolor": "white",
          "plot_bgcolor": "#E5ECF6",
          "polar": {
           "angularaxis": {
            "gridcolor": "white",
            "linecolor": "white",
            "ticks": ""
           },
           "bgcolor": "#E5ECF6",
           "radialaxis": {
            "gridcolor": "white",
            "linecolor": "white",
            "ticks": ""
           }
          },
          "scene": {
           "xaxis": {
            "backgroundcolor": "#E5ECF6",
            "gridcolor": "white",
            "gridwidth": 2,
            "linecolor": "white",
            "showbackground": true,
            "ticks": "",
            "zerolinecolor": "white"
           },
           "yaxis": {
            "backgroundcolor": "#E5ECF6",
            "gridcolor": "white",
            "gridwidth": 2,
            "linecolor": "white",
            "showbackground": true,
            "ticks": "",
            "zerolinecolor": "white"
           },
           "zaxis": {
            "backgroundcolor": "#E5ECF6",
            "gridcolor": "white",
            "gridwidth": 2,
            "linecolor": "white",
            "showbackground": true,
            "ticks": "",
            "zerolinecolor": "white"
           }
          },
          "shapedefaults": {
           "line": {
            "color": "#2a3f5f"
           }
          },
          "ternary": {
           "aaxis": {
            "gridcolor": "white",
            "linecolor": "white",
            "ticks": ""
           },
           "baxis": {
            "gridcolor": "white",
            "linecolor": "white",
            "ticks": ""
           },
           "bgcolor": "#E5ECF6",
           "caxis": {
            "gridcolor": "white",
            "linecolor": "white",
            "ticks": ""
           }
          },
          "title": {
           "x": 0.05
          },
          "xaxis": {
           "automargin": true,
           "gridcolor": "white",
           "linecolor": "white",
           "ticks": "",
           "title": {
            "standoff": 15
           },
           "zerolinecolor": "white",
           "zerolinewidth": 2
          },
          "yaxis": {
           "automargin": true,
           "gridcolor": "white",
           "linecolor": "white",
           "ticks": "",
           "title": {
            "standoff": 15
           },
           "zerolinecolor": "white",
           "zerolinewidth": 2
          }
         }
        },
        "title": {
         "text": "Average number of reviews per category"
        },
        "width": 800,
        "xaxis": {
         "anchor": "y",
         "categoryarray": [
          "Bannetons",
          "Beauté et soins",
          "Bien-être",
          "Coupes menstruelles",
          "Coussinets pour chaussures",
          "Culottes",
          "Culottes et slips",
          "Culottes et sous-vêtements de protection",
          "Diffuseurs d'huiles essentielles",
          "Déodorant",
          "Femme",
          "Hygiène et soins intimes",
          "Hygiène et épilation",
          "Incontinence",
          "Lames",
          "Produits d'hygiène féminine",
          "Protections, serviettes hygiéniques, couches pour adultes, protège-slips",
          "Protège-slips",
          "Serviettes hygièniques",
          "Shorties",
          "Tampons",
          "Visage",
          "Vitamines, minéraux et compléments",
          "Vêtements de contention médicaux",
          "nan",
          "Épilation à la cire"
         ],
         "categoryorder": "array",
         "domain": [
          0,
          1
         ],
         "title": {
          "text": "category"
         }
        },
        "yaxis": {
         "anchor": "x",
         "domain": [
          0,
          1
         ],
         "title": {
          "text": "Average Number of Reviews"
         }
        }
       }
      }
     },
     "metadata": {},
     "output_type": "display_data"
    }
   ],
   "source": [
    "fig8 = px.bar(avg_nreviews,\n",
    "              x=\"category\",\n",
    "              y=\"num_reviews\",\n",
    "              orientation='v',\n",
    "              labels={\"num_reviews\":\"Average Number of Reviews\"},\n",
    "              title=\"Average number of reviews per category\",\n",
    "              color= \"category\",\n",
    "              color_discrete_sequence=shades_of_pink,\n",
    "              text='num_reviews')  \n",
    "\n",
    "# Customize text by updating traces\n",
    "fig8.update_traces(texttemplate='%{text:.2s}',  # This template shows the text. '.2s' formats numbers with 2 significant digits\n",
    "                   textposition='outside')\n",
    "\n",
    "# Adjust bar width (value between 0 and 1; lower values make bars thinner)\n",
    "fig8.update_layout(margin=dict(l=20, r=20, t=30, b=20))  # Adjust left, right, top, bottom margins\n",
    "fig8.update_layout(width=800, height=600)  # Adjust the figure size\n",
    "\n",
    "fig8.show()\n"
   ]
  },
  {
   "cell_type": "markdown",
   "metadata": {},
   "source": [
    "- **High Engagement with Menstrual Cups:** The `\"Culottes menstruelles\"` category significantly outpaces others in average review count, suggesting a high level of user interaction and possibly a strong community of users who share their experiences. This could indicate high satisfaction or interest in menstrual cups as a sustainable alternative to traditional menstrual products.\n",
    "\n",
    "- **Protective Underwear and Broad Protection Category:** `Menstrual Cups` and the broader category of protection products, including sanitary `pads` and incontinence products, also show relatively high engagement. This could reflect the growing market demand for comfortable and reliable protection, especially in categories that offer innovative solutions or cater to specific needs.\n",
    "\n",
    "- **Lower Engagement with Sanitary Pads and Tampons:** The comparatively lower average review counts for `Protège-slip` and `Tampons` might suggest a mature market with established products, where customers feel less compelled to leave reviews. Alternatively, this could indicate a wider acceptance and usage of these products, making individual reviews less common as the products are considered standard and users feel less need to share experiences.\n",
    "\n",
    "Overall Implications:\n",
    "- **Product Innovation and Sustainability:** The high engagement in the `menstrual cups`, and `protective underwear` category might reflect a consumer trend towards sustainable and reusable menstrual products. It could also point to a community that actively discusses and promotes these alternatives.\n",
    "\n",
    "- **Market Maturity and Consumer Habits:** The lower engagement in traditional categories like sanitary pads and tampons may highlight market saturation or stable consumer habits, where the incentive to review is lower unless the product stands out significantly in terms of innovation or quality.\n",
    "\n",
    "- **Opportunities for Growth:** The varied levels of engagement across categories indicate opportunities for brands to innovate and engage customers, particularly in categories with lower average review counts. Highlighting benefits, engaging in community building, and encouraging reviews could be effective strategies."
   ]
  },
  {
   "cell_type": "markdown",
   "metadata": {},
   "source": [
    "##### **C. Price Analysis**"
   ]
  },
  {
   "cell_type": "code",
   "execution_count": 39,
   "metadata": {},
   "outputs": [],
   "source": [
    "price_v_cat = products.groupby(\"category\")[\"price\"].mean().reset_index()"
   ]
  },
  {
   "cell_type": "code",
   "execution_count": 40,
   "metadata": {},
   "outputs": [
    {
     "data": {
      "application/vnd.plotly.v1+json": {
       "config": {
        "plotlyServerURL": "https://plot.ly"
       },
       "data": [
        {
         "alignmentgroup": "True",
         "bingroup": "x",
         "hovertemplate": "category=Tampons<br>price=%{x}<br>count=%{y}<extra></extra>",
         "legendgroup": "Tampons",
         "marker": {
          "color": "#636efa",
          "pattern": {
           "shape": ""
          }
         },
         "name": "Tampons",
         "offsetgroup": "Tampons",
         "orientation": "v",
         "showlegend": true,
         "type": "histogram",
         "x": [
          2.66,
          3.79,
          3.1,
          2.81,
          4.5,
          3.75,
          4.5,
          3.8,
          4.53,
          6.9,
          11.96,
          14.95,
          7.29,
          4.99,
          4.99,
          5.19,
          5.5,
          9.4,
          25.16,
          7.9,
          9.96,
          null,
          14.94,
          null,
          14.99,
          6.32,
          5.99,
          4.99,
          4.72,
          9.74,
          11.57,
          34.99,
          27.58,
          10.09,
          13.9,
          6.9,
          12.19,
          14.09,
          9.95,
          null,
          8.92,
          49.95,
          5.99,
          10.2,
          7.99,
          11.99,
          8.99,
          7.99,
          25.9,
          null,
          19.96,
          54.99,
          19.98,
          51.87,
          12.36,
          13.99,
          28.81,
          19.44,
          11.87,
          6.98,
          59.9,
          26.94,
          23.36,
          10.28,
          23.24,
          12.23,
          14.99,
          15.99,
          9.2,
          20.41,
          8.32,
          11.93,
          12.49,
          17.69,
          6.89,
          15.92,
          11.45,
          null,
          15.29,
          15.11,
          14.44,
          13.92,
          8.13,
          null,
          12.5,
          7.99,
          12.09,
          12.09,
          null,
          10.88,
          10.88,
          10.65,
          10.88,
          10.88,
          10.88,
          10.88,
          10.37,
          10.29,
          9.89,
          9.94,
          9.49,
          9.98,
          8.87,
          8.09,
          8.13,
          7.64,
          7.23,
          6.77,
          6.99,
          6.96,
          6.62,
          7.24,
          7.32,
          6.76,
          6.69,
          6.89,
          5.98,
          5.7,
          5.76,
          4.99,
          4.99,
          4.18,
          3.79,
          10.37,
          10.88,
          10.88,
          10.88,
          10.88,
          10.88,
          7.72,
          9.23,
          null,
          8.57,
          12.09,
          6.39,
          null,
          5.13,
          11.9,
          15.04,
          11.99,
          15.6,
          18.84,
          14.99,
          10.99,
          7.99,
          7.99,
          25.99,
          14.99,
          27.57,
          14.49,
          7.99,
          7.99,
          9.99,
          22.64,
          19.99,
          26,
          42.9,
          7.99,
          21.29,
          14.99,
          37.88,
          42.08,
          49.95,
          9.99,
          42.9,
          26.88,
          14.99,
          15.99,
          23.35,
          33.31,
          25.89,
          11.36,
          39.04,
          25.64,
          14.99,
          17.27,
          20.68,
          24.47,
          19.95,
          25.63,
          10.79,
          17.99,
          15.99,
          10.86,
          44.19,
          15.99,
          26.95,
          17.27,
          25,
          15.16,
          20.28,
          24.99,
          18.99,
          15.22,
          19.24,
          21.24,
          21.75,
          12.42,
          15.57,
          44.19,
          21.81,
          11.35,
          12.99,
          19.9,
          20.87,
          18.99,
          33.6,
          19.11,
          14.99,
          18.53,
          42.93,
          11.9,
          16.54,
          13.72,
          12.9,
          6.99,
          11.99,
          17.14,
          12.5,
          10.99,
          14.99,
          15.1,
          41,
          16.99,
          11.95,
          14.32,
          11.42,
          7.21,
          12.99,
          8.99,
          10.99,
          8.99,
          12.04,
          11.06,
          40.3,
          32.57,
          11.13,
          28.03,
          29.89,
          10.32,
          11.67,
          11.72,
          25,
          30.49,
          null,
          27.94,
          9.99,
          27.94,
          14.99,
          18.77,
          13.99,
          9.04,
          20.99,
          20.65,
          19.99,
          24.74,
          15.99,
          8,
          25,
          6.99,
          16.54,
          12.49,
          21,
          11.66,
          14.9,
          19.9,
          12.99,
          19.95,
          16.42,
          15.99,
          14.11,
          11.01,
          13.99,
          15.99,
          15.22,
          11.34,
          12.99,
          12.99,
          12.99,
          11.99,
          9.99,
          9.99,
          8.77,
          9.49,
          3.49,
          6.83,
          6.9,
          6.85,
          13.99,
          19.5,
          36.9,
          18.89,
          20.87,
          14.9,
          29.76,
          21.22,
          15.15,
          18.28,
          9.99,
          14.9,
          19.9,
          19.9,
          19.9,
          13.06,
          20.59,
          16.36,
          28.2,
          35.99,
          10.64,
          22,
          24.9,
          22,
          13.99,
          62.5,
          28.2,
          26.43,
          27.94,
          27.68,
          25.94,
          12.99,
          11.99,
          19.56,
          18.23,
          15.16,
          24.15,
          3.6,
          7.9,
          23.39,
          10.04,
          6.9
         ],
         "xaxis": "x",
         "yaxis": "y"
        },
        {
         "alignmentgroup": "True",
         "bingroup": "x",
         "hovertemplate": "category=nan<br>price=%{x}<br>count=%{y}<extra></extra>",
         "legendgroup": "nan",
         "marker": {
          "color": "#EF553B",
          "pattern": {
           "shape": ""
          }
         },
         "name": "nan",
         "offsetgroup": "nan",
         "orientation": "v",
         "showlegend": true,
         "type": "histogram",
         "x": [
          9.26,
          11.15,
          24.76
         ],
         "xaxis": "x",
         "yaxis": "y"
        },
        {
         "alignmentgroup": "True",
         "bingroup": "x",
         "hovertemplate": "category=Serviettes hygièniques<br>price=%{x}<br>count=%{y}<extra></extra>",
         "legendgroup": "Serviettes hygièniques",
         "marker": {
          "color": "#00cc96",
          "pattern": {
           "shape": ""
          }
         },
         "name": "Serviettes hygièniques",
         "offsetgroup": "Serviettes hygièniques",
         "orientation": "v",
         "showlegend": true,
         "type": "histogram",
         "x": [
          19.99,
          2.06,
          2.45,
          9.99,
          24.99,
          1.98,
          1.79,
          2.4,
          1.99,
          3.49,
          1.55,
          2.36,
          2.99,
          3.75,
          2.17,
          2.02,
          3.98,
          4.58,
          22.53,
          23.6,
          2.91,
          22.39,
          2.5,
          14.5,
          35.56,
          25.74,
          2.95,
          2.95,
          39,
          33.52,
          19.03,
          3.98,
          28.09,
          23.99,
          null,
          34.97,
          55.65,
          30.09,
          59.97,
          18.5,
          null,
          34.9,
          null,
          28,
          39.45,
          2.79,
          32.12,
          28.99,
          29.99,
          3.5,
          29.9,
          25,
          9.98,
          25.99,
          31.5,
          29.9,
          31.11,
          26.9,
          16.5,
          5.64,
          24.99,
          21.45,
          26.4,
          19.99,
          26.11,
          19.25,
          22.99,
          15.4,
          23,
          24.99,
          26.12,
          20.99,
          14.99,
          14.24,
          20.99,
          3.58,
          14.99,
          20.69,
          null,
          2.79,
          19.82,
          10.99,
          32.55,
          30.8,
          19.99,
          17.3,
          1.69,
          20.08,
          14.99,
          16.99,
          34.67,
          3.99,
          19.29,
          16.99,
          36.35,
          31.09,
          16.99,
          15.24,
          14.99,
          10.8,
          1.69,
          30,
          18.39,
          14.9,
          12.6,
          2.99,
          15.24,
          12.99,
          2.79,
          1.45,
          1.79,
          14.16,
          6.29,
          5.5,
          15.88,
          5.54,
          12.22,
          5.35,
          14.99,
          9.88,
          8.18,
          1.69,
          11.89,
          10.33,
          8.99,
          7.99,
          7.5,
          19.49,
          3.19,
          6.89,
          4.19,
          15.99,
          6.82,
          9.49,
          7.63,
          19.99,
          9,
          13.9,
          3.39,
          9.06,
          9.69,
          7.3,
          6.79,
          9.07,
          4.56,
          8.4,
          7.49,
          null,
          14.9,
          7.59,
          16.78,
          5.99,
          4.85,
          4.49,
          5.49,
          10.99,
          5.88,
          7.86,
          5.5,
          3.7,
          9.22,
          6.99,
          3,
          36,
          39.97,
          null,
          6.05,
          6.05,
          19.99,
          33.99,
          3.18,
          35.99,
          17.68,
          19.22,
          null,
          null,
          null,
          21.8,
          3.69,
          29.45,
          25.95,
          13.79,
          4.98,
          15.86,
          5.36,
          null,
          5.99,
          12,
          18.9,
          19.99,
          3.59,
          25.78,
          7.96,
          26.9,
          7.44,
          2.99,
          14.72,
          4.98,
          20.99,
          10,
          null
         ],
         "xaxis": "x",
         "yaxis": "y"
        },
        {
         "alignmentgroup": "True",
         "bingroup": "x",
         "hovertemplate": "category=Lames<br>price=%{x}<br>count=%{y}<extra></extra>",
         "legendgroup": "Lames",
         "marker": {
          "color": "#ab63fa",
          "pattern": {
           "shape": ""
          }
         },
         "name": "Lames",
         "offsetgroup": "Lames",
         "orientation": "v",
         "showlegend": true,
         "type": "histogram",
         "x": [
          26.52
         ],
         "xaxis": "x",
         "yaxis": "y"
        },
        {
         "alignmentgroup": "True",
         "bingroup": "x",
         "hovertemplate": "category=Shorties<br>price=%{x}<br>count=%{y}<extra></extra>",
         "legendgroup": "Shorties",
         "marker": {
          "color": "#FFA15A",
          "pattern": {
           "shape": ""
          }
         },
         "name": "Shorties",
         "offsetgroup": "Shorties",
         "orientation": "v",
         "showlegend": true,
         "type": "histogram",
         "x": [
          25.19,
          24.99,
          3.98
         ],
         "xaxis": "x",
         "yaxis": "y"
        },
        {
         "alignmentgroup": "True",
         "bingroup": "x",
         "hovertemplate": "category=Déodorant<br>price=%{x}<br>count=%{y}<extra></extra>",
         "legendgroup": "Déodorant",
         "marker": {
          "color": "#19d3f3",
          "pattern": {
           "shape": ""
          }
         },
         "name": "Déodorant",
         "offsetgroup": "Déodorant",
         "orientation": "v",
         "showlegend": true,
         "type": "histogram",
         "x": [
          13.76
         ],
         "xaxis": "x",
         "yaxis": "y"
        },
        {
         "alignmentgroup": "True",
         "bingroup": "x",
         "hovertemplate": "category=Culottes<br>price=%{x}<br>count=%{y}<extra></extra>",
         "legendgroup": "Culottes",
         "marker": {
          "color": "#FF6692",
          "pattern": {
           "shape": ""
          }
         },
         "name": "Culottes",
         "offsetgroup": "Culottes",
         "orientation": "v",
         "showlegend": true,
         "type": "histogram",
         "x": [
          11.98
         ],
         "xaxis": "x",
         "yaxis": "y"
        },
        {
         "alignmentgroup": "True",
         "bingroup": "x",
         "hovertemplate": "category=Culottes et slips<br>price=%{x}<br>count=%{y}<extra></extra>",
         "legendgroup": "Culottes et slips",
         "marker": {
          "color": "#B6E880",
          "pattern": {
           "shape": ""
          }
         },
         "name": "Culottes et slips",
         "offsetgroup": "Culottes et slips",
         "orientation": "v",
         "showlegend": true,
         "type": "histogram",
         "x": [
          6.98,
          39.99,
          25.99,
          18.99
         ],
         "xaxis": "x",
         "yaxis": "y"
        },
        {
         "alignmentgroup": "True",
         "bingroup": "x",
         "hovertemplate": "category=Culottes et sous-vêtements de protection<br>price=%{x}<br>count=%{y}<extra></extra>",
         "legendgroup": "Culottes et sous-vêtements de protection",
         "marker": {
          "color": "#FF97FF",
          "pattern": {
           "shape": ""
          }
         },
         "name": "Culottes et sous-vêtements de protection",
         "offsetgroup": "Culottes et sous-vêtements de protection",
         "orientation": "v",
         "showlegend": true,
         "type": "histogram",
         "x": [
          5.98,
          3.98,
          2.98,
          27.99,
          19.99,
          32.99,
          30.9,
          22.99,
          49.99,
          16.9,
          29.9,
          3.98,
          19.9,
          22.99
         ],
         "xaxis": "x",
         "yaxis": "y"
        },
        {
         "alignmentgroup": "True",
         "bingroup": "x",
         "hovertemplate": "category=Femme<br>price=%{x}<br>count=%{y}<extra></extra>",
         "legendgroup": "Femme",
         "marker": {
          "color": "#FECB52",
          "pattern": {
           "shape": ""
          }
         },
         "name": "Femme",
         "offsetgroup": "Femme",
         "orientation": "v",
         "showlegend": true,
         "type": "histogram",
         "x": [
          5.18
         ],
         "xaxis": "x",
         "yaxis": "y"
        },
        {
         "alignmentgroup": "True",
         "bingroup": "x",
         "hovertemplate": "category=Hygiène et soins intimes<br>price=%{x}<br>count=%{y}<extra></extra>",
         "legendgroup": "Hygiène et soins intimes",
         "marker": {
          "color": "#636efa",
          "pattern": {
           "shape": ""
          }
         },
         "name": "Hygiène et soins intimes",
         "offsetgroup": "Hygiène et soins intimes",
         "orientation": "v",
         "showlegend": true,
         "type": "histogram",
         "x": [
          27.96,
          10.16,
          29.95,
          29.95,
          13.21,
          20.71,
          29.95,
          13.85,
          11.94,
          11.03,
          11.12,
          4.98,
          15.99
         ],
         "xaxis": "x",
         "yaxis": "y"
        },
        {
         "alignmentgroup": "True",
         "bingroup": "x",
         "hovertemplate": "category=Coupes menstruelles<br>price=%{x}<br>count=%{y}<extra></extra>",
         "legendgroup": "Coupes menstruelles",
         "marker": {
          "color": "#EF553B",
          "pattern": {
           "shape": ""
          }
         },
         "name": "Coupes menstruelles",
         "offsetgroup": "Coupes menstruelles",
         "orientation": "v",
         "showlegend": true,
         "type": "histogram",
         "x": [
          17.9,
          37.45,
          7.99,
          14.59,
          27.18,
          10.99,
          17.39,
          17.99,
          15.59,
          11.99,
          9.99
         ],
         "xaxis": "x",
         "yaxis": "y"
        },
        {
         "alignmentgroup": "True",
         "bingroup": "x",
         "hovertemplate": "category=Hygiène et épilation<br>price=%{x}<br>count=%{y}<extra></extra>",
         "legendgroup": "Hygiène et épilation",
         "marker": {
          "color": "#00cc96",
          "pattern": {
           "shape": ""
          }
         },
         "name": "Hygiène et épilation",
         "offsetgroup": "Hygiène et épilation",
         "orientation": "v",
         "showlegend": true,
         "type": "histogram",
         "x": [
          15.9,
          29.14,
          29.58,
          2.69,
          9.74
         ],
         "xaxis": "x",
         "yaxis": "y"
        },
        {
         "alignmentgroup": "True",
         "bingroup": "x",
         "hovertemplate": "category=Vitamines, minéraux et compléments<br>price=%{x}<br>count=%{y}<extra></extra>",
         "legendgroup": "Vitamines, minéraux et compléments",
         "marker": {
          "color": "#ab63fa",
          "pattern": {
           "shape": ""
          }
         },
         "name": "Vitamines, minéraux et compléments",
         "offsetgroup": "Vitamines, minéraux et compléments",
         "orientation": "v",
         "showlegend": true,
         "type": "histogram",
         "x": [
          35.93,
          13.69
         ],
         "xaxis": "x",
         "yaxis": "y"
        },
        {
         "alignmentgroup": "True",
         "bingroup": "x",
         "hovertemplate": "category=Protège-slips<br>price=%{x}<br>count=%{y}<extra></extra>",
         "legendgroup": "Protège-slips",
         "marker": {
          "color": "#FFA15A",
          "pattern": {
           "shape": ""
          }
         },
         "name": "Protège-slips",
         "offsetgroup": "Protège-slips",
         "orientation": "v",
         "showlegend": true,
         "type": "histogram",
         "x": [
          17.73,
          3.12,
          1.99,
          3.49,
          1.99,
          null,
          1.89,
          3.33,
          1.13,
          1.86,
          2.95,
          1.98,
          3.82,
          22,
          2.34,
          19.92,
          17.6,
          21.85,
          9.54,
          23.1,
          3.2,
          3.95,
          15.99,
          3.11,
          69.9,
          43.97,
          3.77,
          44,
          47.97,
          9.99,
          17.99,
          11.41,
          26.78,
          34.86,
          37.97,
          39.01,
          34.92,
          34.99,
          39.95,
          null,
          20.24,
          27.44,
          8.74,
          28.99,
          25.99,
          25.29,
          13.99,
          15.05,
          20.99,
          21.57,
          19.9,
          23.99,
          24.9,
          29.89,
          18.32,
          20.87,
          21.18,
          19.9,
          6.74,
          14.9,
          18.04,
          3.49,
          null,
          13.9,
          13.2,
          63,
          9.99,
          5.58,
          7.9,
          1.69,
          null,
          52,
          11.97,
          8.99,
          9.99,
          1.49,
          9.99,
          20.99,
          44,
          37.99,
          52.89,
          5.9,
          3.09,
          9.8,
          33.25,
          35.99,
          37.2,
          37.99,
          10.8,
          33.95,
          null,
          15.58,
          47.56,
          9.95,
          16.05,
          4.09,
          40.47,
          35.71,
          9.7,
          32.98,
          7.22,
          6.95,
          25.9,
          25,
          18.26,
          25.48,
          3.69,
          5.24,
          7.45,
          25.44,
          null,
          2.99,
          5.5,
          14.09,
          2.95,
          3.69,
          20.1,
          23.15,
          2.19,
          9.99,
          16.12,
          19.99,
          8.5,
          8.5,
          19.9,
          15.63,
          17.77,
          2.2,
          8.54,
          8.9,
          6.7,
          7.99,
          5.36,
          9.07,
          8.25,
          17.06,
          5.05,
          3.4,
          7.93,
          7.75,
          15.39,
          null,
          15.19,
          3.99,
          null,
          5.9,
          10.09,
          7,
          9.99,
          15,
          12.99,
          12.99,
          4.75,
          8.9,
          9.74,
          10.97,
          6.5,
          8.5,
          11.97,
          9.99,
          6.85,
          9.15,
          11.47,
          11.49,
          10.62,
          6.5,
          11.71,
          8.35,
          null,
          10.54,
          8.95,
          7.99,
          8.15,
          11.12,
          8.9,
          null,
          4.49,
          4.5,
          8.37,
          8.9,
          8.64,
          9.95,
          8.99,
          6.49,
          8.17,
          3.69,
          6.84,
          6.5,
          8.12,
          7.15,
          7.86,
          5.9,
          7.25,
          9.45,
          6.78,
          3.24,
          5.59,
          4,
          4.9,
          4.39,
          4.67,
          5.91,
          5,
          4.71,
          3.47,
          37.99,
          10.99,
          33.99,
          11.81,
          18.86,
          null,
          19,
          52.89,
          12,
          2.82,
          37.2,
          23.8,
          47.56,
          7.99,
          9.99,
          47.56,
          47.56,
          12.9,
          null,
          14.05,
          null,
          4.23,
          20.5,
          null,
          42.5,
          21.99,
          5.9,
          8.53,
          11.01,
          4.86,
          17,
          16.55,
          11.9,
          47.5,
          3.85,
          12.89,
          6.84,
          24.9,
          6.49,
          1.72,
          43.97,
          60.19,
          12.07,
          null,
          null,
          13.42,
          null,
          null,
          null,
          null,
          12,
          20.99,
          null,
          6.5
         ],
         "xaxis": "x",
         "yaxis": "y"
        },
        {
         "alignmentgroup": "True",
         "bingroup": "x",
         "hovertemplate": "category=Protections, serviettes hygiéniques, couches pour adultes, protège-slips<br>price=%{x}<br>count=%{y}<extra></extra>",
         "legendgroup": "Protections, serviettes hygiéniques, couches pour adultes, protège-slips",
         "marker": {
          "color": "#19d3f3",
          "pattern": {
           "shape": ""
          }
         },
         "name": "Protections, serviettes hygiéniques, couches pour adultes, protège-slips",
         "offsetgroup": "Protections, serviettes hygiéniques, couches pour adultes, protège-slips",
         "orientation": "v",
         "showlegend": true,
         "type": "histogram",
         "x": [
          9.19,
          37.35,
          28.14,
          null,
          16.14,
          14.87
         ],
         "xaxis": "x",
         "yaxis": "y"
        },
        {
         "alignmentgroup": "True",
         "bingroup": "x",
         "hovertemplate": "category=Vêtements de contention médicaux<br>price=%{x}<br>count=%{y}<extra></extra>",
         "legendgroup": "Vêtements de contention médicaux",
         "marker": {
          "color": "#FF6692",
          "pattern": {
           "shape": ""
          }
         },
         "name": "Vêtements de contention médicaux",
         "offsetgroup": "Vêtements de contention médicaux",
         "orientation": "v",
         "showlegend": true,
         "type": "histogram",
         "x": [
          3.99
         ],
         "xaxis": "x",
         "yaxis": "y"
        },
        {
         "alignmentgroup": "True",
         "bingroup": "x",
         "hovertemplate": "category=Incontinence<br>price=%{x}<br>count=%{y}<extra></extra>",
         "legendgroup": "Incontinence",
         "marker": {
          "color": "#B6E880",
          "pattern": {
           "shape": ""
          }
         },
         "name": "Incontinence",
         "offsetgroup": "Incontinence",
         "orientation": "v",
         "showlegend": true,
         "type": "histogram",
         "x": [
          10.9,
          7.7,
          13.3
         ],
         "xaxis": "x",
         "yaxis": "y"
        },
        {
         "alignmentgroup": "True",
         "bingroup": "x",
         "hovertemplate": "category=Visage<br>price=%{x}<br>count=%{y}<extra></extra>",
         "legendgroup": "Visage",
         "marker": {
          "color": "#FF97FF",
          "pattern": {
           "shape": ""
          }
         },
         "name": "Visage",
         "offsetgroup": "Visage",
         "orientation": "v",
         "showlegend": true,
         "type": "histogram",
         "x": [
          15.5
         ],
         "xaxis": "x",
         "yaxis": "y"
        },
        {
         "alignmentgroup": "True",
         "bingroup": "x",
         "hovertemplate": "category=Coussinets pour chaussures<br>price=%{x}<br>count=%{y}<extra></extra>",
         "legendgroup": "Coussinets pour chaussures",
         "marker": {
          "color": "#FECB52",
          "pattern": {
           "shape": ""
          }
         },
         "name": "Coussinets pour chaussures",
         "offsetgroup": "Coussinets pour chaussures",
         "orientation": "v",
         "showlegend": true,
         "type": "histogram",
         "x": [
          9.99
         ],
         "xaxis": "x",
         "yaxis": "y"
        },
        {
         "alignmentgroup": "True",
         "bingroup": "x",
         "hovertemplate": "category=Beauté et soins<br>price=%{x}<br>count=%{y}<extra></extra>",
         "legendgroup": "Beauté et soins",
         "marker": {
          "color": "#636efa",
          "pattern": {
           "shape": ""
          }
         },
         "name": "Beauté et soins",
         "offsetgroup": "Beauté et soins",
         "orientation": "v",
         "showlegend": true,
         "type": "histogram",
         "x": [
          15.99
         ],
         "xaxis": "x",
         "yaxis": "y"
        },
        {
         "alignmentgroup": "True",
         "bingroup": "x",
         "hovertemplate": "category=Produits d'hygiène féminine<br>price=%{x}<br>count=%{y}<extra></extra>",
         "legendgroup": "Produits d'hygiène féminine",
         "marker": {
          "color": "#EF553B",
          "pattern": {
           "shape": ""
          }
         },
         "name": "Produits d'hygiène féminine",
         "offsetgroup": "Produits d'hygiène féminine",
         "orientation": "v",
         "showlegend": true,
         "type": "histogram",
         "x": [
          14.32,
          null
         ],
         "xaxis": "x",
         "yaxis": "y"
        },
        {
         "alignmentgroup": "True",
         "bingroup": "x",
         "hovertemplate": "category=Épilation à la cire<br>price=%{x}<br>count=%{y}<extra></extra>",
         "legendgroup": "Épilation à la cire",
         "marker": {
          "color": "#00cc96",
          "pattern": {
           "shape": ""
          }
         },
         "name": "Épilation à la cire",
         "offsetgroup": "Épilation à la cire",
         "orientation": "v",
         "showlegend": true,
         "type": "histogram",
         "x": [
          11.48
         ],
         "xaxis": "x",
         "yaxis": "y"
        },
        {
         "alignmentgroup": "True",
         "bingroup": "x",
         "hovertemplate": "category=Bannetons<br>price=%{x}<br>count=%{y}<extra></extra>",
         "legendgroup": "Bannetons",
         "marker": {
          "color": "#ab63fa",
          "pattern": {
           "shape": ""
          }
         },
         "name": "Bannetons",
         "offsetgroup": "Bannetons",
         "orientation": "v",
         "showlegend": true,
         "type": "histogram",
         "x": [
          10.99
         ],
         "xaxis": "x",
         "yaxis": "y"
        },
        {
         "alignmentgroup": "True",
         "bingroup": "x",
         "hovertemplate": "category=Bien-être<br>price=%{x}<br>count=%{y}<extra></extra>",
         "legendgroup": "Bien-être",
         "marker": {
          "color": "#FFA15A",
          "pattern": {
           "shape": ""
          }
         },
         "name": "Bien-être",
         "offsetgroup": "Bien-être",
         "orientation": "v",
         "showlegend": true,
         "type": "histogram",
         "x": [
          7.52
         ],
         "xaxis": "x",
         "yaxis": "y"
        },
        {
         "alignmentgroup": "True",
         "bingroup": "x",
         "hovertemplate": "category=Diffuseurs d'huiles essentielles<br>price=%{x}<br>count=%{y}<extra></extra>",
         "legendgroup": "Diffuseurs d'huiles essentielles",
         "marker": {
          "color": "#19d3f3",
          "pattern": {
           "shape": ""
          }
         },
         "name": "Diffuseurs d'huiles essentielles",
         "offsetgroup": "Diffuseurs d'huiles essentielles",
         "orientation": "v",
         "showlegend": true,
         "type": "histogram",
         "x": [
          19.99,
          14.29
         ],
         "xaxis": "x",
         "yaxis": "y"
        }
       ],
       "layout": {
        "barmode": "relative",
        "legend": {
         "title": {
          "text": "category"
         },
         "tracegroupgap": 0
        },
        "template": {
         "data": {
          "bar": [
           {
            "error_x": {
             "color": "#2a3f5f"
            },
            "error_y": {
             "color": "#2a3f5f"
            },
            "marker": {
             "line": {
              "color": "#E5ECF6",
              "width": 0.5
             },
             "pattern": {
              "fillmode": "overlay",
              "size": 10,
              "solidity": 0.2
             }
            },
            "type": "bar"
           }
          ],
          "barpolar": [
           {
            "marker": {
             "line": {
              "color": "#E5ECF6",
              "width": 0.5
             },
             "pattern": {
              "fillmode": "overlay",
              "size": 10,
              "solidity": 0.2
             }
            },
            "type": "barpolar"
           }
          ],
          "carpet": [
           {
            "aaxis": {
             "endlinecolor": "#2a3f5f",
             "gridcolor": "white",
             "linecolor": "white",
             "minorgridcolor": "white",
             "startlinecolor": "#2a3f5f"
            },
            "baxis": {
             "endlinecolor": "#2a3f5f",
             "gridcolor": "white",
             "linecolor": "white",
             "minorgridcolor": "white",
             "startlinecolor": "#2a3f5f"
            },
            "type": "carpet"
           }
          ],
          "choropleth": [
           {
            "colorbar": {
             "outlinewidth": 0,
             "ticks": ""
            },
            "type": "choropleth"
           }
          ],
          "contour": [
           {
            "colorbar": {
             "outlinewidth": 0,
             "ticks": ""
            },
            "colorscale": [
             [
              0,
              "#0d0887"
             ],
             [
              0.1111111111111111,
              "#46039f"
             ],
             [
              0.2222222222222222,
              "#7201a8"
             ],
             [
              0.3333333333333333,
              "#9c179e"
             ],
             [
              0.4444444444444444,
              "#bd3786"
             ],
             [
              0.5555555555555556,
              "#d8576b"
             ],
             [
              0.6666666666666666,
              "#ed7953"
             ],
             [
              0.7777777777777778,
              "#fb9f3a"
             ],
             [
              0.8888888888888888,
              "#fdca26"
             ],
             [
              1,
              "#f0f921"
             ]
            ],
            "type": "contour"
           }
          ],
          "contourcarpet": [
           {
            "colorbar": {
             "outlinewidth": 0,
             "ticks": ""
            },
            "type": "contourcarpet"
           }
          ],
          "heatmap": [
           {
            "colorbar": {
             "outlinewidth": 0,
             "ticks": ""
            },
            "colorscale": [
             [
              0,
              "#0d0887"
             ],
             [
              0.1111111111111111,
              "#46039f"
             ],
             [
              0.2222222222222222,
              "#7201a8"
             ],
             [
              0.3333333333333333,
              "#9c179e"
             ],
             [
              0.4444444444444444,
              "#bd3786"
             ],
             [
              0.5555555555555556,
              "#d8576b"
             ],
             [
              0.6666666666666666,
              "#ed7953"
             ],
             [
              0.7777777777777778,
              "#fb9f3a"
             ],
             [
              0.8888888888888888,
              "#fdca26"
             ],
             [
              1,
              "#f0f921"
             ]
            ],
            "type": "heatmap"
           }
          ],
          "heatmapgl": [
           {
            "colorbar": {
             "outlinewidth": 0,
             "ticks": ""
            },
            "colorscale": [
             [
              0,
              "#0d0887"
             ],
             [
              0.1111111111111111,
              "#46039f"
             ],
             [
              0.2222222222222222,
              "#7201a8"
             ],
             [
              0.3333333333333333,
              "#9c179e"
             ],
             [
              0.4444444444444444,
              "#bd3786"
             ],
             [
              0.5555555555555556,
              "#d8576b"
             ],
             [
              0.6666666666666666,
              "#ed7953"
             ],
             [
              0.7777777777777778,
              "#fb9f3a"
             ],
             [
              0.8888888888888888,
              "#fdca26"
             ],
             [
              1,
              "#f0f921"
             ]
            ],
            "type": "heatmapgl"
           }
          ],
          "histogram": [
           {
            "marker": {
             "pattern": {
              "fillmode": "overlay",
              "size": 10,
              "solidity": 0.2
             }
            },
            "type": "histogram"
           }
          ],
          "histogram2d": [
           {
            "colorbar": {
             "outlinewidth": 0,
             "ticks": ""
            },
            "colorscale": [
             [
              0,
              "#0d0887"
             ],
             [
              0.1111111111111111,
              "#46039f"
             ],
             [
              0.2222222222222222,
              "#7201a8"
             ],
             [
              0.3333333333333333,
              "#9c179e"
             ],
             [
              0.4444444444444444,
              "#bd3786"
             ],
             [
              0.5555555555555556,
              "#d8576b"
             ],
             [
              0.6666666666666666,
              "#ed7953"
             ],
             [
              0.7777777777777778,
              "#fb9f3a"
             ],
             [
              0.8888888888888888,
              "#fdca26"
             ],
             [
              1,
              "#f0f921"
             ]
            ],
            "type": "histogram2d"
           }
          ],
          "histogram2dcontour": [
           {
            "colorbar": {
             "outlinewidth": 0,
             "ticks": ""
            },
            "colorscale": [
             [
              0,
              "#0d0887"
             ],
             [
              0.1111111111111111,
              "#46039f"
             ],
             [
              0.2222222222222222,
              "#7201a8"
             ],
             [
              0.3333333333333333,
              "#9c179e"
             ],
             [
              0.4444444444444444,
              "#bd3786"
             ],
             [
              0.5555555555555556,
              "#d8576b"
             ],
             [
              0.6666666666666666,
              "#ed7953"
             ],
             [
              0.7777777777777778,
              "#fb9f3a"
             ],
             [
              0.8888888888888888,
              "#fdca26"
             ],
             [
              1,
              "#f0f921"
             ]
            ],
            "type": "histogram2dcontour"
           }
          ],
          "mesh3d": [
           {
            "colorbar": {
             "outlinewidth": 0,
             "ticks": ""
            },
            "type": "mesh3d"
           }
          ],
          "parcoords": [
           {
            "line": {
             "colorbar": {
              "outlinewidth": 0,
              "ticks": ""
             }
            },
            "type": "parcoords"
           }
          ],
          "pie": [
           {
            "automargin": true,
            "type": "pie"
           }
          ],
          "scatter": [
           {
            "fillpattern": {
             "fillmode": "overlay",
             "size": 10,
             "solidity": 0.2
            },
            "type": "scatter"
           }
          ],
          "scatter3d": [
           {
            "line": {
             "colorbar": {
              "outlinewidth": 0,
              "ticks": ""
             }
            },
            "marker": {
             "colorbar": {
              "outlinewidth": 0,
              "ticks": ""
             }
            },
            "type": "scatter3d"
           }
          ],
          "scattercarpet": [
           {
            "marker": {
             "colorbar": {
              "outlinewidth": 0,
              "ticks": ""
             }
            },
            "type": "scattercarpet"
           }
          ],
          "scattergeo": [
           {
            "marker": {
             "colorbar": {
              "outlinewidth": 0,
              "ticks": ""
             }
            },
            "type": "scattergeo"
           }
          ],
          "scattergl": [
           {
            "marker": {
             "colorbar": {
              "outlinewidth": 0,
              "ticks": ""
             }
            },
            "type": "scattergl"
           }
          ],
          "scattermapbox": [
           {
            "marker": {
             "colorbar": {
              "outlinewidth": 0,
              "ticks": ""
             }
            },
            "type": "scattermapbox"
           }
          ],
          "scatterpolar": [
           {
            "marker": {
             "colorbar": {
              "outlinewidth": 0,
              "ticks": ""
             }
            },
            "type": "scatterpolar"
           }
          ],
          "scatterpolargl": [
           {
            "marker": {
             "colorbar": {
              "outlinewidth": 0,
              "ticks": ""
             }
            },
            "type": "scatterpolargl"
           }
          ],
          "scatterternary": [
           {
            "marker": {
             "colorbar": {
              "outlinewidth": 0,
              "ticks": ""
             }
            },
            "type": "scatterternary"
           }
          ],
          "surface": [
           {
            "colorbar": {
             "outlinewidth": 0,
             "ticks": ""
            },
            "colorscale": [
             [
              0,
              "#0d0887"
             ],
             [
              0.1111111111111111,
              "#46039f"
             ],
             [
              0.2222222222222222,
              "#7201a8"
             ],
             [
              0.3333333333333333,
              "#9c179e"
             ],
             [
              0.4444444444444444,
              "#bd3786"
             ],
             [
              0.5555555555555556,
              "#d8576b"
             ],
             [
              0.6666666666666666,
              "#ed7953"
             ],
             [
              0.7777777777777778,
              "#fb9f3a"
             ],
             [
              0.8888888888888888,
              "#fdca26"
             ],
             [
              1,
              "#f0f921"
             ]
            ],
            "type": "surface"
           }
          ],
          "table": [
           {
            "cells": {
             "fill": {
              "color": "#EBF0F8"
             },
             "line": {
              "color": "white"
             }
            },
            "header": {
             "fill": {
              "color": "#C8D4E3"
             },
             "line": {
              "color": "white"
             }
            },
            "type": "table"
           }
          ]
         },
         "layout": {
          "annotationdefaults": {
           "arrowcolor": "#2a3f5f",
           "arrowhead": 0,
           "arrowwidth": 1
          },
          "autotypenumbers": "strict",
          "coloraxis": {
           "colorbar": {
            "outlinewidth": 0,
            "ticks": ""
           }
          },
          "colorscale": {
           "diverging": [
            [
             0,
             "#8e0152"
            ],
            [
             0.1,
             "#c51b7d"
            ],
            [
             0.2,
             "#de77ae"
            ],
            [
             0.3,
             "#f1b6da"
            ],
            [
             0.4,
             "#fde0ef"
            ],
            [
             0.5,
             "#f7f7f7"
            ],
            [
             0.6,
             "#e6f5d0"
            ],
            [
             0.7,
             "#b8e186"
            ],
            [
             0.8,
             "#7fbc41"
            ],
            [
             0.9,
             "#4d9221"
            ],
            [
             1,
             "#276419"
            ]
           ],
           "sequential": [
            [
             0,
             "#0d0887"
            ],
            [
             0.1111111111111111,
             "#46039f"
            ],
            [
             0.2222222222222222,
             "#7201a8"
            ],
            [
             0.3333333333333333,
             "#9c179e"
            ],
            [
             0.4444444444444444,
             "#bd3786"
            ],
            [
             0.5555555555555556,
             "#d8576b"
            ],
            [
             0.6666666666666666,
             "#ed7953"
            ],
            [
             0.7777777777777778,
             "#fb9f3a"
            ],
            [
             0.8888888888888888,
             "#fdca26"
            ],
            [
             1,
             "#f0f921"
            ]
           ],
           "sequentialminus": [
            [
             0,
             "#0d0887"
            ],
            [
             0.1111111111111111,
             "#46039f"
            ],
            [
             0.2222222222222222,
             "#7201a8"
            ],
            [
             0.3333333333333333,
             "#9c179e"
            ],
            [
             0.4444444444444444,
             "#bd3786"
            ],
            [
             0.5555555555555556,
             "#d8576b"
            ],
            [
             0.6666666666666666,
             "#ed7953"
            ],
            [
             0.7777777777777778,
             "#fb9f3a"
            ],
            [
             0.8888888888888888,
             "#fdca26"
            ],
            [
             1,
             "#f0f921"
            ]
           ]
          },
          "colorway": [
           "#636efa",
           "#EF553B",
           "#00cc96",
           "#ab63fa",
           "#FFA15A",
           "#19d3f3",
           "#FF6692",
           "#B6E880",
           "#FF97FF",
           "#FECB52"
          ],
          "font": {
           "color": "#2a3f5f"
          },
          "geo": {
           "bgcolor": "white",
           "lakecolor": "white",
           "landcolor": "#E5ECF6",
           "showlakes": true,
           "showland": true,
           "subunitcolor": "white"
          },
          "hoverlabel": {
           "align": "left"
          },
          "hovermode": "closest",
          "mapbox": {
           "style": "light"
          },
          "paper_bgcolor": "white",
          "plot_bgcolor": "#E5ECF6",
          "polar": {
           "angularaxis": {
            "gridcolor": "white",
            "linecolor": "white",
            "ticks": ""
           },
           "bgcolor": "#E5ECF6",
           "radialaxis": {
            "gridcolor": "white",
            "linecolor": "white",
            "ticks": ""
           }
          },
          "scene": {
           "xaxis": {
            "backgroundcolor": "#E5ECF6",
            "gridcolor": "white",
            "gridwidth": 2,
            "linecolor": "white",
            "showbackground": true,
            "ticks": "",
            "zerolinecolor": "white"
           },
           "yaxis": {
            "backgroundcolor": "#E5ECF6",
            "gridcolor": "white",
            "gridwidth": 2,
            "linecolor": "white",
            "showbackground": true,
            "ticks": "",
            "zerolinecolor": "white"
           },
           "zaxis": {
            "backgroundcolor": "#E5ECF6",
            "gridcolor": "white",
            "gridwidth": 2,
            "linecolor": "white",
            "showbackground": true,
            "ticks": "",
            "zerolinecolor": "white"
           }
          },
          "shapedefaults": {
           "line": {
            "color": "#2a3f5f"
           }
          },
          "ternary": {
           "aaxis": {
            "gridcolor": "white",
            "linecolor": "white",
            "ticks": ""
           },
           "baxis": {
            "gridcolor": "white",
            "linecolor": "white",
            "ticks": ""
           },
           "bgcolor": "#E5ECF6",
           "caxis": {
            "gridcolor": "white",
            "linecolor": "white",
            "ticks": ""
           }
          },
          "title": {
           "x": 0.05
          },
          "xaxis": {
           "automargin": true,
           "gridcolor": "white",
           "linecolor": "white",
           "ticks": "",
           "title": {
            "standoff": 15
           },
           "zerolinecolor": "white",
           "zerolinewidth": 2
          },
          "yaxis": {
           "automargin": true,
           "gridcolor": "white",
           "linecolor": "white",
           "ticks": "",
           "title": {
            "standoff": 15
           },
           "zerolinecolor": "white",
           "zerolinewidth": 2
          }
         }
        },
        "title": {
         "text": "Price distribution per Category"
        },
        "xaxis": {
         "anchor": "y",
         "domain": [
          0,
          1
         ],
         "title": {
          "text": "price"
         }
        },
        "yaxis": {
         "anchor": "x",
         "domain": [
          0,
          1
         ],
         "title": {
          "text": "count"
         }
        }
       }
      }
     },
     "metadata": {},
     "output_type": "display_data"
    }
   ],
   "source": [
    "fig3 = px.histogram(products_df,\n",
    "                    x=\"price\",\n",
    "                    color = \"category\",\n",
    "                    title= \"Price distribution per Category\",\n",
    "                    hover_data = [\"unities\"])\n",
    "fig3.show()"
   ]
  },
  {
   "cell_type": "code",
   "execution_count": 41,
   "metadata": {},
   "outputs": [
    {
     "data": {
      "application/vnd.plotly.v1+json": {
       "config": {
        "plotlyServerURL": "https://plot.ly"
       },
       "data": [
        {
         "customdata": [
          [
           32
          ],
          [
           24
          ],
          [
           18
          ],
          [
           32
          ],
          [
           18
          ],
          [
           16
          ],
          [
           18
          ],
          [
           28
          ],
          [
           16
          ],
          [
           16
          ],
          [
           72
          ],
          [
           1
          ],
          [
           16
          ],
          [
           22
          ],
          [
           24
          ],
          [
           24
          ],
          [
           1
          ],
          [
           30
          ],
          [
           56
          ],
          [
           16
          ],
          [
           20
          ],
          [
           null
          ],
          [
           64
          ],
          [
           16
          ],
          [
           null
          ],
          [
           null
          ],
          [
           16
          ],
          [
           16
          ],
          [
           16
          ],
          [
           64
          ],
          [
           18
          ],
          [
           4
          ],
          [
           null
          ],
          [
           42
          ],
          [
           null
          ],
          [
           16
          ],
          [
           64
          ],
          [
           null
          ],
          [
           4
          ],
          [
           22
          ],
          [
           null
          ],
          [
           1
          ],
          [
           14
          ],
          [
           32
          ],
          [
           20
          ],
          [
           1
          ],
          [
           null
          ],
          [
           1
          ],
          [
           1
          ],
          [
           12
          ],
          [
           30
          ],
          [
           6
          ],
          [
           200
          ],
          [
           2
          ],
          [
           22
          ],
          [
           null
          ],
          [
           1
          ],
          [
           1
          ],
          [
           64
          ],
          [
           null
          ],
          [
           null
          ],
          [
           null
          ],
          [
           1
          ],
          [
           30
          ],
          [
           1
          ],
          [
           null
          ],
          [
           48
          ],
          [
           1
          ],
          [
           54
          ],
          [
           1
          ],
          [
           9
          ],
          [
           null
          ],
          [
           null
          ],
          [
           1
          ],
          [
           14
          ],
          [
           1
          ],
          [
           null
          ],
          [
           20
          ],
          [
           1
          ],
          [
           1
          ],
          [
           1
          ],
          [
           1
          ],
          [
           null
          ],
          [
           16
          ],
          [
           1
          ],
          [
           22
          ],
          [
           null
          ],
          [
           null
          ],
          [
           1
          ],
          [
           null
          ],
          [
           null
          ],
          [
           1
          ],
          [
           null
          ],
          [
           null
          ],
          [
           null
          ],
          [
           null
          ],
          [
           null
          ],
          [
           1
          ],
          [
           1
          ],
          [
           1
          ],
          [
           1
          ],
          [
           null
          ],
          [
           null
          ],
          [
           1
          ],
          [
           1
          ],
          [
           1
          ],
          [
           1
          ],
          [
           1
          ],
          [
           1
          ],
          [
           1
          ],
          [
           1
          ],
          [
           1
          ],
          [
           1
          ],
          [
           1
          ],
          [
           1
          ],
          [
           1
          ],
          [
           1
          ],
          [
           1
          ],
          [
           1
          ],
          [
           null
          ],
          [
           30
          ],
          [
           1
          ],
          [
           1
          ],
          [
           null
          ],
          [
           null
          ],
          [
           null
          ],
          [
           null
          ],
          [
           null
          ],
          [
           null
          ],
          [
           18
          ],
          [
           1
          ],
          [
           16
          ],
          [
           null
          ],
          [
           null
          ],
          [
           30
          ],
          [
           16
          ],
          [
           null
          ],
          [
           1
          ],
          [
           1
          ],
          [
           1
          ],
          [
           1
          ],
          [
           2
          ],
          [
           1
          ],
          [
           1
          ],
          [
           2
          ],
          [
           2
          ],
          [
           3
          ],
          [
           1
          ],
          [
           1
          ],
          [
           1
          ],
          [
           2
          ],
          [
           1
          ],
          [
           1
          ],
          [
           1
          ],
          [
           1
          ],
          [
           1
          ],
          [
           1
          ],
          [
           1
          ],
          [
           1
          ],
          [
           2
          ],
          [
           1
          ],
          [
           2
          ],
          [
           1
          ],
          [
           1
          ],
          [
           1
          ],
          [
           1
          ],
          [
           1
          ],
          [
           1
          ],
          [
           1
          ],
          [
           1
          ],
          [
           1
          ],
          [
           1
          ],
          [
           1
          ],
          [
           1
          ],
          [
           1
          ],
          [
           1
          ],
          [
           1
          ],
          [
           2
          ],
          [
           1
          ],
          [
           null
          ],
          [
           1
          ],
          [
           null
          ],
          [
           null
          ],
          [
           null
          ],
          [
           1
          ],
          [
           2
          ],
          [
           null
          ],
          [
           null
          ],
          [
           null
          ],
          [
           null
          ],
          [
           null
          ],
          [
           null
          ],
          [
           1
          ],
          [
           null
          ],
          [
           null
          ],
          [
           null
          ],
          [
           null
          ],
          [
           null
          ],
          [
           null
          ],
          [
           null
          ],
          [
           null
          ],
          [
           null
          ],
          [
           null
          ],
          [
           null
          ],
          [
           null
          ],
          [
           null
          ],
          [
           null
          ],
          [
           null
          ],
          [
           null
          ],
          [
           null
          ],
          [
           null
          ],
          [
           null
          ],
          [
           null
          ],
          [
           null
          ],
          [
           null
          ],
          [
           null
          ],
          [
           null
          ],
          [
           null
          ],
          [
           null
          ],
          [
           null
          ],
          [
           null
          ],
          [
           null
          ],
          [
           null
          ],
          [
           null
          ],
          [
           null
          ],
          [
           null
          ],
          [
           null
          ],
          [
           null
          ],
          [
           null
          ],
          [
           null
          ],
          [
           null
          ],
          [
           null
          ],
          [
           null
          ],
          [
           null
          ],
          [
           null
          ],
          [
           null
          ],
          [
           null
          ],
          [
           null
          ],
          [
           null
          ],
          [
           null
          ],
          [
           null
          ],
          [
           null
          ],
          [
           null
          ],
          [
           null
          ],
          [
           null
          ],
          [
           null
          ],
          [
           null
          ],
          [
           null
          ],
          [
           null
          ],
          [
           null
          ],
          [
           null
          ],
          [
           null
          ],
          [
           null
          ],
          [
           null
          ],
          [
           null
          ],
          [
           null
          ],
          [
           null
          ],
          [
           null
          ],
          [
           null
          ],
          [
           null
          ],
          [
           null
          ],
          [
           null
          ],
          [
           null
          ],
          [
           null
          ],
          [
           null
          ],
          [
           null
          ],
          [
           null
          ],
          [
           null
          ],
          [
           null
          ],
          [
           null
          ],
          [
           null
          ],
          [
           null
          ],
          [
           null
          ],
          [
           null
          ],
          [
           null
          ],
          [
           null
          ],
          [
           null
          ],
          [
           null
          ],
          [
           null
          ],
          [
           null
          ],
          [
           null
          ],
          [
           null
          ],
          [
           null
          ],
          [
           null
          ],
          [
           null
          ],
          [
           null
          ],
          [
           null
          ],
          [
           null
          ],
          [
           null
          ],
          [
           null
          ],
          [
           null
          ],
          [
           null
          ],
          [
           null
          ],
          [
           null
          ],
          [
           null
          ],
          [
           null
          ],
          [
           null
          ],
          [
           null
          ],
          [
           null
          ],
          [
           null
          ],
          [
           null
          ],
          [
           null
          ],
          [
           null
          ],
          [
           null
          ],
          [
           null
          ],
          [
           null
          ],
          [
           null
          ],
          [
           null
          ],
          [
           null
          ],
          [
           null
          ],
          [
           null
          ],
          [
           null
          ],
          [
           null
          ],
          [
           null
          ],
          [
           null
          ],
          [
           null
          ],
          [
           null
          ],
          [
           null
          ],
          [
           null
          ],
          [
           null
          ],
          [
           null
          ],
          [
           null
          ],
          [
           null
          ],
          [
           128
          ],
          [
           56
          ],
          [
           null
          ],
          [
           null
          ],
          [
           null
          ],
          [
           null
          ],
          [
           null
          ]
         ],
         "hovertemplate": "category=Tampons<br>Price=%{x}<br>Number of Reviews=%{y}<br>unities=%{customdata[0]}<extra></extra>",
         "legendgroup": "Tampons",
         "marker": {
          "color": "#636efa",
          "symbol": "circle"
         },
         "mode": "markers",
         "name": "Tampons",
         "orientation": "v",
         "showlegend": true,
         "type": "scatter",
         "x": [
          2.66,
          3.79,
          3.1,
          2.81,
          4.5,
          3.75,
          4.5,
          3.8,
          4.53,
          6.9,
          11.96,
          14.95,
          7.29,
          4.99,
          4.99,
          5.19,
          5.5,
          9.4,
          25.16,
          7.9,
          9.96,
          null,
          14.94,
          null,
          14.99,
          6.32,
          5.99,
          4.99,
          4.72,
          9.74,
          11.57,
          34.99,
          27.58,
          10.09,
          13.9,
          6.9,
          12.19,
          14.09,
          9.95,
          null,
          8.92,
          49.95,
          5.99,
          10.2,
          7.99,
          11.99,
          8.99,
          7.99,
          25.9,
          null,
          19.96,
          54.99,
          19.98,
          51.87,
          12.36,
          13.99,
          28.81,
          19.44,
          11.87,
          6.98,
          59.9,
          26.94,
          23.36,
          10.28,
          23.24,
          12.23,
          14.99,
          15.99,
          9.2,
          20.41,
          8.32,
          11.93,
          12.49,
          17.69,
          6.89,
          15.92,
          11.45,
          null,
          15.29,
          15.11,
          14.44,
          13.92,
          8.13,
          null,
          12.5,
          7.99,
          12.09,
          12.09,
          null,
          10.88,
          10.88,
          10.65,
          10.88,
          10.88,
          10.88,
          10.88,
          10.37,
          10.29,
          9.89,
          9.94,
          9.49,
          9.98,
          8.87,
          8.09,
          8.13,
          7.64,
          7.23,
          6.77,
          6.99,
          6.96,
          6.62,
          7.24,
          7.32,
          6.76,
          6.69,
          6.89,
          5.98,
          5.7,
          5.76,
          4.99,
          4.99,
          4.18,
          3.79,
          10.37,
          10.88,
          10.88,
          10.88,
          10.88,
          10.88,
          7.72,
          9.23,
          null,
          8.57,
          12.09,
          6.39,
          null,
          5.13,
          11.9,
          15.04,
          11.99,
          15.6,
          18.84,
          14.99,
          10.99,
          7.99,
          7.99,
          25.99,
          14.99,
          27.57,
          14.49,
          7.99,
          7.99,
          9.99,
          22.64,
          19.99,
          26,
          42.9,
          7.99,
          21.29,
          14.99,
          37.88,
          42.08,
          49.95,
          9.99,
          42.9,
          26.88,
          14.99,
          15.99,
          23.35,
          33.31,
          25.89,
          11.36,
          39.04,
          25.64,
          14.99,
          17.27,
          20.68,
          24.47,
          19.95,
          25.63,
          10.79,
          17.99,
          15.99,
          10.86,
          44.19,
          15.99,
          26.95,
          17.27,
          25,
          15.16,
          20.28,
          24.99,
          18.99,
          15.22,
          19.24,
          21.24,
          21.75,
          12.42,
          15.57,
          44.19,
          21.81,
          11.35,
          12.99,
          19.9,
          20.87,
          18.99,
          33.6,
          19.11,
          14.99,
          18.53,
          42.93,
          11.9,
          16.54,
          13.72,
          12.9,
          6.99,
          11.99,
          17.14,
          12.5,
          10.99,
          14.99,
          15.1,
          41,
          16.99,
          11.95,
          14.32,
          11.42,
          7.21,
          12.99,
          8.99,
          10.99,
          8.99,
          12.04,
          11.06,
          40.3,
          32.57,
          11.13,
          28.03,
          29.89,
          10.32,
          11.67,
          11.72,
          25,
          30.49,
          null,
          27.94,
          9.99,
          27.94,
          14.99,
          18.77,
          13.99,
          9.04,
          20.99,
          20.65,
          19.99,
          24.74,
          15.99,
          8,
          25,
          6.99,
          16.54,
          12.49,
          21,
          11.66,
          14.9,
          19.9,
          12.99,
          19.95,
          16.42,
          15.99,
          14.11,
          11.01,
          13.99,
          15.99,
          15.22,
          11.34,
          12.99,
          12.99,
          12.99,
          11.99,
          9.99,
          9.99,
          8.77,
          9.49,
          3.49,
          6.83,
          6.9,
          6.85,
          13.99,
          19.5,
          36.9,
          18.89,
          20.87,
          14.9,
          29.76,
          21.22,
          15.15,
          18.28,
          9.99,
          14.9,
          19.9,
          19.9,
          19.9,
          13.06,
          20.59,
          16.36,
          28.2,
          35.99,
          10.64,
          22,
          24.9,
          22,
          13.99,
          62.5,
          28.2,
          26.43,
          27.94,
          27.68,
          25.94,
          12.99,
          11.99,
          19.56,
          18.23,
          15.16,
          24.15,
          3.6,
          7.9,
          23.39,
          10.04,
          6.9
         ],
         "xaxis": "x",
         "y": [
          223,
          303,
          859,
          144,
          30,
          171,
          25,
          81,
          166,
          328,
          469,
          576,
          285,
          180,
          25,
          54,
          50,
          390,
          362,
          15,
          963,
          40,
          42,
          27,
          22,
          322,
          43,
          160,
          423,
          643,
          390,
          1,
          5,
          1179,
          149,
          8,
          60,
          5,
          184,
          115,
          142,
          95,
          56,
          53,
          600,
          346,
          null,
          40,
          103,
          590,
          40,
          null,
          18,
          1789,
          354,
          86,
          432,
          334,
          693,
          60,
          1,
          null,
          803,
          75,
          452,
          91,
          null,
          1129,
          238,
          null,
          44,
          1,
          1,
          null,
          2,
          null,
          1,
          623,
          null,
          null,
          null,
          null,
          122,
          2731,
          null,
          4,
          null,
          null,
          853,
          null,
          null,
          null,
          null,
          null,
          null,
          null,
          null,
          null,
          null,
          null,
          null,
          null,
          null,
          null,
          null,
          null,
          null,
          null,
          null,
          null,
          null,
          null,
          null,
          null,
          null,
          null,
          null,
          null,
          null,
          null,
          null,
          null,
          null,
          null,
          null,
          null,
          null,
          null,
          null,
          83,
          32,
          84,
          178,
          null,
          185,
          184,
          7,
          859,
          80,
          146,
          3131,
          12,
          8149,
          11,
          200,
          147,
          454,
          4141,
          1626,
          34,
          526,
          null,
          4,
          487,
          43,
          447,
          3244,
          40,
          2721,
          558,
          2866,
          1430,
          95,
          null,
          45,
          68,
          2025,
          1129,
          300,
          237,
          71,
          91,
          52,
          68,
          null,
          92,
          45,
          4,
          127,
          110,
          77,
          121,
          null,
          3,
          148,
          346,
          59,
          169,
          1086,
          30,
          8,
          13,
          35,
          54,
          1552,
          53,
          7,
          70,
          10,
          77,
          23,
          52,
          8,
          105,
          27,
          22,
          710,
          2129,
          2,
          12,
          7068,
          29,
          81,
          1836,
          16,
          null,
          null,
          null,
          32,
          null,
          50,
          null,
          1580,
          11,
          8,
          72,
          null,
          290,
          1,
          2,
          null,
          2,
          33,
          38,
          157,
          549,
          14,
          2186,
          12,
          null,
          null,
          10,
          4483,
          1303,
          4,
          42,
          65,
          18,
          86,
          6,
          7,
          null,
          null,
          null,
          48,
          15,
          8,
          null,
          1462,
          2,
          595,
          null,
          188,
          null,
          49,
          93,
          null,
          1,
          null,
          2,
          34,
          22,
          2,
          1,
          26,
          21,
          2,
          14,
          2,
          null,
          null,
          3,
          null,
          null,
          null,
          null,
          null,
          null,
          11,
          17,
          79,
          4,
          54,
          147,
          2,
          4,
          2,
          191,
          null,
          157,
          null,
          null,
          null,
          184,
          null,
          5,
          670,
          1789,
          9,
          2,
          488,
          3,
          1,
          null,
          153,
          4,
          null,
          32,
          263,
          192,
          127,
          99,
          5,
          108,
          328,
          298,
          15,
          99,
          125,
          8
         ],
         "yaxis": "y"
        },
        {
         "customdata": [
          [
           36
          ],
          [
           20
          ],
          [
           1
          ]
         ],
         "hovertemplate": "category=nan<br>Price=%{x}<br>Number of Reviews=%{y}<br>unities=%{customdata[0]}<extra></extra>",
         "legendgroup": "nan",
         "marker": {
          "color": "#EF553B",
          "symbol": "circle"
         },
         "mode": "markers",
         "name": "nan",
         "orientation": "v",
         "showlegend": true,
         "type": "scatter",
         "x": [
          9.26,
          11.15,
          24.76
         ],
         "xaxis": "x",
         "y": [
          1366,
          80,
          1
         ],
         "yaxis": "y"
        },
        {
         "customdata": [
          [
           8
          ],
          [
           12
          ],
          [
           16
          ],
          [
           null
          ],
          [
           null
          ],
          [
           null
          ],
          [
           null
          ],
          [
           null
          ],
          [
           null
          ],
          [
           null
          ],
          [
           null
          ],
          [
           null
          ],
          [
           null
          ],
          [
           null
          ],
          [
           null
          ],
          [
           null
          ],
          [
           null
          ],
          [
           null
          ],
          [
           null
          ],
          [
           null
          ],
          [
           null
          ],
          [
           null
          ],
          [
           null
          ],
          [
           null
          ],
          [
           null
          ],
          [
           null
          ],
          [
           null
          ],
          [
           null
          ],
          [
           null
          ],
          [
           null
          ],
          [
           null
          ],
          [
           null
          ],
          [
           null
          ],
          [
           null
          ],
          [
           null
          ],
          [
           null
          ],
          [
           null
          ],
          [
           null
          ],
          [
           null
          ],
          [
           null
          ],
          [
           null
          ],
          [
           null
          ],
          [
           null
          ],
          [
           null
          ],
          [
           null
          ],
          [
           null
          ],
          [
           null
          ],
          [
           null
          ],
          [
           null
          ],
          [
           null
          ],
          [
           null
          ],
          [
           null
          ],
          [
           null
          ],
          [
           null
          ],
          [
           null
          ],
          [
           null
          ],
          [
           null
          ],
          [
           null
          ],
          [
           null
          ],
          [
           null
          ],
          [
           null
          ],
          [
           null
          ],
          [
           null
          ],
          [
           null
          ],
          [
           null
          ],
          [
           null
          ],
          [
           null
          ],
          [
           null
          ],
          [
           null
          ],
          [
           null
          ],
          [
           null
          ],
          [
           null
          ],
          [
           null
          ],
          [
           null
          ],
          [
           null
          ],
          [
           null
          ],
          [
           null
          ],
          [
           null
          ],
          [
           null
          ],
          [
           null
          ],
          [
           null
          ],
          [
           null
          ],
          [
           null
          ],
          [
           null
          ],
          [
           null
          ],
          [
           null
          ],
          [
           null
          ],
          [
           null
          ],
          [
           null
          ],
          [
           null
          ],
          [
           null
          ],
          [
           null
          ],
          [
           null
          ],
          [
           null
          ],
          [
           null
          ],
          [
           null
          ],
          [
           null
          ],
          [
           null
          ],
          [
           null
          ],
          [
           null
          ],
          [
           null
          ],
          [
           null
          ],
          [
           null
          ],
          [
           null
          ],
          [
           null
          ],
          [
           null
          ],
          [
           null
          ],
          [
           null
          ],
          [
           null
          ],
          [
           null
          ],
          [
           null
          ],
          [
           null
          ],
          [
           null
          ],
          [
           null
          ],
          [
           null
          ],
          [
           null
          ],
          [
           null
          ],
          [
           null
          ],
          [
           null
          ],
          [
           null
          ],
          [
           null
          ],
          [
           null
          ],
          [
           null
          ],
          [
           null
          ],
          [
           null
          ],
          [
           null
          ],
          [
           null
          ],
          [
           null
          ],
          [
           null
          ],
          [
           null
          ],
          [
           null
          ],
          [
           null
          ],
          [
           null
          ],
          [
           null
          ],
          [
           null
          ],
          [
           null
          ],
          [
           null
          ],
          [
           null
          ],
          [
           null
          ],
          [
           null
          ],
          [
           null
          ],
          [
           null
          ],
          [
           null
          ],
          [
           null
          ],
          [
           null
          ],
          [
           null
          ],
          [
           null
          ],
          [
           null
          ],
          [
           null
          ],
          [
           null
          ],
          [
           null
          ],
          [
           null
          ],
          [
           null
          ],
          [
           null
          ],
          [
           null
          ],
          [
           null
          ],
          [
           null
          ],
          [
           null
          ],
          [
           null
          ],
          [
           null
          ],
          [
           null
          ],
          [
           null
          ],
          [
           null
          ],
          [
           null
          ],
          [
           null
          ],
          [
           null
          ],
          [
           null
          ],
          [
           null
          ],
          [
           null
          ],
          [
           null
          ],
          [
           null
          ],
          [
           null
          ],
          [
           null
          ],
          [
           null
          ],
          [
           null
          ],
          [
           null
          ],
          [
           null
          ],
          [
           null
          ],
          [
           null
          ],
          [
           null
          ],
          [
           null
          ],
          [
           null
          ],
          [
           null
          ],
          [
           null
          ],
          [
           null
          ],
          [
           null
          ],
          [
           null
          ],
          [
           null
          ],
          [
           null
          ],
          [
           null
          ],
          [
           null
          ],
          [
           null
          ],
          [
           null
          ],
          [
           null
          ],
          [
           null
          ],
          [
           null
          ],
          [
           null
          ],
          [
           null
          ],
          [
           null
          ],
          [
           null
          ],
          [
           null
          ]
         ],
         "hovertemplate": "category=Serviettes hygièniques<br>Price=%{x}<br>Number of Reviews=%{y}<br>unities=%{customdata[0]}<extra></extra>",
         "legendgroup": "Serviettes hygièniques",
         "marker": {
          "color": "#00cc96",
          "symbol": "circle"
         },
         "mode": "markers",
         "name": "Serviettes hygièniques",
         "orientation": "v",
         "showlegend": true,
         "type": "scatter",
         "x": [
          19.99,
          2.06,
          2.45,
          9.99,
          24.99,
          1.98,
          1.79,
          2.4,
          1.99,
          3.49,
          1.55,
          2.36,
          2.99,
          3.75,
          2.17,
          2.02,
          3.98,
          4.58,
          22.53,
          23.6,
          2.91,
          22.39,
          2.5,
          14.5,
          35.56,
          25.74,
          2.95,
          2.95,
          39,
          33.52,
          19.03,
          3.98,
          28.09,
          23.99,
          null,
          34.97,
          55.65,
          30.09,
          59.97,
          18.5,
          null,
          34.9,
          null,
          28,
          39.45,
          2.79,
          32.12,
          28.99,
          29.99,
          3.5,
          29.9,
          25,
          9.98,
          25.99,
          31.5,
          29.9,
          31.11,
          26.9,
          16.5,
          5.64,
          24.99,
          21.45,
          26.4,
          19.99,
          26.11,
          19.25,
          22.99,
          15.4,
          23,
          24.99,
          26.12,
          20.99,
          14.99,
          14.24,
          20.99,
          3.58,
          14.99,
          20.69,
          null,
          2.79,
          19.82,
          10.99,
          32.55,
          30.8,
          19.99,
          17.3,
          1.69,
          20.08,
          14.99,
          16.99,
          34.67,
          3.99,
          19.29,
          16.99,
          36.35,
          31.09,
          16.99,
          15.24,
          14.99,
          10.8,
          1.69,
          30,
          18.39,
          14.9,
          12.6,
          2.99,
          15.24,
          12.99,
          2.79,
          1.45,
          1.79,
          14.16,
          6.29,
          5.5,
          15.88,
          5.54,
          12.22,
          5.35,
          14.99,
          9.88,
          8.18,
          1.69,
          11.89,
          10.33,
          8.99,
          7.99,
          7.5,
          19.49,
          3.19,
          6.89,
          4.19,
          15.99,
          6.82,
          9.49,
          7.63,
          19.99,
          9,
          13.9,
          3.39,
          9.06,
          9.69,
          7.3,
          6.79,
          9.07,
          4.56,
          8.4,
          7.49,
          null,
          14.9,
          7.59,
          16.78,
          5.99,
          4.85,
          4.49,
          5.49,
          10.99,
          5.88,
          7.86,
          5.5,
          3.7,
          9.22,
          6.99,
          3,
          36,
          39.97,
          null,
          6.05,
          6.05,
          19.99,
          33.99,
          3.18,
          35.99,
          17.68,
          19.22,
          null,
          null,
          null,
          21.8,
          3.69,
          29.45,
          25.95,
          13.79,
          4.98,
          15.86,
          5.36,
          null,
          5.99,
          12,
          18.9,
          19.99,
          3.59,
          25.78,
          7.96,
          26.9,
          7.44,
          2.99,
          14.72,
          4.98,
          20.99,
          10,
          null
         ],
         "xaxis": "x",
         "y": [
          808,
          810,
          262,
          252,
          360,
          871,
          1037,
          105,
          115,
          423,
          681,
          1147,
          169,
          15,
          835,
          102,
          5,
          76,
          6085,
          959,
          496,
          283,
          1,
          352,
          1434,
          66,
          264,
          561,
          1347,
          184,
          2751,
          4,
          4,
          3110,
          682,
          337,
          8174,
          1127,
          2416,
          14694,
          291,
          11,
          224,
          2,
          488,
          860,
          1,
          208,
          2064,
          1839,
          21,
          366,
          845,
          66,
          49,
          1,
          null,
          331,
          778,
          61,
          219,
          34,
          null,
          771,
          null,
          86,
          1004,
          81,
          77,
          360,
          65,
          1972,
          7052,
          38,
          111,
          4,
          3093,
          10,
          5,
          231,
          36,
          156,
          1232,
          19,
          36,
          20,
          29,
          2,
          4100,
          null,
          413,
          11,
          51,
          341,
          13,
          923,
          17,
          38,
          814,
          429,
          19,
          909,
          null,
          41,
          534,
          18,
          21,
          null,
          10,
          14,
          16,
          null,
          6,
          784,
          138,
          26,
          1183,
          626,
          456,
          21,
          105,
          21,
          117,
          36,
          356,
          147,
          null,
          575,
          1,
          1934,
          3,
          808,
          288,
          16,
          17,
          235,
          835,
          2,
          2,
          15,
          74,
          16,
          1635,
          5,
          36,
          50,
          3,
          1,
          32,
          null,
          5,
          31,
          310,
          140,
          3,
          null,
          75,
          1,
          1,
          2,
          253,
          60,
          6,
          11,
          46,
          317,
          329,
          604,
          128,
          null,
          12,
          null,
          null,
          1,
          866,
          null,
          null,
          11,
          115,
          122,
          34,
          8,
          2,
          1,
          461,
          null,
          60,
          27,
          5,
          1338,
          70,
          1232,
          835,
          331,
          810,
          681,
          null,
          12,
          3,
          1118,
          636
         ],
         "yaxis": "y"
        },
        {
         "customdata": [
          [
           1
          ]
         ],
         "hovertemplate": "category=Lames<br>Price=%{x}<br>Number of Reviews=%{y}<br>unities=%{customdata[0]}<extra></extra>",
         "legendgroup": "Lames",
         "marker": {
          "color": "#ab63fa",
          "symbol": "circle"
         },
         "mode": "markers",
         "name": "Lames",
         "orientation": "v",
         "showlegend": true,
         "type": "scatter",
         "x": [
          26.52
         ],
         "xaxis": "x",
         "y": [
          253
         ],
         "yaxis": "y"
        },
        {
         "customdata": [
          [
           null
          ],
          [
           null
          ],
          [
           null
          ]
         ],
         "hovertemplate": "category=Shorties<br>Price=%{x}<br>Number of Reviews=%{y}<br>unities=%{customdata[0]}<extra></extra>",
         "legendgroup": "Shorties",
         "marker": {
          "color": "#FFA15A",
          "symbol": "circle"
         },
         "mode": "markers",
         "name": "Shorties",
         "orientation": "v",
         "showlegend": true,
         "type": "scatter",
         "x": [
          25.19,
          24.99,
          3.98
         ],
         "xaxis": "x",
         "y": [
          67,
          42,
          null
         ],
         "yaxis": "y"
        },
        {
         "customdata": [
          [
           1
          ]
         ],
         "hovertemplate": "category=Déodorant<br>Price=%{x}<br>Number of Reviews=%{y}<br>unities=%{customdata[0]}<extra></extra>",
         "legendgroup": "Déodorant",
         "marker": {
          "color": "#19d3f3",
          "symbol": "circle"
         },
         "mode": "markers",
         "name": "Déodorant",
         "orientation": "v",
         "showlegend": true,
         "type": "scatter",
         "x": [
          13.76
         ],
         "xaxis": "x",
         "y": [
          null
         ],
         "yaxis": "y"
        },
        {
         "customdata": [
          [
           null
          ]
         ],
         "hovertemplate": "category=Culottes<br>Price=%{x}<br>Number of Reviews=%{y}<br>unities=%{customdata[0]}<extra></extra>",
         "legendgroup": "Culottes",
         "marker": {
          "color": "#FF6692",
          "symbol": "circle"
         },
         "mode": "markers",
         "name": "Culottes",
         "orientation": "v",
         "showlegend": true,
         "type": "scatter",
         "x": [
          11.98
         ],
         "xaxis": "x",
         "y": [
          null
         ],
         "yaxis": "y"
        },
        {
         "customdata": [
          [
           null
          ],
          [
           null
          ],
          [
           null
          ],
          [
           null
          ]
         ],
         "hovertemplate": "category=Culottes et slips<br>Price=%{x}<br>Number of Reviews=%{y}<br>unities=%{customdata[0]}<extra></extra>",
         "legendgroup": "Culottes et slips",
         "marker": {
          "color": "#B6E880",
          "symbol": "circle"
         },
         "mode": "markers",
         "name": "Culottes et slips",
         "orientation": "v",
         "showlegend": true,
         "type": "scatter",
         "x": [
          6.98,
          39.99,
          25.99,
          18.99
         ],
         "xaxis": "x",
         "y": [
          null,
          258,
          7051,
          7051
         ],
         "yaxis": "y"
        },
        {
         "customdata": [
          [
           null
          ],
          [
           null
          ],
          [
           null
          ],
          [
           null
          ],
          [
           null
          ],
          [
           null
          ],
          [
           null
          ],
          [
           null
          ],
          [
           null
          ],
          [
           null
          ],
          [
           null
          ],
          [
           null
          ],
          [
           null
          ],
          [
           null
          ]
         ],
         "hovertemplate": "category=Culottes et sous-vêtements de protection<br>Price=%{x}<br>Number of Reviews=%{y}<br>unities=%{customdata[0]}<extra></extra>",
         "legendgroup": "Culottes et sous-vêtements de protection",
         "marker": {
          "color": "#FF97FF",
          "symbol": "circle"
         },
         "mode": "markers",
         "name": "Culottes et sous-vêtements de protection",
         "orientation": "v",
         "showlegend": true,
         "type": "scatter",
         "x": [
          5.98,
          3.98,
          2.98,
          27.99,
          19.99,
          32.99,
          30.9,
          22.99,
          49.99,
          16.9,
          29.9,
          3.98,
          19.9,
          22.99
         ],
         "xaxis": "x",
         "y": [
          null,
          null,
          null,
          3191,
          2120,
          573,
          2396,
          2141,
          16,
          572,
          572,
          null,
          null,
          2141
         ],
         "yaxis": "y"
        },
        {
         "customdata": [
          [
           null
          ]
         ],
         "hovertemplate": "category=Femme<br>Price=%{x}<br>Number of Reviews=%{y}<br>unities=%{customdata[0]}<extra></extra>",
         "legendgroup": "Femme",
         "marker": {
          "color": "#FECB52",
          "symbol": "circle"
         },
         "mode": "markers",
         "name": "Femme",
         "orientation": "v",
         "showlegend": true,
         "type": "scatter",
         "x": [
          5.18
         ],
         "xaxis": "x",
         "y": [
          null
         ],
         "yaxis": "y"
        },
        {
         "customdata": [
          [
           1
          ],
          [
           1
          ],
          [
           1
          ],
          [
           1
          ],
          [
           1
          ],
          [
           null
          ],
          [
           null
          ],
          [
           null
          ],
          [
           null
          ],
          [
           null
          ],
          [
           null
          ],
          [
           null
          ],
          [
           null
          ]
         ],
         "hovertemplate": "category=Hygiène et soins intimes<br>Price=%{x}<br>Number of Reviews=%{y}<br>unities=%{customdata[0]}<extra></extra>",
         "legendgroup": "Hygiène et soins intimes",
         "marker": {
          "color": "#636efa",
          "symbol": "circle"
         },
         "mode": "markers",
         "name": "Hygiène et soins intimes",
         "orientation": "v",
         "showlegend": true,
         "type": "scatter",
         "x": [
          27.96,
          10.16,
          29.95,
          29.95,
          13.21,
          20.71,
          29.95,
          13.85,
          11.94,
          11.03,
          11.12,
          4.98,
          15.99
         ],
         "xaxis": "x",
         "y": [
          132,
          2,
          425,
          248,
          767,
          101,
          518,
          null,
          36,
          null,
          82,
          222,
          13
         ],
         "yaxis": "y"
        },
        {
         "customdata": [
          [
           1
          ],
          [
           1
          ],
          [
           1
          ],
          [
           null
          ],
          [
           null
          ],
          [
           null
          ],
          [
           null
          ],
          [
           null
          ],
          [
           null
          ],
          [
           null
          ],
          [
           null
          ]
         ],
         "hovertemplate": "category=Coupes menstruelles<br>Price=%{x}<br>Number of Reviews=%{y}<br>unities=%{customdata[0]}<extra></extra>",
         "legendgroup": "Coupes menstruelles",
         "marker": {
          "color": "#EF553B",
          "symbol": "circle"
         },
         "mode": "markers",
         "name": "Coupes menstruelles",
         "orientation": "v",
         "showlegend": true,
         "type": "scatter",
         "x": [
          17.9,
          37.45,
          7.99,
          14.59,
          27.18,
          10.99,
          17.39,
          17.99,
          15.59,
          11.99,
          9.99
         ],
         "xaxis": "x",
         "y": [
          4637,
          3515,
          1,
          null,
          10944,
          null,
          28,
          357,
          null,
          null,
          null
         ],
         "yaxis": "y"
        },
        {
         "customdata": [
          [
           1
          ],
          [
           null
          ],
          [
           null
          ],
          [
           null
          ],
          [
           null
          ]
         ],
         "hovertemplate": "category=Hygiène et épilation<br>Price=%{x}<br>Number of Reviews=%{y}<br>unities=%{customdata[0]}<extra></extra>",
         "legendgroup": "Hygiène et épilation",
         "marker": {
          "color": "#00cc96",
          "symbol": "circle"
         },
         "mode": "markers",
         "name": "Hygiène et épilation",
         "orientation": "v",
         "showlegend": true,
         "type": "scatter",
         "x": [
          15.9,
          29.14,
          29.58,
          2.69,
          9.74
         ],
         "xaxis": "x",
         "y": [
          2013,
          210,
          54,
          1259,
          1982
         ],
         "yaxis": "y"
        },
        {
         "customdata": [
          [
           14
          ],
          [
           null
          ]
         ],
         "hovertemplate": "category=Vitamines, minéraux et compléments<br>Price=%{x}<br>Number of Reviews=%{y}<br>unities=%{customdata[0]}<extra></extra>",
         "legendgroup": "Vitamines, minéraux et compléments",
         "marker": {
          "color": "#ab63fa",
          "symbol": "circle"
         },
         "mode": "markers",
         "name": "Vitamines, minéraux et compléments",
         "orientation": "v",
         "showlegend": true,
         "type": "scatter",
         "x": [
          35.93,
          13.69
         ],
         "xaxis": "x",
         "y": [
          18631,
          1
         ],
         "yaxis": "y"
        },
        {
         "customdata": [
          [
           null
          ],
          [
           null
          ],
          [
           null
          ],
          [
           null
          ],
          [
           null
          ],
          [
           null
          ],
          [
           null
          ],
          [
           null
          ],
          [
           null
          ],
          [
           null
          ],
          [
           null
          ],
          [
           null
          ],
          [
           null
          ],
          [
           null
          ],
          [
           null
          ],
          [
           null
          ],
          [
           null
          ],
          [
           null
          ],
          [
           null
          ],
          [
           null
          ],
          [
           null
          ],
          [
           null
          ],
          [
           null
          ],
          [
           null
          ],
          [
           null
          ],
          [
           null
          ],
          [
           null
          ],
          [
           null
          ],
          [
           null
          ],
          [
           null
          ],
          [
           null
          ],
          [
           null
          ],
          [
           null
          ],
          [
           null
          ],
          [
           null
          ],
          [
           null
          ],
          [
           null
          ],
          [
           null
          ],
          [
           null
          ],
          [
           null
          ],
          [
           null
          ],
          [
           null
          ],
          [
           null
          ],
          [
           null
          ],
          [
           null
          ],
          [
           null
          ],
          [
           null
          ],
          [
           null
          ],
          [
           null
          ],
          [
           null
          ],
          [
           null
          ],
          [
           null
          ],
          [
           null
          ],
          [
           null
          ],
          [
           null
          ],
          [
           null
          ],
          [
           null
          ],
          [
           null
          ],
          [
           null
          ],
          [
           null
          ],
          [
           null
          ],
          [
           null
          ],
          [
           null
          ],
          [
           null
          ],
          [
           null
          ],
          [
           null
          ],
          [
           null
          ],
          [
           null
          ],
          [
           null
          ],
          [
           null
          ],
          [
           null
          ],
          [
           null
          ],
          [
           null
          ],
          [
           null
          ],
          [
           null
          ],
          [
           null
          ],
          [
           null
          ],
          [
           null
          ],
          [
           null
          ],
          [
           null
          ],
          [
           null
          ],
          [
           null
          ],
          [
           null
          ],
          [
           null
          ],
          [
           null
          ],
          [
           null
          ],
          [
           null
          ],
          [
           null
          ],
          [
           null
          ],
          [
           null
          ],
          [
           null
          ],
          [
           null
          ],
          [
           null
          ],
          [
           null
          ],
          [
           null
          ],
          [
           null
          ],
          [
           null
          ],
          [
           null
          ],
          [
           null
          ],
          [
           null
          ],
          [
           null
          ],
          [
           null
          ],
          [
           null
          ],
          [
           null
          ],
          [
           null
          ],
          [
           null
          ],
          [
           null
          ],
          [
           null
          ],
          [
           null
          ],
          [
           null
          ],
          [
           null
          ],
          [
           null
          ],
          [
           null
          ],
          [
           null
          ],
          [
           null
          ],
          [
           null
          ],
          [
           null
          ],
          [
           null
          ],
          [
           null
          ],
          [
           null
          ],
          [
           null
          ],
          [
           null
          ],
          [
           null
          ],
          [
           null
          ],
          [
           null
          ],
          [
           null
          ],
          [
           null
          ],
          [
           null
          ],
          [
           null
          ],
          [
           null
          ],
          [
           null
          ],
          [
           null
          ],
          [
           null
          ],
          [
           null
          ],
          [
           null
          ],
          [
           null
          ],
          [
           null
          ],
          [
           null
          ],
          [
           null
          ],
          [
           null
          ],
          [
           null
          ],
          [
           null
          ],
          [
           null
          ],
          [
           null
          ],
          [
           null
          ],
          [
           null
          ],
          [
           null
          ],
          [
           null
          ],
          [
           null
          ],
          [
           null
          ],
          [
           null
          ],
          [
           null
          ],
          [
           null
          ],
          [
           null
          ],
          [
           null
          ],
          [
           null
          ],
          [
           null
          ],
          [
           null
          ],
          [
           null
          ],
          [
           null
          ],
          [
           null
          ],
          [
           null
          ],
          [
           null
          ],
          [
           null
          ],
          [
           null
          ],
          [
           null
          ],
          [
           null
          ],
          [
           null
          ],
          [
           null
          ],
          [
           null
          ],
          [
           null
          ],
          [
           null
          ],
          [
           null
          ],
          [
           null
          ],
          [
           null
          ],
          [
           null
          ],
          [
           null
          ],
          [
           null
          ],
          [
           null
          ],
          [
           null
          ],
          [
           null
          ],
          [
           null
          ],
          [
           null
          ],
          [
           null
          ],
          [
           null
          ],
          [
           null
          ],
          [
           null
          ],
          [
           null
          ],
          [
           null
          ],
          [
           null
          ],
          [
           null
          ],
          [
           null
          ],
          [
           null
          ],
          [
           null
          ],
          [
           null
          ],
          [
           null
          ],
          [
           null
          ],
          [
           null
          ],
          [
           null
          ],
          [
           null
          ],
          [
           null
          ],
          [
           null
          ],
          [
           null
          ],
          [
           null
          ],
          [
           null
          ],
          [
           null
          ],
          [
           null
          ],
          [
           null
          ],
          [
           null
          ],
          [
           null
          ],
          [
           null
          ],
          [
           null
          ],
          [
           null
          ],
          [
           null
          ],
          [
           null
          ],
          [
           null
          ],
          [
           null
          ],
          [
           null
          ],
          [
           null
          ],
          [
           null
          ],
          [
           null
          ],
          [
           null
          ],
          [
           null
          ],
          [
           null
          ],
          [
           null
          ],
          [
           null
          ],
          [
           null
          ],
          [
           null
          ],
          [
           null
          ],
          [
           null
          ],
          [
           null
          ],
          [
           null
          ],
          [
           null
          ],
          [
           null
          ],
          [
           null
          ],
          [
           null
          ],
          [
           null
          ],
          [
           null
          ],
          [
           null
          ],
          [
           null
          ],
          [
           null
          ],
          [
           null
          ],
          [
           null
          ],
          [
           null
          ],
          [
           null
          ],
          [
           null
          ],
          [
           1
          ],
          [
           null
          ],
          [
           null
          ],
          [
           null
          ],
          [
           null
          ],
          [
           null
          ],
          [
           null
          ],
          [
           null
          ],
          [
           null
          ],
          [
           null
          ],
          [
           null
          ],
          [
           null
          ],
          [
           null
          ]
         ],
         "hovertemplate": "category=Protège-slips<br>Price=%{x}<br>Number of Reviews=%{y}<br>unities=%{customdata[0]}<extra></extra>",
         "legendgroup": "Protège-slips",
         "marker": {
          "color": "#FFA15A",
          "symbol": "circle"
         },
         "mode": "markers",
         "name": "Protège-slips",
         "orientation": "v",
         "showlegend": true,
         "type": "scatter",
         "x": [
          17.73,
          3.12,
          1.99,
          3.49,
          1.99,
          null,
          1.89,
          3.33,
          1.13,
          1.86,
          2.95,
          1.98,
          3.82,
          22,
          2.34,
          19.92,
          17.6,
          21.85,
          9.54,
          23.1,
          3.2,
          3.95,
          15.99,
          3.11,
          69.9,
          43.97,
          3.77,
          44,
          47.97,
          9.99,
          17.99,
          11.41,
          26.78,
          34.86,
          37.97,
          39.01,
          34.92,
          34.99,
          39.95,
          null,
          20.24,
          27.44,
          8.74,
          28.99,
          25.99,
          25.29,
          13.99,
          15.05,
          20.99,
          21.57,
          19.9,
          23.99,
          24.9,
          29.89,
          18.32,
          20.87,
          21.18,
          19.9,
          6.74,
          14.9,
          18.04,
          3.49,
          null,
          13.9,
          13.2,
          63,
          9.99,
          5.58,
          7.9,
          1.69,
          null,
          52,
          11.97,
          8.99,
          9.99,
          1.49,
          9.99,
          20.99,
          44,
          37.99,
          52.89,
          5.9,
          3.09,
          9.8,
          33.25,
          35.99,
          37.2,
          37.99,
          10.8,
          33.95,
          null,
          15.58,
          47.56,
          9.95,
          16.05,
          4.09,
          40.47,
          35.71,
          9.7,
          32.98,
          7.22,
          6.95,
          25.9,
          25,
          18.26,
          25.48,
          3.69,
          5.24,
          7.45,
          25.44,
          null,
          2.99,
          5.5,
          14.09,
          2.95,
          3.69,
          20.1,
          23.15,
          2.19,
          9.99,
          16.12,
          19.99,
          8.5,
          8.5,
          19.9,
          15.63,
          17.77,
          2.2,
          8.54,
          8.9,
          6.7,
          7.99,
          5.36,
          9.07,
          8.25,
          17.06,
          5.05,
          3.4,
          7.93,
          7.75,
          15.39,
          null,
          15.19,
          3.99,
          null,
          5.9,
          10.09,
          7,
          9.99,
          15,
          12.99,
          12.99,
          4.75,
          8.9,
          9.74,
          10.97,
          6.5,
          8.5,
          11.97,
          9.99,
          6.85,
          9.15,
          11.47,
          11.49,
          10.62,
          6.5,
          11.71,
          8.35,
          null,
          10.54,
          8.95,
          7.99,
          8.15,
          11.12,
          8.9,
          null,
          4.49,
          4.5,
          8.37,
          8.9,
          8.64,
          9.95,
          8.99,
          6.49,
          8.17,
          3.69,
          6.84,
          6.5,
          8.12,
          7.15,
          7.86,
          5.9,
          7.25,
          9.45,
          6.78,
          3.24,
          5.59,
          4,
          4.9,
          4.39,
          4.67,
          5.91,
          5,
          4.71,
          3.47,
          37.99,
          10.99,
          33.99,
          11.81,
          18.86,
          null,
          19,
          52.89,
          12,
          2.82,
          37.2,
          23.8,
          47.56,
          7.99,
          9.99,
          47.56,
          47.56,
          12.9,
          null,
          14.05,
          null,
          4.23,
          20.5,
          null,
          42.5,
          21.99,
          5.9,
          8.53,
          11.01,
          4.86,
          17,
          16.55,
          11.9,
          47.5,
          3.85,
          12.89,
          6.84,
          24.9,
          6.49,
          1.72,
          43.97,
          60.19,
          12.07,
          null,
          null,
          13.42,
          null,
          null,
          null,
          null,
          12,
          20.99,
          null,
          6.5
         ],
         "xaxis": "x",
         "y": [
          9,
          674,
          26,
          496,
          207,
          28,
          215,
          760,
          176,
          1123,
          504,
          17,
          811,
          36,
          156,
          49,
          123,
          201,
          5,
          6,
          3,
          105,
          1615,
          30,
          4,
          4185,
          1,
          null,
          2416,
          192,
          2,
          170,
          455,
          1,
          77,
          null,
          7,
          null,
          325,
          2,
          433,
          80,
          11,
          null,
          57,
          null,
          9327,
          7,
          16,
          8,
          2,
          null,
          2,
          6,
          154,
          15307,
          56,
          60,
          19,
          166,
          11,
          338,
          638,
          183,
          6,
          23,
          9749,
          1,
          190,
          15,
          126,
          44,
          122,
          4,
          21,
          23,
          5286,
          1123,
          null,
          null,
          null,
          null,
          25,
          607,
          8,
          424,
          null,
          null,
          5,
          1,
          80,
          90,
          null,
          48,
          9,
          105,
          1,
          null,
          159,
          2,
          5,
          null,
          40,
          null,
          107,
          323,
          10,
          194,
          108,
          1,
          92,
          null,
          null,
          2,
          80,
          14,
          76,
          1,
          7,
          312,
          1,
          13,
          43,
          155,
          1,
          5,
          578,
          null,
          182,
          189,
          21,
          222,
          3,
          92,
          8,
          15,
          27,
          72,
          164,
          379,
          18,
          83,
          null,
          6,
          2197,
          1676,
          116,
          141,
          6,
          null,
          210,
          1,
          40,
          24,
          327,
          375,
          1306,
          90,
          4,
          null,
          101,
          235,
          39,
          82,
          462,
          14,
          1,
          464,
          null,
          null,
          13,
          246,
          15,
          null,
          98,
          2131,
          4,
          null,
          21,
          96,
          114,
          20,
          null,
          null,
          26,
          2,
          3,
          275,
          13,
          9,
          1,
          null,
          67,
          12,
          6,
          1250,
          384,
          18,
          41,
          1,
          null,
          104,
          null,
          null,
          null,
          null,
          null,
          null,
          322,
          4805,
          7,
          null,
          null,
          1,
          16,
          null,
          null,
          null,
          165,
          null,
          null,
          null,
          136,
          null,
          null,
          111,
          91,
          null,
          null,
          null,
          57,
          156,
          8,
          179,
          28,
          1,
          22,
          43,
          null,
          28,
          18,
          2,
          4,
          2,
          1123,
          4185,
          null,
          175,
          8,
          23,
          1,
          425,
          3,
          76,
          101,
          2,
          1,
          437,
          37
         ],
         "yaxis": "y"
        },
        {
         "customdata": [
          [
           null
          ],
          [
           null
          ],
          [
           null
          ],
          [
           null
          ],
          [
           null
          ],
          [
           null
          ]
         ],
         "hovertemplate": "category=Protections, serviettes hygiéniques, couches pour adultes, protège-slips<br>Price=%{x}<br>Number of Reviews=%{y}<br>unities=%{customdata[0]}<extra></extra>",
         "legendgroup": "Protections, serviettes hygiéniques, couches pour adultes, protège-slips",
         "marker": {
          "color": "#19d3f3",
          "symbol": "circle"
         },
         "mode": "markers",
         "name": "Protections, serviettes hygiéniques, couches pour adultes, protège-slips",
         "orientation": "v",
         "showlegend": true,
         "type": "scatter",
         "x": [
          9.19,
          37.35,
          28.14,
          null,
          16.14,
          14.87
         ],
         "xaxis": "x",
         "y": [
          636,
          1161,
          1268,
          2081,
          2192,
          1421
         ],
         "yaxis": "y"
        },
        {
         "customdata": [
          [
           null
          ]
         ],
         "hovertemplate": "category=Vêtements de contention médicaux<br>Price=%{x}<br>Number of Reviews=%{y}<br>unities=%{customdata[0]}<extra></extra>",
         "legendgroup": "Vêtements de contention médicaux",
         "marker": {
          "color": "#FF6692",
          "symbol": "circle"
         },
         "mode": "markers",
         "name": "Vêtements de contention médicaux",
         "orientation": "v",
         "showlegend": true,
         "type": "scatter",
         "x": [
          3.99
         ],
         "xaxis": "x",
         "y": [
          321
         ],
         "yaxis": "y"
        },
        {
         "customdata": [
          [
           null
          ],
          [
           null
          ],
          [
           null
          ]
         ],
         "hovertemplate": "category=Incontinence<br>Price=%{x}<br>Number of Reviews=%{y}<br>unities=%{customdata[0]}<extra></extra>",
         "legendgroup": "Incontinence",
         "marker": {
          "color": "#B6E880",
          "symbol": "circle"
         },
         "mode": "markers",
         "name": "Incontinence",
         "orientation": "v",
         "showlegend": true,
         "type": "scatter",
         "x": [
          10.9,
          7.7,
          13.3
         ],
         "xaxis": "x",
         "y": [
          687,
          97,
          215
         ],
         "yaxis": "y"
        },
        {
         "customdata": [
          [
           null
          ]
         ],
         "hovertemplate": "category=Visage<br>Price=%{x}<br>Number of Reviews=%{y}<br>unities=%{customdata[0]}<extra></extra>",
         "legendgroup": "Visage",
         "marker": {
          "color": "#FF97FF",
          "symbol": "circle"
         },
         "mode": "markers",
         "name": "Visage",
         "orientation": "v",
         "showlegend": true,
         "type": "scatter",
         "x": [
          15.5
         ],
         "xaxis": "x",
         "y": [
          1721
         ],
         "yaxis": "y"
        },
        {
         "customdata": [
          [
           null
          ]
         ],
         "hovertemplate": "category=Coussinets pour chaussures<br>Price=%{x}<br>Number of Reviews=%{y}<br>unities=%{customdata[0]}<extra></extra>",
         "legendgroup": "Coussinets pour chaussures",
         "marker": {
          "color": "#FECB52",
          "symbol": "circle"
         },
         "mode": "markers",
         "name": "Coussinets pour chaussures",
         "orientation": "v",
         "showlegend": true,
         "type": "scatter",
         "x": [
          9.99
         ],
         "xaxis": "x",
         "y": [
          null
         ],
         "yaxis": "y"
        },
        {
         "customdata": [
          [
           null
          ]
         ],
         "hovertemplate": "category=Beauté et soins<br>Price=%{x}<br>Number of Reviews=%{y}<br>unities=%{customdata[0]}<extra></extra>",
         "legendgroup": "Beauté et soins",
         "marker": {
          "color": "#636efa",
          "symbol": "circle"
         },
         "mode": "markers",
         "name": "Beauté et soins",
         "orientation": "v",
         "showlegend": true,
         "type": "scatter",
         "x": [
          15.99
         ],
         "xaxis": "x",
         "y": [
          3
         ],
         "yaxis": "y"
        },
        {
         "customdata": [
          [
           null
          ],
          [
           null
          ]
         ],
         "hovertemplate": "category=Produits d'hygiène féminine<br>Price=%{x}<br>Number of Reviews=%{y}<br>unities=%{customdata[0]}<extra></extra>",
         "legendgroup": "Produits d'hygiène féminine",
         "marker": {
          "color": "#EF553B",
          "symbol": "circle"
         },
         "mode": "markers",
         "name": "Produits d'hygiène féminine",
         "orientation": "v",
         "showlegend": true,
         "type": "scatter",
         "x": [
          14.32,
          null
         ],
         "xaxis": "x",
         "y": [
          5,
          18
         ],
         "yaxis": "y"
        },
        {
         "customdata": [
          [
           null
          ]
         ],
         "hovertemplate": "category=Épilation à la cire<br>Price=%{x}<br>Number of Reviews=%{y}<br>unities=%{customdata[0]}<extra></extra>",
         "legendgroup": "Épilation à la cire",
         "marker": {
          "color": "#00cc96",
          "symbol": "circle"
         },
         "mode": "markers",
         "name": "Épilation à la cire",
         "orientation": "v",
         "showlegend": true,
         "type": "scatter",
         "x": [
          11.48
         ],
         "xaxis": "x",
         "y": [
          null
         ],
         "yaxis": "y"
        },
        {
         "customdata": [
          [
           null
          ]
         ],
         "hovertemplate": "category=Bannetons<br>Price=%{x}<br>Number of Reviews=%{y}<br>unities=%{customdata[0]}<extra></extra>",
         "legendgroup": "Bannetons",
         "marker": {
          "color": "#ab63fa",
          "symbol": "circle"
         },
         "mode": "markers",
         "name": "Bannetons",
         "orientation": "v",
         "showlegend": true,
         "type": "scatter",
         "x": [
          10.99
         ],
         "xaxis": "x",
         "y": [
          14
         ],
         "yaxis": "y"
        },
        {
         "customdata": [
          [
           null
          ]
         ],
         "hovertemplate": "category=Bien-être<br>Price=%{x}<br>Number of Reviews=%{y}<br>unities=%{customdata[0]}<extra></extra>",
         "legendgroup": "Bien-être",
         "marker": {
          "color": "#FFA15A",
          "symbol": "circle"
         },
         "mode": "markers",
         "name": "Bien-être",
         "orientation": "v",
         "showlegend": true,
         "type": "scatter",
         "x": [
          7.52
         ],
         "xaxis": "x",
         "y": [
          null
         ],
         "yaxis": "y"
        },
        {
         "customdata": [
          [
           null
          ],
          [
           null
          ]
         ],
         "hovertemplate": "category=Diffuseurs d'huiles essentielles<br>Price=%{x}<br>Number of Reviews=%{y}<br>unities=%{customdata[0]}<extra></extra>",
         "legendgroup": "Diffuseurs d'huiles essentielles",
         "marker": {
          "color": "#19d3f3",
          "symbol": "circle"
         },
         "mode": "markers",
         "name": "Diffuseurs d'huiles essentielles",
         "orientation": "v",
         "showlegend": true,
         "type": "scatter",
         "x": [
          19.99,
          14.29
         ],
         "xaxis": "x",
         "y": [
          344,
          26
         ],
         "yaxis": "y"
        }
       ],
       "layout": {
        "legend": {
         "title": {
          "text": "category"
         },
         "tracegroupgap": 0
        },
        "template": {
         "data": {
          "bar": [
           {
            "error_x": {
             "color": "#2a3f5f"
            },
            "error_y": {
             "color": "#2a3f5f"
            },
            "marker": {
             "line": {
              "color": "#E5ECF6",
              "width": 0.5
             },
             "pattern": {
              "fillmode": "overlay",
              "size": 10,
              "solidity": 0.2
             }
            },
            "type": "bar"
           }
          ],
          "barpolar": [
           {
            "marker": {
             "line": {
              "color": "#E5ECF6",
              "width": 0.5
             },
             "pattern": {
              "fillmode": "overlay",
              "size": 10,
              "solidity": 0.2
             }
            },
            "type": "barpolar"
           }
          ],
          "carpet": [
           {
            "aaxis": {
             "endlinecolor": "#2a3f5f",
             "gridcolor": "white",
             "linecolor": "white",
             "minorgridcolor": "white",
             "startlinecolor": "#2a3f5f"
            },
            "baxis": {
             "endlinecolor": "#2a3f5f",
             "gridcolor": "white",
             "linecolor": "white",
             "minorgridcolor": "white",
             "startlinecolor": "#2a3f5f"
            },
            "type": "carpet"
           }
          ],
          "choropleth": [
           {
            "colorbar": {
             "outlinewidth": 0,
             "ticks": ""
            },
            "type": "choropleth"
           }
          ],
          "contour": [
           {
            "colorbar": {
             "outlinewidth": 0,
             "ticks": ""
            },
            "colorscale": [
             [
              0,
              "#0d0887"
             ],
             [
              0.1111111111111111,
              "#46039f"
             ],
             [
              0.2222222222222222,
              "#7201a8"
             ],
             [
              0.3333333333333333,
              "#9c179e"
             ],
             [
              0.4444444444444444,
              "#bd3786"
             ],
             [
              0.5555555555555556,
              "#d8576b"
             ],
             [
              0.6666666666666666,
              "#ed7953"
             ],
             [
              0.7777777777777778,
              "#fb9f3a"
             ],
             [
              0.8888888888888888,
              "#fdca26"
             ],
             [
              1,
              "#f0f921"
             ]
            ],
            "type": "contour"
           }
          ],
          "contourcarpet": [
           {
            "colorbar": {
             "outlinewidth": 0,
             "ticks": ""
            },
            "type": "contourcarpet"
           }
          ],
          "heatmap": [
           {
            "colorbar": {
             "outlinewidth": 0,
             "ticks": ""
            },
            "colorscale": [
             [
              0,
              "#0d0887"
             ],
             [
              0.1111111111111111,
              "#46039f"
             ],
             [
              0.2222222222222222,
              "#7201a8"
             ],
             [
              0.3333333333333333,
              "#9c179e"
             ],
             [
              0.4444444444444444,
              "#bd3786"
             ],
             [
              0.5555555555555556,
              "#d8576b"
             ],
             [
              0.6666666666666666,
              "#ed7953"
             ],
             [
              0.7777777777777778,
              "#fb9f3a"
             ],
             [
              0.8888888888888888,
              "#fdca26"
             ],
             [
              1,
              "#f0f921"
             ]
            ],
            "type": "heatmap"
           }
          ],
          "heatmapgl": [
           {
            "colorbar": {
             "outlinewidth": 0,
             "ticks": ""
            },
            "colorscale": [
             [
              0,
              "#0d0887"
             ],
             [
              0.1111111111111111,
              "#46039f"
             ],
             [
              0.2222222222222222,
              "#7201a8"
             ],
             [
              0.3333333333333333,
              "#9c179e"
             ],
             [
              0.4444444444444444,
              "#bd3786"
             ],
             [
              0.5555555555555556,
              "#d8576b"
             ],
             [
              0.6666666666666666,
              "#ed7953"
             ],
             [
              0.7777777777777778,
              "#fb9f3a"
             ],
             [
              0.8888888888888888,
              "#fdca26"
             ],
             [
              1,
              "#f0f921"
             ]
            ],
            "type": "heatmapgl"
           }
          ],
          "histogram": [
           {
            "marker": {
             "pattern": {
              "fillmode": "overlay",
              "size": 10,
              "solidity": 0.2
             }
            },
            "type": "histogram"
           }
          ],
          "histogram2d": [
           {
            "colorbar": {
             "outlinewidth": 0,
             "ticks": ""
            },
            "colorscale": [
             [
              0,
              "#0d0887"
             ],
             [
              0.1111111111111111,
              "#46039f"
             ],
             [
              0.2222222222222222,
              "#7201a8"
             ],
             [
              0.3333333333333333,
              "#9c179e"
             ],
             [
              0.4444444444444444,
              "#bd3786"
             ],
             [
              0.5555555555555556,
              "#d8576b"
             ],
             [
              0.6666666666666666,
              "#ed7953"
             ],
             [
              0.7777777777777778,
              "#fb9f3a"
             ],
             [
              0.8888888888888888,
              "#fdca26"
             ],
             [
              1,
              "#f0f921"
             ]
            ],
            "type": "histogram2d"
           }
          ],
          "histogram2dcontour": [
           {
            "colorbar": {
             "outlinewidth": 0,
             "ticks": ""
            },
            "colorscale": [
             [
              0,
              "#0d0887"
             ],
             [
              0.1111111111111111,
              "#46039f"
             ],
             [
              0.2222222222222222,
              "#7201a8"
             ],
             [
              0.3333333333333333,
              "#9c179e"
             ],
             [
              0.4444444444444444,
              "#bd3786"
             ],
             [
              0.5555555555555556,
              "#d8576b"
             ],
             [
              0.6666666666666666,
              "#ed7953"
             ],
             [
              0.7777777777777778,
              "#fb9f3a"
             ],
             [
              0.8888888888888888,
              "#fdca26"
             ],
             [
              1,
              "#f0f921"
             ]
            ],
            "type": "histogram2dcontour"
           }
          ],
          "mesh3d": [
           {
            "colorbar": {
             "outlinewidth": 0,
             "ticks": ""
            },
            "type": "mesh3d"
           }
          ],
          "parcoords": [
           {
            "line": {
             "colorbar": {
              "outlinewidth": 0,
              "ticks": ""
             }
            },
            "type": "parcoords"
           }
          ],
          "pie": [
           {
            "automargin": true,
            "type": "pie"
           }
          ],
          "scatter": [
           {
            "fillpattern": {
             "fillmode": "overlay",
             "size": 10,
             "solidity": 0.2
            },
            "type": "scatter"
           }
          ],
          "scatter3d": [
           {
            "line": {
             "colorbar": {
              "outlinewidth": 0,
              "ticks": ""
             }
            },
            "marker": {
             "colorbar": {
              "outlinewidth": 0,
              "ticks": ""
             }
            },
            "type": "scatter3d"
           }
          ],
          "scattercarpet": [
           {
            "marker": {
             "colorbar": {
              "outlinewidth": 0,
              "ticks": ""
             }
            },
            "type": "scattercarpet"
           }
          ],
          "scattergeo": [
           {
            "marker": {
             "colorbar": {
              "outlinewidth": 0,
              "ticks": ""
             }
            },
            "type": "scattergeo"
           }
          ],
          "scattergl": [
           {
            "marker": {
             "colorbar": {
              "outlinewidth": 0,
              "ticks": ""
             }
            },
            "type": "scattergl"
           }
          ],
          "scattermapbox": [
           {
            "marker": {
             "colorbar": {
              "outlinewidth": 0,
              "ticks": ""
             }
            },
            "type": "scattermapbox"
           }
          ],
          "scatterpolar": [
           {
            "marker": {
             "colorbar": {
              "outlinewidth": 0,
              "ticks": ""
             }
            },
            "type": "scatterpolar"
           }
          ],
          "scatterpolargl": [
           {
            "marker": {
             "colorbar": {
              "outlinewidth": 0,
              "ticks": ""
             }
            },
            "type": "scatterpolargl"
           }
          ],
          "scatterternary": [
           {
            "marker": {
             "colorbar": {
              "outlinewidth": 0,
              "ticks": ""
             }
            },
            "type": "scatterternary"
           }
          ],
          "surface": [
           {
            "colorbar": {
             "outlinewidth": 0,
             "ticks": ""
            },
            "colorscale": [
             [
              0,
              "#0d0887"
             ],
             [
              0.1111111111111111,
              "#46039f"
             ],
             [
              0.2222222222222222,
              "#7201a8"
             ],
             [
              0.3333333333333333,
              "#9c179e"
             ],
             [
              0.4444444444444444,
              "#bd3786"
             ],
             [
              0.5555555555555556,
              "#d8576b"
             ],
             [
              0.6666666666666666,
              "#ed7953"
             ],
             [
              0.7777777777777778,
              "#fb9f3a"
             ],
             [
              0.8888888888888888,
              "#fdca26"
             ],
             [
              1,
              "#f0f921"
             ]
            ],
            "type": "surface"
           }
          ],
          "table": [
           {
            "cells": {
             "fill": {
              "color": "#EBF0F8"
             },
             "line": {
              "color": "white"
             }
            },
            "header": {
             "fill": {
              "color": "#C8D4E3"
             },
             "line": {
              "color": "white"
             }
            },
            "type": "table"
           }
          ]
         },
         "layout": {
          "annotationdefaults": {
           "arrowcolor": "#2a3f5f",
           "arrowhead": 0,
           "arrowwidth": 1
          },
          "autotypenumbers": "strict",
          "coloraxis": {
           "colorbar": {
            "outlinewidth": 0,
            "ticks": ""
           }
          },
          "colorscale": {
           "diverging": [
            [
             0,
             "#8e0152"
            ],
            [
             0.1,
             "#c51b7d"
            ],
            [
             0.2,
             "#de77ae"
            ],
            [
             0.3,
             "#f1b6da"
            ],
            [
             0.4,
             "#fde0ef"
            ],
            [
             0.5,
             "#f7f7f7"
            ],
            [
             0.6,
             "#e6f5d0"
            ],
            [
             0.7,
             "#b8e186"
            ],
            [
             0.8,
             "#7fbc41"
            ],
            [
             0.9,
             "#4d9221"
            ],
            [
             1,
             "#276419"
            ]
           ],
           "sequential": [
            [
             0,
             "#0d0887"
            ],
            [
             0.1111111111111111,
             "#46039f"
            ],
            [
             0.2222222222222222,
             "#7201a8"
            ],
            [
             0.3333333333333333,
             "#9c179e"
            ],
            [
             0.4444444444444444,
             "#bd3786"
            ],
            [
             0.5555555555555556,
             "#d8576b"
            ],
            [
             0.6666666666666666,
             "#ed7953"
            ],
            [
             0.7777777777777778,
             "#fb9f3a"
            ],
            [
             0.8888888888888888,
             "#fdca26"
            ],
            [
             1,
             "#f0f921"
            ]
           ],
           "sequentialminus": [
            [
             0,
             "#0d0887"
            ],
            [
             0.1111111111111111,
             "#46039f"
            ],
            [
             0.2222222222222222,
             "#7201a8"
            ],
            [
             0.3333333333333333,
             "#9c179e"
            ],
            [
             0.4444444444444444,
             "#bd3786"
            ],
            [
             0.5555555555555556,
             "#d8576b"
            ],
            [
             0.6666666666666666,
             "#ed7953"
            ],
            [
             0.7777777777777778,
             "#fb9f3a"
            ],
            [
             0.8888888888888888,
             "#fdca26"
            ],
            [
             1,
             "#f0f921"
            ]
           ]
          },
          "colorway": [
           "#636efa",
           "#EF553B",
           "#00cc96",
           "#ab63fa",
           "#FFA15A",
           "#19d3f3",
           "#FF6692",
           "#B6E880",
           "#FF97FF",
           "#FECB52"
          ],
          "font": {
           "color": "#2a3f5f"
          },
          "geo": {
           "bgcolor": "white",
           "lakecolor": "white",
           "landcolor": "#E5ECF6",
           "showlakes": true,
           "showland": true,
           "subunitcolor": "white"
          },
          "hoverlabel": {
           "align": "left"
          },
          "hovermode": "closest",
          "mapbox": {
           "style": "light"
          },
          "paper_bgcolor": "white",
          "plot_bgcolor": "#E5ECF6",
          "polar": {
           "angularaxis": {
            "gridcolor": "white",
            "linecolor": "white",
            "ticks": ""
           },
           "bgcolor": "#E5ECF6",
           "radialaxis": {
            "gridcolor": "white",
            "linecolor": "white",
            "ticks": ""
           }
          },
          "scene": {
           "xaxis": {
            "backgroundcolor": "#E5ECF6",
            "gridcolor": "white",
            "gridwidth": 2,
            "linecolor": "white",
            "showbackground": true,
            "ticks": "",
            "zerolinecolor": "white"
           },
           "yaxis": {
            "backgroundcolor": "#E5ECF6",
            "gridcolor": "white",
            "gridwidth": 2,
            "linecolor": "white",
            "showbackground": true,
            "ticks": "",
            "zerolinecolor": "white"
           },
           "zaxis": {
            "backgroundcolor": "#E5ECF6",
            "gridcolor": "white",
            "gridwidth": 2,
            "linecolor": "white",
            "showbackground": true,
            "ticks": "",
            "zerolinecolor": "white"
           }
          },
          "shapedefaults": {
           "line": {
            "color": "#2a3f5f"
           }
          },
          "ternary": {
           "aaxis": {
            "gridcolor": "white",
            "linecolor": "white",
            "ticks": ""
           },
           "baxis": {
            "gridcolor": "white",
            "linecolor": "white",
            "ticks": ""
           },
           "bgcolor": "#E5ECF6",
           "caxis": {
            "gridcolor": "white",
            "linecolor": "white",
            "ticks": ""
           }
          },
          "title": {
           "x": 0.05
          },
          "xaxis": {
           "automargin": true,
           "gridcolor": "white",
           "linecolor": "white",
           "ticks": "",
           "title": {
            "standoff": 15
           },
           "zerolinecolor": "white",
           "zerolinewidth": 2
          },
          "yaxis": {
           "automargin": true,
           "gridcolor": "white",
           "linecolor": "white",
           "ticks": "",
           "title": {
            "standoff": 15
           },
           "zerolinecolor": "white",
           "zerolinewidth": 2
          }
         }
        },
        "title": {
         "text": "Price distribution per Category"
        },
        "xaxis": {
         "anchor": "y",
         "domain": [
          0,
          1
         ],
         "title": {
          "text": "Price"
         }
        },
        "yaxis": {
         "anchor": "x",
         "domain": [
          0,
          1
         ],
         "title": {
          "text": "Number of Reviews"
         }
        }
       }
      }
     },
     "metadata": {},
     "output_type": "display_data"
    }
   ],
   "source": [
    "fig4 = px.scatter(products_df,\n",
    "                    x=\"price\",\n",
    "                    y= \"num_reviews\",\n",
    "                    color = \"category\",\n",
    "                    title= \"Price distribution per Category\",\n",
    "                    labels ={\"num_reviews\" : \"Number of Reviews\", \"price\" : \"Price\"},\n",
    "                    hover_data=[\"unities\"])\n",
    "fig4.show()"
   ]
  },
  {
   "cell_type": "code",
   "execution_count": 42,
   "metadata": {},
   "outputs": [
    {
     "name": "stderr",
     "output_type": "stream",
     "text": [
      "C:\\Users\\eliel\\AppData\\Local\\Temp\\ipykernel_8884\\808158506.py:2: SettingWithCopyWarning:\n",
      "\n",
      "\n",
      "A value is trying to be set on a copy of a slice from a DataFrame.\n",
      "Try using .loc[row_indexer,col_indexer] = value instead\n",
      "\n",
      "See the caveats in the documentation: https://pandas.pydata.org/pandas-docs/stable/user_guide/indexing.html#returning-a-view-versus-a-copy\n",
      "\n"
     ]
    },
    {
     "data": {
      "text/plain": [
       "category\n",
       "Bannetons                                                                         NaN\n",
       "Beauté et soins                                                                   NaN\n",
       "Bien-être                                                                         NaN\n",
       "Coupes menstruelles                                                          1.000000\n",
       "Coussinets pour chaussures                                                        NaN\n",
       "Culottes                                                                          NaN\n",
       "Culottes et slips                                                                 NaN\n",
       "Culottes et sous-vêtements de protection                                          NaN\n",
       "Diffuseurs d'huiles essentielles                                                  NaN\n",
       "Déodorant                                                                    1.000000\n",
       "Femme                                                                             NaN\n",
       "Hygiène et soins intimes                                                     1.000000\n",
       "Hygiène et épilation                                                         1.000000\n",
       "Incontinence                                                                      NaN\n",
       "Produits d'hygiène féminine                                                       NaN\n",
       "Protections, serviettes hygiéniques, couches pour adultes, protège-slips          NaN\n",
       "Protège-slips                                                                     NaN\n",
       "Serviettes hygièniques                                                      12.000000\n",
       "Shorties                                                                          NaN\n",
       "Tampons                                                                     14.651376\n",
       "Visage                                                                            NaN\n",
       "Vitamines, minéraux et compléments                                                NaN\n",
       "Vêtements de contention médicaux                                                  NaN\n",
       "nan                                                                         28.000000\n",
       "Épilation à la cire                                                               NaN\n",
       "Name: unities, dtype: float64"
      ]
     },
     "execution_count": 42,
     "metadata": {},
     "output_type": "execute_result"
    }
   ],
   "source": [
    "avg_unit = products_df[products_df[\"price\"]<= 20]\n",
    "avg_unit[\"unities\"]= avg_unit[\"unities\"].astype(float)\n",
    "avg_unit = avg_unit.groupby(\"category\")[\"unities\"].mean()\n",
    "avg_unit"
   ]
  },
  {
   "cell_type": "code",
   "execution_count": 43,
   "metadata": {},
   "outputs": [
    {
     "data": {
      "application/vnd.plotly.v1+json": {
       "config": {
        "plotlyServerURL": "https://plot.ly"
       },
       "data": [
        {
         "alignmentgroup": "True",
         "hovertemplate": "category=%{x}<br>price=%{y}<extra></extra>",
         "legendgroup": "",
         "marker": {
          "color": "#C71585"
         },
         "name": "",
         "notched": false,
         "offsetgroup": "",
         "orientation": "v",
         "showlegend": false,
         "type": "box",
         "x": [
          "Tampons",
          "Tampons",
          "Tampons",
          "Tampons",
          "Tampons",
          "Tampons",
          "Tampons",
          "Tampons",
          "Tampons",
          "Tampons",
          "Tampons",
          "Tampons",
          "Tampons",
          "Tampons",
          "Tampons",
          "Tampons",
          "Tampons",
          "Tampons",
          "Tampons",
          "Tampons",
          "Tampons",
          "Tampons",
          "Tampons",
          "Tampons",
          "Tampons",
          "Tampons",
          "Tampons",
          "Tampons",
          "Tampons",
          "Tampons",
          "Tampons",
          "Tampons",
          "nan",
          "Tampons",
          "Tampons",
          "Tampons",
          "Tampons",
          "Tampons",
          "Tampons",
          "Tampons",
          "Tampons",
          "nan",
          "Tampons",
          "Tampons",
          "Tampons",
          "Tampons",
          "Serviettes hygièniques",
          "Tampons",
          "Tampons",
          "Tampons",
          "Tampons",
          "Tampons",
          "Tampons",
          "Tampons",
          "Tampons",
          "Serviettes hygièniques",
          "Tampons",
          "Tampons",
          "Tampons",
          "Serviettes hygièniques",
          "Tampons",
          "Tampons",
          "Tampons",
          "Tampons",
          "Tampons",
          "Tampons",
          "Lames",
          "Tampons",
          "nan",
          "Tampons",
          "Shorties",
          "Tampons",
          "Shorties",
          "Tampons",
          "Tampons",
          "Tampons",
          "Tampons",
          "Tampons",
          "Tampons",
          "Tampons",
          "Tampons",
          "Tampons",
          "Tampons",
          "Déodorant",
          "Tampons",
          "Tampons",
          "Tampons",
          "Tampons",
          "Tampons",
          "Tampons",
          "Tampons",
          "Tampons",
          "Tampons",
          "Tampons",
          "Tampons",
          "Tampons",
          "Tampons",
          "Culottes",
          "Tampons",
          "Tampons",
          "Tampons",
          "Tampons",
          "Tampons",
          "Tampons",
          "Tampons",
          "Tampons",
          "Tampons",
          "Tampons",
          "Tampons",
          "Tampons",
          "Tampons",
          "Tampons",
          "Tampons",
          "Tampons",
          "Tampons",
          "Tampons",
          "Tampons",
          "Tampons",
          "Tampons",
          "Tampons",
          "Tampons",
          "Tampons",
          "Tampons",
          "Tampons",
          "Tampons",
          "Tampons",
          "Tampons",
          "Tampons",
          "Culottes et slips",
          "Tampons",
          "Culottes et sous-vêtements de protection",
          "Tampons",
          "Tampons",
          "Tampons",
          "Tampons",
          "Shorties",
          "Culottes et sous-vêtements de protection",
          "Tampons",
          "Culottes et sous-vêtements de protection",
          "Tampons",
          "Tampons",
          "Tampons",
          "Tampons",
          "Tampons",
          "Tampons",
          "Tampons",
          "Tampons",
          "Tampons",
          "Tampons",
          "Tampons",
          "Femme",
          "Tampons",
          "Tampons",
          "Tampons",
          "Tampons",
          "Tampons",
          "Tampons",
          "Tampons",
          "Tampons",
          "Tampons",
          "Hygiène et soins intimes",
          "Tampons",
          "Tampons",
          "Hygiène et soins intimes",
          "Coupes menstruelles",
          "Tampons",
          "Tampons",
          "Tampons",
          "Hygiène et épilation",
          "Tampons",
          "Tampons",
          "Tampons",
          "Tampons",
          "Tampons",
          "Tampons",
          "Tampons",
          "Tampons",
          "Tampons",
          "Tampons",
          "Tampons",
          "Tampons",
          "Tampons",
          "Tampons",
          "Tampons",
          "Tampons",
          "Tampons",
          "Tampons",
          "Coupes menstruelles",
          "Tampons",
          "Tampons",
          "Tampons",
          "Tampons",
          "Tampons",
          "Tampons",
          "Tampons",
          "Tampons",
          "Vitamines, minéraux et compléments",
          "Culottes et slips",
          "Hygiène et soins intimes",
          "Culottes et sous-vêtements de protection",
          "Tampons",
          "Hygiène et soins intimes",
          "Tampons",
          "Tampons",
          "Tampons",
          "Tampons",
          "Hygiène et soins intimes",
          "Tampons",
          "Hygiène et soins intimes",
          "Tampons",
          "Tampons",
          "Tampons",
          "Tampons",
          "Coupes menstruelles",
          "Tampons",
          "Tampons",
          "Tampons",
          "Tampons",
          "Tampons",
          "Tampons",
          "Tampons",
          "Tampons",
          "Tampons",
          "Tampons",
          "Tampons",
          "Tampons",
          "Tampons",
          "Tampons",
          "Tampons",
          "Tampons",
          "Tampons",
          "Tampons",
          "Hygiène et soins intimes",
          "Tampons",
          "Tampons",
          "Tampons",
          "Tampons",
          "Tampons",
          "Tampons",
          "Tampons",
          "Culottes et sous-vêtements de protection",
          "Tampons",
          "Tampons",
          "Tampons",
          "Tampons",
          "Coupes menstruelles",
          "Tampons",
          "Tampons",
          "Tampons",
          "Tampons",
          "Tampons",
          "Tampons",
          "Tampons",
          "Coupes menstruelles",
          "Tampons",
          "Tampons",
          "Tampons",
          "Tampons",
          "Tampons",
          "Tampons",
          "Tampons",
          "Tampons",
          "Tampons",
          "Tampons",
          "Tampons",
          "Tampons",
          "Vitamines, minéraux et compléments",
          "Tampons",
          "Tampons",
          "Tampons",
          "Hygiène et soins intimes",
          "Tampons",
          "Tampons",
          "Tampons",
          "Tampons",
          "Tampons",
          "Tampons",
          "Tampons",
          "Tampons",
          "Hygiène et soins intimes",
          "Tampons",
          "Tampons",
          "Tampons",
          "Tampons",
          "Coupes menstruelles",
          "Hygiène et soins intimes",
          "Tampons",
          "Hygiène et soins intimes",
          "Tampons",
          "Tampons",
          "Tampons",
          "Tampons",
          "Serviettes hygièniques",
          "Tampons",
          "Tampons",
          "Tampons",
          "Tampons",
          "Tampons",
          "Coupes menstruelles",
          "Tampons",
          "Tampons",
          "Tampons",
          "Tampons",
          "Tampons",
          "Coupes menstruelles",
          "Tampons",
          "Tampons",
          "Tampons",
          "Tampons",
          "Tampons",
          "Tampons",
          "Tampons",
          "Coupes menstruelles",
          "Tampons",
          "Tampons",
          "Tampons",
          "Tampons",
          "Tampons",
          "Tampons",
          "Tampons",
          "Tampons",
          "Tampons",
          "Tampons",
          "Tampons",
          "Tampons",
          "Tampons",
          "Tampons",
          "Tampons",
          "Tampons",
          "Tampons",
          "Tampons",
          "Tampons",
          "Tampons",
          "Tampons",
          "Hygiène et épilation",
          "Tampons",
          "Tampons",
          "Tampons",
          "Tampons",
          "Serviettes hygièniques",
          "Tampons",
          "Tampons",
          "Tampons",
          "Tampons",
          "Coupes menstruelles",
          "Tampons",
          "Tampons",
          "Tampons",
          "Tampons",
          "Tampons",
          "Tampons",
          "Tampons",
          "Tampons",
          "Tampons",
          "Tampons",
          "Tampons",
          "Hygiène et soins intimes",
          "Tampons",
          "Tampons",
          "Tampons",
          "Coupes menstruelles",
          "Hygiène et soins intimes",
          "Tampons",
          "Hygiène et épilation",
          "Tampons",
          "Tampons",
          "Tampons",
          "Tampons",
          "Tampons",
          "Tampons",
          "Protège-slips",
          "Serviettes hygièniques",
          "Serviettes hygièniques",
          "Serviettes hygièniques",
          "Serviettes hygièniques",
          "Serviettes hygièniques",
          "Serviettes hygièniques",
          "Serviettes hygièniques",
          "Serviettes hygièniques",
          "Hygiène et épilation",
          "Serviettes hygièniques",
          "Serviettes hygièniques",
          "Serviettes hygièniques",
          "Serviettes hygièniques",
          "Serviettes hygièniques",
          "Serviettes hygièniques",
          "Serviettes hygièniques",
          "Serviettes hygièniques",
          "Serviettes hygièniques",
          "Serviettes hygièniques",
          "Serviettes hygièniques",
          "Serviettes hygièniques",
          "Serviettes hygièniques",
          "Serviettes hygièniques",
          "Serviettes hygièniques",
          "Serviettes hygièniques",
          "Serviettes hygièniques",
          "Serviettes hygièniques",
          "Serviettes hygièniques",
          "Serviettes hygièniques",
          "Serviettes hygièniques",
          "Protections, serviettes hygiéniques, couches pour adultes, protège-slips",
          "Serviettes hygièniques",
          "Serviettes hygièniques",
          "Serviettes hygièniques",
          "Protections, serviettes hygiéniques, couches pour adultes, protège-slips",
          "Serviettes hygièniques",
          "Serviettes hygièniques",
          "Serviettes hygièniques",
          "Vêtements de contention médicaux",
          "Serviettes hygièniques",
          "Protections, serviettes hygiéniques, couches pour adultes, protège-slips",
          "Serviettes hygièniques",
          "Serviettes hygièniques",
          "Serviettes hygièniques",
          "Serviettes hygièniques",
          "Serviettes hygièniques",
          "Serviettes hygièniques",
          "Culottes et sous-vêtements de protection",
          "Culottes et slips",
          "Serviettes hygièniques",
          "Serviettes hygièniques",
          "Serviettes hygièniques",
          "Serviettes hygièniques",
          "Serviettes hygièniques",
          "Serviettes hygièniques",
          "Serviettes hygièniques",
          "Serviettes hygièniques",
          "Serviettes hygièniques",
          "Serviettes hygièniques",
          "Serviettes hygièniques",
          "Serviettes hygièniques",
          "Serviettes hygièniques",
          "Serviettes hygièniques",
          "Serviettes hygièniques",
          "Serviettes hygièniques",
          "Serviettes hygièniques",
          "Serviettes hygièniques",
          "Serviettes hygièniques",
          "Serviettes hygièniques",
          "Serviettes hygièniques",
          "Serviettes hygièniques",
          "Serviettes hygièniques",
          "Serviettes hygièniques",
          "Serviettes hygièniques",
          "Serviettes hygièniques",
          "Serviettes hygièniques",
          "Serviettes hygièniques",
          "Protections, serviettes hygiéniques, couches pour adultes, protège-slips",
          "Serviettes hygièniques",
          "Protections, serviettes hygiéniques, couches pour adultes, protège-slips",
          "Serviettes hygièniques",
          "Serviettes hygièniques",
          "Serviettes hygièniques",
          "Serviettes hygièniques",
          "Serviettes hygièniques",
          "Serviettes hygièniques",
          "Serviettes hygièniques",
          "Serviettes hygièniques",
          "Serviettes hygièniques",
          "Serviettes hygièniques",
          "Serviettes hygièniques",
          "Serviettes hygièniques",
          "Serviettes hygièniques",
          "Serviettes hygièniques",
          "Serviettes hygièniques",
          "Serviettes hygièniques",
          "Serviettes hygièniques",
          "Serviettes hygièniques",
          "Serviettes hygièniques",
          "Serviettes hygièniques",
          "Incontinence",
          "Protège-slips",
          "Serviettes hygièniques",
          "Serviettes hygièniques",
          "Serviettes hygièniques",
          "Serviettes hygièniques",
          "Serviettes hygièniques",
          "Serviettes hygièniques",
          "Serviettes hygièniques",
          "Serviettes hygièniques",
          "Serviettes hygièniques",
          "Serviettes hygièniques",
          "Protections, serviettes hygiéniques, couches pour adultes, protège-slips",
          "Serviettes hygièniques",
          "Serviettes hygièniques",
          "Serviettes hygièniques",
          "Serviettes hygièniques",
          "Serviettes hygièniques",
          "Serviettes hygièniques",
          "Serviettes hygièniques",
          "Serviettes hygièniques",
          "Serviettes hygièniques",
          "Serviettes hygièniques",
          "Serviettes hygièniques",
          "Serviettes hygièniques",
          "Protège-slips",
          "Tampons",
          "Serviettes hygièniques",
          "Serviettes hygièniques",
          "Incontinence",
          "Serviettes hygièniques",
          "Serviettes hygièniques",
          "Protège-slips",
          "Protège-slips",
          "Serviettes hygièniques",
          "Serviettes hygièniques",
          "Serviettes hygièniques",
          "Serviettes hygièniques",
          "Serviettes hygièniques",
          "Serviettes hygièniques",
          "Serviettes hygièniques",
          "Serviettes hygièniques",
          "Serviettes hygièniques",
          "Serviettes hygièniques",
          "Protège-slips",
          "Serviettes hygièniques",
          "Serviettes hygièniques",
          "Serviettes hygièniques",
          "Serviettes hygièniques",
          "Serviettes hygièniques",
          "Serviettes hygièniques",
          "Serviettes hygièniques",
          "Serviettes hygièniques",
          "Serviettes hygièniques",
          "Serviettes hygièniques",
          "Serviettes hygièniques",
          "Serviettes hygièniques",
          "Serviettes hygièniques",
          "Serviettes hygièniques",
          "Serviettes hygièniques",
          "Serviettes hygièniques",
          "Serviettes hygièniques",
          "Serviettes hygièniques",
          "Serviettes hygièniques",
          "Protège-slips",
          "Serviettes hygièniques",
          "Serviettes hygièniques",
          "Serviettes hygièniques",
          "Serviettes hygièniques",
          "Serviettes hygièniques",
          "Serviettes hygièniques",
          "Protège-slips",
          "Serviettes hygièniques",
          "Serviettes hygièniques",
          "Serviettes hygièniques",
          "Serviettes hygièniques",
          "Serviettes hygièniques",
          "Protège-slips",
          "Serviettes hygièniques",
          "Serviettes hygièniques",
          "Serviettes hygièniques",
          "Serviettes hygièniques",
          "Serviettes hygièniques",
          "Serviettes hygièniques",
          "Serviettes hygièniques",
          "Serviettes hygièniques",
          "Serviettes hygièniques",
          "Serviettes hygièniques",
          "Serviettes hygièniques",
          "Serviettes hygièniques",
          "Serviettes hygièniques",
          "Serviettes hygièniques",
          "Serviettes hygièniques",
          "Serviettes hygièniques",
          "Serviettes hygièniques",
          "Serviettes hygièniques",
          "Serviettes hygièniques",
          "Serviettes hygièniques",
          "Serviettes hygièniques",
          "Serviettes hygièniques",
          "Serviettes hygièniques",
          "Serviettes hygièniques",
          "Serviettes hygièniques",
          "Serviettes hygièniques",
          "Serviettes hygièniques",
          "Protège-slips",
          "Protège-slips",
          "Protège-slips",
          "Protège-slips",
          "Protège-slips",
          "Protège-slips",
          "Protège-slips",
          "Protège-slips",
          "Visage",
          "Protège-slips",
          "Protège-slips",
          "Protège-slips",
          "Protège-slips",
          "Protège-slips",
          "Protège-slips",
          "Protège-slips",
          "Protège-slips",
          "Protège-slips",
          "Protège-slips",
          "Protège-slips",
          "Protège-slips",
          "Protège-slips",
          "Protège-slips",
          "Protège-slips",
          "Protège-slips",
          "Protège-slips",
          "Protège-slips",
          "Culottes et sous-vêtements de protection",
          "Protège-slips",
          "Protège-slips",
          "Protège-slips",
          "Protège-slips",
          "Protège-slips",
          "Protège-slips",
          "Protège-slips",
          "Protège-slips",
          "Protège-slips",
          "Protège-slips",
          "Protège-slips",
          "Serviettes hygièniques",
          "Protège-slips",
          "Protège-slips",
          "Protège-slips",
          "Protège-slips",
          "Protège-slips",
          "Protège-slips",
          "Serviettes hygièniques",
          "Protège-slips",
          "Protège-slips",
          "Culottes et sous-vêtements de protection",
          "Protège-slips",
          "Protège-slips",
          "Protège-slips",
          "Protège-slips",
          "Protège-slips",
          "Protège-slips",
          "Protège-slips",
          "Protège-slips",
          "Protège-slips",
          "Protège-slips",
          "Protège-slips",
          "Protège-slips",
          "Incontinence",
          "Protège-slips",
          "Protège-slips",
          "Protège-slips",
          "Protège-slips",
          "Protège-slips",
          "Protège-slips",
          "Protège-slips",
          "Protège-slips",
          "Protège-slips",
          "Protège-slips",
          "Serviettes hygièniques",
          "Protège-slips",
          "Protège-slips",
          "Protège-slips",
          "Protège-slips",
          "Protège-slips",
          "Protège-slips",
          "Protège-slips",
          "Protège-slips",
          "Protège-slips",
          "Protège-slips",
          "Coussinets pour chaussures",
          "Protège-slips",
          "Protège-slips",
          "Protège-slips",
          "Protège-slips",
          "Protège-slips",
          "Protège-slips",
          "Serviettes hygièniques",
          "Protège-slips",
          "Protège-slips",
          "Serviettes hygièniques",
          "Protège-slips",
          "Protège-slips",
          "Serviettes hygièniques",
          "Protège-slips",
          "Protège-slips",
          "Protège-slips",
          "Protège-slips",
          "Protège-slips",
          "Protège-slips",
          "Protège-slips",
          "Protège-slips",
          "Protège-slips",
          "Protège-slips",
          "Protège-slips",
          "Protège-slips",
          "Protège-slips",
          "Protège-slips",
          "Protège-slips",
          "Protège-slips",
          "Beauté et soins",
          "Protège-slips",
          "Protège-slips",
          "Protège-slips",
          "Protège-slips",
          "Serviettes hygièniques",
          "Protège-slips",
          "Protège-slips",
          "Protège-slips",
          "Protège-slips",
          "Protège-slips",
          "Protège-slips",
          "Protège-slips",
          "Protège-slips",
          "Protège-slips",
          "Protège-slips",
          "Protège-slips",
          "Protège-slips",
          "Protège-slips",
          "Protège-slips",
          "Protège-slips",
          "Protège-slips",
          "Protège-slips",
          "Protège-slips",
          "Protège-slips",
          "Protège-slips",
          "Protège-slips",
          "Protège-slips",
          "Protège-slips",
          "Protège-slips",
          "Protège-slips",
          "Protège-slips",
          "Protège-slips",
          "Protège-slips",
          "Protège-slips",
          "Protège-slips",
          "Protège-slips",
          "Serviettes hygièniques",
          "Produits d'hygiène féminine",
          "Épilation à la cire",
          "Protège-slips",
          "Protège-slips",
          "Protège-slips",
          "Protège-slips",
          "Protège-slips",
          "Protège-slips",
          "Protège-slips",
          "Protège-slips",
          "Protège-slips",
          "Protège-slips",
          "Protège-slips",
          "Protège-slips",
          "Protège-slips",
          "Protège-slips",
          "Protège-slips",
          "Protège-slips",
          "Protège-slips",
          "Protège-slips",
          "Protège-slips",
          "Protège-slips",
          "Protège-slips",
          "Protège-slips",
          "Protège-slips",
          "Protège-slips",
          "Protège-slips",
          "Protège-slips",
          "Protège-slips",
          "Bannetons",
          "Protège-slips",
          "Protège-slips",
          "Protège-slips",
          "Protège-slips",
          "Protège-slips",
          "Protège-slips",
          "Protège-slips",
          "Protège-slips",
          "Protège-slips",
          "Protège-slips",
          "Protège-slips",
          "Protège-slips",
          "Protège-slips",
          "Protège-slips",
          "Protège-slips",
          "Protège-slips",
          "Protège-slips",
          "Protège-slips",
          "Bien-être",
          "Protège-slips",
          "Protège-slips",
          "Protège-slips",
          "Protège-slips",
          "Protège-slips",
          "Protège-slips",
          "Protège-slips",
          "Protège-slips",
          "Protège-slips",
          "Protège-slips",
          "Protège-slips",
          "Protège-slips",
          "Serviettes hygièniques",
          "Protège-slips",
          "Protège-slips",
          "Protège-slips",
          "Protège-slips",
          "Protège-slips",
          "Protège-slips",
          "Protège-slips",
          "Protège-slips",
          "Protège-slips",
          "Protège-slips",
          "Protège-slips",
          "Protège-slips",
          "Protège-slips",
          "Protège-slips",
          "Protège-slips",
          "Protège-slips",
          "Protège-slips",
          "Protège-slips",
          "Protège-slips",
          "Protège-slips",
          "Protège-slips",
          "Protège-slips",
          "Protège-slips",
          "Protège-slips",
          "Protège-slips",
          "Protège-slips",
          "Protège-slips",
          "Protège-slips",
          "Protège-slips",
          "Protège-slips",
          "Protège-slips",
          "Produits d'hygiène féminine",
          "Protège-slips",
          "Protège-slips",
          "Protège-slips",
          "Protège-slips",
          "Protège-slips",
          "Protège-slips",
          "Protège-slips",
          "Protège-slips",
          "Protège-slips",
          "Protège-slips",
          "Protège-slips",
          "Serviettes hygièniques",
          "Culottes et sous-vêtements de protection",
          "Culottes et slips",
          "Tampons",
          "Hygiène et épilation",
          "Tampons",
          "Tampons",
          "Tampons",
          "Tampons",
          "Tampons",
          "Diffuseurs d'huiles essentielles",
          "Serviettes hygièniques",
          "Culottes et sous-vêtements de protection",
          "Tampons",
          "Tampons",
          "Culottes et sous-vêtements de protection",
          "Tampons",
          "Tampons",
          "Diffuseurs d'huiles essentielles",
          "Culottes et sous-vêtements de protection",
          "Culottes et sous-vêtements de protection",
          "Culottes et sous-vêtements de protection",
          "Protège-slips",
          "Protège-slips",
          "Serviettes hygièniques",
          "Protège-slips",
          "Protège-slips",
          "Protège-slips",
          "Protège-slips",
          "Protège-slips",
          "Protège-slips",
          "Protège-slips",
          "Protège-slips",
          "Protège-slips",
          "Protège-slips",
          "Protège-slips"
         ],
         "x0": " ",
         "xaxis": "x",
         "y": [
          2.66,
          3.79,
          3.1,
          2.81,
          4.5,
          3.75,
          4.5,
          3.8,
          4.53,
          6.9,
          11.96,
          14.95,
          7.29,
          4.99,
          4.99,
          5.19,
          5.5,
          9.4,
          25.16,
          7.9,
          9.96,
          null,
          14.94,
          null,
          14.99,
          6.32,
          5.99,
          4.99,
          4.72,
          9.74,
          11.57,
          34.99,
          9.26,
          27.58,
          10.09,
          13.9,
          6.9,
          12.19,
          14.09,
          9.95,
          null,
          11.15,
          8.92,
          49.95,
          5.99,
          10.2,
          19.99,
          7.99,
          11.99,
          8.99,
          7.99,
          25.9,
          null,
          19.96,
          54.99,
          2.06,
          19.98,
          51.87,
          12.36,
          2.45,
          13.99,
          28.81,
          19.44,
          11.87,
          6.98,
          59.9,
          26.52,
          26.94,
          24.76,
          23.36,
          25.19,
          10.28,
          24.99,
          23.24,
          12.23,
          14.99,
          15.99,
          9.2,
          20.41,
          8.32,
          11.93,
          12.49,
          17.69,
          13.76,
          6.89,
          15.92,
          11.45,
          null,
          15.29,
          15.11,
          14.44,
          13.92,
          8.13,
          null,
          12.5,
          7.99,
          12.09,
          11.98,
          12.09,
          null,
          10.88,
          10.88,
          10.65,
          10.88,
          10.88,
          10.88,
          10.88,
          10.37,
          10.29,
          9.89,
          9.94,
          9.49,
          9.98,
          8.87,
          8.09,
          8.13,
          7.64,
          7.23,
          6.77,
          6.99,
          6.96,
          6.62,
          7.24,
          7.32,
          6.76,
          6.69,
          6.89,
          5.98,
          6.98,
          5.7,
          5.98,
          5.76,
          4.99,
          4.99,
          4.18,
          3.98,
          3.98,
          3.79,
          2.98,
          10.37,
          10.88,
          10.88,
          10.88,
          10.88,
          10.88,
          7.72,
          9.23,
          null,
          8.57,
          12.09,
          5.18,
          6.39,
          null,
          5.13,
          11.9,
          15.04,
          11.99,
          15.6,
          18.84,
          14.99,
          27.96,
          10.99,
          7.99,
          10.16,
          17.9,
          7.99,
          25.99,
          14.99,
          15.9,
          27.57,
          14.49,
          7.99,
          7.99,
          9.99,
          22.64,
          19.99,
          26,
          42.9,
          7.99,
          21.29,
          14.99,
          37.88,
          42.08,
          49.95,
          9.99,
          42.9,
          26.88,
          37.45,
          14.99,
          15.99,
          23.35,
          33.31,
          25.89,
          11.36,
          39.04,
          25.64,
          35.93,
          39.99,
          29.95,
          27.99,
          14.99,
          29.95,
          17.27,
          20.68,
          24.47,
          19.95,
          13.21,
          25.63,
          20.71,
          10.79,
          17.99,
          15.99,
          10.86,
          7.99,
          44.19,
          15.99,
          26.95,
          17.27,
          25,
          15.16,
          20.28,
          24.99,
          18.99,
          15.22,
          19.24,
          21.24,
          21.75,
          12.42,
          15.57,
          44.19,
          21.81,
          11.35,
          29.95,
          12.99,
          19.9,
          20.87,
          18.99,
          33.6,
          19.11,
          14.99,
          19.99,
          18.53,
          42.93,
          11.9,
          16.54,
          14.59,
          13.72,
          12.9,
          6.99,
          11.99,
          17.14,
          12.5,
          10.99,
          27.18,
          14.99,
          15.1,
          41,
          16.99,
          11.95,
          14.32,
          11.42,
          7.21,
          12.99,
          8.99,
          10.99,
          8.99,
          13.69,
          12.04,
          11.06,
          40.3,
          13.85,
          32.57,
          11.13,
          28.03,
          29.89,
          10.32,
          11.67,
          11.72,
          25,
          11.94,
          30.49,
          null,
          27.94,
          9.99,
          10.99,
          11.03,
          27.94,
          11.12,
          14.99,
          18.77,
          13.99,
          9.04,
          9.99,
          20.99,
          20.65,
          19.99,
          24.74,
          15.99,
          17.39,
          8,
          25,
          6.99,
          16.54,
          12.49,
          17.99,
          21,
          11.66,
          14.9,
          19.9,
          12.99,
          19.95,
          16.42,
          15.59,
          15.99,
          14.11,
          11.01,
          13.99,
          15.99,
          15.22,
          11.34,
          12.99,
          12.99,
          12.99,
          11.99,
          9.99,
          9.99,
          8.77,
          9.49,
          3.49,
          6.83,
          6.9,
          6.85,
          13.99,
          19.5,
          29.14,
          36.9,
          18.89,
          20.87,
          14.9,
          24.99,
          29.76,
          21.22,
          15.15,
          18.28,
          11.99,
          9.99,
          14.9,
          19.9,
          19.9,
          19.9,
          13.06,
          20.59,
          16.36,
          28.2,
          35.99,
          10.64,
          4.98,
          22,
          24.9,
          22,
          9.99,
          15.99,
          13.99,
          29.58,
          62.5,
          28.2,
          26.43,
          27.94,
          27.68,
          25.94,
          17.73,
          1.98,
          1.79,
          2.4,
          1.99,
          3.49,
          1.55,
          2.36,
          2.99,
          2.69,
          3.75,
          2.17,
          2.02,
          3.98,
          4.58,
          22.53,
          23.6,
          2.91,
          22.39,
          2.5,
          14.5,
          35.56,
          25.74,
          2.95,
          2.95,
          39,
          33.52,
          19.03,
          3.98,
          28.09,
          23.99,
          9.19,
          null,
          34.97,
          55.65,
          37.35,
          30.09,
          59.97,
          18.5,
          3.99,
          null,
          28.14,
          34.9,
          null,
          28,
          39.45,
          2.79,
          32.12,
          32.99,
          25.99,
          28.99,
          29.99,
          3.5,
          29.9,
          25,
          9.98,
          25.99,
          31.5,
          29.9,
          31.11,
          26.9,
          16.5,
          5.64,
          24.99,
          21.45,
          26.4,
          19.99,
          26.11,
          19.25,
          22.99,
          15.4,
          23,
          24.99,
          26.12,
          20.99,
          14.99,
          14.24,
          20.99,
          null,
          3.58,
          16.14,
          14.99,
          20.69,
          null,
          2.79,
          19.82,
          10.99,
          32.55,
          30.8,
          19.99,
          17.3,
          1.69,
          20.08,
          14.99,
          16.99,
          34.67,
          3.99,
          19.29,
          16.99,
          36.35,
          31.09,
          10.9,
          3.12,
          16.99,
          15.24,
          14.99,
          10.8,
          1.69,
          30,
          18.39,
          14.9,
          12.6,
          2.99,
          14.87,
          15.24,
          12.99,
          2.79,
          1.45,
          1.79,
          14.16,
          6.29,
          5.5,
          15.88,
          5.54,
          12.22,
          5.35,
          1.99,
          12.99,
          14.99,
          9.88,
          7.7,
          8.18,
          1.69,
          3.49,
          1.99,
          11.89,
          10.33,
          8.99,
          7.99,
          7.5,
          19.49,
          3.19,
          6.89,
          4.19,
          15.99,
          null,
          6.82,
          9.49,
          7.63,
          19.99,
          9,
          13.9,
          3.39,
          9.06,
          9.69,
          7.3,
          6.79,
          9.07,
          4.56,
          8.4,
          7.49,
          null,
          14.9,
          7.59,
          16.78,
          1.89,
          5.99,
          4.85,
          4.49,
          5.49,
          10.99,
          5.88,
          3.33,
          7.86,
          5.5,
          3.7,
          9.22,
          6.99,
          1.13,
          3,
          36,
          39.97,
          null,
          6.05,
          6.05,
          19.99,
          33.99,
          3.18,
          35.99,
          17.68,
          19.22,
          null,
          null,
          null,
          21.8,
          3.69,
          29.45,
          25.95,
          13.79,
          4.98,
          15.86,
          5.36,
          null,
          5.99,
          12,
          18.9,
          1.86,
          2.95,
          1.98,
          3.82,
          22,
          2.34,
          19.92,
          17.6,
          15.5,
          21.85,
          9.54,
          23.1,
          3.2,
          3.95,
          15.99,
          3.11,
          69.9,
          43.97,
          3.77,
          44,
          47.97,
          9.99,
          17.99,
          11.41,
          26.78,
          34.86,
          37.97,
          30.9,
          39.01,
          34.92,
          34.99,
          39.95,
          null,
          20.24,
          27.44,
          8.74,
          28.99,
          25.99,
          25.29,
          19.99,
          13.99,
          15.05,
          20.99,
          21.57,
          19.9,
          23.99,
          3.59,
          24.9,
          29.89,
          22.99,
          18.32,
          20.87,
          21.18,
          19.9,
          6.74,
          14.9,
          18.04,
          3.49,
          null,
          13.9,
          13.2,
          63,
          13.3,
          9.99,
          5.58,
          7.9,
          1.69,
          null,
          52,
          11.97,
          8.99,
          9.99,
          1.49,
          25.78,
          9.99,
          20.99,
          44,
          37.99,
          52.89,
          5.9,
          3.09,
          9.8,
          33.25,
          35.99,
          9.99,
          37.2,
          37.99,
          10.8,
          33.95,
          null,
          15.58,
          7.96,
          47.56,
          9.95,
          26.9,
          16.05,
          4.09,
          7.44,
          40.47,
          35.71,
          9.7,
          32.98,
          7.22,
          6.95,
          25.9,
          25,
          18.26,
          25.48,
          3.69,
          5.24,
          7.45,
          25.44,
          null,
          2.99,
          15.99,
          5.5,
          14.09,
          2.95,
          3.69,
          2.99,
          20.1,
          23.15,
          2.19,
          9.99,
          16.12,
          19.99,
          8.5,
          8.5,
          19.9,
          15.63,
          17.77,
          2.2,
          8.54,
          8.9,
          6.7,
          7.99,
          5.36,
          9.07,
          8.25,
          17.06,
          5.05,
          3.4,
          7.93,
          7.75,
          15.39,
          null,
          15.19,
          3.99,
          null,
          5.9,
          10.09,
          14.72,
          14.32,
          11.48,
          7,
          9.99,
          15,
          12.99,
          12.99,
          4.75,
          8.9,
          9.74,
          10.97,
          6.5,
          8.5,
          11.97,
          9.99,
          6.85,
          9.15,
          11.47,
          11.49,
          10.62,
          6.5,
          11.71,
          8.35,
          null,
          10.54,
          8.95,
          7.99,
          8.15,
          11.12,
          10.99,
          8.9,
          null,
          4.49,
          4.5,
          8.37,
          8.9,
          8.64,
          9.95,
          8.99,
          6.49,
          8.17,
          3.69,
          6.84,
          6.5,
          8.12,
          7.15,
          7.86,
          5.9,
          7.52,
          7.25,
          9.45,
          6.78,
          3.24,
          5.59,
          4,
          4.9,
          4.39,
          4.67,
          5.91,
          5,
          4.71,
          4.98,
          3.47,
          37.99,
          10.99,
          33.99,
          11.81,
          18.86,
          null,
          19,
          52.89,
          12,
          2.82,
          37.2,
          23.8,
          47.56,
          7.99,
          9.99,
          47.56,
          47.56,
          12.9,
          null,
          14.05,
          null,
          4.23,
          20.5,
          null,
          42.5,
          21.99,
          5.9,
          8.53,
          11.01,
          4.86,
          null,
          17,
          16.55,
          11.9,
          47.5,
          3.85,
          12.89,
          6.84,
          24.9,
          6.49,
          1.72,
          43.97,
          20.99,
          49.99,
          18.99,
          11.99,
          9.74,
          19.56,
          18.23,
          15.16,
          24.15,
          3.6,
          19.99,
          10,
          16.9,
          7.9,
          23.39,
          29.9,
          10.04,
          6.9,
          14.29,
          3.98,
          19.9,
          22.99,
          60.19,
          12.07,
          null,
          null,
          null,
          13.42,
          null,
          null,
          null,
          null,
          12,
          20.99,
          null,
          6.5
         ],
         "y0": " ",
         "yaxis": "y"
        }
       ],
       "layout": {
        "boxmode": "group",
        "height": 800,
        "legend": {
         "tracegroupgap": 0
        },
        "margin": {
         "t": 60
        },
        "template": {
         "data": {
          "bar": [
           {
            "error_x": {
             "color": "#2a3f5f"
            },
            "error_y": {
             "color": "#2a3f5f"
            },
            "marker": {
             "line": {
              "color": "#E5ECF6",
              "width": 0.5
             },
             "pattern": {
              "fillmode": "overlay",
              "size": 10,
              "solidity": 0.2
             }
            },
            "type": "bar"
           }
          ],
          "barpolar": [
           {
            "marker": {
             "line": {
              "color": "#E5ECF6",
              "width": 0.5
             },
             "pattern": {
              "fillmode": "overlay",
              "size": 10,
              "solidity": 0.2
             }
            },
            "type": "barpolar"
           }
          ],
          "carpet": [
           {
            "aaxis": {
             "endlinecolor": "#2a3f5f",
             "gridcolor": "white",
             "linecolor": "white",
             "minorgridcolor": "white",
             "startlinecolor": "#2a3f5f"
            },
            "baxis": {
             "endlinecolor": "#2a3f5f",
             "gridcolor": "white",
             "linecolor": "white",
             "minorgridcolor": "white",
             "startlinecolor": "#2a3f5f"
            },
            "type": "carpet"
           }
          ],
          "choropleth": [
           {
            "colorbar": {
             "outlinewidth": 0,
             "ticks": ""
            },
            "type": "choropleth"
           }
          ],
          "contour": [
           {
            "colorbar": {
             "outlinewidth": 0,
             "ticks": ""
            },
            "colorscale": [
             [
              0,
              "#0d0887"
             ],
             [
              0.1111111111111111,
              "#46039f"
             ],
             [
              0.2222222222222222,
              "#7201a8"
             ],
             [
              0.3333333333333333,
              "#9c179e"
             ],
             [
              0.4444444444444444,
              "#bd3786"
             ],
             [
              0.5555555555555556,
              "#d8576b"
             ],
             [
              0.6666666666666666,
              "#ed7953"
             ],
             [
              0.7777777777777778,
              "#fb9f3a"
             ],
             [
              0.8888888888888888,
              "#fdca26"
             ],
             [
              1,
              "#f0f921"
             ]
            ],
            "type": "contour"
           }
          ],
          "contourcarpet": [
           {
            "colorbar": {
             "outlinewidth": 0,
             "ticks": ""
            },
            "type": "contourcarpet"
           }
          ],
          "heatmap": [
           {
            "colorbar": {
             "outlinewidth": 0,
             "ticks": ""
            },
            "colorscale": [
             [
              0,
              "#0d0887"
             ],
             [
              0.1111111111111111,
              "#46039f"
             ],
             [
              0.2222222222222222,
              "#7201a8"
             ],
             [
              0.3333333333333333,
              "#9c179e"
             ],
             [
              0.4444444444444444,
              "#bd3786"
             ],
             [
              0.5555555555555556,
              "#d8576b"
             ],
             [
              0.6666666666666666,
              "#ed7953"
             ],
             [
              0.7777777777777778,
              "#fb9f3a"
             ],
             [
              0.8888888888888888,
              "#fdca26"
             ],
             [
              1,
              "#f0f921"
             ]
            ],
            "type": "heatmap"
           }
          ],
          "heatmapgl": [
           {
            "colorbar": {
             "outlinewidth": 0,
             "ticks": ""
            },
            "colorscale": [
             [
              0,
              "#0d0887"
             ],
             [
              0.1111111111111111,
              "#46039f"
             ],
             [
              0.2222222222222222,
              "#7201a8"
             ],
             [
              0.3333333333333333,
              "#9c179e"
             ],
             [
              0.4444444444444444,
              "#bd3786"
             ],
             [
              0.5555555555555556,
              "#d8576b"
             ],
             [
              0.6666666666666666,
              "#ed7953"
             ],
             [
              0.7777777777777778,
              "#fb9f3a"
             ],
             [
              0.8888888888888888,
              "#fdca26"
             ],
             [
              1,
              "#f0f921"
             ]
            ],
            "type": "heatmapgl"
           }
          ],
          "histogram": [
           {
            "marker": {
             "pattern": {
              "fillmode": "overlay",
              "size": 10,
              "solidity": 0.2
             }
            },
            "type": "histogram"
           }
          ],
          "histogram2d": [
           {
            "colorbar": {
             "outlinewidth": 0,
             "ticks": ""
            },
            "colorscale": [
             [
              0,
              "#0d0887"
             ],
             [
              0.1111111111111111,
              "#46039f"
             ],
             [
              0.2222222222222222,
              "#7201a8"
             ],
             [
              0.3333333333333333,
              "#9c179e"
             ],
             [
              0.4444444444444444,
              "#bd3786"
             ],
             [
              0.5555555555555556,
              "#d8576b"
             ],
             [
              0.6666666666666666,
              "#ed7953"
             ],
             [
              0.7777777777777778,
              "#fb9f3a"
             ],
             [
              0.8888888888888888,
              "#fdca26"
             ],
             [
              1,
              "#f0f921"
             ]
            ],
            "type": "histogram2d"
           }
          ],
          "histogram2dcontour": [
           {
            "colorbar": {
             "outlinewidth": 0,
             "ticks": ""
            },
            "colorscale": [
             [
              0,
              "#0d0887"
             ],
             [
              0.1111111111111111,
              "#46039f"
             ],
             [
              0.2222222222222222,
              "#7201a8"
             ],
             [
              0.3333333333333333,
              "#9c179e"
             ],
             [
              0.4444444444444444,
              "#bd3786"
             ],
             [
              0.5555555555555556,
              "#d8576b"
             ],
             [
              0.6666666666666666,
              "#ed7953"
             ],
             [
              0.7777777777777778,
              "#fb9f3a"
             ],
             [
              0.8888888888888888,
              "#fdca26"
             ],
             [
              1,
              "#f0f921"
             ]
            ],
            "type": "histogram2dcontour"
           }
          ],
          "mesh3d": [
           {
            "colorbar": {
             "outlinewidth": 0,
             "ticks": ""
            },
            "type": "mesh3d"
           }
          ],
          "parcoords": [
           {
            "line": {
             "colorbar": {
              "outlinewidth": 0,
              "ticks": ""
             }
            },
            "type": "parcoords"
           }
          ],
          "pie": [
           {
            "automargin": true,
            "type": "pie"
           }
          ],
          "scatter": [
           {
            "fillpattern": {
             "fillmode": "overlay",
             "size": 10,
             "solidity": 0.2
            },
            "type": "scatter"
           }
          ],
          "scatter3d": [
           {
            "line": {
             "colorbar": {
              "outlinewidth": 0,
              "ticks": ""
             }
            },
            "marker": {
             "colorbar": {
              "outlinewidth": 0,
              "ticks": ""
             }
            },
            "type": "scatter3d"
           }
          ],
          "scattercarpet": [
           {
            "marker": {
             "colorbar": {
              "outlinewidth": 0,
              "ticks": ""
             }
            },
            "type": "scattercarpet"
           }
          ],
          "scattergeo": [
           {
            "marker": {
             "colorbar": {
              "outlinewidth": 0,
              "ticks": ""
             }
            },
            "type": "scattergeo"
           }
          ],
          "scattergl": [
           {
            "marker": {
             "colorbar": {
              "outlinewidth": 0,
              "ticks": ""
             }
            },
            "type": "scattergl"
           }
          ],
          "scattermapbox": [
           {
            "marker": {
             "colorbar": {
              "outlinewidth": 0,
              "ticks": ""
             }
            },
            "type": "scattermapbox"
           }
          ],
          "scatterpolar": [
           {
            "marker": {
             "colorbar": {
              "outlinewidth": 0,
              "ticks": ""
             }
            },
            "type": "scatterpolar"
           }
          ],
          "scatterpolargl": [
           {
            "marker": {
             "colorbar": {
              "outlinewidth": 0,
              "ticks": ""
             }
            },
            "type": "scatterpolargl"
           }
          ],
          "scatterternary": [
           {
            "marker": {
             "colorbar": {
              "outlinewidth": 0,
              "ticks": ""
             }
            },
            "type": "scatterternary"
           }
          ],
          "surface": [
           {
            "colorbar": {
             "outlinewidth": 0,
             "ticks": ""
            },
            "colorscale": [
             [
              0,
              "#0d0887"
             ],
             [
              0.1111111111111111,
              "#46039f"
             ],
             [
              0.2222222222222222,
              "#7201a8"
             ],
             [
              0.3333333333333333,
              "#9c179e"
             ],
             [
              0.4444444444444444,
              "#bd3786"
             ],
             [
              0.5555555555555556,
              "#d8576b"
             ],
             [
              0.6666666666666666,
              "#ed7953"
             ],
             [
              0.7777777777777778,
              "#fb9f3a"
             ],
             [
              0.8888888888888888,
              "#fdca26"
             ],
             [
              1,
              "#f0f921"
             ]
            ],
            "type": "surface"
           }
          ],
          "table": [
           {
            "cells": {
             "fill": {
              "color": "#EBF0F8"
             },
             "line": {
              "color": "white"
             }
            },
            "header": {
             "fill": {
              "color": "#C8D4E3"
             },
             "line": {
              "color": "white"
             }
            },
            "type": "table"
           }
          ]
         },
         "layout": {
          "annotationdefaults": {
           "arrowcolor": "#2a3f5f",
           "arrowhead": 0,
           "arrowwidth": 1
          },
          "autotypenumbers": "strict",
          "coloraxis": {
           "colorbar": {
            "outlinewidth": 0,
            "ticks": ""
           }
          },
          "colorscale": {
           "diverging": [
            [
             0,
             "#8e0152"
            ],
            [
             0.1,
             "#c51b7d"
            ],
            [
             0.2,
             "#de77ae"
            ],
            [
             0.3,
             "#f1b6da"
            ],
            [
             0.4,
             "#fde0ef"
            ],
            [
             0.5,
             "#f7f7f7"
            ],
            [
             0.6,
             "#e6f5d0"
            ],
            [
             0.7,
             "#b8e186"
            ],
            [
             0.8,
             "#7fbc41"
            ],
            [
             0.9,
             "#4d9221"
            ],
            [
             1,
             "#276419"
            ]
           ],
           "sequential": [
            [
             0,
             "#0d0887"
            ],
            [
             0.1111111111111111,
             "#46039f"
            ],
            [
             0.2222222222222222,
             "#7201a8"
            ],
            [
             0.3333333333333333,
             "#9c179e"
            ],
            [
             0.4444444444444444,
             "#bd3786"
            ],
            [
             0.5555555555555556,
             "#d8576b"
            ],
            [
             0.6666666666666666,
             "#ed7953"
            ],
            [
             0.7777777777777778,
             "#fb9f3a"
            ],
            [
             0.8888888888888888,
             "#fdca26"
            ],
            [
             1,
             "#f0f921"
            ]
           ],
           "sequentialminus": [
            [
             0,
             "#0d0887"
            ],
            [
             0.1111111111111111,
             "#46039f"
            ],
            [
             0.2222222222222222,
             "#7201a8"
            ],
            [
             0.3333333333333333,
             "#9c179e"
            ],
            [
             0.4444444444444444,
             "#bd3786"
            ],
            [
             0.5555555555555556,
             "#d8576b"
            ],
            [
             0.6666666666666666,
             "#ed7953"
            ],
            [
             0.7777777777777778,
             "#fb9f3a"
            ],
            [
             0.8888888888888888,
             "#fdca26"
            ],
            [
             1,
             "#f0f921"
            ]
           ]
          },
          "colorway": [
           "#636efa",
           "#EF553B",
           "#00cc96",
           "#ab63fa",
           "#FFA15A",
           "#19d3f3",
           "#FF6692",
           "#B6E880",
           "#FF97FF",
           "#FECB52"
          ],
          "font": {
           "color": "#2a3f5f"
          },
          "geo": {
           "bgcolor": "white",
           "lakecolor": "white",
           "landcolor": "#E5ECF6",
           "showlakes": true,
           "showland": true,
           "subunitcolor": "white"
          },
          "hoverlabel": {
           "align": "left"
          },
          "hovermode": "closest",
          "mapbox": {
           "style": "light"
          },
          "paper_bgcolor": "white",
          "plot_bgcolor": "#E5ECF6",
          "polar": {
           "angularaxis": {
            "gridcolor": "white",
            "linecolor": "white",
            "ticks": ""
           },
           "bgcolor": "#E5ECF6",
           "radialaxis": {
            "gridcolor": "white",
            "linecolor": "white",
            "ticks": ""
           }
          },
          "scene": {
           "xaxis": {
            "backgroundcolor": "#E5ECF6",
            "gridcolor": "white",
            "gridwidth": 2,
            "linecolor": "white",
            "showbackground": true,
            "ticks": "",
            "zerolinecolor": "white"
           },
           "yaxis": {
            "backgroundcolor": "#E5ECF6",
            "gridcolor": "white",
            "gridwidth": 2,
            "linecolor": "white",
            "showbackground": true,
            "ticks": "",
            "zerolinecolor": "white"
           },
           "zaxis": {
            "backgroundcolor": "#E5ECF6",
            "gridcolor": "white",
            "gridwidth": 2,
            "linecolor": "white",
            "showbackground": true,
            "ticks": "",
            "zerolinecolor": "white"
           }
          },
          "shapedefaults": {
           "line": {
            "color": "#2a3f5f"
           }
          },
          "ternary": {
           "aaxis": {
            "gridcolor": "white",
            "linecolor": "white",
            "ticks": ""
           },
           "baxis": {
            "gridcolor": "white",
            "linecolor": "white",
            "ticks": ""
           },
           "bgcolor": "#E5ECF6",
           "caxis": {
            "gridcolor": "white",
            "linecolor": "white",
            "ticks": ""
           }
          },
          "title": {
           "x": 0.05
          },
          "xaxis": {
           "automargin": true,
           "gridcolor": "white",
           "linecolor": "white",
           "ticks": "",
           "title": {
            "standoff": 15
           },
           "zerolinecolor": "white",
           "zerolinewidth": 2
          },
          "yaxis": {
           "automargin": true,
           "gridcolor": "white",
           "linecolor": "white",
           "ticks": "",
           "title": {
            "standoff": 15
           },
           "zerolinecolor": "white",
           "zerolinewidth": 2
          }
         }
        },
        "width": 800,
        "xaxis": {
         "anchor": "y",
         "domain": [
          0,
          1
         ],
         "title": {
          "text": "category"
         }
        },
        "yaxis": {
         "anchor": "x",
         "domain": [
          0,
          1
         ],
         "title": {
          "text": "price"
         }
        }
       }
      }
     },
     "metadata": {},
     "output_type": "display_data"
    }
   ],
   "source": [
    "fig9= px.box(products_df,\n",
    "                 x ='category', \n",
    "                 y='price',\n",
    "                 color_discrete_sequence=['#C71585'])\n",
    "\n",
    "fig9.update_layout(width=800, height=800) \n",
    "\n",
    "fig9.show()"
   ]
  },
  {
   "cell_type": "markdown",
   "metadata": {},
   "source": [
    "**Tampons** broader price range extends up to 60 euros, 50% of tampon prices are concentrated between 2 and 20 euros. This indicates a significant portion of the tampon market is accessible and affordable, catering to the essential needs of consumers. The lower half of the price spectrum underscores the availability of cost-effective options, likely appealing to a wide demographic seeking reliable menstrual care without a high price tag. The extension of the price range up to 60 euros reveals the presence of premium offerings within the tampon category. These higher-priced options may include tampons made from organic materials, those boasting specialized applicators for enhanced comfort.\n",
    "\n",
    "**Serviettes hygiéniques** (sanitary pads) show a slightly broader price range, from 1.5 to 20 euros, with an average packaging size of 12 units for products within this interval. This implies that sanitary pads are generally available in smaller pack sizes compared to tampons, possibly reflecting distinct usage patterns, consumer preferences, or manufacturers' product positioning strategies.\n",
    "Additionally, the analysis brings attention to products such as:\n",
    "\n",
    "**Coupes menstruelles** (menstrual cups), which are highlighted for their higher price points ranging from 17 to 32 euros. However, it's important to note their reusable nature, which offers long-term value and sustainability benefits, potentially justifying the higher upfront cost.\n",
    "\n",
    "**Culottes et sous-vêtements de protection**(protective underwear) also feature higher prices, ranging from 22 to 31 euros. This category includes products offering innovative solutions for menstrual and incontinence protection, reflecting a growing consumer interest in comfort, reliability, and sustainability.\n",
    "\n",
    "**Protections, serviettes hygiéniques, couches pour adultes, protège-slips** (a broad category encompassing various sanitary and incontinence products) have price ranges from 16 to 30 euros, indicating a wide market offering catering to different needs and preferences."
   ]
  },
  {
   "cell_type": "markdown",
   "metadata": {},
   "source": [
    "However, most variation in price could be explained by the number of units per package. The solve this bias, lets normalize the data with a price per unit column. "
   ]
  },
  {
   "cell_type": "code",
   "execution_count": 44,
   "metadata": {},
   "outputs": [
    {
     "data": {
      "text/html": [
       "<div>\n",
       "<style scoped>\n",
       "    .dataframe tbody tr th:only-of-type {\n",
       "        vertical-align: middle;\n",
       "    }\n",
       "\n",
       "    .dataframe tbody tr th {\n",
       "        vertical-align: top;\n",
       "    }\n",
       "\n",
       "    .dataframe thead th {\n",
       "        text-align: right;\n",
       "    }\n",
       "</style>\n",
       "<table border=\"1\" class=\"dataframe\">\n",
       "  <thead>\n",
       "    <tr style=\"text-align: right;\">\n",
       "      <th></th>\n",
       "      <th>asin</th>\n",
       "      <th>thumbnail</th>\n",
       "      <th>title</th>\n",
       "      <th>avg_rating</th>\n",
       "      <th>brand</th>\n",
       "      <th>category</th>\n",
       "      <th>feature_bullets</th>\n",
       "      <th>num_reviews</th>\n",
       "      <th>price</th>\n",
       "      <th>unities</th>\n",
       "      <th>unit_price</th>\n",
       "    </tr>\n",
       "  </thead>\n",
       "  <tbody>\n",
       "    <tr>\n",
       "      <th>0</th>\n",
       "      <td>B07BFMNKBJ</td>\n",
       "      <td>https://m.media-amazon.com/images/I/71MyAkpL3P...</td>\n",
       "      <td>Nett Original Tampon sans Applicateur, Super P...</td>\n",
       "      <td>4.7</td>\n",
       "      <td>Nett</td>\n",
       "      <td>Tampons</td>\n",
       "      <td>['Son ouverture en corolle permet une adaptati...</td>\n",
       "      <td>223.0</td>\n",
       "      <td>2.66</td>\n",
       "      <td>32.0</td>\n",
       "      <td>0.083125</td>\n",
       "    </tr>\n",
       "    <tr>\n",
       "      <th>1</th>\n",
       "      <td>B07YQG6J8C</td>\n",
       "      <td>https://m.media-amazon.com/images/I/71z+FTDoel...</td>\n",
       "      <td>Nett® ProComfort® Normal, Tampon Sans Applicat...</td>\n",
       "      <td>4.6</td>\n",
       "      <td>Nett</td>\n",
       "      <td>Tampons</td>\n",
       "      <td>[\"Les tampons Nett ProComfort sont ultra confo...</td>\n",
       "      <td>303.0</td>\n",
       "      <td>3.79</td>\n",
       "      <td>24.0</td>\n",
       "      <td>0.157917</td>\n",
       "    </tr>\n",
       "    <tr>\n",
       "      <th>2</th>\n",
       "      <td>B07DX91LR6</td>\n",
       "      <td>https://m.media-amazon.com/images/I/81aKn18Bqs...</td>\n",
       "      <td>Tampax Compak Pearl, Super, 18 Tampons Avec Ap...</td>\n",
       "      <td>4.7</td>\n",
       "      <td>Always</td>\n",
       "      <td>Tampons</td>\n",
       "      <td>['La combinaison n°\\xa01 de confort, protectio...</td>\n",
       "      <td>859.0</td>\n",
       "      <td>3.10</td>\n",
       "      <td>18.0</td>\n",
       "      <td>0.172222</td>\n",
       "    </tr>\n",
       "    <tr>\n",
       "      <th>3</th>\n",
       "      <td>B082VVC4ZB</td>\n",
       "      <td>https://m.media-amazon.com/images/I/71IHCEr+Kr...</td>\n",
       "      <td>Nett Original Tampon sans Applicateur, Super, ...</td>\n",
       "      <td>4.7</td>\n",
       "      <td>Nett</td>\n",
       "      <td>Tampons</td>\n",
       "      <td>['Son ouverture en corolle permet une adaptati...</td>\n",
       "      <td>144.0</td>\n",
       "      <td>2.81</td>\n",
       "      <td>32.0</td>\n",
       "      <td>0.087813</td>\n",
       "    </tr>\n",
       "    <tr>\n",
       "      <th>4</th>\n",
       "      <td>B0BQJQW12P</td>\n",
       "      <td>https://m.media-amazon.com/images/I/61omM04gC2...</td>\n",
       "      <td>Tampax Cotton Protection, Super Plus, 18 Tampo...</td>\n",
       "      <td>4.7</td>\n",
       "      <td>Always</td>\n",
       "      <td>Tampons</td>\n",
       "      <td>['Tampax offre une protection longue durée ave...</td>\n",
       "      <td>30.0</td>\n",
       "      <td>4.50</td>\n",
       "      <td>18.0</td>\n",
       "      <td>0.250000</td>\n",
       "    </tr>\n",
       "  </tbody>\n",
       "</table>\n",
       "</div>"
      ],
      "text/plain": [
       "         asin                                          thumbnail  \\\n",
       "0  B07BFMNKBJ  https://m.media-amazon.com/images/I/71MyAkpL3P...   \n",
       "1  B07YQG6J8C  https://m.media-amazon.com/images/I/71z+FTDoel...   \n",
       "2  B07DX91LR6  https://m.media-amazon.com/images/I/81aKn18Bqs...   \n",
       "3  B082VVC4ZB  https://m.media-amazon.com/images/I/71IHCEr+Kr...   \n",
       "4  B0BQJQW12P  https://m.media-amazon.com/images/I/61omM04gC2...   \n",
       "\n",
       "                                               title  avg_rating   brand  \\\n",
       "0  Nett Original Tampon sans Applicateur, Super P...         4.7    Nett   \n",
       "1  Nett® ProComfort® Normal, Tampon Sans Applicat...         4.6    Nett   \n",
       "2  Tampax Compak Pearl, Super, 18 Tampons Avec Ap...         4.7  Always   \n",
       "3  Nett Original Tampon sans Applicateur, Super, ...         4.7    Nett   \n",
       "4  Tampax Cotton Protection, Super Plus, 18 Tampo...         4.7  Always   \n",
       "\n",
       "  category                                    feature_bullets  num_reviews  \\\n",
       "0  Tampons  ['Son ouverture en corolle permet une adaptati...        223.0   \n",
       "1  Tampons  [\"Les tampons Nett ProComfort sont ultra confo...        303.0   \n",
       "2  Tampons  ['La combinaison n°\\xa01 de confort, protectio...        859.0   \n",
       "3  Tampons  ['Son ouverture en corolle permet une adaptati...        144.0   \n",
       "4  Tampons  ['Tampax offre une protection longue durée ave...         30.0   \n",
       "\n",
       "   price  unities  unit_price  \n",
       "0   2.66     32.0    0.083125  \n",
       "1   3.79     24.0    0.157917  \n",
       "2   3.10     18.0    0.172222  \n",
       "3   2.81     32.0    0.087813  \n",
       "4   4.50     18.0    0.250000  "
      ]
     },
     "execution_count": 44,
     "metadata": {},
     "output_type": "execute_result"
    }
   ],
   "source": [
    "products_df[\"unit_price\"] = products_df['price'] / products_df[\"unities\"]\n",
    "products_df.head()"
   ]
  },
  {
   "cell_type": "markdown",
   "metadata": {},
   "source": [
    "#### **D. Reviews Analysis**"
   ]
  },
  {
   "cell_type": "code",
   "execution_count": 45,
   "metadata": {},
   "outputs": [
    {
     "data": {
      "text/html": [
       "<div>\n",
       "<style scoped>\n",
       "    .dataframe tbody tr th:only-of-type {\n",
       "        vertical-align: middle;\n",
       "    }\n",
       "\n",
       "    .dataframe tbody tr th {\n",
       "        vertical-align: top;\n",
       "    }\n",
       "\n",
       "    .dataframe thead th {\n",
       "        text-align: right;\n",
       "    }\n",
       "</style>\n",
       "<table border=\"1\" class=\"dataframe\">\n",
       "  <thead>\n",
       "    <tr style=\"text-align: right;\">\n",
       "      <th></th>\n",
       "      <th>asin</th>\n",
       "      <th>rating</th>\n",
       "      <th>title</th>\n",
       "      <th>country</th>\n",
       "      <th>date</th>\n",
       "      <th>body</th>\n",
       "      <th>body_en</th>\n",
       "    </tr>\n",
       "  </thead>\n",
       "  <tbody>\n",
       "    <tr>\n",
       "      <th>0</th>\n",
       "      <td>B07BFMNKBJ</td>\n",
       "      <td>1</td>\n",
       "      <td>Pas reçue</td>\n",
       "      <td>France</td>\n",
       "      <td>2020-12-02</td>\n",
       "      <td>Ont me dis que je les reçue alors que non !</td>\n",
       "      <td>I was told that I received them when I didn&amp;#3...</td>\n",
       "    </tr>\n",
       "    <tr>\n",
       "      <th>1</th>\n",
       "      <td>B07BFMNKBJ</td>\n",
       "      <td>1</td>\n",
       "      <td>Sans commentaire</td>\n",
       "      <td>France</td>\n",
       "      <td>2018-10-11</td>\n",
       "      <td>Sans commentaire</td>\n",
       "      <td>No comment</td>\n",
       "    </tr>\n",
       "    <tr>\n",
       "      <th>2</th>\n",
       "      <td>B07BFMNKBJ</td>\n",
       "      <td>5</td>\n",
       "      <td>Parfait 👌</td>\n",
       "      <td>France</td>\n",
       "      <td>2022-01-27</td>\n",
       "      <td>J'utilise ce modèle depuis des années, je ne c...</td>\n",
       "      <td>I have been using this model for years, I no l...</td>\n",
       "    </tr>\n",
       "    <tr>\n",
       "      <th>3</th>\n",
       "      <td>B07BFMNKBJ</td>\n",
       "      <td>4</td>\n",
       "      <td>Bien mais</td>\n",
       "      <td>France</td>\n",
       "      <td>2021-11-21</td>\n",
       "      <td>Légèrement moins cher qu’en grande surface mai...</td>\n",
       "      <td>Slightly cheaper than supermarkets but Pro Con...</td>\n",
       "    </tr>\n",
       "    <tr>\n",
       "      <th>4</th>\n",
       "      <td>B07BFMNKBJ</td>\n",
       "      <td>4</td>\n",
       "      <td>Bons tampons</td>\n",
       "      <td>France</td>\n",
       "      <td>2022-01-29</td>\n",
       "      <td>Rien de particulier à signaler.</td>\n",
       "      <td>Nothing special to report.</td>\n",
       "    </tr>\n",
       "  </tbody>\n",
       "</table>\n",
       "</div>"
      ],
      "text/plain": [
       "         asin  rating             title country       date  \\\n",
       "0  B07BFMNKBJ       1         Pas reçue  France 2020-12-02   \n",
       "1  B07BFMNKBJ       1  Sans commentaire  France 2018-10-11   \n",
       "2  B07BFMNKBJ       5         Parfait 👌  France 2022-01-27   \n",
       "3  B07BFMNKBJ       4         Bien mais  France 2021-11-21   \n",
       "4  B07BFMNKBJ       4      Bons tampons  France 2022-01-29   \n",
       "\n",
       "                                                body  \\\n",
       "0        Ont me dis que je les reçue alors que non !   \n",
       "1                                   Sans commentaire   \n",
       "2  J'utilise ce modèle depuis des années, je ne c...   \n",
       "3  Légèrement moins cher qu’en grande surface mai...   \n",
       "4                    Rien de particulier à signaler.   \n",
       "\n",
       "                                             body_en  \n",
       "0  I was told that I received them when I didn&#3...  \n",
       "1                                         No comment  \n",
       "2  I have been using this model for years, I no l...  \n",
       "3  Slightly cheaper than supermarkets but Pro Con...  \n",
       "4                         Nothing special to report.  "
      ]
     },
     "execution_count": 45,
     "metadata": {},
     "output_type": "execute_result"
    }
   ],
   "source": [
    "reviews.head()"
   ]
  },
  {
   "cell_type": "code",
   "execution_count": 46,
   "metadata": {},
   "outputs": [
    {
     "data": {
      "text/html": [
       "<div>\n",
       "<style scoped>\n",
       "    .dataframe tbody tr th:only-of-type {\n",
       "        vertical-align: middle;\n",
       "    }\n",
       "\n",
       "    .dataframe tbody tr th {\n",
       "        vertical-align: top;\n",
       "    }\n",
       "\n",
       "    .dataframe thead th {\n",
       "        text-align: right;\n",
       "    }\n",
       "</style>\n",
       "<table border=\"1\" class=\"dataframe\">\n",
       "  <thead>\n",
       "    <tr style=\"text-align: right;\">\n",
       "      <th></th>\n",
       "      <th>avg_rating</th>\n",
       "      <th>num_review</th>\n",
       "    </tr>\n",
       "    <tr>\n",
       "      <th>asin</th>\n",
       "      <th></th>\n",
       "      <th></th>\n",
       "    </tr>\n",
       "  </thead>\n",
       "  <tbody>\n",
       "    <tr>\n",
       "      <th>B00028O5RY</th>\n",
       "      <td>3.977528</td>\n",
       "      <td>89</td>\n",
       "    </tr>\n",
       "    <tr>\n",
       "      <th>B000E3DXCA</th>\n",
       "      <td>3.862745</td>\n",
       "      <td>51</td>\n",
       "    </tr>\n",
       "    <tr>\n",
       "      <th>B000FAG6X0</th>\n",
       "      <td>4.500000</td>\n",
       "      <td>10</td>\n",
       "    </tr>\n",
       "    <tr>\n",
       "      <th>B000W6KKLQ</th>\n",
       "      <td>4.142857</td>\n",
       "      <td>14</td>\n",
       "    </tr>\n",
       "    <tr>\n",
       "      <th>B000W6KKMK</th>\n",
       "      <td>4.600000</td>\n",
       "      <td>10</td>\n",
       "    </tr>\n",
       "    <tr>\n",
       "      <th>...</th>\n",
       "      <td>...</td>\n",
       "      <td>...</td>\n",
       "    </tr>\n",
       "    <tr>\n",
       "      <th>B0CL3VMWJR</th>\n",
       "      <td>5.000000</td>\n",
       "      <td>1</td>\n",
       "    </tr>\n",
       "    <tr>\n",
       "      <th>B0CL56DM4L</th>\n",
       "      <td>5.000000</td>\n",
       "      <td>1</td>\n",
       "    </tr>\n",
       "    <tr>\n",
       "      <th>B0CL56VDZV</th>\n",
       "      <td>4.000000</td>\n",
       "      <td>2</td>\n",
       "    </tr>\n",
       "    <tr>\n",
       "      <th>B0CL9VMF6K</th>\n",
       "      <td>4.000000</td>\n",
       "      <td>1</td>\n",
       "    </tr>\n",
       "    <tr>\n",
       "      <th>B0CLY65M7V</th>\n",
       "      <td>3.000000</td>\n",
       "      <td>1</td>\n",
       "    </tr>\n",
       "  </tbody>\n",
       "</table>\n",
       "<p>617 rows × 2 columns</p>\n",
       "</div>"
      ],
      "text/plain": [
       "            avg_rating  num_review\n",
       "asin                              \n",
       "B00028O5RY    3.977528          89\n",
       "B000E3DXCA    3.862745          51\n",
       "B000FAG6X0    4.500000          10\n",
       "B000W6KKLQ    4.142857          14\n",
       "B000W6KKMK    4.600000          10\n",
       "...                ...         ...\n",
       "B0CL3VMWJR    5.000000           1\n",
       "B0CL56DM4L    5.000000           1\n",
       "B0CL56VDZV    4.000000           2\n",
       "B0CL9VMF6K    4.000000           1\n",
       "B0CLY65M7V    3.000000           1\n",
       "\n",
       "[617 rows x 2 columns]"
      ]
     },
     "execution_count": 46,
     "metadata": {},
     "output_type": "execute_result"
    }
   ],
   "source": [
    "avg_ratings = reviews.groupby(\"asin\").agg({\"rating\":\"mean\", \"body\":\"size\"})\n",
    "avg_ratings.rename(columns={\"rating\":\"avg_rating\",\"body\":\"num_review\"}, inplace=True)\n",
    "avg_ratings"
   ]
  },
  {
   "cell_type": "code",
   "execution_count": 47,
   "metadata": {},
   "outputs": [
    {
     "data": {
      "application/vnd.plotly.v1+json": {
       "config": {
        "plotlyServerURL": "https://plot.ly"
       },
       "data": [
        {
         "hovertemplate": "Average Rating=%{x}<br>Number of Reviews=%{y}<extra></extra>",
         "legendgroup": "",
         "marker": {
          "color": "#FF69B4",
          "symbol": "circle"
         },
         "mode": "markers",
         "name": "",
         "orientation": "v",
         "showlegend": false,
         "type": "scatter",
         "x": [
          3.9775280898876404,
          3.8627450980392157,
          4.5,
          4.142857142857143,
          4.6,
          4.48,
          3.6,
          3.3333333333333335,
          4.621621621621622,
          4.6,
          4.410256410256411,
          4.24,
          3.3666666666666667,
          4.4,
          2.85,
          4.214285714285714,
          4.3,
          3.7,
          3.9,
          2,
          3.986111111111111,
          3.971014492753623,
          4.2444444444444445,
          2.6666666666666665,
          4.857142857142857,
          3.8,
          4.7,
          4.3,
          3.857142857142857,
          4.09,
          4.3,
          4.2272727272727275,
          3,
          4.2,
          4,
          4.9,
          2,
          5,
          4,
          4.4,
          4.4523809523809526,
          4.8,
          3.79,
          4.25,
          1,
          3,
          5,
          3.8333333333333335,
          2,
          2.5833333333333335,
          3.9,
          3.5,
          4,
          3.7,
          4.5,
          3.6470588235294117,
          3.9166666666666665,
          3.914285714285714,
          4.1923076923076925,
          4.6,
          4,
          3.6666666666666665,
          5,
          3,
          4.5,
          4.8,
          4.2,
          4.6,
          4.7,
          4.6,
          1,
          4.6,
          5,
          4.428571428571429,
          4.8,
          4.4,
          4.3,
          4.7,
          4.4,
          4.3,
          4,
          5,
          3.55,
          4.11,
          3.6,
          5,
          4.384615384615385,
          4.7,
          4.2,
          1,
          3.909090909090909,
          5,
          3.9,
          4.3,
          4.7,
          4.4,
          4.5,
          3.6666666666666665,
          5,
          3.6666666666666665,
          3,
          4.0285714285714285,
          4.2727272727272725,
          4.4,
          4.8,
          3.142857142857143,
          3.9,
          4.41,
          2.5,
          3.1,
          5,
          4.28,
          4.9,
          4.7,
          4.5,
          4.7,
          4.2,
          4.4,
          4,
          4.49,
          3.736842105263158,
          4,
          3.2083333333333335,
          3.3404255319148937,
          4,
          4.285714285714286,
          4.35,
          4.3,
          4.2,
          5,
          4.6,
          4.56,
          4.35,
          4.7272727272727275,
          3.6666666666666665,
          4.73,
          4.7,
          4.56,
          4.62,
          4.7,
          4.7,
          4.5,
          4.2,
          5,
          4.8,
          4.4,
          4.2,
          4.2,
          5,
          4,
          4.9,
          4.2,
          4.6,
          1.8333333333333333,
          4,
          4.2,
          4.8,
          4.333333333333333,
          4.1,
          4.675675675675675,
          4.232323232323233,
          4.25,
          2.8,
          4.333333333333333,
          3.5,
          5,
          4.06,
          5,
          5,
          5,
          4.42,
          5,
          4.04,
          3.7,
          4.714285714285714,
          4.5,
          5,
          3.6666666666666665,
          4.5,
          4.6,
          4.6,
          4.64,
          3.11,
          1,
          4.4,
          4.9,
          4.4,
          4.07,
          3.6,
          4.7,
          4.6,
          3.6956521739130435,
          4.4,
          3.7777777777777777,
          4.666666666666667,
          4.857142857142857,
          4.142857142857143,
          4.3,
          4.2,
          4,
          4.8,
          4.5,
          4.230769230769231,
          4.125,
          3.5714285714285716,
          4.423076923076923,
          4.25,
          3.888888888888889,
          4.428571428571429,
          4.052631578947368,
          4.12,
          4.5,
          4.9,
          3.75,
          4.714285714285714,
          4.2592592592592595,
          4.5625,
          3.9,
          4.428571428571429,
          5,
          4.140350877192983,
          5,
          4.2,
          3.7,
          3,
          4,
          4.521739130434782,
          4,
          4.36,
          4.5,
          5,
          4.428571428571429,
          4.6,
          3.6,
          4.4,
          4.6,
          3,
          4.15,
          5,
          4.37,
          5,
          2.7142857142857144,
          4.344827586206897,
          4.688888888888889,
          4.6,
          2,
          4.209677419354839,
          1,
          3.4,
          5,
          5,
          4.4,
          4.5,
          5,
          4.2,
          4.4,
          4.5,
          3.8,
          4.21,
          3,
          4.24,
          4.7,
          4.366666666666666,
          4.1,
          3.4,
          4.4,
          4.7,
          3,
          5,
          4,
          4,
          4,
          4,
          4.2,
          3.909090909090909,
          4.37,
          4.7894736842105265,
          4.7,
          5,
          3.9,
          4.3,
          4.6,
          5,
          3.8,
          4.23,
          4.492753623188406,
          4.2,
          4.23,
          4.2,
          4.3,
          4.6,
          4.928571428571429,
          4.39,
          4.1,
          4.1,
          4.3,
          4.5,
          5,
          3.4,
          3.7209302325581395,
          3.92,
          3.5272727272727273,
          5,
          4.4,
          3.95,
          3.8378378378378377,
          4.450980392156863,
          4.2,
          4,
          4.7,
          4.8,
          4.7,
          4.2,
          4.288888888888889,
          4,
          4.5,
          4.3,
          4.26,
          4.36,
          3.8,
          3.8,
          3.25,
          2.5,
          5,
          4.5,
          3.857142857142857,
          4.3,
          4.4,
          4.432098765432099,
          4.5,
          3.5,
          4.333333333333333,
          4.5,
          4.3,
          4.7,
          4.45,
          3.5,
          4.6,
          3.5714285714285716,
          4.41,
          4.5,
          4.3,
          5,
          4.6,
          3.93,
          4.6923076923076925,
          4.2727272727272725,
          3.7,
          4.7,
          4.111111111111111,
          4.2,
          4.2,
          3.6666666666666665,
          4.2,
          3.8,
          4.2592592592592595,
          4.15,
          4.266666666666667,
          3.5,
          4.448275862068965,
          4.2,
          3,
          3.9642857142857144,
          4.83,
          4.5,
          1,
          4.6,
          4.42,
          1.8888888888888888,
          5,
          4.5,
          4,
          3.25,
          4.7,
          5,
          3.8,
          4.8,
          4.5,
          3.8823529411764706,
          3,
          4.1,
          4.246376811594203,
          4.2,
          4.6,
          5,
          3.7,
          4.1,
          4.5,
          4,
          5,
          3.5428571428571427,
          4.1,
          2,
          4.4,
          3.2,
          4.5,
          3,
          3.4,
          4.9,
          4.9,
          4.5,
          4.115384615384615,
          3.1052631578947367,
          4.5,
          4.9,
          3.64,
          4.875,
          3.142857142857143,
          4.9,
          4.1,
          4.9,
          4.575757575757576,
          5,
          3.8,
          2.2222222222222223,
          5,
          5,
          4.5,
          5,
          1,
          4.5,
          2.7142857142857144,
          4.7,
          4.527472527472527,
          4.775862068965517,
          4.47887323943662,
          4.882352941176471,
          4.682926829268292,
          4.387096774193548,
          4.5,
          4.5,
          4.333333333333333,
          2.6,
          4.1,
          4.4,
          4,
          4.5,
          5,
          4.3,
          3.3043478260869565,
          5,
          3.8333333333333335,
          4.5,
          4.5,
          3,
          3,
          4.1,
          3.1,
          4.7,
          4.6,
          3.7,
          3.7,
          4.7,
          4.777777777777778,
          4.5,
          4.6,
          4,
          4.6,
          4.7,
          3,
          4.1,
          3.7,
          4.5,
          3.95,
          4.8,
          4.6,
          4.03,
          4,
          4.666666666666667,
          4.8,
          2,
          2.8,
          3.8,
          3.8,
          5,
          5,
          5,
          5,
          4.4,
          4.7,
          3,
          4.3,
          2.3333333333333335,
          4.1,
          3,
          5,
          4.6,
          3.5,
          1,
          2,
          4,
          3.5,
          4.357142857142857,
          4.288888888888889,
          1,
          4.7,
          4.9,
          4.9,
          4.7,
          3.6,
          4.3,
          4,
          4.431818181818182,
          3.58,
          4.5,
          4.204081632653061,
          4.24,
          3,
          3,
          4.085714285714285,
          4.3,
          4.3,
          4.72,
          5,
          4.733333333333333,
          4.2,
          5,
          4.083333333333333,
          4.142857142857143,
          4.4,
          3.6,
          3.6,
          4.9,
          4.2,
          4.8,
          4.9,
          4.8,
          4.3,
          4.5,
          4.8,
          5,
          2,
          4.3,
          3.9782608695652173,
          4.191780821917808,
          3.923076923076923,
          4,
          4.111111111111111,
          4.375,
          4.7,
          4.11,
          4.3,
          4.9,
          5,
          4.1521739130434785,
          4.1521739130434785,
          4.523809523809524,
          1,
          4.8,
          3.6666666666666665,
          4.25,
          4.25,
          3.5,
          4.8,
          3.8,
          4.8,
          5,
          5,
          3.9,
          2.6666666666666665,
          4.3,
          4.444444444444445,
          3.5,
          4,
          3,
          3.74,
          4.6,
          1,
          4.4,
          4.5,
          4.739130434782608,
          4.9,
          3.8,
          3,
          4.8,
          4.1,
          5,
          2.5,
          4.7,
          3.1,
          4.3,
          5,
          4.4,
          4.6,
          1,
          5,
          4.176470588235294,
          4,
          5,
          4.666666666666667,
          4,
          4.7,
          5,
          4.777777777777778,
          4.7,
          4,
          3,
          5,
          4.7,
          3.9454545454545453,
          3.7037037037037037,
          3.7037037037037037,
          4.142857142857143,
          5,
          4.7,
          4.25,
          1.6666666666666667,
          4.2727272727272725,
          5,
          1,
          5,
          5,
          5,
          5,
          4,
          4,
          3
         ],
         "xaxis": "x",
         "y": [
          89,
          51,
          10,
          14,
          10,
          100,
          15,
          15,
          37,
          10,
          39,
          25,
          30,
          10,
          100,
          56,
          10,
          10,
          10,
          7,
          72,
          69,
          45,
          3,
          7,
          5,
          10,
          10,
          7,
          100,
          10,
          22,
          6,
          10,
          7,
          10,
          4,
          1,
          10,
          10,
          42,
          10,
          100,
          8,
          1,
          4,
          1,
          12,
          4,
          12,
          10,
          10,
          3,
          10,
          10,
          17,
          24,
          35,
          52,
          10,
          2,
          3,
          3,
          1,
          10,
          10,
          10,
          10,
          10,
          10,
          1,
          5,
          1,
          56,
          10,
          10,
          10,
          10,
          10,
          10,
          5,
          1,
          20,
          100,
          5,
          4,
          39,
          10,
          10,
          1,
          11,
          1,
          10,
          10,
          10,
          20,
          2,
          3,
          2,
          3,
          4,
          35,
          11,
          10,
          10,
          7,
          10,
          100,
          6,
          10,
          5,
          100,
          10,
          10,
          10,
          10,
          10,
          10,
          10,
          100,
          19,
          10,
          24,
          47,
          5,
          21,
          20,
          10,
          10,
          1,
          10,
          100,
          20,
          11,
          3,
          100,
          10,
          100,
          100,
          10,
          10,
          10,
          10,
          3,
          10,
          10,
          10,
          10,
          1,
          20,
          10,
          10,
          100,
          12,
          10,
          10,
          10,
          3,
          10,
          37,
          99,
          4,
          5,
          3,
          2,
          3,
          100,
          10,
          10,
          10,
          100,
          10,
          100,
          10,
          28,
          8,
          3,
          3,
          10,
          10,
          100,
          100,
          100,
          1,
          10,
          10,
          10,
          100,
          10,
          10,
          10,
          23,
          10,
          9,
          18,
          28,
          14,
          10,
          15,
          7,
          5,
          6,
          13,
          8,
          7,
          26,
          4,
          9,
          7,
          19,
          25,
          10,
          10,
          16,
          7,
          27,
          16,
          10,
          7,
          4,
          57,
          1,
          5,
          10,
          3,
          3,
          23,
          2,
          100,
          10,
          10,
          7,
          10,
          10,
          10,
          100,
          3,
          20,
          1,
          100,
          2,
          7,
          29,
          90,
          10,
          2,
          62,
          1,
          10,
          1,
          1,
          10,
          10,
          1,
          10,
          10,
          10,
          10,
          100,
          1,
          100,
          10,
          90,
          10,
          5,
          10,
          10,
          2,
          1,
          2,
          10,
          10,
          1,
          10,
          33,
          100,
          19,
          10,
          2,
          100,
          10,
          10,
          1,
          10,
          100,
          69,
          10,
          100,
          10,
          10,
          10,
          14,
          100,
          10,
          10,
          10,
          8,
          4,
          10,
          86,
          100,
          55,
          1,
          10,
          20,
          37,
          51,
          10,
          10,
          10,
          10,
          10,
          10,
          45,
          10,
          10,
          10,
          100,
          100,
          10,
          10,
          4,
          6,
          1,
          10,
          7,
          100,
          10,
          81,
          10,
          10,
          21,
          10,
          10,
          10,
          20,
          2,
          10,
          14,
          100,
          10,
          10,
          1,
          10,
          100,
          13,
          11,
          10,
          10,
          36,
          10,
          10,
          6,
          10,
          10,
          27,
          100,
          30,
          10,
          29,
          10,
          1,
          28,
          100,
          10,
          1,
          10,
          100,
          9,
          10,
          10,
          10,
          4,
          10,
          1,
          10,
          10,
          10,
          17,
          1,
          10,
          69,
          10,
          10,
          1,
          10,
          10,
          68,
          3,
          2,
          70,
          10,
          1,
          10,
          10,
          10,
          2,
          10,
          20,
          10,
          10,
          52,
          19,
          10,
          10,
          100,
          8,
          14,
          10,
          10,
          10,
          99,
          10,
          10,
          9,
          6,
          1,
          10,
          3,
          2,
          10,
          7,
          10,
          91,
          58,
          71,
          68,
          41,
          31,
          10,
          10,
          12,
          5,
          10,
          10,
          10,
          2,
          7,
          10,
          23,
          3,
          12,
          10,
          10,
          2,
          4,
          10,
          10,
          10,
          10,
          10,
          10,
          10,
          9,
          10,
          10,
          2,
          10,
          10,
          2,
          10,
          10,
          6,
          100,
          10,
          10,
          100,
          10,
          3,
          5,
          1,
          10,
          5,
          10,
          1,
          10,
          4,
          4,
          10,
          10,
          10,
          10,
          3,
          10,
          1,
          1,
          10,
          10,
          1,
          3,
          6,
          4,
          70,
          45,
          1,
          10,
          10,
          10,
          10,
          10,
          10,
          4,
          44,
          100,
          10,
          49,
          100,
          2,
          2,
          35,
          10,
          10,
          100,
          2,
          45,
          5,
          5,
          12,
          7,
          10,
          10,
          10,
          10,
          10,
          10,
          10,
          10,
          10,
          6,
          10,
          1,
          3,
          10,
          46,
          73,
          13,
          20,
          18,
          32,
          10,
          100,
          10,
          10,
          2,
          46,
          46,
          42,
          1,
          10,
          3,
          100,
          100,
          4,
          10,
          5,
          10,
          1,
          3,
          100,
          3,
          10,
          9,
          2,
          1,
          1,
          100,
          10,
          1,
          10,
          24,
          23,
          10,
          10,
          1,
          5,
          10,
          1,
          4,
          10,
          10,
          10,
          1,
          10,
          10,
          1,
          3,
          17,
          1,
          1,
          3,
          10,
          10,
          1,
          27,
          10,
          2,
          4,
          1,
          10,
          55,
          27,
          27,
          7,
          2,
          10,
          8,
          6,
          88,
          3,
          2,
          2,
          1,
          1,
          1,
          2,
          1,
          1
         ],
         "yaxis": "y"
        }
       ],
       "layout": {
        "legend": {
         "tracegroupgap": 0
        },
        "template": {
         "data": {
          "bar": [
           {
            "error_x": {
             "color": "#2a3f5f"
            },
            "error_y": {
             "color": "#2a3f5f"
            },
            "marker": {
             "line": {
              "color": "#E5ECF6",
              "width": 0.5
             },
             "pattern": {
              "fillmode": "overlay",
              "size": 10,
              "solidity": 0.2
             }
            },
            "type": "bar"
           }
          ],
          "barpolar": [
           {
            "marker": {
             "line": {
              "color": "#E5ECF6",
              "width": 0.5
             },
             "pattern": {
              "fillmode": "overlay",
              "size": 10,
              "solidity": 0.2
             }
            },
            "type": "barpolar"
           }
          ],
          "carpet": [
           {
            "aaxis": {
             "endlinecolor": "#2a3f5f",
             "gridcolor": "white",
             "linecolor": "white",
             "minorgridcolor": "white",
             "startlinecolor": "#2a3f5f"
            },
            "baxis": {
             "endlinecolor": "#2a3f5f",
             "gridcolor": "white",
             "linecolor": "white",
             "minorgridcolor": "white",
             "startlinecolor": "#2a3f5f"
            },
            "type": "carpet"
           }
          ],
          "choropleth": [
           {
            "colorbar": {
             "outlinewidth": 0,
             "ticks": ""
            },
            "type": "choropleth"
           }
          ],
          "contour": [
           {
            "colorbar": {
             "outlinewidth": 0,
             "ticks": ""
            },
            "colorscale": [
             [
              0,
              "#0d0887"
             ],
             [
              0.1111111111111111,
              "#46039f"
             ],
             [
              0.2222222222222222,
              "#7201a8"
             ],
             [
              0.3333333333333333,
              "#9c179e"
             ],
             [
              0.4444444444444444,
              "#bd3786"
             ],
             [
              0.5555555555555556,
              "#d8576b"
             ],
             [
              0.6666666666666666,
              "#ed7953"
             ],
             [
              0.7777777777777778,
              "#fb9f3a"
             ],
             [
              0.8888888888888888,
              "#fdca26"
             ],
             [
              1,
              "#f0f921"
             ]
            ],
            "type": "contour"
           }
          ],
          "contourcarpet": [
           {
            "colorbar": {
             "outlinewidth": 0,
             "ticks": ""
            },
            "type": "contourcarpet"
           }
          ],
          "heatmap": [
           {
            "colorbar": {
             "outlinewidth": 0,
             "ticks": ""
            },
            "colorscale": [
             [
              0,
              "#0d0887"
             ],
             [
              0.1111111111111111,
              "#46039f"
             ],
             [
              0.2222222222222222,
              "#7201a8"
             ],
             [
              0.3333333333333333,
              "#9c179e"
             ],
             [
              0.4444444444444444,
              "#bd3786"
             ],
             [
              0.5555555555555556,
              "#d8576b"
             ],
             [
              0.6666666666666666,
              "#ed7953"
             ],
             [
              0.7777777777777778,
              "#fb9f3a"
             ],
             [
              0.8888888888888888,
              "#fdca26"
             ],
             [
              1,
              "#f0f921"
             ]
            ],
            "type": "heatmap"
           }
          ],
          "heatmapgl": [
           {
            "colorbar": {
             "outlinewidth": 0,
             "ticks": ""
            },
            "colorscale": [
             [
              0,
              "#0d0887"
             ],
             [
              0.1111111111111111,
              "#46039f"
             ],
             [
              0.2222222222222222,
              "#7201a8"
             ],
             [
              0.3333333333333333,
              "#9c179e"
             ],
             [
              0.4444444444444444,
              "#bd3786"
             ],
             [
              0.5555555555555556,
              "#d8576b"
             ],
             [
              0.6666666666666666,
              "#ed7953"
             ],
             [
              0.7777777777777778,
              "#fb9f3a"
             ],
             [
              0.8888888888888888,
              "#fdca26"
             ],
             [
              1,
              "#f0f921"
             ]
            ],
            "type": "heatmapgl"
           }
          ],
          "histogram": [
           {
            "marker": {
             "pattern": {
              "fillmode": "overlay",
              "size": 10,
              "solidity": 0.2
             }
            },
            "type": "histogram"
           }
          ],
          "histogram2d": [
           {
            "colorbar": {
             "outlinewidth": 0,
             "ticks": ""
            },
            "colorscale": [
             [
              0,
              "#0d0887"
             ],
             [
              0.1111111111111111,
              "#46039f"
             ],
             [
              0.2222222222222222,
              "#7201a8"
             ],
             [
              0.3333333333333333,
              "#9c179e"
             ],
             [
              0.4444444444444444,
              "#bd3786"
             ],
             [
              0.5555555555555556,
              "#d8576b"
             ],
             [
              0.6666666666666666,
              "#ed7953"
             ],
             [
              0.7777777777777778,
              "#fb9f3a"
             ],
             [
              0.8888888888888888,
              "#fdca26"
             ],
             [
              1,
              "#f0f921"
             ]
            ],
            "type": "histogram2d"
           }
          ],
          "histogram2dcontour": [
           {
            "colorbar": {
             "outlinewidth": 0,
             "ticks": ""
            },
            "colorscale": [
             [
              0,
              "#0d0887"
             ],
             [
              0.1111111111111111,
              "#46039f"
             ],
             [
              0.2222222222222222,
              "#7201a8"
             ],
             [
              0.3333333333333333,
              "#9c179e"
             ],
             [
              0.4444444444444444,
              "#bd3786"
             ],
             [
              0.5555555555555556,
              "#d8576b"
             ],
             [
              0.6666666666666666,
              "#ed7953"
             ],
             [
              0.7777777777777778,
              "#fb9f3a"
             ],
             [
              0.8888888888888888,
              "#fdca26"
             ],
             [
              1,
              "#f0f921"
             ]
            ],
            "type": "histogram2dcontour"
           }
          ],
          "mesh3d": [
           {
            "colorbar": {
             "outlinewidth": 0,
             "ticks": ""
            },
            "type": "mesh3d"
           }
          ],
          "parcoords": [
           {
            "line": {
             "colorbar": {
              "outlinewidth": 0,
              "ticks": ""
             }
            },
            "type": "parcoords"
           }
          ],
          "pie": [
           {
            "automargin": true,
            "type": "pie"
           }
          ],
          "scatter": [
           {
            "fillpattern": {
             "fillmode": "overlay",
             "size": 10,
             "solidity": 0.2
            },
            "type": "scatter"
           }
          ],
          "scatter3d": [
           {
            "line": {
             "colorbar": {
              "outlinewidth": 0,
              "ticks": ""
             }
            },
            "marker": {
             "colorbar": {
              "outlinewidth": 0,
              "ticks": ""
             }
            },
            "type": "scatter3d"
           }
          ],
          "scattercarpet": [
           {
            "marker": {
             "colorbar": {
              "outlinewidth": 0,
              "ticks": ""
             }
            },
            "type": "scattercarpet"
           }
          ],
          "scattergeo": [
           {
            "marker": {
             "colorbar": {
              "outlinewidth": 0,
              "ticks": ""
             }
            },
            "type": "scattergeo"
           }
          ],
          "scattergl": [
           {
            "marker": {
             "colorbar": {
              "outlinewidth": 0,
              "ticks": ""
             }
            },
            "type": "scattergl"
           }
          ],
          "scattermapbox": [
           {
            "marker": {
             "colorbar": {
              "outlinewidth": 0,
              "ticks": ""
             }
            },
            "type": "scattermapbox"
           }
          ],
          "scatterpolar": [
           {
            "marker": {
             "colorbar": {
              "outlinewidth": 0,
              "ticks": ""
             }
            },
            "type": "scatterpolar"
           }
          ],
          "scatterpolargl": [
           {
            "marker": {
             "colorbar": {
              "outlinewidth": 0,
              "ticks": ""
             }
            },
            "type": "scatterpolargl"
           }
          ],
          "scatterternary": [
           {
            "marker": {
             "colorbar": {
              "outlinewidth": 0,
              "ticks": ""
             }
            },
            "type": "scatterternary"
           }
          ],
          "surface": [
           {
            "colorbar": {
             "outlinewidth": 0,
             "ticks": ""
            },
            "colorscale": [
             [
              0,
              "#0d0887"
             ],
             [
              0.1111111111111111,
              "#46039f"
             ],
             [
              0.2222222222222222,
              "#7201a8"
             ],
             [
              0.3333333333333333,
              "#9c179e"
             ],
             [
              0.4444444444444444,
              "#bd3786"
             ],
             [
              0.5555555555555556,
              "#d8576b"
             ],
             [
              0.6666666666666666,
              "#ed7953"
             ],
             [
              0.7777777777777778,
              "#fb9f3a"
             ],
             [
              0.8888888888888888,
              "#fdca26"
             ],
             [
              1,
              "#f0f921"
             ]
            ],
            "type": "surface"
           }
          ],
          "table": [
           {
            "cells": {
             "fill": {
              "color": "#EBF0F8"
             },
             "line": {
              "color": "white"
             }
            },
            "header": {
             "fill": {
              "color": "#C8D4E3"
             },
             "line": {
              "color": "white"
             }
            },
            "type": "table"
           }
          ]
         },
         "layout": {
          "annotationdefaults": {
           "arrowcolor": "#2a3f5f",
           "arrowhead": 0,
           "arrowwidth": 1
          },
          "autotypenumbers": "strict",
          "coloraxis": {
           "colorbar": {
            "outlinewidth": 0,
            "ticks": ""
           }
          },
          "colorscale": {
           "diverging": [
            [
             0,
             "#8e0152"
            ],
            [
             0.1,
             "#c51b7d"
            ],
            [
             0.2,
             "#de77ae"
            ],
            [
             0.3,
             "#f1b6da"
            ],
            [
             0.4,
             "#fde0ef"
            ],
            [
             0.5,
             "#f7f7f7"
            ],
            [
             0.6,
             "#e6f5d0"
            ],
            [
             0.7,
             "#b8e186"
            ],
            [
             0.8,
             "#7fbc41"
            ],
            [
             0.9,
             "#4d9221"
            ],
            [
             1,
             "#276419"
            ]
           ],
           "sequential": [
            [
             0,
             "#0d0887"
            ],
            [
             0.1111111111111111,
             "#46039f"
            ],
            [
             0.2222222222222222,
             "#7201a8"
            ],
            [
             0.3333333333333333,
             "#9c179e"
            ],
            [
             0.4444444444444444,
             "#bd3786"
            ],
            [
             0.5555555555555556,
             "#d8576b"
            ],
            [
             0.6666666666666666,
             "#ed7953"
            ],
            [
             0.7777777777777778,
             "#fb9f3a"
            ],
            [
             0.8888888888888888,
             "#fdca26"
            ],
            [
             1,
             "#f0f921"
            ]
           ],
           "sequentialminus": [
            [
             0,
             "#0d0887"
            ],
            [
             0.1111111111111111,
             "#46039f"
            ],
            [
             0.2222222222222222,
             "#7201a8"
            ],
            [
             0.3333333333333333,
             "#9c179e"
            ],
            [
             0.4444444444444444,
             "#bd3786"
            ],
            [
             0.5555555555555556,
             "#d8576b"
            ],
            [
             0.6666666666666666,
             "#ed7953"
            ],
            [
             0.7777777777777778,
             "#fb9f3a"
            ],
            [
             0.8888888888888888,
             "#fdca26"
            ],
            [
             1,
             "#f0f921"
            ]
           ]
          },
          "colorway": [
           "#636efa",
           "#EF553B",
           "#00cc96",
           "#ab63fa",
           "#FFA15A",
           "#19d3f3",
           "#FF6692",
           "#B6E880",
           "#FF97FF",
           "#FECB52"
          ],
          "font": {
           "color": "#2a3f5f"
          },
          "geo": {
           "bgcolor": "white",
           "lakecolor": "white",
           "landcolor": "#E5ECF6",
           "showlakes": true,
           "showland": true,
           "subunitcolor": "white"
          },
          "hoverlabel": {
           "align": "left"
          },
          "hovermode": "closest",
          "mapbox": {
           "style": "light"
          },
          "paper_bgcolor": "white",
          "plot_bgcolor": "#E5ECF6",
          "polar": {
           "angularaxis": {
            "gridcolor": "white",
            "linecolor": "white",
            "ticks": ""
           },
           "bgcolor": "#E5ECF6",
           "radialaxis": {
            "gridcolor": "white",
            "linecolor": "white",
            "ticks": ""
           }
          },
          "scene": {
           "xaxis": {
            "backgroundcolor": "#E5ECF6",
            "gridcolor": "white",
            "gridwidth": 2,
            "linecolor": "white",
            "showbackground": true,
            "ticks": "",
            "zerolinecolor": "white"
           },
           "yaxis": {
            "backgroundcolor": "#E5ECF6",
            "gridcolor": "white",
            "gridwidth": 2,
            "linecolor": "white",
            "showbackground": true,
            "ticks": "",
            "zerolinecolor": "white"
           },
           "zaxis": {
            "backgroundcolor": "#E5ECF6",
            "gridcolor": "white",
            "gridwidth": 2,
            "linecolor": "white",
            "showbackground": true,
            "ticks": "",
            "zerolinecolor": "white"
           }
          },
          "shapedefaults": {
           "line": {
            "color": "#2a3f5f"
           }
          },
          "ternary": {
           "aaxis": {
            "gridcolor": "white",
            "linecolor": "white",
            "ticks": ""
           },
           "baxis": {
            "gridcolor": "white",
            "linecolor": "white",
            "ticks": ""
           },
           "bgcolor": "#E5ECF6",
           "caxis": {
            "gridcolor": "white",
            "linecolor": "white",
            "ticks": ""
           }
          },
          "title": {
           "x": 0.05
          },
          "xaxis": {
           "automargin": true,
           "gridcolor": "white",
           "linecolor": "white",
           "ticks": "",
           "title": {
            "standoff": 15
           },
           "zerolinecolor": "white",
           "zerolinewidth": 2
          },
          "yaxis": {
           "automargin": true,
           "gridcolor": "white",
           "linecolor": "white",
           "ticks": "",
           "title": {
            "standoff": 15
           },
           "zerolinecolor": "white",
           "zerolinewidth": 2
          }
         }
        },
        "title": {
         "text": "Correlation between Average Rating and Number of Reviews"
        },
        "xaxis": {
         "anchor": "y",
         "domain": [
          0,
          1
         ],
         "title": {
          "text": "Average Rating"
         }
        },
        "yaxis": {
         "anchor": "x",
         "domain": [
          0,
          1
         ],
         "title": {
          "text": "Number of Reviews"
         }
        }
       }
      }
     },
     "metadata": {},
     "output_type": "display_data"
    }
   ],
   "source": [
    "fig6 = px.scatter(avg_ratings, x='avg_rating', y='num_review',\n",
    "                  title='Correlation between Average Rating and Number of Reviews',\n",
    "                  labels={'avg_rating': 'Average Rating', 'num_review': 'Number of Reviews'})\n",
    "\n",
    "# Set all markers to a specific shade of pink\n",
    "fig6.update_traces(marker=dict(color='#FF69B4'))  # Example: Using Hot Pink\n",
    "\n",
    "fig6.show()"
   ]
  },
  {
   "cell_type": "code",
   "execution_count": 48,
   "metadata": {},
   "outputs": [
    {
     "name": "stdout",
     "output_type": "stream",
     "text": [
      "The Pearson correlation coefficient between average rating and number of reviews is: 0.07449022689012266\n"
     ]
    }
   ],
   "source": [
    "correlation = avg_ratings['avg_rating'].corr(avg_ratings['num_review'])\n",
    "print(f\"The Pearson correlation coefficient between average rating and number of reviews is: {correlation}\")\n"
   ]
  },
  {
   "cell_type": "markdown",
   "metadata": {},
   "source": [
    "The analysis of the correlation between the average rating of a product and the number of reviews it has reveals a Pearson correlation coefficient close to 0. This outcome indicates a no or weak linear relationship between these two variables. In practical terms, this suggests that the average rating a product receives on Amazon does not strongly influence how many reviews it gets. This could imply that customers are not necessarily more inclined to leave reviews for products with higher or lower ratings. Instead, factors other than the average rating—such as product visibility, marketing strategies, or consumer interest—might play a more significant role in determining the number of reviews a product receives. This finding highlights the complexity of consumer behavior on e-commerce platforms and suggests that encouraging customer reviews may require strategies beyond simply aiming for higher product ratings."
   ]
  },
  {
   "cell_type": "code",
   "execution_count": 49,
   "metadata": {},
   "outputs": [
    {
     "name": "stdout",
     "output_type": "stream",
     "text": [
      "Spearman's rank correlation coefficient: -0.018959069170258854\n",
      "P-value: 0.6383401673313394\n"
     ]
    }
   ],
   "source": [
    "import scipy.stats as stats\n",
    "\n",
    "# Assuming avg_ratings is your DataFrame with 'avg_rating' and 'review_count' columns\n",
    "spearman_corr, spearman_pvalue = stats.spearmanr(avg_ratings['avg_rating'], avg_ratings['num_review'])\n",
    "\n",
    "print(f\"Spearman's rank correlation coefficient: {spearman_corr}\")\n",
    "print(f\"P-value: {spearman_pvalue}\")"
   ]
  },
  {
   "cell_type": "markdown",
   "metadata": {},
   "source": [
    "The results from Spearman's rank correlation analysis reveal a coefficient of -0.04385, suggesting a very weak inverse relationship between the average rating of a product and the number of reviews it receives. The near-zero value indicates that as the average rating slightly decreases, the number of reviews slightly increases, or vice versa, but this relationship is very weak and likely not meaningful in practice.\n",
    "\n",
    "Moreover, the p-value of 0.37875 exceeds common significance levels (e.g., 0.05), indicating that the observed correlation (or lack thereof) could very well be due to chance. In statistical terms, we fail to reject the null hypothesis of no correlation, meaning there isn't statistically significant evidence to suggest a meaningful non-linear relationship between these two variables based on Spearman's rank correlation analysis.\n",
    "\n",
    "Conclusion:\n",
    "Both linear (Pearson) and non-linear (Spearman) correlation analyses suggest that there is no strong or statistically significant relationship between the average rating of a product and the number of reviews it has."
   ]
  },
  {
   "cell_type": "markdown",
   "metadata": {},
   "source": [
    "#### **E. Price Sensitivity Analysis**"
   ]
  },
  {
   "cell_type": "code",
   "execution_count": 50,
   "metadata": {},
   "outputs": [
    {
     "data": {
      "application/vnd.plotly.v1+json": {
       "config": {
        "plotlyServerURL": "https://plot.ly"
       },
       "data": [
        {
         "hovertemplate": "Average Rating=%{x}<br>Price=%{y}<extra></extra>",
         "legendgroup": "",
         "marker": {
          "color": "#FF69B4",
          "symbol": "circle"
         },
         "mode": "markers",
         "name": "",
         "orientation": "v",
         "showlegend": false,
         "type": "scatter",
         "x": [
          4.7,
          4.6,
          4.7,
          4.7,
          4.7,
          4.7,
          4.4,
          4.8,
          4.2,
          4.6,
          4.6,
          4.3,
          4.6,
          4.7,
          4.7,
          4.6,
          4.3,
          4.6,
          4.6,
          4.2,
          4.7,
          4.6,
          4,
          4.3,
          4.5,
          4.1,
          4,
          4.4,
          4.5,
          4.8,
          4.7,
          5,
          4.8,
          3.9,
          4.8,
          4.7,
          4.6,
          4.3,
          5,
          4.4,
          4.3,
          4.6,
          4.4,
          4.4,
          3.2,
          3.7,
          3.8,
          4.7,
          4.2,
          null,
          3.8,
          4.3,
          4.5,
          3.7,
          null,
          4.7,
          4.7,
          3.9,
          4.7,
          4.5,
          4.6,
          4.5,
          4,
          4.8,
          4.5,
          3,
          4,
          null,
          3,
          4.5,
          4.5,
          4.6,
          3.7,
          4.2,
          3.5,
          null,
          4.5,
          4.8,
          null,
          4.6,
          5,
          4,
          null,
          null,
          5,
          null,
          3,
          4.5,
          null,
          null,
          null,
          null,
          4.5,
          4.5,
          null,
          4.7,
          null,
          null,
          null,
          4.2,
          null,
          null,
          null,
          null,
          null,
          null,
          null,
          null,
          null,
          null,
          null,
          null,
          null,
          null,
          null,
          null,
          null,
          null,
          null,
          null,
          null,
          null,
          null,
          null,
          null,
          null,
          null,
          null,
          null,
          null,
          null,
          null,
          null,
          null,
          null,
          null,
          null,
          null,
          null,
          null,
          null,
          null,
          null,
          null,
          null,
          4.7,
          3.9,
          4.7,
          4.5,
          null,
          null,
          4.7,
          4.4,
          3.6,
          4.2,
          4.3,
          4.4,
          4.2,
          3.4,
          4.3,
          4.7,
          2.8,
          4.2,
          4.4,
          3.9,
          3.9,
          4.5,
          4.2,
          4.3,
          4.2,
          3.8,
          4.1,
          null,
          3,
          4.4,
          4.6,
          3.8,
          4.5,
          3.8,
          4.5,
          4,
          4,
          4.5,
          4.4,
          null,
          4.2,
          4.2,
          4.5,
          4.3,
          4.5,
          4.2,
          4.4,
          4.4,
          4.1,
          4.4,
          4.5,
          4.4,
          4.2,
          3.9,
          4.3,
          null,
          3.9,
          4.4,
          4.1,
          4.3,
          4.3,
          4.8,
          4.3,
          4.2,
          4.2,
          4.2,
          null,
          3.7,
          1,
          4.3,
          4.2,
          3.5,
          4.3,
          4.3,
          4.3,
          4.2,
          3.7,
          4.2,
          4.4,
          4.8,
          4.6,
          4.2,
          4,
          4.1,
          4.4,
          4.4,
          4.2,
          4.2,
          3.3,
          4.3,
          4.1,
          4.1,
          4.4,
          4.4,
          5,
          4.3,
          4.4,
          3.7,
          4.1,
          4.3,
          null,
          4.8,
          4.1,
          null,
          null,
          null,
          4.3,
          null,
          4.5,
          3.7,
          null,
          4.4,
          4.4,
          4.6,
          3.5,
          null,
          3.9,
          5,
          4,
          null,
          4.5,
          5,
          4,
          4.3,
          4.1,
          null,
          4.2,
          4.5,
          4.5,
          4.1,
          null,
          null,
          4.9,
          4.4,
          4.3,
          4.2,
          4,
          4.3,
          3.7,
          null,
          null,
          3.8,
          4.3,
          4.3,
          2.8,
          5,
          null,
          4.2,
          null,
          null,
          4.2,
          4.8,
          4.5,
          4.5,
          null,
          4.4,
          2.5,
          4.4,
          null,
          4.3,
          4.4,
          null,
          3.7,
          4.2,
          null,
          4,
          null,
          null,
          2.5,
          3.8,
          3.9,
          2,
          5,
          4.3,
          3.9,
          5,
          4.1,
          5,
          null,
          null,
          3.9,
          null,
          null,
          null,
          null,
          null,
          null,
          3.6,
          4.5,
          4.6,
          4.4,
          5,
          4.3,
          4.3,
          3.9,
          4.1,
          5,
          4.5,
          4.2,
          null,
          null,
          4.2,
          null,
          null,
          null,
          4.1,
          null,
          4.1,
          4.4,
          3.9,
          3.3,
          4.5,
          3.7,
          4.2,
          3.6,
          null,
          4.1,
          1,
          4.2,
          null,
          4.4,
          3.2,
          null,
          4.5,
          3.8,
          4.5,
          4.7,
          4.4,
          4.4,
          4.6,
          4.7,
          4.6,
          4.6,
          4.4,
          4.5,
          4.9,
          4.6,
          4.5,
          4.8,
          4.2,
          4.7,
          4.7,
          4.4,
          4.7,
          5,
          4.6,
          4.5,
          4.8,
          4.3,
          4.5,
          4.6,
          4.5,
          4.3,
          4.7,
          4.5,
          4.5,
          4.6,
          4.6,
          4.5,
          4.7,
          4.6,
          4.7,
          4.3,
          4.6,
          4.5,
          4.7,
          4.6,
          4,
          4.6,
          4.1,
          4.2,
          4.7,
          1,
          4.3,
          4.2,
          4.3,
          4.4,
          4.3,
          4.4,
          4.7,
          4.7,
          4,
          4.3,
          4,
          null,
          4.2,
          4.8,
          4.4,
          4.5,
          4.6,
          null,
          4.6,
          null,
          4.1,
          4.4,
          4.4,
          4.1,
          3.9,
          4.2,
          4.4,
          4.7,
          4.5,
          4.3,
          4.5,
          5,
          4.7,
          4.6,
          4.5,
          5,
          4.6,
          4.4,
          4.7,
          4.2,
          4.7,
          3.9,
          4.7,
          4,
          3.5,
          4.6,
          null,
          4.7,
          4.1,
          4.2,
          4.6,
          4.2,
          4.8,
          4.5,
          4.5,
          3.6,
          4.4,
          4.7,
          4.6,
          4.1,
          4.5,
          null,
          3.8,
          4.4,
          4.5,
          4.4,
          4.6,
          null,
          4.7,
          4.6,
          3.9,
          null,
          4.6,
          4.6,
          4.5,
          4.1,
          4.6,
          4.6,
          4.5,
          4.1,
          4.3,
          4.5,
          4.5,
          4.4,
          4.7,
          3.9,
          4.2,
          4.3,
          3.9,
          4.4,
          4.6,
          null,
          4.5,
          5,
          4.6,
          5,
          3.8,
          4.5,
          4.7,
          4.6,
          4.4,
          4.5,
          4.6,
          4.5,
          5,
          4.5,
          4.2,
          3.6,
          4.7,
          3.7,
          3.5,
          4.1,
          2.9,
          5,
          3.5,
          null,
          4.1,
          4.4,
          4.5,
          4.6,
          3.9,
          5,
          null,
          4.5,
          4.5,
          5,
          5,
          5,
          4.5,
          4.4,
          4.4,
          3.9,
          4,
          4.2,
          4.7,
          4.5,
          4.5,
          4,
          null,
          4.5,
          null,
          null,
          5,
          4.7,
          null,
          null,
          4.8,
          4.3,
          4.8,
          4.9,
          5,
          4.4,
          5,
          4.6,
          null,
          4.2,
          3.7,
          5,
          4.6,
          4.1,
          4.1,
          4.4,
          4.7,
          4.4,
          4.3,
          4.5,
          4,
          4.4,
          4.5,
          3.5,
          3.5,
          4.4,
          4.7,
          4.4,
          4.1,
          4.4,
          5,
          null,
          4.3,
          4.1,
          4.1,
          4.5,
          4.6,
          5,
          3.9,
          4.4,
          null,
          4.7,
          null,
          4.7,
          4.5,
          4.6,
          4.4,
          3.8,
          null,
          4.2,
          null,
          4.2,
          4.2,
          3.1,
          3.9,
          4.1,
          4.5,
          null,
          4.5,
          3.1,
          5,
          4.1,
          4.4,
          4.6,
          3.9,
          4,
          4.3,
          4.3,
          4.4,
          3.9,
          4.7,
          4.2,
          5,
          4.6,
          4.6,
          4.5,
          5,
          4.1,
          4.4,
          4.6,
          4.2,
          4,
          5,
          3.3,
          3.8,
          4.2,
          4.4,
          4.5,
          null,
          null,
          null,
          null,
          4.2,
          4.6,
          4.8,
          4.4,
          null,
          null,
          null,
          3.9,
          5,
          4.4,
          4.9,
          4.6,
          null,
          3.4,
          4.2,
          4.7,
          3.9,
          4.7,
          5,
          null,
          4.5,
          5,
          4.3,
          null,
          3.9,
          null,
          4.3,
          4.5,
          4.3,
          4.6,
          4.4,
          3,
          4.3,
          null,
          5,
          null,
          4,
          4.4,
          4.2,
          4.6,
          4.5,
          3,
          3.9,
          4.4,
          5,
          4.3,
          3.8,
          4.2,
          3,
          4.3,
          4.4,
          null,
          4.4,
          4.5,
          4.6,
          4,
          5,
          4.6,
          5,
          3.3,
          4,
          4.6,
          4.4,
          4.6,
          3.7,
          4.4,
          null,
          5,
          4.2,
          4.6,
          4.3,
          null,
          4.6,
          null,
          4.7,
          4.6,
          null,
          4.6,
          1,
          4.4,
          4.4,
          4.7,
          4.1,
          4.7,
          3.8,
          4.3,
          null,
          4.6,
          4.5,
          3.6,
          4.5,
          4.6,
          4.5,
          5,
          4.1,
          null,
          null,
          4,
          4.6,
          4.8,
          null,
          4.1,
          4.6,
          4.1,
          5,
          null,
          4,
          3.9,
          4.5,
          3.5,
          null,
          null,
          4.5,
          4.5,
          2.4,
          4.5,
          4.1,
          3.5,
          5,
          null,
          null,
          4.5,
          3.6,
          4.8,
          3.8,
          4.5,
          3.8,
          4.4,
          3,
          null,
          4.4,
          null,
          null,
          4.4,
          null,
          null,
          null,
          null,
          4.6,
          4.7,
          5,
          null,
          null,
          5,
          3.7,
          null,
          null,
          null,
          4.5,
          null,
          null,
          null,
          4.2,
          null,
          null,
          4.7,
          4.5,
          null,
          null,
          null,
          4,
          4.3,
          2.8,
          4.4,
          4.5,
          4.5,
          5,
          4.6,
          4,
          null,
          4.2,
          4.8,
          5,
          5,
          3.8,
          4.6,
          4.4,
          4.1,
          4.3,
          4.2,
          4.2,
          4.5,
          4.2,
          3.3,
          4.5,
          4.6,
          4.7,
          4.3,
          4.6,
          4.3,
          4.2,
          3.7,
          4.3,
          4.4,
          4.6,
          4.3,
          null,
          null,
          4.1,
          null,
          4.4,
          4.6,
          4,
          3.7,
          1,
          4.5,
          3.2,
          4.4,
          4.4,
          4,
          4,
          4.5,
          4.4
         ],
         "xaxis": "x",
         "y": [
          2.66,
          3.79,
          3.1,
          2.81,
          4.5,
          3.75,
          4.5,
          3.8,
          4.53,
          6.9,
          11.96,
          14.95,
          7.29,
          4.99,
          4.99,
          5.19,
          5.5,
          9.4,
          25.16,
          7.9,
          9.96,
          null,
          14.94,
          null,
          14.99,
          6.32,
          5.99,
          4.99,
          4.72,
          9.74,
          11.57,
          34.99,
          9.26,
          27.58,
          10.09,
          13.9,
          6.9,
          12.19,
          14.09,
          9.95,
          null,
          11.15,
          8.92,
          49.95,
          5.99,
          10.2,
          19.99,
          7.99,
          11.99,
          8.99,
          7.99,
          25.9,
          null,
          19.96,
          54.99,
          2.06,
          19.98,
          51.87,
          12.36,
          2.45,
          13.99,
          28.81,
          19.44,
          11.87,
          6.98,
          59.9,
          26.52,
          26.94,
          24.76,
          23.36,
          25.19,
          10.28,
          24.99,
          23.24,
          12.23,
          14.99,
          15.99,
          9.2,
          20.41,
          8.32,
          11.93,
          12.49,
          17.69,
          13.76,
          6.89,
          15.92,
          11.45,
          null,
          15.29,
          15.11,
          14.44,
          13.92,
          8.13,
          null,
          12.5,
          7.99,
          12.09,
          11.98,
          12.09,
          null,
          10.88,
          10.88,
          10.65,
          10.88,
          10.88,
          10.88,
          10.88,
          10.37,
          10.29,
          9.89,
          9.94,
          9.49,
          9.98,
          8.87,
          8.09,
          8.13,
          7.64,
          7.23,
          6.77,
          6.99,
          6.96,
          6.62,
          7.24,
          7.32,
          6.76,
          6.69,
          6.89,
          5.98,
          6.98,
          5.7,
          5.98,
          5.76,
          4.99,
          4.99,
          4.18,
          3.98,
          3.98,
          3.79,
          2.98,
          10.37,
          10.88,
          10.88,
          10.88,
          10.88,
          10.88,
          7.72,
          9.23,
          null,
          8.57,
          12.09,
          5.18,
          6.39,
          null,
          5.13,
          11.9,
          15.04,
          11.99,
          15.6,
          18.84,
          14.99,
          27.96,
          10.99,
          7.99,
          10.16,
          17.9,
          7.99,
          25.99,
          14.99,
          15.9,
          27.57,
          14.49,
          7.99,
          7.99,
          9.99,
          22.64,
          19.99,
          26,
          42.9,
          7.99,
          21.29,
          14.99,
          37.88,
          42.08,
          49.95,
          9.99,
          42.9,
          26.88,
          37.45,
          14.99,
          15.99,
          23.35,
          33.31,
          25.89,
          11.36,
          39.04,
          25.64,
          35.93,
          39.99,
          29.95,
          27.99,
          14.99,
          29.95,
          17.27,
          20.68,
          24.47,
          19.95,
          13.21,
          25.63,
          20.71,
          10.79,
          17.99,
          15.99,
          10.86,
          7.99,
          44.19,
          15.99,
          26.95,
          17.27,
          25,
          15.16,
          20.28,
          24.99,
          18.99,
          15.22,
          19.24,
          21.24,
          21.75,
          12.42,
          15.57,
          44.19,
          21.81,
          11.35,
          29.95,
          12.99,
          19.9,
          20.87,
          18.99,
          33.6,
          19.11,
          14.99,
          19.99,
          18.53,
          42.93,
          11.9,
          16.54,
          14.59,
          13.72,
          12.9,
          6.99,
          11.99,
          17.14,
          12.5,
          10.99,
          27.18,
          14.99,
          15.1,
          41,
          16.99,
          11.95,
          14.32,
          11.42,
          7.21,
          12.99,
          8.99,
          10.99,
          8.99,
          13.69,
          12.04,
          11.06,
          40.3,
          13.85,
          32.57,
          11.13,
          28.03,
          29.89,
          10.32,
          11.67,
          11.72,
          25,
          11.94,
          30.49,
          null,
          27.94,
          9.99,
          10.99,
          11.03,
          27.94,
          11.12,
          14.99,
          18.77,
          13.99,
          9.04,
          9.99,
          20.99,
          20.65,
          19.99,
          24.74,
          15.99,
          17.39,
          8,
          25,
          6.99,
          16.54,
          12.49,
          17.99,
          21,
          11.66,
          14.9,
          19.9,
          12.99,
          19.95,
          16.42,
          15.59,
          15.99,
          14.11,
          11.01,
          13.99,
          15.99,
          15.22,
          11.34,
          12.99,
          12.99,
          12.99,
          11.99,
          9.99,
          9.99,
          8.77,
          9.49,
          3.49,
          6.83,
          6.9,
          6.85,
          13.99,
          19.5,
          29.14,
          36.9,
          18.89,
          20.87,
          14.9,
          24.99,
          29.76,
          21.22,
          15.15,
          18.28,
          11.99,
          9.99,
          14.9,
          19.9,
          19.9,
          19.9,
          13.06,
          20.59,
          16.36,
          28.2,
          35.99,
          10.64,
          4.98,
          22,
          24.9,
          22,
          9.99,
          15.99,
          13.99,
          29.58,
          62.5,
          28.2,
          26.43,
          27.94,
          27.68,
          25.94,
          17.73,
          1.98,
          1.79,
          2.4,
          1.99,
          3.49,
          1.55,
          2.36,
          2.99,
          2.69,
          3.75,
          2.17,
          2.02,
          3.98,
          4.58,
          22.53,
          23.6,
          2.91,
          22.39,
          2.5,
          14.5,
          35.56,
          25.74,
          2.95,
          2.95,
          39,
          33.52,
          19.03,
          3.98,
          28.09,
          23.99,
          9.19,
          null,
          34.97,
          55.65,
          37.35,
          30.09,
          59.97,
          18.5,
          3.99,
          null,
          28.14,
          34.9,
          null,
          28,
          39.45,
          2.79,
          32.12,
          32.99,
          25.99,
          28.99,
          29.99,
          3.5,
          29.9,
          25,
          9.98,
          25.99,
          31.5,
          29.9,
          31.11,
          26.9,
          16.5,
          5.64,
          24.99,
          21.45,
          26.4,
          19.99,
          26.11,
          19.25,
          22.99,
          15.4,
          23,
          24.99,
          26.12,
          20.99,
          14.99,
          14.24,
          20.99,
          null,
          3.58,
          16.14,
          14.99,
          20.69,
          null,
          2.79,
          19.82,
          10.99,
          32.55,
          30.8,
          19.99,
          17.3,
          1.69,
          20.08,
          14.99,
          16.99,
          34.67,
          3.99,
          19.29,
          16.99,
          36.35,
          31.09,
          10.9,
          3.12,
          16.99,
          15.24,
          14.99,
          10.8,
          1.69,
          30,
          18.39,
          14.9,
          12.6,
          2.99,
          14.87,
          15.24,
          12.99,
          2.79,
          1.45,
          1.79,
          14.16,
          6.29,
          5.5,
          15.88,
          5.54,
          12.22,
          5.35,
          1.99,
          12.99,
          14.99,
          9.88,
          7.7,
          8.18,
          1.69,
          3.49,
          1.99,
          11.89,
          10.33,
          8.99,
          7.99,
          7.5,
          19.49,
          3.19,
          6.89,
          4.19,
          15.99,
          null,
          6.82,
          9.49,
          7.63,
          19.99,
          9,
          13.9,
          3.39,
          9.06,
          9.69,
          7.3,
          6.79,
          9.07,
          4.56,
          8.4,
          7.49,
          null,
          14.9,
          7.59,
          16.78,
          1.89,
          5.99,
          4.85,
          4.49,
          5.49,
          10.99,
          5.88,
          3.33,
          7.86,
          5.5,
          3.7,
          9.22,
          6.99,
          1.13,
          3,
          36,
          39.97,
          null,
          6.05,
          6.05,
          19.99,
          33.99,
          3.18,
          35.99,
          17.68,
          19.22,
          null,
          null,
          null,
          21.8,
          3.69,
          29.45,
          25.95,
          13.79,
          4.98,
          15.86,
          5.36,
          null,
          5.99,
          12,
          18.9,
          1.86,
          2.95,
          1.98,
          3.82,
          22,
          2.34,
          19.92,
          17.6,
          15.5,
          21.85,
          9.54,
          23.1,
          3.2,
          3.95,
          15.99,
          3.11,
          69.9,
          43.97,
          3.77,
          44,
          47.97,
          9.99,
          17.99,
          11.41,
          26.78,
          34.86,
          37.97,
          30.9,
          39.01,
          34.92,
          34.99,
          39.95,
          null,
          20.24,
          27.44,
          8.74,
          28.99,
          25.99,
          25.29,
          19.99,
          13.99,
          15.05,
          20.99,
          21.57,
          19.9,
          23.99,
          3.59,
          24.9,
          29.89,
          22.99,
          18.32,
          20.87,
          21.18,
          19.9,
          6.74,
          14.9,
          18.04,
          3.49,
          null,
          13.9,
          13.2,
          63,
          13.3,
          9.99,
          5.58,
          7.9,
          1.69,
          null,
          52,
          11.97,
          8.99,
          9.99,
          1.49,
          25.78,
          9.99,
          20.99,
          44,
          37.99,
          52.89,
          5.9,
          3.09,
          9.8,
          33.25,
          35.99,
          9.99,
          37.2,
          37.99,
          10.8,
          33.95,
          null,
          15.58,
          7.96,
          47.56,
          9.95,
          26.9,
          16.05,
          4.09,
          7.44,
          40.47,
          35.71,
          9.7,
          32.98,
          7.22,
          6.95,
          25.9,
          25,
          18.26,
          25.48,
          3.69,
          5.24,
          7.45,
          25.44,
          null,
          2.99,
          15.99,
          5.5,
          14.09,
          2.95,
          3.69,
          2.99,
          20.1,
          23.15,
          2.19,
          9.99,
          16.12,
          19.99,
          8.5,
          8.5,
          19.9,
          15.63,
          17.77,
          2.2,
          8.54,
          8.9,
          6.7,
          7.99,
          5.36,
          9.07,
          8.25,
          17.06,
          5.05,
          3.4,
          7.93,
          7.75,
          15.39,
          null,
          15.19,
          3.99,
          null,
          5.9,
          10.09,
          14.72,
          14.32,
          11.48,
          7,
          9.99,
          15,
          12.99,
          12.99,
          4.75,
          8.9,
          9.74,
          10.97,
          6.5,
          8.5,
          11.97,
          9.99,
          6.85,
          9.15,
          11.47,
          11.49,
          10.62,
          6.5,
          11.71,
          8.35,
          null,
          10.54,
          8.95,
          7.99,
          8.15,
          11.12,
          10.99,
          8.9,
          null,
          4.49,
          4.5,
          8.37,
          8.9,
          8.64,
          9.95,
          8.99,
          6.49,
          8.17,
          3.69,
          6.84,
          6.5,
          8.12,
          7.15,
          7.86,
          5.9,
          7.52,
          7.25,
          9.45,
          6.78,
          3.24,
          5.59,
          4,
          4.9,
          4.39,
          4.67,
          5.91,
          5,
          4.71,
          4.98,
          3.47,
          37.99,
          10.99,
          33.99,
          11.81,
          18.86,
          null,
          19,
          52.89,
          12,
          2.82,
          37.2,
          23.8,
          47.56,
          7.99,
          9.99,
          47.56,
          47.56,
          12.9,
          null,
          14.05,
          null,
          4.23,
          20.5,
          null,
          42.5,
          21.99,
          5.9,
          8.53,
          11.01,
          4.86,
          null,
          17,
          16.55,
          11.9,
          47.5,
          3.85,
          12.89,
          6.84,
          24.9,
          6.49,
          1.72,
          43.97,
          20.99,
          49.99,
          18.99,
          11.99,
          9.74,
          19.56,
          18.23,
          15.16,
          24.15,
          3.6,
          19.99,
          10,
          16.9,
          7.9,
          23.39,
          29.9,
          10.04,
          6.9,
          14.29,
          3.98,
          19.9,
          22.99,
          60.19,
          12.07,
          null,
          null,
          null,
          13.42,
          null,
          null,
          null,
          null,
          12,
          20.99,
          null,
          6.5
         ],
         "yaxis": "y"
        }
       ],
       "layout": {
        "legend": {
         "tracegroupgap": 0
        },
        "template": {
         "data": {
          "bar": [
           {
            "error_x": {
             "color": "#2a3f5f"
            },
            "error_y": {
             "color": "#2a3f5f"
            },
            "marker": {
             "line": {
              "color": "#E5ECF6",
              "width": 0.5
             },
             "pattern": {
              "fillmode": "overlay",
              "size": 10,
              "solidity": 0.2
             }
            },
            "type": "bar"
           }
          ],
          "barpolar": [
           {
            "marker": {
             "line": {
              "color": "#E5ECF6",
              "width": 0.5
             },
             "pattern": {
              "fillmode": "overlay",
              "size": 10,
              "solidity": 0.2
             }
            },
            "type": "barpolar"
           }
          ],
          "carpet": [
           {
            "aaxis": {
             "endlinecolor": "#2a3f5f",
             "gridcolor": "white",
             "linecolor": "white",
             "minorgridcolor": "white",
             "startlinecolor": "#2a3f5f"
            },
            "baxis": {
             "endlinecolor": "#2a3f5f",
             "gridcolor": "white",
             "linecolor": "white",
             "minorgridcolor": "white",
             "startlinecolor": "#2a3f5f"
            },
            "type": "carpet"
           }
          ],
          "choropleth": [
           {
            "colorbar": {
             "outlinewidth": 0,
             "ticks": ""
            },
            "type": "choropleth"
           }
          ],
          "contour": [
           {
            "colorbar": {
             "outlinewidth": 0,
             "ticks": ""
            },
            "colorscale": [
             [
              0,
              "#0d0887"
             ],
             [
              0.1111111111111111,
              "#46039f"
             ],
             [
              0.2222222222222222,
              "#7201a8"
             ],
             [
              0.3333333333333333,
              "#9c179e"
             ],
             [
              0.4444444444444444,
              "#bd3786"
             ],
             [
              0.5555555555555556,
              "#d8576b"
             ],
             [
              0.6666666666666666,
              "#ed7953"
             ],
             [
              0.7777777777777778,
              "#fb9f3a"
             ],
             [
              0.8888888888888888,
              "#fdca26"
             ],
             [
              1,
              "#f0f921"
             ]
            ],
            "type": "contour"
           }
          ],
          "contourcarpet": [
           {
            "colorbar": {
             "outlinewidth": 0,
             "ticks": ""
            },
            "type": "contourcarpet"
           }
          ],
          "heatmap": [
           {
            "colorbar": {
             "outlinewidth": 0,
             "ticks": ""
            },
            "colorscale": [
             [
              0,
              "#0d0887"
             ],
             [
              0.1111111111111111,
              "#46039f"
             ],
             [
              0.2222222222222222,
              "#7201a8"
             ],
             [
              0.3333333333333333,
              "#9c179e"
             ],
             [
              0.4444444444444444,
              "#bd3786"
             ],
             [
              0.5555555555555556,
              "#d8576b"
             ],
             [
              0.6666666666666666,
              "#ed7953"
             ],
             [
              0.7777777777777778,
              "#fb9f3a"
             ],
             [
              0.8888888888888888,
              "#fdca26"
             ],
             [
              1,
              "#f0f921"
             ]
            ],
            "type": "heatmap"
           }
          ],
          "heatmapgl": [
           {
            "colorbar": {
             "outlinewidth": 0,
             "ticks": ""
            },
            "colorscale": [
             [
              0,
              "#0d0887"
             ],
             [
              0.1111111111111111,
              "#46039f"
             ],
             [
              0.2222222222222222,
              "#7201a8"
             ],
             [
              0.3333333333333333,
              "#9c179e"
             ],
             [
              0.4444444444444444,
              "#bd3786"
             ],
             [
              0.5555555555555556,
              "#d8576b"
             ],
             [
              0.6666666666666666,
              "#ed7953"
             ],
             [
              0.7777777777777778,
              "#fb9f3a"
             ],
             [
              0.8888888888888888,
              "#fdca26"
             ],
             [
              1,
              "#f0f921"
             ]
            ],
            "type": "heatmapgl"
           }
          ],
          "histogram": [
           {
            "marker": {
             "pattern": {
              "fillmode": "overlay",
              "size": 10,
              "solidity": 0.2
             }
            },
            "type": "histogram"
           }
          ],
          "histogram2d": [
           {
            "colorbar": {
             "outlinewidth": 0,
             "ticks": ""
            },
            "colorscale": [
             [
              0,
              "#0d0887"
             ],
             [
              0.1111111111111111,
              "#46039f"
             ],
             [
              0.2222222222222222,
              "#7201a8"
             ],
             [
              0.3333333333333333,
              "#9c179e"
             ],
             [
              0.4444444444444444,
              "#bd3786"
             ],
             [
              0.5555555555555556,
              "#d8576b"
             ],
             [
              0.6666666666666666,
              "#ed7953"
             ],
             [
              0.7777777777777778,
              "#fb9f3a"
             ],
             [
              0.8888888888888888,
              "#fdca26"
             ],
             [
              1,
              "#f0f921"
             ]
            ],
            "type": "histogram2d"
           }
          ],
          "histogram2dcontour": [
           {
            "colorbar": {
             "outlinewidth": 0,
             "ticks": ""
            },
            "colorscale": [
             [
              0,
              "#0d0887"
             ],
             [
              0.1111111111111111,
              "#46039f"
             ],
             [
              0.2222222222222222,
              "#7201a8"
             ],
             [
              0.3333333333333333,
              "#9c179e"
             ],
             [
              0.4444444444444444,
              "#bd3786"
             ],
             [
              0.5555555555555556,
              "#d8576b"
             ],
             [
              0.6666666666666666,
              "#ed7953"
             ],
             [
              0.7777777777777778,
              "#fb9f3a"
             ],
             [
              0.8888888888888888,
              "#fdca26"
             ],
             [
              1,
              "#f0f921"
             ]
            ],
            "type": "histogram2dcontour"
           }
          ],
          "mesh3d": [
           {
            "colorbar": {
             "outlinewidth": 0,
             "ticks": ""
            },
            "type": "mesh3d"
           }
          ],
          "parcoords": [
           {
            "line": {
             "colorbar": {
              "outlinewidth": 0,
              "ticks": ""
             }
            },
            "type": "parcoords"
           }
          ],
          "pie": [
           {
            "automargin": true,
            "type": "pie"
           }
          ],
          "scatter": [
           {
            "fillpattern": {
             "fillmode": "overlay",
             "size": 10,
             "solidity": 0.2
            },
            "type": "scatter"
           }
          ],
          "scatter3d": [
           {
            "line": {
             "colorbar": {
              "outlinewidth": 0,
              "ticks": ""
             }
            },
            "marker": {
             "colorbar": {
              "outlinewidth": 0,
              "ticks": ""
             }
            },
            "type": "scatter3d"
           }
          ],
          "scattercarpet": [
           {
            "marker": {
             "colorbar": {
              "outlinewidth": 0,
              "ticks": ""
             }
            },
            "type": "scattercarpet"
           }
          ],
          "scattergeo": [
           {
            "marker": {
             "colorbar": {
              "outlinewidth": 0,
              "ticks": ""
             }
            },
            "type": "scattergeo"
           }
          ],
          "scattergl": [
           {
            "marker": {
             "colorbar": {
              "outlinewidth": 0,
              "ticks": ""
             }
            },
            "type": "scattergl"
           }
          ],
          "scattermapbox": [
           {
            "marker": {
             "colorbar": {
              "outlinewidth": 0,
              "ticks": ""
             }
            },
            "type": "scattermapbox"
           }
          ],
          "scatterpolar": [
           {
            "marker": {
             "colorbar": {
              "outlinewidth": 0,
              "ticks": ""
             }
            },
            "type": "scatterpolar"
           }
          ],
          "scatterpolargl": [
           {
            "marker": {
             "colorbar": {
              "outlinewidth": 0,
              "ticks": ""
             }
            },
            "type": "scatterpolargl"
           }
          ],
          "scatterternary": [
           {
            "marker": {
             "colorbar": {
              "outlinewidth": 0,
              "ticks": ""
             }
            },
            "type": "scatterternary"
           }
          ],
          "surface": [
           {
            "colorbar": {
             "outlinewidth": 0,
             "ticks": ""
            },
            "colorscale": [
             [
              0,
              "#0d0887"
             ],
             [
              0.1111111111111111,
              "#46039f"
             ],
             [
              0.2222222222222222,
              "#7201a8"
             ],
             [
              0.3333333333333333,
              "#9c179e"
             ],
             [
              0.4444444444444444,
              "#bd3786"
             ],
             [
              0.5555555555555556,
              "#d8576b"
             ],
             [
              0.6666666666666666,
              "#ed7953"
             ],
             [
              0.7777777777777778,
              "#fb9f3a"
             ],
             [
              0.8888888888888888,
              "#fdca26"
             ],
             [
              1,
              "#f0f921"
             ]
            ],
            "type": "surface"
           }
          ],
          "table": [
           {
            "cells": {
             "fill": {
              "color": "#EBF0F8"
             },
             "line": {
              "color": "white"
             }
            },
            "header": {
             "fill": {
              "color": "#C8D4E3"
             },
             "line": {
              "color": "white"
             }
            },
            "type": "table"
           }
          ]
         },
         "layout": {
          "annotationdefaults": {
           "arrowcolor": "#2a3f5f",
           "arrowhead": 0,
           "arrowwidth": 1
          },
          "autotypenumbers": "strict",
          "coloraxis": {
           "colorbar": {
            "outlinewidth": 0,
            "ticks": ""
           }
          },
          "colorscale": {
           "diverging": [
            [
             0,
             "#8e0152"
            ],
            [
             0.1,
             "#c51b7d"
            ],
            [
             0.2,
             "#de77ae"
            ],
            [
             0.3,
             "#f1b6da"
            ],
            [
             0.4,
             "#fde0ef"
            ],
            [
             0.5,
             "#f7f7f7"
            ],
            [
             0.6,
             "#e6f5d0"
            ],
            [
             0.7,
             "#b8e186"
            ],
            [
             0.8,
             "#7fbc41"
            ],
            [
             0.9,
             "#4d9221"
            ],
            [
             1,
             "#276419"
            ]
           ],
           "sequential": [
            [
             0,
             "#0d0887"
            ],
            [
             0.1111111111111111,
             "#46039f"
            ],
            [
             0.2222222222222222,
             "#7201a8"
            ],
            [
             0.3333333333333333,
             "#9c179e"
            ],
            [
             0.4444444444444444,
             "#bd3786"
            ],
            [
             0.5555555555555556,
             "#d8576b"
            ],
            [
             0.6666666666666666,
             "#ed7953"
            ],
            [
             0.7777777777777778,
             "#fb9f3a"
            ],
            [
             0.8888888888888888,
             "#fdca26"
            ],
            [
             1,
             "#f0f921"
            ]
           ],
           "sequentialminus": [
            [
             0,
             "#0d0887"
            ],
            [
             0.1111111111111111,
             "#46039f"
            ],
            [
             0.2222222222222222,
             "#7201a8"
            ],
            [
             0.3333333333333333,
             "#9c179e"
            ],
            [
             0.4444444444444444,
             "#bd3786"
            ],
            [
             0.5555555555555556,
             "#d8576b"
            ],
            [
             0.6666666666666666,
             "#ed7953"
            ],
            [
             0.7777777777777778,
             "#fb9f3a"
            ],
            [
             0.8888888888888888,
             "#fdca26"
            ],
            [
             1,
             "#f0f921"
            ]
           ]
          },
          "colorway": [
           "#636efa",
           "#EF553B",
           "#00cc96",
           "#ab63fa",
           "#FFA15A",
           "#19d3f3",
           "#FF6692",
           "#B6E880",
           "#FF97FF",
           "#FECB52"
          ],
          "font": {
           "color": "#2a3f5f"
          },
          "geo": {
           "bgcolor": "white",
           "lakecolor": "white",
           "landcolor": "#E5ECF6",
           "showlakes": true,
           "showland": true,
           "subunitcolor": "white"
          },
          "hoverlabel": {
           "align": "left"
          },
          "hovermode": "closest",
          "mapbox": {
           "style": "light"
          },
          "paper_bgcolor": "white",
          "plot_bgcolor": "#E5ECF6",
          "polar": {
           "angularaxis": {
            "gridcolor": "white",
            "linecolor": "white",
            "ticks": ""
           },
           "bgcolor": "#E5ECF6",
           "radialaxis": {
            "gridcolor": "white",
            "linecolor": "white",
            "ticks": ""
           }
          },
          "scene": {
           "xaxis": {
            "backgroundcolor": "#E5ECF6",
            "gridcolor": "white",
            "gridwidth": 2,
            "linecolor": "white",
            "showbackground": true,
            "ticks": "",
            "zerolinecolor": "white"
           },
           "yaxis": {
            "backgroundcolor": "#E5ECF6",
            "gridcolor": "white",
            "gridwidth": 2,
            "linecolor": "white",
            "showbackground": true,
            "ticks": "",
            "zerolinecolor": "white"
           },
           "zaxis": {
            "backgroundcolor": "#E5ECF6",
            "gridcolor": "white",
            "gridwidth": 2,
            "linecolor": "white",
            "showbackground": true,
            "ticks": "",
            "zerolinecolor": "white"
           }
          },
          "shapedefaults": {
           "line": {
            "color": "#2a3f5f"
           }
          },
          "ternary": {
           "aaxis": {
            "gridcolor": "white",
            "linecolor": "white",
            "ticks": ""
           },
           "baxis": {
            "gridcolor": "white",
            "linecolor": "white",
            "ticks": ""
           },
           "bgcolor": "#E5ECF6",
           "caxis": {
            "gridcolor": "white",
            "linecolor": "white",
            "ticks": ""
           }
          },
          "title": {
           "x": 0.05
          },
          "xaxis": {
           "automargin": true,
           "gridcolor": "white",
           "linecolor": "white",
           "ticks": "",
           "title": {
            "standoff": 15
           },
           "zerolinecolor": "white",
           "zerolinewidth": 2
          },
          "yaxis": {
           "automargin": true,
           "gridcolor": "white",
           "linecolor": "white",
           "ticks": "",
           "title": {
            "standoff": 15
           },
           "zerolinecolor": "white",
           "zerolinewidth": 2
          }
         }
        },
        "title": {
         "text": "Correlation between Average Rating and price of product"
        },
        "xaxis": {
         "anchor": "y",
         "domain": [
          0,
          1
         ],
         "title": {
          "text": "Average Rating"
         }
        },
        "yaxis": {
         "anchor": "x",
         "domain": [
          0,
          1
         ],
         "title": {
          "text": "Price"
         }
        }
       }
      }
     },
     "metadata": {},
     "output_type": "display_data"
    }
   ],
   "source": [
    "fig9 = px.scatter(products_df, x='avg_rating', y='price',\n",
    "                  title='Correlation between Average Rating and price of product',\n",
    "                  labels={'avg_rating': 'Average Rating', 'price': 'Price'})\n",
    "\n",
    "# Set all markers to a specific shade of pink\n",
    "fig9.update_traces(marker=dict(color='#FF69B4'))  # Example: Using Hot Pink\n",
    "\n",
    "fig9.show()"
   ]
  },
  {
   "cell_type": "code",
   "execution_count": 51,
   "metadata": {},
   "outputs": [],
   "source": [
    "corr = products_df.dropna()"
   ]
  },
  {
   "cell_type": "code",
   "execution_count": 52,
   "metadata": {},
   "outputs": [
    {
     "name": "stdout",
     "output_type": "stream",
     "text": [
      "Spearman's rank correlation coefficient: 0.13668414841201879\n",
      "P-value: 0.14522481713308405\n"
     ]
    }
   ],
   "source": [
    "import scipy.stats as stats\n",
    "\n",
    "# Assuming avg_ratings is your DataFrame with 'avg_rating' and 'review_count' columns\n",
    "spearman_corr, spearman_pvalue = stats.spearmanr(corr['avg_rating'], corr['num_reviews'])\n",
    "\n",
    "print(f\"Spearman's rank correlation coefficient: {spearman_corr}\")\n",
    "print(f\"P-value: {spearman_pvalue}\")"
   ]
  },
  {
   "cell_type": "markdown",
   "metadata": {},
   "source": [
    "While there appears to be a slight positive relationship between the average rating of products and the number of reviews they receive, this correlation is not strong and not statistically significant based on the data provided."
   ]
  },
  {
   "cell_type": "markdown",
   "metadata": {},
   "source": [
    "##### **F. Brand Analysis**"
   ]
  },
  {
   "cell_type": "code",
   "execution_count": 53,
   "metadata": {},
   "outputs": [],
   "source": [
    "brand_counts=products_df.groupby(\"brand\").size().reset_index()\n",
    "brand_counts.rename(columns={0:\"n_products\"}, inplace=True)\n",
    "brand_counts = brand_counts.sort_values(by=\"n_products\", ascending = False)\n",
    "top5_global_brands=brand_counts.head()"
   ]
  },
  {
   "cell_type": "code",
   "execution_count": 54,
   "metadata": {},
   "outputs": [
    {
     "data": {
      "application/vnd.plotly.v1+json": {
       "config": {
        "plotlyServerURL": "https://plot.ly"
       },
       "data": [
        {
         "alignmentgroup": "True",
         "hovertemplate": "Brand=%{x}<br>Number of Product=%{y}<extra></extra>",
         "legendgroup": "",
         "marker": {
          "color": "#FF69B4",
          "pattern": {
           "shape": ""
          }
         },
         "name": "",
         "offsetgroup": "",
         "orientation": "v",
         "showlegend": false,
         "textposition": "auto",
         "type": "bar",
         "x": [
          "Always",
          "LUNA",
          "Carefree",
          "Natracare",
          "Vania"
         ],
         "xaxis": "x",
         "y": [
          92,
          33,
          28,
          27,
          25
         ],
         "yaxis": "y"
        }
       ],
       "layout": {
        "barmode": "relative",
        "legend": {
         "tracegroupgap": 0
        },
        "template": {
         "data": {
          "bar": [
           {
            "error_x": {
             "color": "#2a3f5f"
            },
            "error_y": {
             "color": "#2a3f5f"
            },
            "marker": {
             "line": {
              "color": "#E5ECF6",
              "width": 0.5
             },
             "pattern": {
              "fillmode": "overlay",
              "size": 10,
              "solidity": 0.2
             }
            },
            "type": "bar"
           }
          ],
          "barpolar": [
           {
            "marker": {
             "line": {
              "color": "#E5ECF6",
              "width": 0.5
             },
             "pattern": {
              "fillmode": "overlay",
              "size": 10,
              "solidity": 0.2
             }
            },
            "type": "barpolar"
           }
          ],
          "carpet": [
           {
            "aaxis": {
             "endlinecolor": "#2a3f5f",
             "gridcolor": "white",
             "linecolor": "white",
             "minorgridcolor": "white",
             "startlinecolor": "#2a3f5f"
            },
            "baxis": {
             "endlinecolor": "#2a3f5f",
             "gridcolor": "white",
             "linecolor": "white",
             "minorgridcolor": "white",
             "startlinecolor": "#2a3f5f"
            },
            "type": "carpet"
           }
          ],
          "choropleth": [
           {
            "colorbar": {
             "outlinewidth": 0,
             "ticks": ""
            },
            "type": "choropleth"
           }
          ],
          "contour": [
           {
            "colorbar": {
             "outlinewidth": 0,
             "ticks": ""
            },
            "colorscale": [
             [
              0,
              "#0d0887"
             ],
             [
              0.1111111111111111,
              "#46039f"
             ],
             [
              0.2222222222222222,
              "#7201a8"
             ],
             [
              0.3333333333333333,
              "#9c179e"
             ],
             [
              0.4444444444444444,
              "#bd3786"
             ],
             [
              0.5555555555555556,
              "#d8576b"
             ],
             [
              0.6666666666666666,
              "#ed7953"
             ],
             [
              0.7777777777777778,
              "#fb9f3a"
             ],
             [
              0.8888888888888888,
              "#fdca26"
             ],
             [
              1,
              "#f0f921"
             ]
            ],
            "type": "contour"
           }
          ],
          "contourcarpet": [
           {
            "colorbar": {
             "outlinewidth": 0,
             "ticks": ""
            },
            "type": "contourcarpet"
           }
          ],
          "heatmap": [
           {
            "colorbar": {
             "outlinewidth": 0,
             "ticks": ""
            },
            "colorscale": [
             [
              0,
              "#0d0887"
             ],
             [
              0.1111111111111111,
              "#46039f"
             ],
             [
              0.2222222222222222,
              "#7201a8"
             ],
             [
              0.3333333333333333,
              "#9c179e"
             ],
             [
              0.4444444444444444,
              "#bd3786"
             ],
             [
              0.5555555555555556,
              "#d8576b"
             ],
             [
              0.6666666666666666,
              "#ed7953"
             ],
             [
              0.7777777777777778,
              "#fb9f3a"
             ],
             [
              0.8888888888888888,
              "#fdca26"
             ],
             [
              1,
              "#f0f921"
             ]
            ],
            "type": "heatmap"
           }
          ],
          "heatmapgl": [
           {
            "colorbar": {
             "outlinewidth": 0,
             "ticks": ""
            },
            "colorscale": [
             [
              0,
              "#0d0887"
             ],
             [
              0.1111111111111111,
              "#46039f"
             ],
             [
              0.2222222222222222,
              "#7201a8"
             ],
             [
              0.3333333333333333,
              "#9c179e"
             ],
             [
              0.4444444444444444,
              "#bd3786"
             ],
             [
              0.5555555555555556,
              "#d8576b"
             ],
             [
              0.6666666666666666,
              "#ed7953"
             ],
             [
              0.7777777777777778,
              "#fb9f3a"
             ],
             [
              0.8888888888888888,
              "#fdca26"
             ],
             [
              1,
              "#f0f921"
             ]
            ],
            "type": "heatmapgl"
           }
          ],
          "histogram": [
           {
            "marker": {
             "pattern": {
              "fillmode": "overlay",
              "size": 10,
              "solidity": 0.2
             }
            },
            "type": "histogram"
           }
          ],
          "histogram2d": [
           {
            "colorbar": {
             "outlinewidth": 0,
             "ticks": ""
            },
            "colorscale": [
             [
              0,
              "#0d0887"
             ],
             [
              0.1111111111111111,
              "#46039f"
             ],
             [
              0.2222222222222222,
              "#7201a8"
             ],
             [
              0.3333333333333333,
              "#9c179e"
             ],
             [
              0.4444444444444444,
              "#bd3786"
             ],
             [
              0.5555555555555556,
              "#d8576b"
             ],
             [
              0.6666666666666666,
              "#ed7953"
             ],
             [
              0.7777777777777778,
              "#fb9f3a"
             ],
             [
              0.8888888888888888,
              "#fdca26"
             ],
             [
              1,
              "#f0f921"
             ]
            ],
            "type": "histogram2d"
           }
          ],
          "histogram2dcontour": [
           {
            "colorbar": {
             "outlinewidth": 0,
             "ticks": ""
            },
            "colorscale": [
             [
              0,
              "#0d0887"
             ],
             [
              0.1111111111111111,
              "#46039f"
             ],
             [
              0.2222222222222222,
              "#7201a8"
             ],
             [
              0.3333333333333333,
              "#9c179e"
             ],
             [
              0.4444444444444444,
              "#bd3786"
             ],
             [
              0.5555555555555556,
              "#d8576b"
             ],
             [
              0.6666666666666666,
              "#ed7953"
             ],
             [
              0.7777777777777778,
              "#fb9f3a"
             ],
             [
              0.8888888888888888,
              "#fdca26"
             ],
             [
              1,
              "#f0f921"
             ]
            ],
            "type": "histogram2dcontour"
           }
          ],
          "mesh3d": [
           {
            "colorbar": {
             "outlinewidth": 0,
             "ticks": ""
            },
            "type": "mesh3d"
           }
          ],
          "parcoords": [
           {
            "line": {
             "colorbar": {
              "outlinewidth": 0,
              "ticks": ""
             }
            },
            "type": "parcoords"
           }
          ],
          "pie": [
           {
            "automargin": true,
            "type": "pie"
           }
          ],
          "scatter": [
           {
            "fillpattern": {
             "fillmode": "overlay",
             "size": 10,
             "solidity": 0.2
            },
            "type": "scatter"
           }
          ],
          "scatter3d": [
           {
            "line": {
             "colorbar": {
              "outlinewidth": 0,
              "ticks": ""
             }
            },
            "marker": {
             "colorbar": {
              "outlinewidth": 0,
              "ticks": ""
             }
            },
            "type": "scatter3d"
           }
          ],
          "scattercarpet": [
           {
            "marker": {
             "colorbar": {
              "outlinewidth": 0,
              "ticks": ""
             }
            },
            "type": "scattercarpet"
           }
          ],
          "scattergeo": [
           {
            "marker": {
             "colorbar": {
              "outlinewidth": 0,
              "ticks": ""
             }
            },
            "type": "scattergeo"
           }
          ],
          "scattergl": [
           {
            "marker": {
             "colorbar": {
              "outlinewidth": 0,
              "ticks": ""
             }
            },
            "type": "scattergl"
           }
          ],
          "scattermapbox": [
           {
            "marker": {
             "colorbar": {
              "outlinewidth": 0,
              "ticks": ""
             }
            },
            "type": "scattermapbox"
           }
          ],
          "scatterpolar": [
           {
            "marker": {
             "colorbar": {
              "outlinewidth": 0,
              "ticks": ""
             }
            },
            "type": "scatterpolar"
           }
          ],
          "scatterpolargl": [
           {
            "marker": {
             "colorbar": {
              "outlinewidth": 0,
              "ticks": ""
             }
            },
            "type": "scatterpolargl"
           }
          ],
          "scatterternary": [
           {
            "marker": {
             "colorbar": {
              "outlinewidth": 0,
              "ticks": ""
             }
            },
            "type": "scatterternary"
           }
          ],
          "surface": [
           {
            "colorbar": {
             "outlinewidth": 0,
             "ticks": ""
            },
            "colorscale": [
             [
              0,
              "#0d0887"
             ],
             [
              0.1111111111111111,
              "#46039f"
             ],
             [
              0.2222222222222222,
              "#7201a8"
             ],
             [
              0.3333333333333333,
              "#9c179e"
             ],
             [
              0.4444444444444444,
              "#bd3786"
             ],
             [
              0.5555555555555556,
              "#d8576b"
             ],
             [
              0.6666666666666666,
              "#ed7953"
             ],
             [
              0.7777777777777778,
              "#fb9f3a"
             ],
             [
              0.8888888888888888,
              "#fdca26"
             ],
             [
              1,
              "#f0f921"
             ]
            ],
            "type": "surface"
           }
          ],
          "table": [
           {
            "cells": {
             "fill": {
              "color": "#EBF0F8"
             },
             "line": {
              "color": "white"
             }
            },
            "header": {
             "fill": {
              "color": "#C8D4E3"
             },
             "line": {
              "color": "white"
             }
            },
            "type": "table"
           }
          ]
         },
         "layout": {
          "annotationdefaults": {
           "arrowcolor": "#2a3f5f",
           "arrowhead": 0,
           "arrowwidth": 1
          },
          "autotypenumbers": "strict",
          "coloraxis": {
           "colorbar": {
            "outlinewidth": 0,
            "ticks": ""
           }
          },
          "colorscale": {
           "diverging": [
            [
             0,
             "#8e0152"
            ],
            [
             0.1,
             "#c51b7d"
            ],
            [
             0.2,
             "#de77ae"
            ],
            [
             0.3,
             "#f1b6da"
            ],
            [
             0.4,
             "#fde0ef"
            ],
            [
             0.5,
             "#f7f7f7"
            ],
            [
             0.6,
             "#e6f5d0"
            ],
            [
             0.7,
             "#b8e186"
            ],
            [
             0.8,
             "#7fbc41"
            ],
            [
             0.9,
             "#4d9221"
            ],
            [
             1,
             "#276419"
            ]
           ],
           "sequential": [
            [
             0,
             "#0d0887"
            ],
            [
             0.1111111111111111,
             "#46039f"
            ],
            [
             0.2222222222222222,
             "#7201a8"
            ],
            [
             0.3333333333333333,
             "#9c179e"
            ],
            [
             0.4444444444444444,
             "#bd3786"
            ],
            [
             0.5555555555555556,
             "#d8576b"
            ],
            [
             0.6666666666666666,
             "#ed7953"
            ],
            [
             0.7777777777777778,
             "#fb9f3a"
            ],
            [
             0.8888888888888888,
             "#fdca26"
            ],
            [
             1,
             "#f0f921"
            ]
           ],
           "sequentialminus": [
            [
             0,
             "#0d0887"
            ],
            [
             0.1111111111111111,
             "#46039f"
            ],
            [
             0.2222222222222222,
             "#7201a8"
            ],
            [
             0.3333333333333333,
             "#9c179e"
            ],
            [
             0.4444444444444444,
             "#bd3786"
            ],
            [
             0.5555555555555556,
             "#d8576b"
            ],
            [
             0.6666666666666666,
             "#ed7953"
            ],
            [
             0.7777777777777778,
             "#fb9f3a"
            ],
            [
             0.8888888888888888,
             "#fdca26"
            ],
            [
             1,
             "#f0f921"
            ]
           ]
          },
          "colorway": [
           "#636efa",
           "#EF553B",
           "#00cc96",
           "#ab63fa",
           "#FFA15A",
           "#19d3f3",
           "#FF6692",
           "#B6E880",
           "#FF97FF",
           "#FECB52"
          ],
          "font": {
           "color": "#2a3f5f"
          },
          "geo": {
           "bgcolor": "white",
           "lakecolor": "white",
           "landcolor": "#E5ECF6",
           "showlakes": true,
           "showland": true,
           "subunitcolor": "white"
          },
          "hoverlabel": {
           "align": "left"
          },
          "hovermode": "closest",
          "mapbox": {
           "style": "light"
          },
          "paper_bgcolor": "white",
          "plot_bgcolor": "#E5ECF6",
          "polar": {
           "angularaxis": {
            "gridcolor": "white",
            "linecolor": "white",
            "ticks": ""
           },
           "bgcolor": "#E5ECF6",
           "radialaxis": {
            "gridcolor": "white",
            "linecolor": "white",
            "ticks": ""
           }
          },
          "scene": {
           "xaxis": {
            "backgroundcolor": "#E5ECF6",
            "gridcolor": "white",
            "gridwidth": 2,
            "linecolor": "white",
            "showbackground": true,
            "ticks": "",
            "zerolinecolor": "white"
           },
           "yaxis": {
            "backgroundcolor": "#E5ECF6",
            "gridcolor": "white",
            "gridwidth": 2,
            "linecolor": "white",
            "showbackground": true,
            "ticks": "",
            "zerolinecolor": "white"
           },
           "zaxis": {
            "backgroundcolor": "#E5ECF6",
            "gridcolor": "white",
            "gridwidth": 2,
            "linecolor": "white",
            "showbackground": true,
            "ticks": "",
            "zerolinecolor": "white"
           }
          },
          "shapedefaults": {
           "line": {
            "color": "#2a3f5f"
           }
          },
          "ternary": {
           "aaxis": {
            "gridcolor": "white",
            "linecolor": "white",
            "ticks": ""
           },
           "baxis": {
            "gridcolor": "white",
            "linecolor": "white",
            "ticks": ""
           },
           "bgcolor": "#E5ECF6",
           "caxis": {
            "gridcolor": "white",
            "linecolor": "white",
            "ticks": ""
           }
          },
          "title": {
           "x": 0.05
          },
          "xaxis": {
           "automargin": true,
           "gridcolor": "white",
           "linecolor": "white",
           "ticks": "",
           "title": {
            "standoff": 15
           },
           "zerolinecolor": "white",
           "zerolinewidth": 2
          },
          "yaxis": {
           "automargin": true,
           "gridcolor": "white",
           "linecolor": "white",
           "ticks": "",
           "title": {
            "standoff": 15
           },
           "zerolinecolor": "white",
           "zerolinewidth": 2
          }
         }
        },
        "title": {
         "text": "Top 5 brands with the most products"
        },
        "xaxis": {
         "anchor": "y",
         "domain": [
          0,
          1
         ],
         "title": {
          "text": "Brand"
         }
        },
        "yaxis": {
         "anchor": "x",
         "domain": [
          0,
          1
         ],
         "title": {
          "text": "Number of Product"
         }
        }
       }
      }
     },
     "metadata": {},
     "output_type": "display_data"
    }
   ],
   "source": [
    "fig10=px.bar(top5_global_brands,\n",
    "             x=\"brand\",\n",
    "             y=\"n_products\",\n",
    "             title=\"Top 5 brands with the most products\",\n",
    "             labels={\"n_products\":\"Number of Product\",\"brand\":\"Brand\"})\n",
    "\n",
    "fig10.update_traces(marker=dict(color='#FF69B4'))\n",
    "\n",
    "fig10.show()"
   ]
  },
  {
   "cell_type": "markdown",
   "metadata": {},
   "source": [
    "- **Always with 92 products**  stands out significantly with the highest variety of products available. This brand's extensive range indicates its dominant presence in the market, catering to a broad spectrum of consumer needs and preferences.\n",
    "LUNA with 33 products. \n",
    "\n",
    "- **Luna, holding the second position** offers a considerably lower number of products compared to Always but still maintains a strong market presence. This suggests that Luna has a focused yet diverse product line, appealing to specific consumer segments.\n",
    "\n",
    "- **Carefree with 28 products** Carefree secures the third spot with a close range to Luna, indicating it also has a substantial variety of offerings. This brand's presence suggests a solid market position with a commitment to meeting diverse consumer needs.\n",
    "\n",
    "The significant gap between the first brand (Always) and the second (LUNA) highlights the dominant market position of Always, reflecting its widespread consumer acceptance and trust. LUNA and Carefree, while having fewer products, still show strong brand strength and consumer loyalty, likely catering to niche markets or specific consumer needs with their product offerings. This analysis underlines the importance of product diversity in brand strength and market presence."
   ]
  },
  {
   "cell_type": "code",
   "execution_count": 55,
   "metadata": {},
   "outputs": [
    {
     "name": "stderr",
     "output_type": "stream",
     "text": [
      "C:\\Users\\eliel\\AppData\\Local\\Temp\\ipykernel_8884\\1646000478.py:4: DeprecationWarning:\n",
      "\n",
      "DataFrameGroupBy.apply operated on the grouping columns. This behavior is deprecated, and in a future version of pandas the grouping columns will be excluded from the operation. Either pass `include_groups=False` to exclude the groupings or explicitly select the grouping columns after groupby to silence this warning.\n",
      "\n"
     ]
    }
   ],
   "source": [
    "brand_cat_size = products_df.groupby([\"brand\", \"category\"]).size().reset_index(name=\"n_product\")\n",
    "\n",
    "# Get top 5 brands within each category\n",
    "top5_brand_cat = brand_cat_size.groupby(\"category\").apply(lambda x: x.nlargest(5, \"n_product\")).reset_index(drop=True)\n",
    "\n",
    "# Sorting for better visualization\n",
    "top5_brand_cat.sort_values(by=[\"category\", \"n_product\"], inplace=True, ascending=[True, False])\n",
    "\n"
   ]
  },
  {
   "cell_type": "code",
   "execution_count": 56,
   "metadata": {},
   "outputs": [
    {
     "data": {
      "application/vnd.plotly.v1+json": {
       "config": {
        "plotlyServerURL": "https://plot.ly"
       },
       "data": [
        {
         "alignmentgroup": "True",
         "hovertemplate": "category=Bannetons<br>Brand=%{x}<br>Number Of Products=%{y}<extra></extra>",
         "legendgroup": "Bannetons",
         "marker": {
          "color": "#FFC0CB",
          "pattern": {
           "shape": ""
          }
         },
         "name": "Bannetons",
         "offsetgroup": "Bannetons",
         "orientation": "v",
         "showlegend": true,
         "textposition": "auto",
         "type": "bar",
         "x": [
          "Goods"
         ],
         "xaxis": "x",
         "y": [
          1
         ],
         "yaxis": "y"
        },
        {
         "alignmentgroup": "True",
         "hovertemplate": "category=Beauté et soins<br>Brand=%{x}<br>Number Of Products=%{y}<extra></extra>",
         "legendgroup": "Beauté et soins",
         "marker": {
          "color": "#FFB6C1",
          "pattern": {
           "shape": ""
          }
         },
         "name": "Beauté et soins",
         "offsetgroup": "Beauté et soins",
         "orientation": "v",
         "showlegend": true,
         "textposition": "auto",
         "type": "bar",
         "x": [
          "Ecorita"
         ],
         "xaxis": "x",
         "y": [
          1
         ],
         "yaxis": "y"
        },
        {
         "alignmentgroup": "True",
         "hovertemplate": "category=Bien-être<br>Brand=%{x}<br>Number Of Products=%{y}<extra></extra>",
         "legendgroup": "Bien-être",
         "marker": {
          "color": "#FF69B4",
          "pattern": {
           "shape": ""
          }
         },
         "name": "Bien-être",
         "offsetgroup": "Bien-être",
         "orientation": "v",
         "showlegend": true,
         "textposition": "auto",
         "type": "bar",
         "x": [
          "Slip"
         ],
         "xaxis": "x",
         "y": [
          1
         ],
         "yaxis": "y"
        },
        {
         "alignmentgroup": "True",
         "hovertemplate": "category=Coupes menstruelles<br>Brand=%{x}<br>Number Of Products=%{y}<extra></extra>",
         "legendgroup": "Coupes menstruelles",
         "marker": {
          "color": "#FF1493",
          "pattern": {
           "shape": ""
          }
         },
         "name": "Coupes menstruelles",
         "offsetgroup": "Coupes menstruelles",
         "orientation": "v",
         "showlegend": true,
         "textposition": "auto",
         "type": "bar",
         "x": [
          "LOKBY",
          "Acboor",
          "DivaCup",
          "FENYW",
          "INTIMINA"
         ],
         "xaxis": "x",
         "y": [
          2,
          1,
          1,
          1,
          1
         ],
         "yaxis": "y"
        },
        {
         "alignmentgroup": "True",
         "hovertemplate": "category=Coussinets pour chaussures<br>Brand=%{x}<br>Number Of Products=%{y}<extra></extra>",
         "legendgroup": "Coussinets pour chaussures",
         "marker": {
          "color": "#DB7093",
          "pattern": {
           "shape": ""
          }
         },
         "name": "Coussinets pour chaussures",
         "offsetgroup": "Coussinets pour chaussures",
         "orientation": "v",
         "showlegend": true,
         "textposition": "auto",
         "type": "bar",
         "x": [
          "TRADERPLUS"
         ],
         "xaxis": "x",
         "y": [
          1
         ],
         "yaxis": "y"
        },
        {
         "alignmentgroup": "True",
         "hovertemplate": "category=Culottes<br>Brand=%{x}<br>Number Of Products=%{y}<extra></extra>",
         "legendgroup": "Culottes",
         "marker": {
          "color": "#C71585",
          "pattern": {
           "shape": ""
          }
         },
         "name": "Culottes",
         "offsetgroup": "Culottes",
         "orientation": "v",
         "showlegend": true,
         "textposition": "auto",
         "type": "bar",
         "x": [
          "Fulidngzg"
         ],
         "xaxis": "x",
         "y": [
          1
         ],
         "yaxis": "y"
        },
        {
         "alignmentgroup": "True",
         "hovertemplate": "category=Culottes et slips<br>Brand=%{x}<br>Number Of Products=%{y}<extra></extra>",
         "legendgroup": "Culottes et slips",
         "marker": {
          "color": "#FFAEB9",
          "pattern": {
           "shape": ""
          }
         },
         "name": "Culottes et slips",
         "offsetgroup": "Culottes et slips",
         "orientation": "v",
         "showlegend": true,
         "textposition": "auto",
         "type": "bar",
         "x": [
          "NoBlood",
          "Fulidngzg",
          "IINTI-MACY"
         ],
         "xaxis": "x",
         "y": [
          2,
          1,
          1
         ],
         "yaxis": "y"
        },
        {
         "alignmentgroup": "True",
         "hovertemplate": "category=Culottes et sous-vêtements de protection<br>Brand=%{x}<br>Number Of Products=%{y}<extra></extra>",
         "legendgroup": "Culottes et sous-vêtements de protection",
         "marker": {
          "color": "#FF82AB",
          "pattern": {
           "shape": ""
          }
         },
         "name": "Culottes et sous-vêtements de protection",
         "offsetgroup": "Culottes et sous-vêtements de protection",
         "orientation": "v",
         "showlegend": true,
         "textposition": "auto",
         "type": "bar",
         "x": [
          "Fulidngzg",
          "INNERSY",
          "Oséclore",
          "Culotte",
          "MALVON"
         ],
         "xaxis": "x",
         "y": [
          4,
          2,
          2,
          1,
          1
         ],
         "yaxis": "y"
        },
        {
         "alignmentgroup": "True",
         "hovertemplate": "category=Diffuseurs d'huiles essentielles<br>Brand=%{x}<br>Number Of Products=%{y}<extra></extra>",
         "legendgroup": "Diffuseurs d'huiles essentielles",
         "marker": {
          "color": "#FF34B3",
          "pattern": {
           "shape": ""
          }
         },
         "name": "Diffuseurs d'huiles essentielles",
         "offsetgroup": "Diffuseurs d'huiles essentielles",
         "orientation": "v",
         "showlegend": true,
         "textposition": "auto",
         "type": "bar",
         "x": [
          "Cupimatch",
          "PandaHall"
         ],
         "xaxis": "x",
         "y": [
          1,
          1
         ],
         "yaxis": "y"
        },
        {
         "alignmentgroup": "True",
         "hovertemplate": "category=Déodorant<br>Brand=%{x}<br>Number Of Products=%{y}<extra></extra>",
         "legendgroup": "Déodorant",
         "marker": {
          "color": "#FF3E96",
          "pattern": {
           "shape": ""
          }
         },
         "name": "Déodorant",
         "offsetgroup": "Déodorant",
         "orientation": "v",
         "showlegend": true,
         "textposition": "auto",
         "type": "bar",
         "x": [
          "FOTABPYTI"
         ],
         "xaxis": "x",
         "y": [
          1
         ],
         "yaxis": "y"
        },
        {
         "alignmentgroup": "True",
         "hovertemplate": "category=Femme<br>Brand=%{x}<br>Number Of Products=%{y}<extra></extra>",
         "legendgroup": "Femme",
         "marker": {
          "color": "#FFC0CB",
          "pattern": {
           "shape": ""
          }
         },
         "name": "Femme",
         "offsetgroup": "Femme",
         "orientation": "v",
         "showlegend": true,
         "textposition": "auto",
         "type": "bar",
         "x": [
          "Bodhi2000"
         ],
         "xaxis": "x",
         "y": [
          1
         ],
         "yaxis": "y"
        },
        {
         "alignmentgroup": "True",
         "hovertemplate": "category=Hygiène et soins intimes<br>Brand=%{x}<br>Number Of Products=%{y}<extra></extra>",
         "legendgroup": "Hygiène et soins intimes",
         "marker": {
          "color": "#FFB6C1",
          "pattern": {
           "shape": ""
          }
         },
         "name": "Hygiène et soins intimes",
         "offsetgroup": "Hygiène et soins intimes",
         "orientation": "v",
         "showlegend": true,
         "textposition": "auto",
         "type": "bar",
         "x": [
          "Lumma",
          "Rainbowcup",
          "LUNA",
          "AvaLoona",
          "Claripharm"
         ],
         "xaxis": "x",
         "y": [
          3,
          3,
          2,
          1,
          1
         ],
         "yaxis": "y"
        },
        {
         "alignmentgroup": "True",
         "hovertemplate": "category=Hygiène et épilation<br>Brand=%{x}<br>Number Of Products=%{y}<extra></extra>",
         "legendgroup": "Hygiène et épilation",
         "marker": {
          "color": "#FF69B4",
          "pattern": {
           "shape": ""
          }
         },
         "name": "Hygiène et épilation",
         "offsetgroup": "Hygiène et épilation",
         "orientation": "v",
         "showlegend": true,
         "textposition": "auto",
         "type": "bar",
         "x": [
          "Cup",
          "Green",
          "MAMICUP",
          "WOMAN"
         ],
         "xaxis": "x",
         "y": [
          2,
          1,
          1,
          1
         ],
         "yaxis": "y"
        },
        {
         "alignmentgroup": "True",
         "hovertemplate": "category=Incontinence<br>Brand=%{x}<br>Number Of Products=%{y}<extra></extra>",
         "legendgroup": "Incontinence",
         "marker": {
          "color": "#FF1493",
          "pattern": {
           "shape": ""
          }
         },
         "name": "Incontinence",
         "offsetgroup": "Incontinence",
         "orientation": "v",
         "showlegend": true,
         "textposition": "auto",
         "type": "bar",
         "x": [
          "Always",
          "TENA"
         ],
         "xaxis": "x",
         "y": [
          2,
          1
         ],
         "yaxis": "y"
        },
        {
         "alignmentgroup": "True",
         "hovertemplate": "category=Lames<br>Brand=%{x}<br>Number Of Products=%{y}<extra></extra>",
         "legendgroup": "Lames",
         "marker": {
          "color": "#DB7093",
          "pattern": {
           "shape": ""
          }
         },
         "name": "Lames",
         "offsetgroup": "Lames",
         "orientation": "v",
         "showlegend": true,
         "textposition": "auto",
         "type": "bar",
         "x": [
          "Bodyotics"
         ],
         "xaxis": "x",
         "y": [
          1
         ],
         "yaxis": "y"
        },
        {
         "alignmentgroup": "True",
         "hovertemplate": "category=Produits d'hygiène féminine<br>Brand=%{x}<br>Number Of Products=%{y}<extra></extra>",
         "legendgroup": "Produits d'hygiène féminine",
         "marker": {
          "color": "#C71585",
          "pattern": {
           "shape": ""
          }
         },
         "name": "Produits d'hygiène féminine",
         "offsetgroup": "Produits d'hygiène féminine",
         "orientation": "v",
         "showlegend": true,
         "textposition": "auto",
         "type": "bar",
         "x": [
          "Natracare",
          "ZDZQTM"
         ],
         "xaxis": "x",
         "y": [
          1,
          1
         ],
         "yaxis": "y"
        },
        {
         "alignmentgroup": "True",
         "hovertemplate": "category=Protections, serviettes hygiéniques, couches pour adultes, protège-slips<br>Brand=%{x}<br>Number Of Products=%{y}<extra></extra>",
         "legendgroup": "Protections, serviettes hygiéniques, couches pour adultes, protège-slips",
         "marker": {
          "color": "#FFAEB9",
          "pattern": {
           "shape": ""
          }
         },
         "name": "Protections, serviettes hygiéniques, couches pour adultes, protège-slips",
         "offsetgroup": "Protections, serviettes hygiéniques, couches pour adultes, protège-slips",
         "orientation": "v",
         "showlegend": true,
         "textposition": "auto",
         "type": "bar",
         "x": [
          "TENA",
          "Always"
         ],
         "xaxis": "x",
         "y": [
          5,
          1
         ],
         "yaxis": "y"
        },
        {
         "alignmentgroup": "True",
         "hovertemplate": "category=Protège-slips<br>Brand=%{x}<br>Number Of Products=%{y}<extra></extra>",
         "legendgroup": "Protège-slips",
         "marker": {
          "color": "#FF82AB",
          "pattern": {
           "shape": ""
          }
         },
         "name": "Protège-slips",
         "offsetgroup": "Protège-slips",
         "orientation": "v",
         "showlegend": true,
         "textposition": "auto",
         "type": "bar",
         "x": [
          "Always",
          "Carefree",
          "Natracare",
          "Beauté",
          "Vania"
         ],
         "xaxis": "x",
         "y": [
          42,
          27,
          21,
          14,
          14
         ],
         "yaxis": "y"
        },
        {
         "alignmentgroup": "True",
         "hovertemplate": "category=Serviettes hygièniques<br>Brand=%{x}<br>Number Of Products=%{y}<extra></extra>",
         "legendgroup": "Serviettes hygièniques",
         "marker": {
          "color": "#FF34B3",
          "pattern": {
           "shape": ""
          }
         },
         "name": "Serviettes hygièniques",
         "offsetgroup": "Serviettes hygièniques",
         "orientation": "v",
         "showlegend": true,
         "textposition": "auto",
         "type": "bar",
         "x": [
          "Always",
          "Nana",
          "Vania",
          "TENA",
          "Discreet"
         ],
         "xaxis": "x",
         "y": [
          38,
          15,
          11,
          7,
          6
         ],
         "yaxis": "y"
        },
        {
         "alignmentgroup": "True",
         "hovertemplate": "category=Shorties<br>Brand=%{x}<br>Number Of Products=%{y}<extra></extra>",
         "legendgroup": "Shorties",
         "marker": {
          "color": "#FF3E96",
          "pattern": {
           "shape": ""
          }
         },
         "name": "Shorties",
         "offsetgroup": "Shorties",
         "orientation": "v",
         "showlegend": true,
         "textposition": "auto",
         "type": "bar",
         "x": [
          "FEOYA",
          "Fulidngzg",
          "femtis"
         ],
         "xaxis": "x",
         "y": [
          1,
          1,
          1
         ],
         "yaxis": "y"
        },
        {
         "alignmentgroup": "True",
         "hovertemplate": "category=Tampons<br>Brand=%{x}<br>Number Of Products=%{y}<extra></extra>",
         "legendgroup": "Tampons",
         "marker": {
          "color": "#FFC0CB",
          "pattern": {
           "shape": ""
          }
         },
         "name": "Tampons",
         "offsetgroup": "Tampons",
         "orientation": "v",
         "showlegend": true,
         "textposition": "auto",
         "type": "bar",
         "x": [
          "LUNA",
          "Cup",
          "Tampax",
          "MUOOUM",
          "Always"
         ],
         "xaxis": "x",
         "y": [
          31,
          12,
          12,
          11,
          9
         ],
         "yaxis": "y"
        },
        {
         "alignmentgroup": "True",
         "hovertemplate": "category=Visage<br>Brand=%{x}<br>Number Of Products=%{y}<extra></extra>",
         "legendgroup": "Visage",
         "marker": {
          "color": "#FFB6C1",
          "pattern": {
           "shape": ""
          }
         },
         "name": "Visage",
         "offsetgroup": "Visage",
         "orientation": "v",
         "showlegend": true,
         "textposition": "auto",
         "type": "bar",
         "x": [
          "Organyc"
         ],
         "xaxis": "x",
         "y": [
          1
         ],
         "yaxis": "y"
        },
        {
         "alignmentgroup": "True",
         "hovertemplate": "category=Vitamines, minéraux et compléments<br>Brand=%{x}<br>Number Of Products=%{y}<extra></extra>",
         "legendgroup": "Vitamines, minéraux et compléments",
         "marker": {
          "color": "#FF69B4",
          "pattern": {
           "shape": ""
          }
         },
         "name": "Vitamines, minéraux et compléments",
         "offsetgroup": "Vitamines, minéraux et compléments",
         "orientation": "v",
         "showlegend": true,
         "textposition": "auto",
         "type": "bar",
         "x": [
          "Phytoceutic",
          "Softcup"
         ],
         "xaxis": "x",
         "y": [
          1,
          1
         ],
         "yaxis": "y"
        },
        {
         "alignmentgroup": "True",
         "hovertemplate": "category=Vêtements de contention médicaux<br>Brand=%{x}<br>Number Of Products=%{y}<extra></extra>",
         "legendgroup": "Vêtements de contention médicaux",
         "marker": {
          "color": "#FF1493",
          "pattern": {
           "shape": ""
          }
         },
         "name": "Vêtements de contention médicaux",
         "offsetgroup": "Vêtements de contention médicaux",
         "orientation": "v",
         "showlegend": true,
         "textposition": "auto",
         "type": "bar",
         "x": [
          "Lansinoh"
         ],
         "xaxis": "x",
         "y": [
          1
         ],
         "yaxis": "y"
        },
        {
         "alignmentgroup": "True",
         "hovertemplate": "category=nan<br>Brand=%{x}<br>Number Of Products=%{y}<extra></extra>",
         "legendgroup": "nan",
         "marker": {
          "color": "#DB7093",
          "pattern": {
           "shape": ""
          }
         },
         "name": "nan",
         "offsetgroup": "nan",
         "orientation": "v",
         "showlegend": true,
         "textposition": "auto",
         "type": "bar",
         "x": [
          "Naroote",
          "P&G",
          "o.b."
         ],
         "xaxis": "x",
         "y": [
          1,
          1,
          1
         ],
         "yaxis": "y"
        },
        {
         "alignmentgroup": "True",
         "hovertemplate": "category=Épilation à la cire<br>Brand=%{x}<br>Number Of Products=%{y}<extra></extra>",
         "legendgroup": "Épilation à la cire",
         "marker": {
          "color": "#C71585",
          "pattern": {
           "shape": ""
          }
         },
         "name": "Épilation à la cire",
         "offsetgroup": "Épilation à la cire",
         "orientation": "v",
         "showlegend": true,
         "textposition": "auto",
         "type": "bar",
         "x": [
          "DAUZ"
         ],
         "xaxis": "x",
         "y": [
          1
         ],
         "yaxis": "y"
        }
       ],
       "layout": {
        "barmode": "group",
        "legend": {
         "title": {
          "text": "category"
         },
         "tracegroupgap": 0
        },
        "template": {
         "data": {
          "bar": [
           {
            "error_x": {
             "color": "#2a3f5f"
            },
            "error_y": {
             "color": "#2a3f5f"
            },
            "marker": {
             "line": {
              "color": "#E5ECF6",
              "width": 0.5
             },
             "pattern": {
              "fillmode": "overlay",
              "size": 10,
              "solidity": 0.2
             }
            },
            "type": "bar"
           }
          ],
          "barpolar": [
           {
            "marker": {
             "line": {
              "color": "#E5ECF6",
              "width": 0.5
             },
             "pattern": {
              "fillmode": "overlay",
              "size": 10,
              "solidity": 0.2
             }
            },
            "type": "barpolar"
           }
          ],
          "carpet": [
           {
            "aaxis": {
             "endlinecolor": "#2a3f5f",
             "gridcolor": "white",
             "linecolor": "white",
             "minorgridcolor": "white",
             "startlinecolor": "#2a3f5f"
            },
            "baxis": {
             "endlinecolor": "#2a3f5f",
             "gridcolor": "white",
             "linecolor": "white",
             "minorgridcolor": "white",
             "startlinecolor": "#2a3f5f"
            },
            "type": "carpet"
           }
          ],
          "choropleth": [
           {
            "colorbar": {
             "outlinewidth": 0,
             "ticks": ""
            },
            "type": "choropleth"
           }
          ],
          "contour": [
           {
            "colorbar": {
             "outlinewidth": 0,
             "ticks": ""
            },
            "colorscale": [
             [
              0,
              "#0d0887"
             ],
             [
              0.1111111111111111,
              "#46039f"
             ],
             [
              0.2222222222222222,
              "#7201a8"
             ],
             [
              0.3333333333333333,
              "#9c179e"
             ],
             [
              0.4444444444444444,
              "#bd3786"
             ],
             [
              0.5555555555555556,
              "#d8576b"
             ],
             [
              0.6666666666666666,
              "#ed7953"
             ],
             [
              0.7777777777777778,
              "#fb9f3a"
             ],
             [
              0.8888888888888888,
              "#fdca26"
             ],
             [
              1,
              "#f0f921"
             ]
            ],
            "type": "contour"
           }
          ],
          "contourcarpet": [
           {
            "colorbar": {
             "outlinewidth": 0,
             "ticks": ""
            },
            "type": "contourcarpet"
           }
          ],
          "heatmap": [
           {
            "colorbar": {
             "outlinewidth": 0,
             "ticks": ""
            },
            "colorscale": [
             [
              0,
              "#0d0887"
             ],
             [
              0.1111111111111111,
              "#46039f"
             ],
             [
              0.2222222222222222,
              "#7201a8"
             ],
             [
              0.3333333333333333,
              "#9c179e"
             ],
             [
              0.4444444444444444,
              "#bd3786"
             ],
             [
              0.5555555555555556,
              "#d8576b"
             ],
             [
              0.6666666666666666,
              "#ed7953"
             ],
             [
              0.7777777777777778,
              "#fb9f3a"
             ],
             [
              0.8888888888888888,
              "#fdca26"
             ],
             [
              1,
              "#f0f921"
             ]
            ],
            "type": "heatmap"
           }
          ],
          "heatmapgl": [
           {
            "colorbar": {
             "outlinewidth": 0,
             "ticks": ""
            },
            "colorscale": [
             [
              0,
              "#0d0887"
             ],
             [
              0.1111111111111111,
              "#46039f"
             ],
             [
              0.2222222222222222,
              "#7201a8"
             ],
             [
              0.3333333333333333,
              "#9c179e"
             ],
             [
              0.4444444444444444,
              "#bd3786"
             ],
             [
              0.5555555555555556,
              "#d8576b"
             ],
             [
              0.6666666666666666,
              "#ed7953"
             ],
             [
              0.7777777777777778,
              "#fb9f3a"
             ],
             [
              0.8888888888888888,
              "#fdca26"
             ],
             [
              1,
              "#f0f921"
             ]
            ],
            "type": "heatmapgl"
           }
          ],
          "histogram": [
           {
            "marker": {
             "pattern": {
              "fillmode": "overlay",
              "size": 10,
              "solidity": 0.2
             }
            },
            "type": "histogram"
           }
          ],
          "histogram2d": [
           {
            "colorbar": {
             "outlinewidth": 0,
             "ticks": ""
            },
            "colorscale": [
             [
              0,
              "#0d0887"
             ],
             [
              0.1111111111111111,
              "#46039f"
             ],
             [
              0.2222222222222222,
              "#7201a8"
             ],
             [
              0.3333333333333333,
              "#9c179e"
             ],
             [
              0.4444444444444444,
              "#bd3786"
             ],
             [
              0.5555555555555556,
              "#d8576b"
             ],
             [
              0.6666666666666666,
              "#ed7953"
             ],
             [
              0.7777777777777778,
              "#fb9f3a"
             ],
             [
              0.8888888888888888,
              "#fdca26"
             ],
             [
              1,
              "#f0f921"
             ]
            ],
            "type": "histogram2d"
           }
          ],
          "histogram2dcontour": [
           {
            "colorbar": {
             "outlinewidth": 0,
             "ticks": ""
            },
            "colorscale": [
             [
              0,
              "#0d0887"
             ],
             [
              0.1111111111111111,
              "#46039f"
             ],
             [
              0.2222222222222222,
              "#7201a8"
             ],
             [
              0.3333333333333333,
              "#9c179e"
             ],
             [
              0.4444444444444444,
              "#bd3786"
             ],
             [
              0.5555555555555556,
              "#d8576b"
             ],
             [
              0.6666666666666666,
              "#ed7953"
             ],
             [
              0.7777777777777778,
              "#fb9f3a"
             ],
             [
              0.8888888888888888,
              "#fdca26"
             ],
             [
              1,
              "#f0f921"
             ]
            ],
            "type": "histogram2dcontour"
           }
          ],
          "mesh3d": [
           {
            "colorbar": {
             "outlinewidth": 0,
             "ticks": ""
            },
            "type": "mesh3d"
           }
          ],
          "parcoords": [
           {
            "line": {
             "colorbar": {
              "outlinewidth": 0,
              "ticks": ""
             }
            },
            "type": "parcoords"
           }
          ],
          "pie": [
           {
            "automargin": true,
            "type": "pie"
           }
          ],
          "scatter": [
           {
            "fillpattern": {
             "fillmode": "overlay",
             "size": 10,
             "solidity": 0.2
            },
            "type": "scatter"
           }
          ],
          "scatter3d": [
           {
            "line": {
             "colorbar": {
              "outlinewidth": 0,
              "ticks": ""
             }
            },
            "marker": {
             "colorbar": {
              "outlinewidth": 0,
              "ticks": ""
             }
            },
            "type": "scatter3d"
           }
          ],
          "scattercarpet": [
           {
            "marker": {
             "colorbar": {
              "outlinewidth": 0,
              "ticks": ""
             }
            },
            "type": "scattercarpet"
           }
          ],
          "scattergeo": [
           {
            "marker": {
             "colorbar": {
              "outlinewidth": 0,
              "ticks": ""
             }
            },
            "type": "scattergeo"
           }
          ],
          "scattergl": [
           {
            "marker": {
             "colorbar": {
              "outlinewidth": 0,
              "ticks": ""
             }
            },
            "type": "scattergl"
           }
          ],
          "scattermapbox": [
           {
            "marker": {
             "colorbar": {
              "outlinewidth": 0,
              "ticks": ""
             }
            },
            "type": "scattermapbox"
           }
          ],
          "scatterpolar": [
           {
            "marker": {
             "colorbar": {
              "outlinewidth": 0,
              "ticks": ""
             }
            },
            "type": "scatterpolar"
           }
          ],
          "scatterpolargl": [
           {
            "marker": {
             "colorbar": {
              "outlinewidth": 0,
              "ticks": ""
             }
            },
            "type": "scatterpolargl"
           }
          ],
          "scatterternary": [
           {
            "marker": {
             "colorbar": {
              "outlinewidth": 0,
              "ticks": ""
             }
            },
            "type": "scatterternary"
           }
          ],
          "surface": [
           {
            "colorbar": {
             "outlinewidth": 0,
             "ticks": ""
            },
            "colorscale": [
             [
              0,
              "#0d0887"
             ],
             [
              0.1111111111111111,
              "#46039f"
             ],
             [
              0.2222222222222222,
              "#7201a8"
             ],
             [
              0.3333333333333333,
              "#9c179e"
             ],
             [
              0.4444444444444444,
              "#bd3786"
             ],
             [
              0.5555555555555556,
              "#d8576b"
             ],
             [
              0.6666666666666666,
              "#ed7953"
             ],
             [
              0.7777777777777778,
              "#fb9f3a"
             ],
             [
              0.8888888888888888,
              "#fdca26"
             ],
             [
              1,
              "#f0f921"
             ]
            ],
            "type": "surface"
           }
          ],
          "table": [
           {
            "cells": {
             "fill": {
              "color": "#EBF0F8"
             },
             "line": {
              "color": "white"
             }
            },
            "header": {
             "fill": {
              "color": "#C8D4E3"
             },
             "line": {
              "color": "white"
             }
            },
            "type": "table"
           }
          ]
         },
         "layout": {
          "annotationdefaults": {
           "arrowcolor": "#2a3f5f",
           "arrowhead": 0,
           "arrowwidth": 1
          },
          "autotypenumbers": "strict",
          "coloraxis": {
           "colorbar": {
            "outlinewidth": 0,
            "ticks": ""
           }
          },
          "colorscale": {
           "diverging": [
            [
             0,
             "#8e0152"
            ],
            [
             0.1,
             "#c51b7d"
            ],
            [
             0.2,
             "#de77ae"
            ],
            [
             0.3,
             "#f1b6da"
            ],
            [
             0.4,
             "#fde0ef"
            ],
            [
             0.5,
             "#f7f7f7"
            ],
            [
             0.6,
             "#e6f5d0"
            ],
            [
             0.7,
             "#b8e186"
            ],
            [
             0.8,
             "#7fbc41"
            ],
            [
             0.9,
             "#4d9221"
            ],
            [
             1,
             "#276419"
            ]
           ],
           "sequential": [
            [
             0,
             "#0d0887"
            ],
            [
             0.1111111111111111,
             "#46039f"
            ],
            [
             0.2222222222222222,
             "#7201a8"
            ],
            [
             0.3333333333333333,
             "#9c179e"
            ],
            [
             0.4444444444444444,
             "#bd3786"
            ],
            [
             0.5555555555555556,
             "#d8576b"
            ],
            [
             0.6666666666666666,
             "#ed7953"
            ],
            [
             0.7777777777777778,
             "#fb9f3a"
            ],
            [
             0.8888888888888888,
             "#fdca26"
            ],
            [
             1,
             "#f0f921"
            ]
           ],
           "sequentialminus": [
            [
             0,
             "#0d0887"
            ],
            [
             0.1111111111111111,
             "#46039f"
            ],
            [
             0.2222222222222222,
             "#7201a8"
            ],
            [
             0.3333333333333333,
             "#9c179e"
            ],
            [
             0.4444444444444444,
             "#bd3786"
            ],
            [
             0.5555555555555556,
             "#d8576b"
            ],
            [
             0.6666666666666666,
             "#ed7953"
            ],
            [
             0.7777777777777778,
             "#fb9f3a"
            ],
            [
             0.8888888888888888,
             "#fdca26"
            ],
            [
             1,
             "#f0f921"
            ]
           ]
          },
          "colorway": [
           "#636efa",
           "#EF553B",
           "#00cc96",
           "#ab63fa",
           "#FFA15A",
           "#19d3f3",
           "#FF6692",
           "#B6E880",
           "#FF97FF",
           "#FECB52"
          ],
          "font": {
           "color": "#2a3f5f"
          },
          "geo": {
           "bgcolor": "white",
           "lakecolor": "white",
           "landcolor": "#E5ECF6",
           "showlakes": true,
           "showland": true,
           "subunitcolor": "white"
          },
          "hoverlabel": {
           "align": "left"
          },
          "hovermode": "closest",
          "mapbox": {
           "style": "light"
          },
          "paper_bgcolor": "white",
          "plot_bgcolor": "#E5ECF6",
          "polar": {
           "angularaxis": {
            "gridcolor": "white",
            "linecolor": "white",
            "ticks": ""
           },
           "bgcolor": "#E5ECF6",
           "radialaxis": {
            "gridcolor": "white",
            "linecolor": "white",
            "ticks": ""
           }
          },
          "scene": {
           "xaxis": {
            "backgroundcolor": "#E5ECF6",
            "gridcolor": "white",
            "gridwidth": 2,
            "linecolor": "white",
            "showbackground": true,
            "ticks": "",
            "zerolinecolor": "white"
           },
           "yaxis": {
            "backgroundcolor": "#E5ECF6",
            "gridcolor": "white",
            "gridwidth": 2,
            "linecolor": "white",
            "showbackground": true,
            "ticks": "",
            "zerolinecolor": "white"
           },
           "zaxis": {
            "backgroundcolor": "#E5ECF6",
            "gridcolor": "white",
            "gridwidth": 2,
            "linecolor": "white",
            "showbackground": true,
            "ticks": "",
            "zerolinecolor": "white"
           }
          },
          "shapedefaults": {
           "line": {
            "color": "#2a3f5f"
           }
          },
          "ternary": {
           "aaxis": {
            "gridcolor": "white",
            "linecolor": "white",
            "ticks": ""
           },
           "baxis": {
            "gridcolor": "white",
            "linecolor": "white",
            "ticks": ""
           },
           "bgcolor": "#E5ECF6",
           "caxis": {
            "gridcolor": "white",
            "linecolor": "white",
            "ticks": ""
           }
          },
          "title": {
           "x": 0.05
          },
          "xaxis": {
           "automargin": true,
           "gridcolor": "white",
           "linecolor": "white",
           "ticks": "",
           "title": {
            "standoff": 15
           },
           "zerolinecolor": "white",
           "zerolinewidth": 2
          },
          "yaxis": {
           "automargin": true,
           "gridcolor": "white",
           "linecolor": "white",
           "ticks": "",
           "title": {
            "standoff": 15
           },
           "zerolinecolor": "white",
           "zerolinewidth": 2
          }
         }
        },
        "title": {
         "text": "Top 5 brands by number of products for each category"
        },
        "xaxis": {
         "anchor": "y",
         "categoryorder": "total descending",
         "domain": [
          0,
          1
         ],
         "title": {
          "text": "Brand"
         }
        },
        "yaxis": {
         "anchor": "x",
         "domain": [
          0,
          1
         ],
         "title": {
          "text": "Number Of Products"
         }
        }
       }
      }
     },
     "metadata": {},
     "output_type": "display_data"
    }
   ],
   "source": [
    "fig11 = px.bar(top5_brand_cat,\n",
    "               x=\"brand\",\n",
    "               y=\"n_product\",\n",
    "               labels={\"brand\": \"Brand\", \"n_product\": \"Number Of Products\"},\n",
    "               title=\"Top 5 brands by number of products for each category\",\n",
    "               color= \"category\",\n",
    "               color_discrete_sequence=shades_of_pink,\n",
    "               barmode=\"group\",\n",
    "               category_orders={\"category\": top5_brand_cat[\"category\"].unique()})  # Optional: to maintain the group ordering by category\n",
    "\n",
    "fig11.update_layout(xaxis={'categoryorder':'total descending'})  # Optional: sort bars within groups\n",
    "fig11.show()"
   ]
  },
  {
   "cell_type": "markdown",
   "metadata": {},
   "source": [
    "The analysis of product distribution across various feminine hygiene categories reveals distinct market leaders for each specific category, underscoring the diverse preferences and needs of consumers. \n",
    "\n",
    "In the category of `menstrual cups`, **LOKBY** emerges as the top brand, indicating a strong consumer preference for their product offerings in this segment. \n",
    "\n",
    "Similarly, **Fulidngzg** leads the category for `protective underwear`, highlighting its dominance in providing solutions for menstrual protection beyond traditional methods.\n",
    "\n",
    "For `protèges-slips` (panty liners), **Tena** stands out as the market leader, reflecting its success in catering to daily feminine hygiene needs. \n",
    "\n",
    "In the highly competitive `pads` category, **Always** and **Nana** are the top two brands, respectively, demonstrating their strong market presence and consumer trust in their sanitary pad products.\n",
    "\n",
    "In the `tampons` category, **Luna**, **Tampax**, and **Cup** rank as the top three brands, showcasing a varied consumer preference within this segment. Each of these brands has successfully established itself in a niche market, catering to the specific preferences and needs of their customer base.\n",
    "\n",
    "This diversity in leading brands across different categories highlights the importance of targeted product development and marketing strategies in the feminine hygiene market. It reflects the varied consumer preferences that exist within this market and the importance of offering a range of products to meet the diverse needs of consumers."
   ]
  },
  {
   "cell_type": "markdown",
   "metadata": {},
   "source": [
    "##### **H. Score-based Analysis**"
   ]
  },
  {
   "cell_type": "code",
   "execution_count": 57,
   "metadata": {},
   "outputs": [
    {
     "data": {
      "text/html": [
       "<div>\n",
       "<style scoped>\n",
       "    .dataframe tbody tr th:only-of-type {\n",
       "        vertical-align: middle;\n",
       "    }\n",
       "\n",
       "    .dataframe tbody tr th {\n",
       "        vertical-align: top;\n",
       "    }\n",
       "\n",
       "    .dataframe thead th {\n",
       "        text-align: right;\n",
       "    }\n",
       "</style>\n",
       "<table border=\"1\" class=\"dataframe\">\n",
       "  <thead>\n",
       "    <tr style=\"text-align: right;\">\n",
       "      <th></th>\n",
       "      <th>asin</th>\n",
       "      <th>category</th>\n",
       "      <th>price_weighted_normalized</th>\n",
       "      <th>leak_weighted_normalized</th>\n",
       "      <th>absorb_weighted_normalized</th>\n",
       "      <th>comfort_weighted_normalized</th>\n",
       "      <th>material_weighted_normalized</th>\n",
       "      <th>package_weighted_normalized</th>\n",
       "      <th>size_weighted_normalized</th>\n",
       "    </tr>\n",
       "  </thead>\n",
       "  <tbody>\n",
       "    <tr>\n",
       "      <th>0</th>\n",
       "      <td>B00028O5RY</td>\n",
       "      <td>Tampons</td>\n",
       "      <td>0.169639</td>\n",
       "      <td>0.110371</td>\n",
       "      <td>0.300328</td>\n",
       "      <td>0.173599</td>\n",
       "      <td>0.392496</td>\n",
       "      <td>0.128133</td>\n",
       "      <td>0.054343</td>\n",
       "    </tr>\n",
       "    <tr>\n",
       "      <th>1</th>\n",
       "      <td>B000E3DXCA</td>\n",
       "      <td>Tampons</td>\n",
       "      <td>0.167318</td>\n",
       "      <td>0.034397</td>\n",
       "      <td>0.010872</td>\n",
       "      <td>0.059157</td>\n",
       "      <td>0.354336</td>\n",
       "      <td>0.079694</td>\n",
       "      <td>0.011167</td>\n",
       "    </tr>\n",
       "    <tr>\n",
       "      <th>2</th>\n",
       "      <td>B000FAG6X0</td>\n",
       "      <td>Coupes menstruelles</td>\n",
       "      <td>0.000000</td>\n",
       "      <td>0.125531</td>\n",
       "      <td>0.026924</td>\n",
       "      <td>0.091767</td>\n",
       "      <td>0.354336</td>\n",
       "      <td>0.146735</td>\n",
       "      <td>0.006268</td>\n",
       "    </tr>\n",
       "    <tr>\n",
       "      <th>3</th>\n",
       "      <td>B000W6KKLQ</td>\n",
       "      <td>Protège-slips</td>\n",
       "      <td>0.000000</td>\n",
       "      <td>0.070897</td>\n",
       "      <td>0.026924</td>\n",
       "      <td>0.095683</td>\n",
       "      <td>0.354336</td>\n",
       "      <td>0.079694</td>\n",
       "      <td>0.000000</td>\n",
       "    </tr>\n",
       "    <tr>\n",
       "      <th>4</th>\n",
       "      <td>B000W6KKMK</td>\n",
       "      <td>Protège-slips</td>\n",
       "      <td>0.049417</td>\n",
       "      <td>0.070897</td>\n",
       "      <td>0.064849</td>\n",
       "      <td>0.098378</td>\n",
       "      <td>0.354336</td>\n",
       "      <td>0.079694</td>\n",
       "      <td>0.000000</td>\n",
       "    </tr>\n",
       "  </tbody>\n",
       "</table>\n",
       "</div>"
      ],
      "text/plain": [
       "         asin             category  price_weighted_normalized  \\\n",
       "0  B00028O5RY              Tampons                   0.169639   \n",
       "1  B000E3DXCA              Tampons                   0.167318   \n",
       "2  B000FAG6X0  Coupes menstruelles                   0.000000   \n",
       "3  B000W6KKLQ        Protège-slips                   0.000000   \n",
       "4  B000W6KKMK        Protège-slips                   0.049417   \n",
       "\n",
       "   leak_weighted_normalized  absorb_weighted_normalized  \\\n",
       "0                  0.110371                    0.300328   \n",
       "1                  0.034397                    0.010872   \n",
       "2                  0.125531                    0.026924   \n",
       "3                  0.070897                    0.026924   \n",
       "4                  0.070897                    0.064849   \n",
       "\n",
       "   comfort_weighted_normalized  material_weighted_normalized  \\\n",
       "0                     0.173599                      0.392496   \n",
       "1                     0.059157                      0.354336   \n",
       "2                     0.091767                      0.354336   \n",
       "3                     0.095683                      0.354336   \n",
       "4                     0.098378                      0.354336   \n",
       "\n",
       "   package_weighted_normalized  size_weighted_normalized  \n",
       "0                     0.128133                  0.054343  \n",
       "1                     0.079694                  0.011167  \n",
       "2                     0.146735                  0.006268  \n",
       "3                     0.079694                  0.000000  \n",
       "4                     0.079694                  0.000000  "
      ]
     },
     "execution_count": 57,
     "metadata": {},
     "output_type": "execute_result"
    }
   ],
   "source": [
    "products_scores.head()"
   ]
  },
  {
   "cell_type": "code",
   "execution_count": 58,
   "metadata": {},
   "outputs": [],
   "source": [
    "products_scores.to_csv(\"./product_scores.csv\")"
   ]
  },
  {
   "cell_type": "code",
   "execution_count": 59,
   "metadata": {},
   "outputs": [
    {
     "data": {
      "application/vnd.plotly.v1+json": {
       "config": {
        "plotlyServerURL": "https://plot.ly"
       },
       "data": [
        {
         "alignmentgroup": "True",
         "hovertemplate": "Score Type=leak_weighted_normalized<br>category=%{x}<br>Average Score=%{y}<extra></extra>",
         "legendgroup": "leak_weighted_normalized",
         "marker": {
          "color": "#FFC0CB",
          "pattern": {
           "shape": ""
          }
         },
         "name": "leak_weighted_normalized",
         "offsetgroup": "leak_weighted_normalized",
         "orientation": "v",
         "showlegend": true,
         "textposition": "auto",
         "type": "bar",
         "x": [
          "Bannetons",
          "Beauté et soins",
          "Coupes menstruelles",
          "Culottes et slips",
          "Culottes et sous-vêtements de protection",
          "Diffuseurs d'huiles essentielles",
          "Hygiène et soins intimes",
          "Hygiène et épilation",
          "Incontinence",
          "Lames",
          "Produits d'hygiène féminine",
          "Protections, serviettes hygiéniques, couches pour adultes, protège-slips",
          "Protège-slips",
          "Serviettes hygièniques",
          "Shorties",
          "Tampons",
          "Visage",
          "Vitamines, minéraux et compléments",
          "Vêtements de contention médicaux"
         ],
         "xaxis": "x",
         "y": [
          0.070897305368159,
          0.070897305368159,
          0.3528076211083851,
          0.2659832477063606,
          0.19707304433717648,
          0.070897305368159,
          0.27080504793292487,
          0.16523846309052703,
          0.09860326376963165,
          1,
          0.070897305368159,
          0.08722304141989583,
          0.08226273237245703,
          0.08899653050425445,
          0.21004103287042794,
          0.16969230408205802,
          0.070897305368159,
          0.7879192816946555,
          0.092895709440622
         ],
         "yaxis": "y"
        },
        {
         "alignmentgroup": "True",
         "hovertemplate": "Score Type=absorb_weighted_normalized<br>category=%{x}<br>Average Score=%{y}<extra></extra>",
         "legendgroup": "absorb_weighted_normalized",
         "marker": {
          "color": "#DB7093",
          "pattern": {
           "shape": ""
          }
         },
         "name": "absorb_weighted_normalized",
         "offsetgroup": "absorb_weighted_normalized",
         "orientation": "v",
         "showlegend": true,
         "textposition": "auto",
         "type": "bar",
         "x": [
          "Bannetons",
          "Beauté et soins",
          "Coupes menstruelles",
          "Culottes et slips",
          "Culottes et sous-vêtements de protection",
          "Diffuseurs d'huiles essentielles",
          "Hygiène et soins intimes",
          "Hygiène et épilation",
          "Incontinence",
          "Lames",
          "Produits d'hygiène féminine",
          "Protections, serviettes hygiéniques, couches pour adultes, protège-slips",
          "Protège-slips",
          "Serviettes hygièniques",
          "Shorties",
          "Tampons",
          "Visage",
          "Vitamines, minéraux et compléments",
          "Vêtements de contention médicaux"
         ],
         "xaxis": "x",
         "y": [
          0.0269236580331692,
          0.0269236580331692,
          0.04463048145687638,
          0.39615485305058407,
          0.3725910089460969,
          0.0269236580331692,
          0.0318371967647459,
          0.08065967386119213,
          0.1257532883746897,
          0.1025863661504475,
          0.0269236580331692,
          0.05359424980743815,
          0.07847622371608604,
          0.09990416874691652,
          0.5468795967640449,
          0.08990196438980858,
          0.0269236580331692,
          0.137709947436997,
          0.157521759991355
         ],
         "yaxis": "y"
        }
       ],
       "layout": {
        "barmode": "group",
        "legend": {
         "title": {
          "text": "Score Type"
         },
         "tracegroupgap": 0
        },
        "template": {
         "data": {
          "bar": [
           {
            "error_x": {
             "color": "#2a3f5f"
            },
            "error_y": {
             "color": "#2a3f5f"
            },
            "marker": {
             "line": {
              "color": "#E5ECF6",
              "width": 0.5
             },
             "pattern": {
              "fillmode": "overlay",
              "size": 10,
              "solidity": 0.2
             }
            },
            "type": "bar"
           }
          ],
          "barpolar": [
           {
            "marker": {
             "line": {
              "color": "#E5ECF6",
              "width": 0.5
             },
             "pattern": {
              "fillmode": "overlay",
              "size": 10,
              "solidity": 0.2
             }
            },
            "type": "barpolar"
           }
          ],
          "carpet": [
           {
            "aaxis": {
             "endlinecolor": "#2a3f5f",
             "gridcolor": "white",
             "linecolor": "white",
             "minorgridcolor": "white",
             "startlinecolor": "#2a3f5f"
            },
            "baxis": {
             "endlinecolor": "#2a3f5f",
             "gridcolor": "white",
             "linecolor": "white",
             "minorgridcolor": "white",
             "startlinecolor": "#2a3f5f"
            },
            "type": "carpet"
           }
          ],
          "choropleth": [
           {
            "colorbar": {
             "outlinewidth": 0,
             "ticks": ""
            },
            "type": "choropleth"
           }
          ],
          "contour": [
           {
            "colorbar": {
             "outlinewidth": 0,
             "ticks": ""
            },
            "colorscale": [
             [
              0,
              "#0d0887"
             ],
             [
              0.1111111111111111,
              "#46039f"
             ],
             [
              0.2222222222222222,
              "#7201a8"
             ],
             [
              0.3333333333333333,
              "#9c179e"
             ],
             [
              0.4444444444444444,
              "#bd3786"
             ],
             [
              0.5555555555555556,
              "#d8576b"
             ],
             [
              0.6666666666666666,
              "#ed7953"
             ],
             [
              0.7777777777777778,
              "#fb9f3a"
             ],
             [
              0.8888888888888888,
              "#fdca26"
             ],
             [
              1,
              "#f0f921"
             ]
            ],
            "type": "contour"
           }
          ],
          "contourcarpet": [
           {
            "colorbar": {
             "outlinewidth": 0,
             "ticks": ""
            },
            "type": "contourcarpet"
           }
          ],
          "heatmap": [
           {
            "colorbar": {
             "outlinewidth": 0,
             "ticks": ""
            },
            "colorscale": [
             [
              0,
              "#0d0887"
             ],
             [
              0.1111111111111111,
              "#46039f"
             ],
             [
              0.2222222222222222,
              "#7201a8"
             ],
             [
              0.3333333333333333,
              "#9c179e"
             ],
             [
              0.4444444444444444,
              "#bd3786"
             ],
             [
              0.5555555555555556,
              "#d8576b"
             ],
             [
              0.6666666666666666,
              "#ed7953"
             ],
             [
              0.7777777777777778,
              "#fb9f3a"
             ],
             [
              0.8888888888888888,
              "#fdca26"
             ],
             [
              1,
              "#f0f921"
             ]
            ],
            "type": "heatmap"
           }
          ],
          "heatmapgl": [
           {
            "colorbar": {
             "outlinewidth": 0,
             "ticks": ""
            },
            "colorscale": [
             [
              0,
              "#0d0887"
             ],
             [
              0.1111111111111111,
              "#46039f"
             ],
             [
              0.2222222222222222,
              "#7201a8"
             ],
             [
              0.3333333333333333,
              "#9c179e"
             ],
             [
              0.4444444444444444,
              "#bd3786"
             ],
             [
              0.5555555555555556,
              "#d8576b"
             ],
             [
              0.6666666666666666,
              "#ed7953"
             ],
             [
              0.7777777777777778,
              "#fb9f3a"
             ],
             [
              0.8888888888888888,
              "#fdca26"
             ],
             [
              1,
              "#f0f921"
             ]
            ],
            "type": "heatmapgl"
           }
          ],
          "histogram": [
           {
            "marker": {
             "pattern": {
              "fillmode": "overlay",
              "size": 10,
              "solidity": 0.2
             }
            },
            "type": "histogram"
           }
          ],
          "histogram2d": [
           {
            "colorbar": {
             "outlinewidth": 0,
             "ticks": ""
            },
            "colorscale": [
             [
              0,
              "#0d0887"
             ],
             [
              0.1111111111111111,
              "#46039f"
             ],
             [
              0.2222222222222222,
              "#7201a8"
             ],
             [
              0.3333333333333333,
              "#9c179e"
             ],
             [
              0.4444444444444444,
              "#bd3786"
             ],
             [
              0.5555555555555556,
              "#d8576b"
             ],
             [
              0.6666666666666666,
              "#ed7953"
             ],
             [
              0.7777777777777778,
              "#fb9f3a"
             ],
             [
              0.8888888888888888,
              "#fdca26"
             ],
             [
              1,
              "#f0f921"
             ]
            ],
            "type": "histogram2d"
           }
          ],
          "histogram2dcontour": [
           {
            "colorbar": {
             "outlinewidth": 0,
             "ticks": ""
            },
            "colorscale": [
             [
              0,
              "#0d0887"
             ],
             [
              0.1111111111111111,
              "#46039f"
             ],
             [
              0.2222222222222222,
              "#7201a8"
             ],
             [
              0.3333333333333333,
              "#9c179e"
             ],
             [
              0.4444444444444444,
              "#bd3786"
             ],
             [
              0.5555555555555556,
              "#d8576b"
             ],
             [
              0.6666666666666666,
              "#ed7953"
             ],
             [
              0.7777777777777778,
              "#fb9f3a"
             ],
             [
              0.8888888888888888,
              "#fdca26"
             ],
             [
              1,
              "#f0f921"
             ]
            ],
            "type": "histogram2dcontour"
           }
          ],
          "mesh3d": [
           {
            "colorbar": {
             "outlinewidth": 0,
             "ticks": ""
            },
            "type": "mesh3d"
           }
          ],
          "parcoords": [
           {
            "line": {
             "colorbar": {
              "outlinewidth": 0,
              "ticks": ""
             }
            },
            "type": "parcoords"
           }
          ],
          "pie": [
           {
            "automargin": true,
            "type": "pie"
           }
          ],
          "scatter": [
           {
            "fillpattern": {
             "fillmode": "overlay",
             "size": 10,
             "solidity": 0.2
            },
            "type": "scatter"
           }
          ],
          "scatter3d": [
           {
            "line": {
             "colorbar": {
              "outlinewidth": 0,
              "ticks": ""
             }
            },
            "marker": {
             "colorbar": {
              "outlinewidth": 0,
              "ticks": ""
             }
            },
            "type": "scatter3d"
           }
          ],
          "scattercarpet": [
           {
            "marker": {
             "colorbar": {
              "outlinewidth": 0,
              "ticks": ""
             }
            },
            "type": "scattercarpet"
           }
          ],
          "scattergeo": [
           {
            "marker": {
             "colorbar": {
              "outlinewidth": 0,
              "ticks": ""
             }
            },
            "type": "scattergeo"
           }
          ],
          "scattergl": [
           {
            "marker": {
             "colorbar": {
              "outlinewidth": 0,
              "ticks": ""
             }
            },
            "type": "scattergl"
           }
          ],
          "scattermapbox": [
           {
            "marker": {
             "colorbar": {
              "outlinewidth": 0,
              "ticks": ""
             }
            },
            "type": "scattermapbox"
           }
          ],
          "scatterpolar": [
           {
            "marker": {
             "colorbar": {
              "outlinewidth": 0,
              "ticks": ""
             }
            },
            "type": "scatterpolar"
           }
          ],
          "scatterpolargl": [
           {
            "marker": {
             "colorbar": {
              "outlinewidth": 0,
              "ticks": ""
             }
            },
            "type": "scatterpolargl"
           }
          ],
          "scatterternary": [
           {
            "marker": {
             "colorbar": {
              "outlinewidth": 0,
              "ticks": ""
             }
            },
            "type": "scatterternary"
           }
          ],
          "surface": [
           {
            "colorbar": {
             "outlinewidth": 0,
             "ticks": ""
            },
            "colorscale": [
             [
              0,
              "#0d0887"
             ],
             [
              0.1111111111111111,
              "#46039f"
             ],
             [
              0.2222222222222222,
              "#7201a8"
             ],
             [
              0.3333333333333333,
              "#9c179e"
             ],
             [
              0.4444444444444444,
              "#bd3786"
             ],
             [
              0.5555555555555556,
              "#d8576b"
             ],
             [
              0.6666666666666666,
              "#ed7953"
             ],
             [
              0.7777777777777778,
              "#fb9f3a"
             ],
             [
              0.8888888888888888,
              "#fdca26"
             ],
             [
              1,
              "#f0f921"
             ]
            ],
            "type": "surface"
           }
          ],
          "table": [
           {
            "cells": {
             "fill": {
              "color": "#EBF0F8"
             },
             "line": {
              "color": "white"
             }
            },
            "header": {
             "fill": {
              "color": "#C8D4E3"
             },
             "line": {
              "color": "white"
             }
            },
            "type": "table"
           }
          ]
         },
         "layout": {
          "annotationdefaults": {
           "arrowcolor": "#2a3f5f",
           "arrowhead": 0,
           "arrowwidth": 1
          },
          "autotypenumbers": "strict",
          "coloraxis": {
           "colorbar": {
            "outlinewidth": 0,
            "ticks": ""
           }
          },
          "colorscale": {
           "diverging": [
            [
             0,
             "#8e0152"
            ],
            [
             0.1,
             "#c51b7d"
            ],
            [
             0.2,
             "#de77ae"
            ],
            [
             0.3,
             "#f1b6da"
            ],
            [
             0.4,
             "#fde0ef"
            ],
            [
             0.5,
             "#f7f7f7"
            ],
            [
             0.6,
             "#e6f5d0"
            ],
            [
             0.7,
             "#b8e186"
            ],
            [
             0.8,
             "#7fbc41"
            ],
            [
             0.9,
             "#4d9221"
            ],
            [
             1,
             "#276419"
            ]
           ],
           "sequential": [
            [
             0,
             "#0d0887"
            ],
            [
             0.1111111111111111,
             "#46039f"
            ],
            [
             0.2222222222222222,
             "#7201a8"
            ],
            [
             0.3333333333333333,
             "#9c179e"
            ],
            [
             0.4444444444444444,
             "#bd3786"
            ],
            [
             0.5555555555555556,
             "#d8576b"
            ],
            [
             0.6666666666666666,
             "#ed7953"
            ],
            [
             0.7777777777777778,
             "#fb9f3a"
            ],
            [
             0.8888888888888888,
             "#fdca26"
            ],
            [
             1,
             "#f0f921"
            ]
           ],
           "sequentialminus": [
            [
             0,
             "#0d0887"
            ],
            [
             0.1111111111111111,
             "#46039f"
            ],
            [
             0.2222222222222222,
             "#7201a8"
            ],
            [
             0.3333333333333333,
             "#9c179e"
            ],
            [
             0.4444444444444444,
             "#bd3786"
            ],
            [
             0.5555555555555556,
             "#d8576b"
            ],
            [
             0.6666666666666666,
             "#ed7953"
            ],
            [
             0.7777777777777778,
             "#fb9f3a"
            ],
            [
             0.8888888888888888,
             "#fdca26"
            ],
            [
             1,
             "#f0f921"
            ]
           ]
          },
          "colorway": [
           "#636efa",
           "#EF553B",
           "#00cc96",
           "#ab63fa",
           "#FFA15A",
           "#19d3f3",
           "#FF6692",
           "#B6E880",
           "#FF97FF",
           "#FECB52"
          ],
          "font": {
           "color": "#2a3f5f"
          },
          "geo": {
           "bgcolor": "white",
           "lakecolor": "white",
           "landcolor": "#E5ECF6",
           "showlakes": true,
           "showland": true,
           "subunitcolor": "white"
          },
          "hoverlabel": {
           "align": "left"
          },
          "hovermode": "closest",
          "mapbox": {
           "style": "light"
          },
          "paper_bgcolor": "white",
          "plot_bgcolor": "#E5ECF6",
          "polar": {
           "angularaxis": {
            "gridcolor": "white",
            "linecolor": "white",
            "ticks": ""
           },
           "bgcolor": "#E5ECF6",
           "radialaxis": {
            "gridcolor": "white",
            "linecolor": "white",
            "ticks": ""
           }
          },
          "scene": {
           "xaxis": {
            "backgroundcolor": "#E5ECF6",
            "gridcolor": "white",
            "gridwidth": 2,
            "linecolor": "white",
            "showbackground": true,
            "ticks": "",
            "zerolinecolor": "white"
           },
           "yaxis": {
            "backgroundcolor": "#E5ECF6",
            "gridcolor": "white",
            "gridwidth": 2,
            "linecolor": "white",
            "showbackground": true,
            "ticks": "",
            "zerolinecolor": "white"
           },
           "zaxis": {
            "backgroundcolor": "#E5ECF6",
            "gridcolor": "white",
            "gridwidth": 2,
            "linecolor": "white",
            "showbackground": true,
            "ticks": "",
            "zerolinecolor": "white"
           }
          },
          "shapedefaults": {
           "line": {
            "color": "#2a3f5f"
           }
          },
          "ternary": {
           "aaxis": {
            "gridcolor": "white",
            "linecolor": "white",
            "ticks": ""
           },
           "baxis": {
            "gridcolor": "white",
            "linecolor": "white",
            "ticks": ""
           },
           "bgcolor": "#E5ECF6",
           "caxis": {
            "gridcolor": "white",
            "linecolor": "white",
            "ticks": ""
           }
          },
          "title": {
           "x": 0.05
          },
          "xaxis": {
           "automargin": true,
           "gridcolor": "white",
           "linecolor": "white",
           "ticks": "",
           "title": {
            "standoff": 15
           },
           "zerolinecolor": "white",
           "zerolinewidth": 2
          },
          "yaxis": {
           "automargin": true,
           "gridcolor": "white",
           "linecolor": "white",
           "ticks": "",
           "title": {
            "standoff": 15
           },
           "zerolinecolor": "white",
           "zerolinewidth": 2
          }
         }
        },
        "title": {
         "text": "Average Leak and Absorb Scores by Category"
        },
        "xaxis": {
         "anchor": "y",
         "categoryorder": "total descending",
         "domain": [
          0,
          1
         ],
         "title": {
          "text": "Category"
         }
        },
        "yaxis": {
         "anchor": "x",
         "domain": [
          0,
          1
         ],
         "title": {
          "text": "Average Score"
         }
        }
       }
      }
     },
     "metadata": {},
     "output_type": "display_data"
    }
   ],
   "source": [
    "import plotly.express as px\n",
    "\n",
    "# Ensure we're only including numeric columns in the mean calculation\n",
    "numeric_cols = ['price_weighted_normalized', 'leak_weighted_normalized', 'absorb_weighted_normalized',\n",
    "                'comfort_weighted_normalized', 'material_weighted_normalized', \n",
    "                'package_weighted_normalized', 'size_weighted_normalized']\n",
    "\n",
    "# Calculate the mean of scores for each category, specifically for the numeric columns\n",
    "category_means = products_scores.groupby('category')[numeric_cols].mean().reset_index()\n",
    "\n",
    "# Define a palette of pink shades\n",
    "pink_palette = ['#FFC0CB', '#DB7093', '#FFB6C1', '#FF69B4', '#FF1493', ]\n",
    "\n",
    "# Plotting the comparison for 'leak_weighted_normalized' and 'absorb_weighted_normalized' with the pink color palette\n",
    "fig = px.bar(category_means, x='category', y=['leak_weighted_normalized', 'absorb_weighted_normalized'],\n",
    "             title=\"Average Leak and Absorb Scores by Category\",\n",
    "             labels={'value': 'Average Score', 'variable': 'Score Type'},\n",
    "             barmode='group',\n",
    "             color_discrete_sequence=pink_palette)  # Use the pink color palette\n",
    "\n",
    "fig.update_layout(xaxis_title='Category', yaxis_title='Average Score', xaxis={'categoryorder':'total descending'})\n",
    "fig.show()\n"
   ]
  },
  {
   "cell_type": "markdown",
   "metadata": {},
   "source": [
    "`Menstrual Cups`\n",
    "**- Leak Weighted Normalized Score:** 0.212358, which is the highest among all categories. This suggests that menstrual cups are perceived to have the best performance in terms of preventing leaks compared to other product types.\n",
    "\n",
    "**- Absorb Weighted Normalized Score:** 0.039167, which is the lowest score among the categories. This indicates that in terms of absorbency, menstrual cups are rated lower, likely because they do not absorb but collect menstrual fluid.\n",
    "\n",
    "`Protective Underwear`\n",
    "**- Leak Weighted Normalized Score:** 0.143047, which indicates a good performance in preventing leaks, though not as high as menstrual cups.\n",
    "\n",
    "**- Absorb Weighted Normalized Score:** 0.255658, the highest absorbency score among all categories, suggesting that this category is considered the most absorbent, potentially because it provides a larger absorbent area compared to other products.\n",
    "\n",
    "`Protège-slips (Panty Liners)`\n",
    "**- Leak Weighted Normalized Score:** 0.082648, indicating a lower performance in leak prevention, likely due to their design for light menstrual flow or daily discharge.\n",
    "\n",
    "**- Absorb Weighted Normalized Score:** 0.077231, reflecting their intended use for light absorbency needs.\n",
    "\n",
    "`Serviettes hygiéniques (Sanitary Napkins):`\n",
    "**- Leak Weighted Normalized Score:** 0.087138, slightly higher than panty liners, suggesting a somewhat better performance in preventing leaks.\n",
    "\n",
    "**- Absorb Weighted Normalized Score:** 0.096353, also higher than panty liners, indicating a better absorbency suitable for moderate to heavy flows.\n",
    "\n",
    "`Tampons`\n",
    "**- Leak Weighted Normalized Score:** 0.147371, showing good leak prevention capabilities, ranked closely behind protective underwear \n",
    "and panties, and higher than panty liners and sanitary napkins.\n",
    "\n",
    "**- Absorb Weighted Normalized Score:** 0.152099, suggesting tampons are well-regarded for their absorbency, better than panty liners and sanitary napkins but not as high as protective underwear and panties.\n",
    "\n",
    "`Overall Interpretation`\n",
    "**Leak Prevention:** Menstrual cups lead in leak prevention, likely due to their seal with the vaginal walls. Tampons and protective underwear also perform well, offering reliable options for different needs and preferences.\n",
    "**Absorbency:** Protective underwear and panties are perceived as the most absorbent, suitable for heavy flows or overnight use. Tampons also score relatively high, indicating effective absorbency for internal use. Menstrual cups have the lowest absorbency score, which aligns with their function of collecting rather than absorbing menstrual fluid."
   ]
  },
  {
   "cell_type": "code",
   "execution_count": 60,
   "metadata": {},
   "outputs": [
    {
     "data": {
      "application/vnd.plotly.v1+json": {
       "config": {
        "plotlyServerURL": "https://plot.ly"
       },
       "data": [
        {
         "colorscale": [
          [
           0,
           "#440154"
          ],
          [
           0.1111111111111111,
           "#482878"
          ],
          [
           0.2222222222222222,
           "#3e4989"
          ],
          [
           0.3333333333333333,
           "#31688e"
          ],
          [
           0.4444444444444444,
           "#26828e"
          ],
          [
           0.5555555555555556,
           "#1f9e89"
          ],
          [
           0.6666666666666666,
           "#35b779"
          ],
          [
           0.7777777777777778,
           "#6ece58"
          ],
          [
           0.8888888888888888,
           "#b5de2b"
          ],
          [
           1,
           "#fde725"
          ]
         ],
         "hoverongaps": false,
         "showscale": true,
         "text": [
          [
           1,
           0.12,
           0.79,
           0.54,
           0.21,
           0.73
          ],
          [
           0.12,
           1,
           0.33,
           0.26,
           0.36,
           0.1
          ],
          [
           0.79,
           0.33,
           1,
           0.67,
           0.36,
           0.79
          ],
          [
           0.54,
           0.26,
           0.67,
           1,
           0.38,
           0.66
          ],
          [
           0.21,
           0.36,
           0.36,
           0.38,
           1,
           0.29
          ],
          [
           0.73,
           0.1,
           0.79,
           0.66,
           0.29,
           1
          ]
         ],
         "type": "heatmap",
         "x": [
          "leak_weighted_normalized",
          "absorb_weighted_normalized",
          "comfort_weighted_normalized",
          "material_weighted_normalized",
          "package_weighted_normalized",
          "size_weighted_normalized"
         ],
         "y": [
          "leak_weighted_normalized",
          "absorb_weighted_normalized",
          "comfort_weighted_normalized",
          "material_weighted_normalized",
          "package_weighted_normalized",
          "size_weighted_normalized"
         ],
         "z": [
          [
           1,
           0.12200790287511926,
           0.7853780570355576,
           0.5356792707759331,
           0.2093928760260269,
           0.7301375749454637
          ],
          [
           0.12200790287511926,
           1,
           0.3339200972562652,
           0.25808542185963235,
           0.36333212007374743,
           0.1012557456458647
          ],
          [
           0.7853780570355576,
           0.3339200972562652,
           1,
           0.666265114713615,
           0.3646550714329267,
           0.7946443832998816
          ],
          [
           0.5356792707759331,
           0.25808542185963235,
           0.666265114713615,
           1,
           0.38496063734117414,
           0.6636793890682908
          ],
          [
           0.2093928760260269,
           0.36333212007374743,
           0.3646550714329267,
           0.38496063734117414,
           1,
           0.2899028304806813
          ],
          [
           0.7301375749454637,
           0.1012557456458647,
           0.7946443832998816,
           0.6636793890682908,
           0.2899028304806813,
           1
          ]
         ]
        }
       ],
       "layout": {
        "annotations": [
         {
          "font": {
           "color": "black"
          },
          "showarrow": false,
          "text": "1.0",
          "x": 0,
          "y": 0
         },
         {
          "font": {
           "color": "black"
          },
          "showarrow": false,
          "text": "0.12",
          "x": 1,
          "y": 0
         },
         {
          "font": {
           "color": "black"
          },
          "showarrow": false,
          "text": "0.79",
          "x": 2,
          "y": 0
         },
         {
          "font": {
           "color": "black"
          },
          "showarrow": false,
          "text": "0.54",
          "x": 3,
          "y": 0
         },
         {
          "font": {
           "color": "black"
          },
          "showarrow": false,
          "text": "0.21",
          "x": 4,
          "y": 0
         },
         {
          "font": {
           "color": "black"
          },
          "showarrow": false,
          "text": "0.73",
          "x": 5,
          "y": 0
         },
         {
          "font": {
           "color": "black"
          },
          "showarrow": false,
          "text": "0.12",
          "x": 0,
          "y": 1
         },
         {
          "font": {
           "color": "black"
          },
          "showarrow": false,
          "text": "1.0",
          "x": 1,
          "y": 1
         },
         {
          "font": {
           "color": "black"
          },
          "showarrow": false,
          "text": "0.33",
          "x": 2,
          "y": 1
         },
         {
          "font": {
           "color": "black"
          },
          "showarrow": false,
          "text": "0.26",
          "x": 3,
          "y": 1
         },
         {
          "font": {
           "color": "black"
          },
          "showarrow": false,
          "text": "0.36",
          "x": 4,
          "y": 1
         },
         {
          "font": {
           "color": "black"
          },
          "showarrow": false,
          "text": "0.1",
          "x": 5,
          "y": 1
         },
         {
          "font": {
           "color": "black"
          },
          "showarrow": false,
          "text": "0.79",
          "x": 0,
          "y": 2
         },
         {
          "font": {
           "color": "black"
          },
          "showarrow": false,
          "text": "0.33",
          "x": 1,
          "y": 2
         },
         {
          "font": {
           "color": "black"
          },
          "showarrow": false,
          "text": "1.0",
          "x": 2,
          "y": 2
         },
         {
          "font": {
           "color": "black"
          },
          "showarrow": false,
          "text": "0.67",
          "x": 3,
          "y": 2
         },
         {
          "font": {
           "color": "black"
          },
          "showarrow": false,
          "text": "0.36",
          "x": 4,
          "y": 2
         },
         {
          "font": {
           "color": "black"
          },
          "showarrow": false,
          "text": "0.79",
          "x": 5,
          "y": 2
         },
         {
          "font": {
           "color": "black"
          },
          "showarrow": false,
          "text": "0.54",
          "x": 0,
          "y": 3
         },
         {
          "font": {
           "color": "black"
          },
          "showarrow": false,
          "text": "0.26",
          "x": 1,
          "y": 3
         },
         {
          "font": {
           "color": "black"
          },
          "showarrow": false,
          "text": "0.67",
          "x": 2,
          "y": 3
         },
         {
          "font": {
           "color": "black"
          },
          "showarrow": false,
          "text": "1.0",
          "x": 3,
          "y": 3
         },
         {
          "font": {
           "color": "black"
          },
          "showarrow": false,
          "text": "0.38",
          "x": 4,
          "y": 3
         },
         {
          "font": {
           "color": "black"
          },
          "showarrow": false,
          "text": "0.66",
          "x": 5,
          "y": 3
         },
         {
          "font": {
           "color": "black"
          },
          "showarrow": false,
          "text": "0.21",
          "x": 0,
          "y": 4
         },
         {
          "font": {
           "color": "black"
          },
          "showarrow": false,
          "text": "0.36",
          "x": 1,
          "y": 4
         },
         {
          "font": {
           "color": "black"
          },
          "showarrow": false,
          "text": "0.36",
          "x": 2,
          "y": 4
         },
         {
          "font": {
           "color": "black"
          },
          "showarrow": false,
          "text": "0.38",
          "x": 3,
          "y": 4
         },
         {
          "font": {
           "color": "black"
          },
          "showarrow": false,
          "text": "1.0",
          "x": 4,
          "y": 4
         },
         {
          "font": {
           "color": "black"
          },
          "showarrow": false,
          "text": "0.29",
          "x": 5,
          "y": 4
         },
         {
          "font": {
           "color": "black"
          },
          "showarrow": false,
          "text": "0.73",
          "x": 0,
          "y": 5
         },
         {
          "font": {
           "color": "black"
          },
          "showarrow": false,
          "text": "0.1",
          "x": 1,
          "y": 5
         },
         {
          "font": {
           "color": "black"
          },
          "showarrow": false,
          "text": "0.79",
          "x": 2,
          "y": 5
         },
         {
          "font": {
           "color": "black"
          },
          "showarrow": false,
          "text": "0.66",
          "x": 3,
          "y": 5
         },
         {
          "font": {
           "color": "black"
          },
          "showarrow": false,
          "text": "0.29",
          "x": 4,
          "y": 5
         },
         {
          "font": {
           "color": "black"
          },
          "showarrow": false,
          "text": "1.0",
          "x": 5,
          "y": 5
         }
        ],
        "autosize": false,
        "height": 600,
        "margin": {
         "b": 10,
         "l": 10,
         "r": 10,
         "t": 40
        },
        "template": {
         "data": {
          "bar": [
           {
            "error_x": {
             "color": "#2a3f5f"
            },
            "error_y": {
             "color": "#2a3f5f"
            },
            "marker": {
             "line": {
              "color": "#E5ECF6",
              "width": 0.5
             },
             "pattern": {
              "fillmode": "overlay",
              "size": 10,
              "solidity": 0.2
             }
            },
            "type": "bar"
           }
          ],
          "barpolar": [
           {
            "marker": {
             "line": {
              "color": "#E5ECF6",
              "width": 0.5
             },
             "pattern": {
              "fillmode": "overlay",
              "size": 10,
              "solidity": 0.2
             }
            },
            "type": "barpolar"
           }
          ],
          "carpet": [
           {
            "aaxis": {
             "endlinecolor": "#2a3f5f",
             "gridcolor": "white",
             "linecolor": "white",
             "minorgridcolor": "white",
             "startlinecolor": "#2a3f5f"
            },
            "baxis": {
             "endlinecolor": "#2a3f5f",
             "gridcolor": "white",
             "linecolor": "white",
             "minorgridcolor": "white",
             "startlinecolor": "#2a3f5f"
            },
            "type": "carpet"
           }
          ],
          "choropleth": [
           {
            "colorbar": {
             "outlinewidth": 0,
             "ticks": ""
            },
            "type": "choropleth"
           }
          ],
          "contour": [
           {
            "colorbar": {
             "outlinewidth": 0,
             "ticks": ""
            },
            "colorscale": [
             [
              0,
              "#0d0887"
             ],
             [
              0.1111111111111111,
              "#46039f"
             ],
             [
              0.2222222222222222,
              "#7201a8"
             ],
             [
              0.3333333333333333,
              "#9c179e"
             ],
             [
              0.4444444444444444,
              "#bd3786"
             ],
             [
              0.5555555555555556,
              "#d8576b"
             ],
             [
              0.6666666666666666,
              "#ed7953"
             ],
             [
              0.7777777777777778,
              "#fb9f3a"
             ],
             [
              0.8888888888888888,
              "#fdca26"
             ],
             [
              1,
              "#f0f921"
             ]
            ],
            "type": "contour"
           }
          ],
          "contourcarpet": [
           {
            "colorbar": {
             "outlinewidth": 0,
             "ticks": ""
            },
            "type": "contourcarpet"
           }
          ],
          "heatmap": [
           {
            "colorbar": {
             "outlinewidth": 0,
             "ticks": ""
            },
            "colorscale": [
             [
              0,
              "#0d0887"
             ],
             [
              0.1111111111111111,
              "#46039f"
             ],
             [
              0.2222222222222222,
              "#7201a8"
             ],
             [
              0.3333333333333333,
              "#9c179e"
             ],
             [
              0.4444444444444444,
              "#bd3786"
             ],
             [
              0.5555555555555556,
              "#d8576b"
             ],
             [
              0.6666666666666666,
              "#ed7953"
             ],
             [
              0.7777777777777778,
              "#fb9f3a"
             ],
             [
              0.8888888888888888,
              "#fdca26"
             ],
             [
              1,
              "#f0f921"
             ]
            ],
            "type": "heatmap"
           }
          ],
          "heatmapgl": [
           {
            "colorbar": {
             "outlinewidth": 0,
             "ticks": ""
            },
            "colorscale": [
             [
              0,
              "#0d0887"
             ],
             [
              0.1111111111111111,
              "#46039f"
             ],
             [
              0.2222222222222222,
              "#7201a8"
             ],
             [
              0.3333333333333333,
              "#9c179e"
             ],
             [
              0.4444444444444444,
              "#bd3786"
             ],
             [
              0.5555555555555556,
              "#d8576b"
             ],
             [
              0.6666666666666666,
              "#ed7953"
             ],
             [
              0.7777777777777778,
              "#fb9f3a"
             ],
             [
              0.8888888888888888,
              "#fdca26"
             ],
             [
              1,
              "#f0f921"
             ]
            ],
            "type": "heatmapgl"
           }
          ],
          "histogram": [
           {
            "marker": {
             "pattern": {
              "fillmode": "overlay",
              "size": 10,
              "solidity": 0.2
             }
            },
            "type": "histogram"
           }
          ],
          "histogram2d": [
           {
            "colorbar": {
             "outlinewidth": 0,
             "ticks": ""
            },
            "colorscale": [
             [
              0,
              "#0d0887"
             ],
             [
              0.1111111111111111,
              "#46039f"
             ],
             [
              0.2222222222222222,
              "#7201a8"
             ],
             [
              0.3333333333333333,
              "#9c179e"
             ],
             [
              0.4444444444444444,
              "#bd3786"
             ],
             [
              0.5555555555555556,
              "#d8576b"
             ],
             [
              0.6666666666666666,
              "#ed7953"
             ],
             [
              0.7777777777777778,
              "#fb9f3a"
             ],
             [
              0.8888888888888888,
              "#fdca26"
             ],
             [
              1,
              "#f0f921"
             ]
            ],
            "type": "histogram2d"
           }
          ],
          "histogram2dcontour": [
           {
            "colorbar": {
             "outlinewidth": 0,
             "ticks": ""
            },
            "colorscale": [
             [
              0,
              "#0d0887"
             ],
             [
              0.1111111111111111,
              "#46039f"
             ],
             [
              0.2222222222222222,
              "#7201a8"
             ],
             [
              0.3333333333333333,
              "#9c179e"
             ],
             [
              0.4444444444444444,
              "#bd3786"
             ],
             [
              0.5555555555555556,
              "#d8576b"
             ],
             [
              0.6666666666666666,
              "#ed7953"
             ],
             [
              0.7777777777777778,
              "#fb9f3a"
             ],
             [
              0.8888888888888888,
              "#fdca26"
             ],
             [
              1,
              "#f0f921"
             ]
            ],
            "type": "histogram2dcontour"
           }
          ],
          "mesh3d": [
           {
            "colorbar": {
             "outlinewidth": 0,
             "ticks": ""
            },
            "type": "mesh3d"
           }
          ],
          "parcoords": [
           {
            "line": {
             "colorbar": {
              "outlinewidth": 0,
              "ticks": ""
             }
            },
            "type": "parcoords"
           }
          ],
          "pie": [
           {
            "automargin": true,
            "type": "pie"
           }
          ],
          "scatter": [
           {
            "fillpattern": {
             "fillmode": "overlay",
             "size": 10,
             "solidity": 0.2
            },
            "type": "scatter"
           }
          ],
          "scatter3d": [
           {
            "line": {
             "colorbar": {
              "outlinewidth": 0,
              "ticks": ""
             }
            },
            "marker": {
             "colorbar": {
              "outlinewidth": 0,
              "ticks": ""
             }
            },
            "type": "scatter3d"
           }
          ],
          "scattercarpet": [
           {
            "marker": {
             "colorbar": {
              "outlinewidth": 0,
              "ticks": ""
             }
            },
            "type": "scattercarpet"
           }
          ],
          "scattergeo": [
           {
            "marker": {
             "colorbar": {
              "outlinewidth": 0,
              "ticks": ""
             }
            },
            "type": "scattergeo"
           }
          ],
          "scattergl": [
           {
            "marker": {
             "colorbar": {
              "outlinewidth": 0,
              "ticks": ""
             }
            },
            "type": "scattergl"
           }
          ],
          "scattermapbox": [
           {
            "marker": {
             "colorbar": {
              "outlinewidth": 0,
              "ticks": ""
             }
            },
            "type": "scattermapbox"
           }
          ],
          "scatterpolar": [
           {
            "marker": {
             "colorbar": {
              "outlinewidth": 0,
              "ticks": ""
             }
            },
            "type": "scatterpolar"
           }
          ],
          "scatterpolargl": [
           {
            "marker": {
             "colorbar": {
              "outlinewidth": 0,
              "ticks": ""
             }
            },
            "type": "scatterpolargl"
           }
          ],
          "scatterternary": [
           {
            "marker": {
             "colorbar": {
              "outlinewidth": 0,
              "ticks": ""
             }
            },
            "type": "scatterternary"
           }
          ],
          "surface": [
           {
            "colorbar": {
             "outlinewidth": 0,
             "ticks": ""
            },
            "colorscale": [
             [
              0,
              "#0d0887"
             ],
             [
              0.1111111111111111,
              "#46039f"
             ],
             [
              0.2222222222222222,
              "#7201a8"
             ],
             [
              0.3333333333333333,
              "#9c179e"
             ],
             [
              0.4444444444444444,
              "#bd3786"
             ],
             [
              0.5555555555555556,
              "#d8576b"
             ],
             [
              0.6666666666666666,
              "#ed7953"
             ],
             [
              0.7777777777777778,
              "#fb9f3a"
             ],
             [
              0.8888888888888888,
              "#fdca26"
             ],
             [
              1,
              "#f0f921"
             ]
            ],
            "type": "surface"
           }
          ],
          "table": [
           {
            "cells": {
             "fill": {
              "color": "#EBF0F8"
             },
             "line": {
              "color": "white"
             }
            },
            "header": {
             "fill": {
              "color": "#C8D4E3"
             },
             "line": {
              "color": "white"
             }
            },
            "type": "table"
           }
          ]
         },
         "layout": {
          "annotationdefaults": {
           "arrowcolor": "#2a3f5f",
           "arrowhead": 0,
           "arrowwidth": 1
          },
          "autotypenumbers": "strict",
          "coloraxis": {
           "colorbar": {
            "outlinewidth": 0,
            "ticks": ""
           }
          },
          "colorscale": {
           "diverging": [
            [
             0,
             "#8e0152"
            ],
            [
             0.1,
             "#c51b7d"
            ],
            [
             0.2,
             "#de77ae"
            ],
            [
             0.3,
             "#f1b6da"
            ],
            [
             0.4,
             "#fde0ef"
            ],
            [
             0.5,
             "#f7f7f7"
            ],
            [
             0.6,
             "#e6f5d0"
            ],
            [
             0.7,
             "#b8e186"
            ],
            [
             0.8,
             "#7fbc41"
            ],
            [
             0.9,
             "#4d9221"
            ],
            [
             1,
             "#276419"
            ]
           ],
           "sequential": [
            [
             0,
             "#0d0887"
            ],
            [
             0.1111111111111111,
             "#46039f"
            ],
            [
             0.2222222222222222,
             "#7201a8"
            ],
            [
             0.3333333333333333,
             "#9c179e"
            ],
            [
             0.4444444444444444,
             "#bd3786"
            ],
            [
             0.5555555555555556,
             "#d8576b"
            ],
            [
             0.6666666666666666,
             "#ed7953"
            ],
            [
             0.7777777777777778,
             "#fb9f3a"
            ],
            [
             0.8888888888888888,
             "#fdca26"
            ],
            [
             1,
             "#f0f921"
            ]
           ],
           "sequentialminus": [
            [
             0,
             "#0d0887"
            ],
            [
             0.1111111111111111,
             "#46039f"
            ],
            [
             0.2222222222222222,
             "#7201a8"
            ],
            [
             0.3333333333333333,
             "#9c179e"
            ],
            [
             0.4444444444444444,
             "#bd3786"
            ],
            [
             0.5555555555555556,
             "#d8576b"
            ],
            [
             0.6666666666666666,
             "#ed7953"
            ],
            [
             0.7777777777777778,
             "#fb9f3a"
            ],
            [
             0.8888888888888888,
             "#fdca26"
            ],
            [
             1,
             "#f0f921"
            ]
           ]
          },
          "colorway": [
           "#636efa",
           "#EF553B",
           "#00cc96",
           "#ab63fa",
           "#FFA15A",
           "#19d3f3",
           "#FF6692",
           "#B6E880",
           "#FF97FF",
           "#FECB52"
          ],
          "font": {
           "color": "#2a3f5f"
          },
          "geo": {
           "bgcolor": "white",
           "lakecolor": "white",
           "landcolor": "#E5ECF6",
           "showlakes": true,
           "showland": true,
           "subunitcolor": "white"
          },
          "hoverlabel": {
           "align": "left"
          },
          "hovermode": "closest",
          "mapbox": {
           "style": "light"
          },
          "paper_bgcolor": "white",
          "plot_bgcolor": "#E5ECF6",
          "polar": {
           "angularaxis": {
            "gridcolor": "white",
            "linecolor": "white",
            "ticks": ""
           },
           "bgcolor": "#E5ECF6",
           "radialaxis": {
            "gridcolor": "white",
            "linecolor": "white",
            "ticks": ""
           }
          },
          "scene": {
           "xaxis": {
            "backgroundcolor": "#E5ECF6",
            "gridcolor": "white",
            "gridwidth": 2,
            "linecolor": "white",
            "showbackground": true,
            "ticks": "",
            "zerolinecolor": "white"
           },
           "yaxis": {
            "backgroundcolor": "#E5ECF6",
            "gridcolor": "white",
            "gridwidth": 2,
            "linecolor": "white",
            "showbackground": true,
            "ticks": "",
            "zerolinecolor": "white"
           },
           "zaxis": {
            "backgroundcolor": "#E5ECF6",
            "gridcolor": "white",
            "gridwidth": 2,
            "linecolor": "white",
            "showbackground": true,
            "ticks": "",
            "zerolinecolor": "white"
           }
          },
          "shapedefaults": {
           "line": {
            "color": "#2a3f5f"
           }
          },
          "ternary": {
           "aaxis": {
            "gridcolor": "white",
            "linecolor": "white",
            "ticks": ""
           },
           "baxis": {
            "gridcolor": "white",
            "linecolor": "white",
            "ticks": ""
           },
           "bgcolor": "#E5ECF6",
           "caxis": {
            "gridcolor": "white",
            "linecolor": "white",
            "ticks": ""
           }
          },
          "title": {
           "x": 0.05
          },
          "xaxis": {
           "automargin": true,
           "gridcolor": "white",
           "linecolor": "white",
           "ticks": "",
           "title": {
            "standoff": 15
           },
           "zerolinecolor": "white",
           "zerolinewidth": 2
          },
          "yaxis": {
           "automargin": true,
           "gridcolor": "white",
           "linecolor": "white",
           "ticks": "",
           "title": {
            "standoff": 15
           },
           "zerolinecolor": "white",
           "zerolinewidth": 2
          }
         }
        },
        "title": {
         "text": "Correlation Heatmap of Weighted Normalized Scores"
        },
        "width": 600,
        "xaxis": {
         "side": "bottom",
         "title": {
          "text": "Scores"
         }
        },
        "yaxis": {
         "title": {
          "text": "Scores"
         }
        }
       }
      }
     },
     "metadata": {},
     "output_type": "display_data"
    }
   ],
   "source": [
    "import plotly.graph_objects as go\n",
    "\n",
    "# Calculate the correlation matrix\n",
    "corr_matrix = products_scores.iloc[:, 3:].corr()\n",
    "\n",
    "# Create the heatmap\n",
    "fig = go.Figure(data=go.Heatmap(\n",
    "                   z=corr_matrix.values,\n",
    "                   x=corr_matrix.columns,\n",
    "                   y=corr_matrix.columns,\n",
    "                   hoverongaps=False,\n",
    "                   colorscale='Viridis',\n",
    "                   text=corr_matrix.values.round(2),\n",
    "                   showscale=True))\n",
    "\n",
    "# Add text annotations for correlation values\n",
    "for i, row in enumerate(corr_matrix.values):\n",
    "    for j, value in enumerate(row):\n",
    "        fig.add_annotation(x=j, y=i, text=str(round(value, 2)),\n",
    "                           showarrow=False, font=dict(color=\"black\"))\n",
    "\n",
    "# Update layout for the heatmap\n",
    "fig.update_layout(\n",
    "    title='Correlation Heatmap of Weighted Normalized Scores',\n",
    "    xaxis=dict(title='Scores', side='bottom'),  # Positioning the x-axis title at the bottom\n",
    "    yaxis=dict(title='Scores'),\n",
    "    autosize=False,\n",
    "    width=600,\n",
    "    height=600,\n",
    "    margin=dict(l=10, r=10, b=10, t=40)\n",
    ")\n",
    "\n",
    "fig.show()\n"
   ]
  },
  {
   "cell_type": "markdown",
   "metadata": {},
   "source": [
    "# **Testing new categorization system**"
   ]
  },
  {
   "cell_type": "code",
   "execution_count": 61,
   "metadata": {},
   "outputs": [
    {
     "ename": "NameError",
     "evalue": "name 'average_price_per_category' is not defined",
     "output_type": "error",
     "traceback": [
      "\u001b[1;31m---------------------------------------------------------------------------\u001b[0m",
      "\u001b[1;31mNameError\u001b[0m                                 Traceback (most recent call last)",
      "Cell \u001b[1;32mIn[61], line 4\u001b[0m\n\u001b[0;32m      1\u001b[0m pink_palette \u001b[38;5;241m=\u001b[39m [\u001b[38;5;124m'\u001b[39m\u001b[38;5;124m#FFC0CB\u001b[39m\u001b[38;5;124m'\u001b[39m, \u001b[38;5;124m'\u001b[39m\u001b[38;5;124m#FFB6C1\u001b[39m\u001b[38;5;124m'\u001b[39m, \u001b[38;5;124m'\u001b[39m\u001b[38;5;124m#FF69B4\u001b[39m\u001b[38;5;124m'\u001b[39m, \u001b[38;5;124m'\u001b[39m\u001b[38;5;124m#FF1493\u001b[39m\u001b[38;5;124m'\u001b[39m, \u001b[38;5;124m'\u001b[39m\u001b[38;5;124m#DB7093\u001b[39m\u001b[38;5;124m'\u001b[39m]\n\u001b[0;32m      3\u001b[0m \u001b[38;5;66;03m# Create the bar graph with the pink color palette\u001b[39;00m\n\u001b[1;32m----> 4\u001b[0m fig \u001b[38;5;241m=\u001b[39m px\u001b[38;5;241m.\u001b[39mbar(\u001b[43maverage_price_per_category\u001b[49m, x\u001b[38;5;241m=\u001b[39m\u001b[38;5;124m'\u001b[39m\u001b[38;5;124mcategory\u001b[39m\u001b[38;5;124m'\u001b[39m, y\u001b[38;5;241m=\u001b[39m\u001b[38;5;124m'\u001b[39m\u001b[38;5;124mprice_weighted_normalized\u001b[39m\u001b[38;5;124m'\u001b[39m,\n\u001b[0;32m      5\u001b[0m              title\u001b[38;5;241m=\u001b[39m\u001b[38;5;124m\"\u001b[39m\u001b[38;5;124mAverage Price of Each Category\u001b[39m\u001b[38;5;124m\"\u001b[39m,\n\u001b[0;32m      6\u001b[0m              labels\u001b[38;5;241m=\u001b[39m{\u001b[38;5;124m'\u001b[39m\u001b[38;5;124mprice_weighted_normalized\u001b[39m\u001b[38;5;124m'\u001b[39m: \u001b[38;5;124m'\u001b[39m\u001b[38;5;124mAverage Price\u001b[39m\u001b[38;5;124m'\u001b[39m, \u001b[38;5;124m'\u001b[39m\u001b[38;5;124mcategory\u001b[39m\u001b[38;5;124m'\u001b[39m: \u001b[38;5;124m'\u001b[39m\u001b[38;5;124mCategory\u001b[39m\u001b[38;5;124m'\u001b[39m},\n\u001b[0;32m      7\u001b[0m              color\u001b[38;5;241m=\u001b[39m\u001b[38;5;124m'\u001b[39m\u001b[38;5;124mcategory\u001b[39m\u001b[38;5;124m'\u001b[39m,  \u001b[38;5;66;03m# This will assign different shades to each category\u001b[39;00m\n\u001b[0;32m      8\u001b[0m              color_discrete_sequence\u001b[38;5;241m=\u001b[39mpink_palette)  \u001b[38;5;66;03m# Use the pink color palette\u001b[39;00m\n\u001b[0;32m     10\u001b[0m fig\u001b[38;5;241m.\u001b[39mupdate_layout(xaxis_title\u001b[38;5;241m=\u001b[39m\u001b[38;5;124m'\u001b[39m\u001b[38;5;124mCategory\u001b[39m\u001b[38;5;124m'\u001b[39m, yaxis_title\u001b[38;5;241m=\u001b[39m\u001b[38;5;124m'\u001b[39m\u001b[38;5;124mAverage Price\u001b[39m\u001b[38;5;124m'\u001b[39m, xaxis\u001b[38;5;241m=\u001b[39m{\u001b[38;5;124m'\u001b[39m\u001b[38;5;124mcategoryorder\u001b[39m\u001b[38;5;124m'\u001b[39m:\u001b[38;5;124m'\u001b[39m\u001b[38;5;124mtotal descending\u001b[39m\u001b[38;5;124m'\u001b[39m})\n\u001b[0;32m     11\u001b[0m fig\u001b[38;5;241m.\u001b[39mshow()\n",
      "\u001b[1;31mNameError\u001b[0m: name 'average_price_per_category' is not defined"
     ]
    }
   ],
   "source": [
    "pink_palette = ['#FFC0CB', '#FFB6C1', '#FF69B4', '#FF1493', '#DB7093']\n",
    "\n",
    "# Create the bar graph with the pink color palette\n",
    "fig = px.bar(average_price_per_category, x='category', y='price_weighted_normalized',\n",
    "             title=\"Average Price of Each Category\",\n",
    "             labels={'price_weighted_normalized': 'Average Price', 'category': 'Category'},\n",
    "             color='category',  # This will assign different shades to each category\n",
    "             color_discrete_sequence=pink_palette)  # Use the pink color palette\n",
    "\n",
    "fig.update_layout(xaxis_title='Category', yaxis_title='Average Price', xaxis={'categoryorder':'total descending'})\n",
    "fig.show()"
   ]
  },
  {
   "cell_type": "code",
   "execution_count": 62,
   "metadata": {},
   "outputs": [
    {
     "data": {
      "application/vnd.plotly.v1+json": {
       "config": {
        "plotlyServerURL": "https://plot.ly"
       },
       "data": [
        {
         "alignmentgroup": "True",
         "hovertemplate": "Category=%{x}<br>Average Comfort Score=%{y}<extra></extra>",
         "legendgroup": "Bannetons",
         "marker": {
          "color": "#FFC0CB",
          "pattern": {
           "shape": ""
          }
         },
         "name": "Bannetons",
         "offsetgroup": "Bannetons",
         "orientation": "v",
         "showlegend": true,
         "textposition": "auto",
         "type": "bar",
         "x": [
          "Bannetons"
         ],
         "xaxis": "x",
         "y": [
          0.0911564136053478
         ],
         "yaxis": "y"
        },
        {
         "alignmentgroup": "True",
         "hovertemplate": "Category=%{x}<br>Average Comfort Score=%{y}<extra></extra>",
         "legendgroup": "Beauté et soins",
         "marker": {
          "color": "#FFB6C1",
          "pattern": {
           "shape": ""
          }
         },
         "name": "Beauté et soins",
         "offsetgroup": "Beauté et soins",
         "orientation": "v",
         "showlegend": true,
         "textposition": "auto",
         "type": "bar",
         "x": [
          "Beauté et soins"
         ],
         "xaxis": "x",
         "y": [
          0.059157449467552
         ],
         "yaxis": "y"
        },
        {
         "alignmentgroup": "True",
         "hovertemplate": "Category=%{x}<br>Average Comfort Score=%{y}<extra></extra>",
         "legendgroup": "Coupes menstruelles",
         "marker": {
          "color": "#FF69B4",
          "pattern": {
           "shape": ""
          }
         },
         "name": "Coupes menstruelles",
         "offsetgroup": "Coupes menstruelles",
         "orientation": "v",
         "showlegend": true,
         "textposition": "auto",
         "type": "bar",
         "x": [
          "Coupes menstruelles"
         ],
         "xaxis": "x",
         "y": [
          0.30438282349202583
         ],
         "yaxis": "y"
        },
        {
         "alignmentgroup": "True",
         "hovertemplate": "Category=%{x}<br>Average Comfort Score=%{y}<extra></extra>",
         "legendgroup": "Culottes et slips",
         "marker": {
          "color": "#FF1493",
          "pattern": {
           "shape": ""
          }
         },
         "name": "Culottes et slips",
         "offsetgroup": "Culottes et slips",
         "orientation": "v",
         "showlegend": true,
         "textposition": "auto",
         "type": "bar",
         "x": [
          "Culottes et slips"
         ],
         "xaxis": "x",
         "y": [
          0.29989787330706635
         ],
         "yaxis": "y"
        },
        {
         "alignmentgroup": "True",
         "hovertemplate": "Category=%{x}<br>Average Comfort Score=%{y}<extra></extra>",
         "legendgroup": "Culottes et sous-vêtements de protection",
         "marker": {
          "color": "#DB7093",
          "pattern": {
           "shape": ""
          }
         },
         "name": "Culottes et sous-vêtements de protection",
         "offsetgroup": "Culottes et sous-vêtements de protection",
         "orientation": "v",
         "showlegend": true,
         "textposition": "auto",
         "type": "bar",
         "x": [
          "Culottes et sous-vêtements de protection"
         ],
         "xaxis": "x",
         "y": [
          0.26938493921124956
         ],
         "yaxis": "y"
        },
        {
         "alignmentgroup": "True",
         "hovertemplate": "Category=%{x}<br>Average Comfort Score=%{y}<extra></extra>",
         "legendgroup": "Diffuseurs d'huiles essentielles",
         "marker": {
          "color": "#FFC0CB",
          "pattern": {
           "shape": ""
          }
         },
         "name": "Diffuseurs d'huiles essentielles",
         "offsetgroup": "Diffuseurs d'huiles essentielles",
         "orientation": "v",
         "showlegend": true,
         "textposition": "auto",
         "type": "bar",
         "x": [
          "Diffuseurs d'huiles essentielles"
         ],
         "xaxis": "x",
         "y": [
          0.0665720248591465
         ],
         "yaxis": "y"
        },
        {
         "alignmentgroup": "True",
         "hovertemplate": "Category=%{x}<br>Average Comfort Score=%{y}<extra></extra>",
         "legendgroup": "Hygiène et soins intimes",
         "marker": {
          "color": "#FFB6C1",
          "pattern": {
           "shape": ""
          }
         },
         "name": "Hygiène et soins intimes",
         "offsetgroup": "Hygiène et soins intimes",
         "orientation": "v",
         "showlegend": true,
         "textposition": "auto",
         "type": "bar",
         "x": [
          "Hygiène et soins intimes"
         ],
         "xaxis": "x",
         "y": [
          0.21933552544837157
         ],
         "yaxis": "y"
        },
        {
         "alignmentgroup": "True",
         "hovertemplate": "Category=%{x}<br>Average Comfort Score=%{y}<extra></extra>",
         "legendgroup": "Hygiène et épilation",
         "marker": {
          "color": "#FF69B4",
          "pattern": {
           "shape": ""
          }
         },
         "name": "Hygiène et épilation",
         "offsetgroup": "Hygiène et épilation",
         "orientation": "v",
         "showlegend": true,
         "textposition": "auto",
         "type": "bar",
         "x": [
          "Hygiène et épilation"
         ],
         "xaxis": "x",
         "y": [
          0.17135808508578956
         ],
         "yaxis": "y"
        },
        {
         "alignmentgroup": "True",
         "hovertemplate": "Category=%{x}<br>Average Comfort Score=%{y}<extra></extra>",
         "legendgroup": "Incontinence",
         "marker": {
          "color": "#FF1493",
          "pattern": {
           "shape": ""
          }
         },
         "name": "Incontinence",
         "offsetgroup": "Incontinence",
         "orientation": "v",
         "showlegend": true,
         "textposition": "auto",
         "type": "bar",
         "x": [
          "Incontinence"
         ],
         "xaxis": "x",
         "y": [
          0.059157449467552
         ],
         "yaxis": "y"
        },
        {
         "alignmentgroup": "True",
         "hovertemplate": "Category=%{x}<br>Average Comfort Score=%{y}<extra></extra>",
         "legendgroup": "Lames",
         "marker": {
          "color": "#DB7093",
          "pattern": {
           "shape": ""
          }
         },
         "name": "Lames",
         "offsetgroup": "Lames",
         "orientation": "v",
         "showlegend": true,
         "textposition": "auto",
         "type": "bar",
         "x": [
          "Lames"
         ],
         "xaxis": "x",
         "y": [
          0.4973347959151926
         ],
         "yaxis": "y"
        },
        {
         "alignmentgroup": "True",
         "hovertemplate": "Category=%{x}<br>Average Comfort Score=%{y}<extra></extra>",
         "legendgroup": "Produits d'hygiène féminine",
         "marker": {
          "color": "#FFC0CB",
          "pattern": {
           "shape": ""
          }
         },
         "name": "Produits d'hygiène féminine",
         "offsetgroup": "Produits d'hygiène féminine",
         "orientation": "v",
         "showlegend": true,
         "textposition": "auto",
         "type": "bar",
         "x": [
          "Produits d'hygiène féminine"
         ],
         "xaxis": "x",
         "y": [
          0.059157449467552
         ],
         "yaxis": "y"
        },
        {
         "alignmentgroup": "True",
         "hovertemplate": "Category=%{x}<br>Average Comfort Score=%{y}<extra></extra>",
         "legendgroup": "Protections, serviettes hygiéniques, couches pour adultes, protège-slips",
         "marker": {
          "color": "#FFB6C1",
          "pattern": {
           "shape": ""
          }
         },
         "name": "Protections, serviettes hygiéniques, couches pour adultes, protège-slips",
         "offsetgroup": "Protections, serviettes hygiéniques, couches pour adultes, protège-slips",
         "orientation": "v",
         "showlegend": true,
         "textposition": "auto",
         "type": "bar",
         "x": [
          "Protections, serviettes hygiéniques, couches pour adultes, protège-slips"
         ],
         "xaxis": "x",
         "y": [
          0.06610635310265355
         ],
         "yaxis": "y"
        },
        {
         "alignmentgroup": "True",
         "hovertemplate": "Category=%{x}<br>Average Comfort Score=%{y}<extra></extra>",
         "legendgroup": "Protège-slips",
         "marker": {
          "color": "#FF69B4",
          "pattern": {
           "shape": ""
          }
         },
         "name": "Protège-slips",
         "offsetgroup": "Protège-slips",
         "orientation": "v",
         "showlegend": true,
         "textposition": "auto",
         "type": "bar",
         "x": [
          "Protège-slips"
         ],
         "xaxis": "x",
         "y": [
          0.09479277189568296
         ],
         "yaxis": "y"
        },
        {
         "alignmentgroup": "True",
         "hovertemplate": "Category=%{x}<br>Average Comfort Score=%{y}<extra></extra>",
         "legendgroup": "Serviettes hygièniques",
         "marker": {
          "color": "#FF1493",
          "pattern": {
           "shape": ""
          }
         },
         "name": "Serviettes hygièniques",
         "offsetgroup": "Serviettes hygièniques",
         "orientation": "v",
         "showlegend": true,
         "textposition": "auto",
         "type": "bar",
         "x": [
          "Serviettes hygièniques"
         ],
         "xaxis": "x",
         "y": [
          0.08581462221937475
         ],
         "yaxis": "y"
        },
        {
         "alignmentgroup": "True",
         "hovertemplate": "Category=%{x}<br>Average Comfort Score=%{y}<extra></extra>",
         "legendgroup": "Shorties",
         "marker": {
          "color": "#DB7093",
          "pattern": {
           "shape": ""
          }
         },
         "name": "Shorties",
         "offsetgroup": "Shorties",
         "orientation": "v",
         "showlegend": true,
         "textposition": "auto",
         "type": "bar",
         "x": [
          "Shorties"
         ],
         "xaxis": "x",
         "y": [
          0.5294956100234752
         ],
         "yaxis": "y"
        },
        {
         "alignmentgroup": "True",
         "hovertemplate": "Category=%{x}<br>Average Comfort Score=%{y}<extra></extra>",
         "legendgroup": "Tampons",
         "marker": {
          "color": "#FFC0CB",
          "pattern": {
           "shape": ""
          }
         },
         "name": "Tampons",
         "offsetgroup": "Tampons",
         "orientation": "v",
         "showlegend": true,
         "textposition": "auto",
         "type": "bar",
         "x": [
          "Tampons"
         ],
         "xaxis": "x",
         "y": [
          0.20556167013976503
         ],
         "yaxis": "y"
        },
        {
         "alignmentgroup": "True",
         "hovertemplate": "Category=%{x}<br>Average Comfort Score=%{y}<extra></extra>",
         "legendgroup": "Visage",
         "marker": {
          "color": "#FFB6C1",
          "pattern": {
           "shape": ""
          }
         },
         "name": "Visage",
         "offsetgroup": "Visage",
         "orientation": "v",
         "showlegend": true,
         "textposition": "auto",
         "type": "bar",
         "x": [
          "Visage"
         ],
         "xaxis": "x",
         "y": [
          0.0707870281246243
         ],
         "yaxis": "y"
        },
        {
         "alignmentgroup": "True",
         "hovertemplate": "Category=%{x}<br>Average Comfort Score=%{y}<extra></extra>",
         "legendgroup": "Vitamines, minéraux et compléments",
         "marker": {
          "color": "#FF69B4",
          "pattern": {
           "shape": ""
          }
         },
         "name": "Vitamines, minéraux et compléments",
         "offsetgroup": "Vitamines, minéraux et compléments",
         "orientation": "v",
         "showlegend": true,
         "textposition": "auto",
         "type": "bar",
         "x": [
          "Vitamines, minéraux et compléments"
         ],
         "xaxis": "x",
         "y": [
          0.5703101627265265
         ],
         "yaxis": "y"
        },
        {
         "alignmentgroup": "True",
         "hovertemplate": "Category=%{x}<br>Average Comfort Score=%{y}<extra></extra>",
         "legendgroup": "Vêtements de contention médicaux",
         "marker": {
          "color": "#FF1493",
          "pattern": {
           "shape": ""
          }
         },
         "name": "Vêtements de contention médicaux",
         "offsetgroup": "Vêtements de contention médicaux",
         "orientation": "v",
         "showlegend": true,
         "textposition": "auto",
         "type": "bar",
         "x": [
          "Vêtements de contention médicaux"
         ],
         "xaxis": "x",
         "y": [
          0.059157449467552
         ],
         "yaxis": "y"
        }
       ],
       "layout": {
        "barmode": "relative",
        "legend": {
         "title": {
          "text": "Category"
         },
         "tracegroupgap": 0
        },
        "template": {
         "data": {
          "bar": [
           {
            "error_x": {
             "color": "#2a3f5f"
            },
            "error_y": {
             "color": "#2a3f5f"
            },
            "marker": {
             "line": {
              "color": "#E5ECF6",
              "width": 0.5
             },
             "pattern": {
              "fillmode": "overlay",
              "size": 10,
              "solidity": 0.2
             }
            },
            "type": "bar"
           }
          ],
          "barpolar": [
           {
            "marker": {
             "line": {
              "color": "#E5ECF6",
              "width": 0.5
             },
             "pattern": {
              "fillmode": "overlay",
              "size": 10,
              "solidity": 0.2
             }
            },
            "type": "barpolar"
           }
          ],
          "carpet": [
           {
            "aaxis": {
             "endlinecolor": "#2a3f5f",
             "gridcolor": "white",
             "linecolor": "white",
             "minorgridcolor": "white",
             "startlinecolor": "#2a3f5f"
            },
            "baxis": {
             "endlinecolor": "#2a3f5f",
             "gridcolor": "white",
             "linecolor": "white",
             "minorgridcolor": "white",
             "startlinecolor": "#2a3f5f"
            },
            "type": "carpet"
           }
          ],
          "choropleth": [
           {
            "colorbar": {
             "outlinewidth": 0,
             "ticks": ""
            },
            "type": "choropleth"
           }
          ],
          "contour": [
           {
            "colorbar": {
             "outlinewidth": 0,
             "ticks": ""
            },
            "colorscale": [
             [
              0,
              "#0d0887"
             ],
             [
              0.1111111111111111,
              "#46039f"
             ],
             [
              0.2222222222222222,
              "#7201a8"
             ],
             [
              0.3333333333333333,
              "#9c179e"
             ],
             [
              0.4444444444444444,
              "#bd3786"
             ],
             [
              0.5555555555555556,
              "#d8576b"
             ],
             [
              0.6666666666666666,
              "#ed7953"
             ],
             [
              0.7777777777777778,
              "#fb9f3a"
             ],
             [
              0.8888888888888888,
              "#fdca26"
             ],
             [
              1,
              "#f0f921"
             ]
            ],
            "type": "contour"
           }
          ],
          "contourcarpet": [
           {
            "colorbar": {
             "outlinewidth": 0,
             "ticks": ""
            },
            "type": "contourcarpet"
           }
          ],
          "heatmap": [
           {
            "colorbar": {
             "outlinewidth": 0,
             "ticks": ""
            },
            "colorscale": [
             [
              0,
              "#0d0887"
             ],
             [
              0.1111111111111111,
              "#46039f"
             ],
             [
              0.2222222222222222,
              "#7201a8"
             ],
             [
              0.3333333333333333,
              "#9c179e"
             ],
             [
              0.4444444444444444,
              "#bd3786"
             ],
             [
              0.5555555555555556,
              "#d8576b"
             ],
             [
              0.6666666666666666,
              "#ed7953"
             ],
             [
              0.7777777777777778,
              "#fb9f3a"
             ],
             [
              0.8888888888888888,
              "#fdca26"
             ],
             [
              1,
              "#f0f921"
             ]
            ],
            "type": "heatmap"
           }
          ],
          "heatmapgl": [
           {
            "colorbar": {
             "outlinewidth": 0,
             "ticks": ""
            },
            "colorscale": [
             [
              0,
              "#0d0887"
             ],
             [
              0.1111111111111111,
              "#46039f"
             ],
             [
              0.2222222222222222,
              "#7201a8"
             ],
             [
              0.3333333333333333,
              "#9c179e"
             ],
             [
              0.4444444444444444,
              "#bd3786"
             ],
             [
              0.5555555555555556,
              "#d8576b"
             ],
             [
              0.6666666666666666,
              "#ed7953"
             ],
             [
              0.7777777777777778,
              "#fb9f3a"
             ],
             [
              0.8888888888888888,
              "#fdca26"
             ],
             [
              1,
              "#f0f921"
             ]
            ],
            "type": "heatmapgl"
           }
          ],
          "histogram": [
           {
            "marker": {
             "pattern": {
              "fillmode": "overlay",
              "size": 10,
              "solidity": 0.2
             }
            },
            "type": "histogram"
           }
          ],
          "histogram2d": [
           {
            "colorbar": {
             "outlinewidth": 0,
             "ticks": ""
            },
            "colorscale": [
             [
              0,
              "#0d0887"
             ],
             [
              0.1111111111111111,
              "#46039f"
             ],
             [
              0.2222222222222222,
              "#7201a8"
             ],
             [
              0.3333333333333333,
              "#9c179e"
             ],
             [
              0.4444444444444444,
              "#bd3786"
             ],
             [
              0.5555555555555556,
              "#d8576b"
             ],
             [
              0.6666666666666666,
              "#ed7953"
             ],
             [
              0.7777777777777778,
              "#fb9f3a"
             ],
             [
              0.8888888888888888,
              "#fdca26"
             ],
             [
              1,
              "#f0f921"
             ]
            ],
            "type": "histogram2d"
           }
          ],
          "histogram2dcontour": [
           {
            "colorbar": {
             "outlinewidth": 0,
             "ticks": ""
            },
            "colorscale": [
             [
              0,
              "#0d0887"
             ],
             [
              0.1111111111111111,
              "#46039f"
             ],
             [
              0.2222222222222222,
              "#7201a8"
             ],
             [
              0.3333333333333333,
              "#9c179e"
             ],
             [
              0.4444444444444444,
              "#bd3786"
             ],
             [
              0.5555555555555556,
              "#d8576b"
             ],
             [
              0.6666666666666666,
              "#ed7953"
             ],
             [
              0.7777777777777778,
              "#fb9f3a"
             ],
             [
              0.8888888888888888,
              "#fdca26"
             ],
             [
              1,
              "#f0f921"
             ]
            ],
            "type": "histogram2dcontour"
           }
          ],
          "mesh3d": [
           {
            "colorbar": {
             "outlinewidth": 0,
             "ticks": ""
            },
            "type": "mesh3d"
           }
          ],
          "parcoords": [
           {
            "line": {
             "colorbar": {
              "outlinewidth": 0,
              "ticks": ""
             }
            },
            "type": "parcoords"
           }
          ],
          "pie": [
           {
            "automargin": true,
            "type": "pie"
           }
          ],
          "scatter": [
           {
            "fillpattern": {
             "fillmode": "overlay",
             "size": 10,
             "solidity": 0.2
            },
            "type": "scatter"
           }
          ],
          "scatter3d": [
           {
            "line": {
             "colorbar": {
              "outlinewidth": 0,
              "ticks": ""
             }
            },
            "marker": {
             "colorbar": {
              "outlinewidth": 0,
              "ticks": ""
             }
            },
            "type": "scatter3d"
           }
          ],
          "scattercarpet": [
           {
            "marker": {
             "colorbar": {
              "outlinewidth": 0,
              "ticks": ""
             }
            },
            "type": "scattercarpet"
           }
          ],
          "scattergeo": [
           {
            "marker": {
             "colorbar": {
              "outlinewidth": 0,
              "ticks": ""
             }
            },
            "type": "scattergeo"
           }
          ],
          "scattergl": [
           {
            "marker": {
             "colorbar": {
              "outlinewidth": 0,
              "ticks": ""
             }
            },
            "type": "scattergl"
           }
          ],
          "scattermapbox": [
           {
            "marker": {
             "colorbar": {
              "outlinewidth": 0,
              "ticks": ""
             }
            },
            "type": "scattermapbox"
           }
          ],
          "scatterpolar": [
           {
            "marker": {
             "colorbar": {
              "outlinewidth": 0,
              "ticks": ""
             }
            },
            "type": "scatterpolar"
           }
          ],
          "scatterpolargl": [
           {
            "marker": {
             "colorbar": {
              "outlinewidth": 0,
              "ticks": ""
             }
            },
            "type": "scatterpolargl"
           }
          ],
          "scatterternary": [
           {
            "marker": {
             "colorbar": {
              "outlinewidth": 0,
              "ticks": ""
             }
            },
            "type": "scatterternary"
           }
          ],
          "surface": [
           {
            "colorbar": {
             "outlinewidth": 0,
             "ticks": ""
            },
            "colorscale": [
             [
              0,
              "#0d0887"
             ],
             [
              0.1111111111111111,
              "#46039f"
             ],
             [
              0.2222222222222222,
              "#7201a8"
             ],
             [
              0.3333333333333333,
              "#9c179e"
             ],
             [
              0.4444444444444444,
              "#bd3786"
             ],
             [
              0.5555555555555556,
              "#d8576b"
             ],
             [
              0.6666666666666666,
              "#ed7953"
             ],
             [
              0.7777777777777778,
              "#fb9f3a"
             ],
             [
              0.8888888888888888,
              "#fdca26"
             ],
             [
              1,
              "#f0f921"
             ]
            ],
            "type": "surface"
           }
          ],
          "table": [
           {
            "cells": {
             "fill": {
              "color": "#EBF0F8"
             },
             "line": {
              "color": "white"
             }
            },
            "header": {
             "fill": {
              "color": "#C8D4E3"
             },
             "line": {
              "color": "white"
             }
            },
            "type": "table"
           }
          ]
         },
         "layout": {
          "annotationdefaults": {
           "arrowcolor": "#2a3f5f",
           "arrowhead": 0,
           "arrowwidth": 1
          },
          "autotypenumbers": "strict",
          "coloraxis": {
           "colorbar": {
            "outlinewidth": 0,
            "ticks": ""
           }
          },
          "colorscale": {
           "diverging": [
            [
             0,
             "#8e0152"
            ],
            [
             0.1,
             "#c51b7d"
            ],
            [
             0.2,
             "#de77ae"
            ],
            [
             0.3,
             "#f1b6da"
            ],
            [
             0.4,
             "#fde0ef"
            ],
            [
             0.5,
             "#f7f7f7"
            ],
            [
             0.6,
             "#e6f5d0"
            ],
            [
             0.7,
             "#b8e186"
            ],
            [
             0.8,
             "#7fbc41"
            ],
            [
             0.9,
             "#4d9221"
            ],
            [
             1,
             "#276419"
            ]
           ],
           "sequential": [
            [
             0,
             "#0d0887"
            ],
            [
             0.1111111111111111,
             "#46039f"
            ],
            [
             0.2222222222222222,
             "#7201a8"
            ],
            [
             0.3333333333333333,
             "#9c179e"
            ],
            [
             0.4444444444444444,
             "#bd3786"
            ],
            [
             0.5555555555555556,
             "#d8576b"
            ],
            [
             0.6666666666666666,
             "#ed7953"
            ],
            [
             0.7777777777777778,
             "#fb9f3a"
            ],
            [
             0.8888888888888888,
             "#fdca26"
            ],
            [
             1,
             "#f0f921"
            ]
           ],
           "sequentialminus": [
            [
             0,
             "#0d0887"
            ],
            [
             0.1111111111111111,
             "#46039f"
            ],
            [
             0.2222222222222222,
             "#7201a8"
            ],
            [
             0.3333333333333333,
             "#9c179e"
            ],
            [
             0.4444444444444444,
             "#bd3786"
            ],
            [
             0.5555555555555556,
             "#d8576b"
            ],
            [
             0.6666666666666666,
             "#ed7953"
            ],
            [
             0.7777777777777778,
             "#fb9f3a"
            ],
            [
             0.8888888888888888,
             "#fdca26"
            ],
            [
             1,
             "#f0f921"
            ]
           ]
          },
          "colorway": [
           "#636efa",
           "#EF553B",
           "#00cc96",
           "#ab63fa",
           "#FFA15A",
           "#19d3f3",
           "#FF6692",
           "#B6E880",
           "#FF97FF",
           "#FECB52"
          ],
          "font": {
           "color": "#2a3f5f"
          },
          "geo": {
           "bgcolor": "white",
           "lakecolor": "white",
           "landcolor": "#E5ECF6",
           "showlakes": true,
           "showland": true,
           "subunitcolor": "white"
          },
          "hoverlabel": {
           "align": "left"
          },
          "hovermode": "closest",
          "mapbox": {
           "style": "light"
          },
          "paper_bgcolor": "white",
          "plot_bgcolor": "#E5ECF6",
          "polar": {
           "angularaxis": {
            "gridcolor": "white",
            "linecolor": "white",
            "ticks": ""
           },
           "bgcolor": "#E5ECF6",
           "radialaxis": {
            "gridcolor": "white",
            "linecolor": "white",
            "ticks": ""
           }
          },
          "scene": {
           "xaxis": {
            "backgroundcolor": "#E5ECF6",
            "gridcolor": "white",
            "gridwidth": 2,
            "linecolor": "white",
            "showbackground": true,
            "ticks": "",
            "zerolinecolor": "white"
           },
           "yaxis": {
            "backgroundcolor": "#E5ECF6",
            "gridcolor": "white",
            "gridwidth": 2,
            "linecolor": "white",
            "showbackground": true,
            "ticks": "",
            "zerolinecolor": "white"
           },
           "zaxis": {
            "backgroundcolor": "#E5ECF6",
            "gridcolor": "white",
            "gridwidth": 2,
            "linecolor": "white",
            "showbackground": true,
            "ticks": "",
            "zerolinecolor": "white"
           }
          },
          "shapedefaults": {
           "line": {
            "color": "#2a3f5f"
           }
          },
          "ternary": {
           "aaxis": {
            "gridcolor": "white",
            "linecolor": "white",
            "ticks": ""
           },
           "baxis": {
            "gridcolor": "white",
            "linecolor": "white",
            "ticks": ""
           },
           "bgcolor": "#E5ECF6",
           "caxis": {
            "gridcolor": "white",
            "linecolor": "white",
            "ticks": ""
           }
          },
          "title": {
           "x": 0.05
          },
          "xaxis": {
           "automargin": true,
           "gridcolor": "white",
           "linecolor": "white",
           "ticks": "",
           "title": {
            "standoff": 15
           },
           "zerolinecolor": "white",
           "zerolinewidth": 2
          },
          "yaxis": {
           "automargin": true,
           "gridcolor": "white",
           "linecolor": "white",
           "ticks": "",
           "title": {
            "standoff": 15
           },
           "zerolinecolor": "white",
           "zerolinewidth": 2
          }
         }
        },
        "title": {
         "text": "Average Comfort Score of Each Category"
        },
        "xaxis": {
         "anchor": "y",
         "categoryarray": [
          "Bannetons",
          "Beauté et soins",
          "Coupes menstruelles",
          "Culottes et slips",
          "Culottes et sous-vêtements de protection",
          "Diffuseurs d'huiles essentielles",
          "Hygiène et soins intimes",
          "Hygiène et épilation",
          "Incontinence",
          "Lames",
          "Produits d'hygiène féminine",
          "Protections, serviettes hygiéniques, couches pour adultes, protège-slips",
          "Protège-slips",
          "Serviettes hygièniques",
          "Shorties",
          "Tampons",
          "Visage",
          "Vitamines, minéraux et compléments",
          "Vêtements de contention médicaux"
         ],
         "categoryorder": "total descending",
         "domain": [
          0,
          1
         ],
         "title": {
          "text": "Category"
         }
        },
        "yaxis": {
         "anchor": "x",
         "domain": [
          0,
          1
         ],
         "title": {
          "text": "Average Comfort Score"
         }
        }
       }
      }
     },
     "metadata": {},
     "output_type": "display_data"
    }
   ],
   "source": [
    "average_comfort_per_category = products_scores.groupby('category')['comfort_weighted_normalized'].mean().reset_index()\n",
    "\n",
    "# Now let's create the bar graph with shades of pink for the average comfort score of each category\n",
    "import plotly.express as px\n",
    "\n",
    "# Define a palette of pink shades for the comfort scores visualization\n",
    "pink_palette_comfort = ['#FFC0CB', '#FFB6C1', '#FF69B4', '#FF1493', '#DB7093']\n",
    "\n",
    "fig = px.bar(average_comfort_per_category, x='category', y='comfort_weighted_normalized',\n",
    "             title=\"Average Comfort Score of Each Category\",\n",
    "             labels={'comfort_weighted_normalized': 'Average Comfort Score', 'category': 'Category'},\n",
    "             color='category',  # This will assign different shades to each category\n",
    "             color_discrete_sequence=pink_palette_comfort)  # Use the pink color palette for comfort scores\n",
    "\n",
    "fig.update_layout(xaxis_title='Category', yaxis_title='Average Comfort Score', xaxis={'categoryorder':'total descending'})\n",
    "fig.show()\n"
   ]
  },
  {
   "cell_type": "code",
   "execution_count": 63,
   "metadata": {},
   "outputs": [
    {
     "data": {
      "application/vnd.plotly.v1+json": {
       "config": {
        "plotlyServerURL": "https://plot.ly"
       },
       "data": [
        {
         "alignmentgroup": "True",
         "hovertemplate": "Category=%{x}<br>Average Material Score=%{y}<extra></extra>",
         "legendgroup": "Bannetons",
         "marker": {
          "color": "#FFC0CB",
          "pattern": {
           "shape": ""
          }
         },
         "name": "Bannetons",
         "offsetgroup": "Bannetons",
         "orientation": "v",
         "showlegend": true,
         "textposition": "auto",
         "type": "bar",
         "x": [
          "Bannetons"
         ],
         "xaxis": "x",
         "y": [
          0.5357257924998231
         ],
         "yaxis": "y"
        },
        {
         "alignmentgroup": "True",
         "hovertemplate": "Category=%{x}<br>Average Material Score=%{y}<extra></extra>",
         "legendgroup": "Beauté et soins",
         "marker": {
          "color": "#FFB6C1",
          "pattern": {
           "shape": ""
          }
         },
         "name": "Beauté et soins",
         "offsetgroup": "Beauté et soins",
         "orientation": "v",
         "showlegend": true,
         "textposition": "auto",
         "type": "bar",
         "x": [
          "Beauté et soins"
         ],
         "xaxis": "x",
         "y": [
          0.3543356740174836
         ],
         "yaxis": "y"
        },
        {
         "alignmentgroup": "True",
         "hovertemplate": "Category=%{x}<br>Average Material Score=%{y}<extra></extra>",
         "legendgroup": "Coupes menstruelles",
         "marker": {
          "color": "#FF69B4",
          "pattern": {
           "shape": ""
          }
         },
         "name": "Coupes menstruelles",
         "offsetgroup": "Coupes menstruelles",
         "orientation": "v",
         "showlegend": true,
         "textposition": "auto",
         "type": "bar",
         "x": [
          "Coupes menstruelles"
         ],
         "xaxis": "x",
         "y": [
          0.5684693541385909
         ],
         "yaxis": "y"
        },
        {
         "alignmentgroup": "True",
         "hovertemplate": "Category=%{x}<br>Average Material Score=%{y}<extra></extra>",
         "legendgroup": "Culottes et slips",
         "marker": {
          "color": "#FF1493",
          "pattern": {
           "shape": ""
          }
         },
         "name": "Culottes et slips",
         "offsetgroup": "Culottes et slips",
         "orientation": "v",
         "showlegend": true,
         "textposition": "auto",
         "type": "bar",
         "x": [
          "Culottes et slips"
         ],
         "xaxis": "x",
         "y": [
          0.39129236498477254
         ],
         "yaxis": "y"
        },
        {
         "alignmentgroup": "True",
         "hovertemplate": "Category=%{x}<br>Average Material Score=%{y}<extra></extra>",
         "legendgroup": "Culottes et sous-vêtements de protection",
         "marker": {
          "color": "#DB7093",
          "pattern": {
           "shape": ""
          }
         },
         "name": "Culottes et sous-vêtements de protection",
         "offsetgroup": "Culottes et sous-vêtements de protection",
         "orientation": "v",
         "showlegend": true,
         "textposition": "auto",
         "type": "bar",
         "x": [
          "Culottes et sous-vêtements de protection"
         ],
         "xaxis": "x",
         "y": [
          0.4306648929808618
         ],
         "yaxis": "y"
        },
        {
         "alignmentgroup": "True",
         "hovertemplate": "Category=%{x}<br>Average Material Score=%{y}<extra></extra>",
         "legendgroup": "Diffuseurs d'huiles essentielles",
         "marker": {
          "color": "#FFC0CB",
          "pattern": {
           "shape": ""
          }
         },
         "name": "Diffuseurs d'huiles essentielles",
         "offsetgroup": "Diffuseurs d'huiles essentielles",
         "orientation": "v",
         "showlegend": true,
         "textposition": "auto",
         "type": "bar",
         "x": [
          "Diffuseurs d'huiles essentielles"
         ],
         "xaxis": "x",
         "y": [
          0.3543356740174836
         ],
         "yaxis": "y"
        },
        {
         "alignmentgroup": "True",
         "hovertemplate": "Category=%{x}<br>Average Material Score=%{y}<extra></extra>",
         "legendgroup": "Hygiène et soins intimes",
         "marker": {
          "color": "#FFB6C1",
          "pattern": {
           "shape": ""
          }
         },
         "name": "Hygiène et soins intimes",
         "offsetgroup": "Hygiène et soins intimes",
         "orientation": "v",
         "showlegend": true,
         "textposition": "auto",
         "type": "bar",
         "x": [
          "Hygiène et soins intimes"
         ],
         "xaxis": "x",
         "y": [
          0.4497591742340443
         ],
         "yaxis": "y"
        },
        {
         "alignmentgroup": "True",
         "hovertemplate": "Category=%{x}<br>Average Material Score=%{y}<extra></extra>",
         "legendgroup": "Hygiène et épilation",
         "marker": {
          "color": "#FF69B4",
          "pattern": {
           "shape": ""
          }
         },
         "name": "Hygiène et épilation",
         "offsetgroup": "Hygiène et épilation",
         "orientation": "v",
         "showlegend": true,
         "textposition": "auto",
         "type": "bar",
         "x": [
          "Hygiène et épilation"
         ],
         "xaxis": "x",
         "y": [
          0.5174734955435413
         ],
         "yaxis": "y"
        },
        {
         "alignmentgroup": "True",
         "hovertemplate": "Category=%{x}<br>Average Material Score=%{y}<extra></extra>",
         "legendgroup": "Incontinence",
         "marker": {
          "color": "#FF1493",
          "pattern": {
           "shape": ""
          }
         },
         "name": "Incontinence",
         "offsetgroup": "Incontinence",
         "orientation": "v",
         "showlegend": true,
         "textposition": "auto",
         "type": "bar",
         "x": [
          "Incontinence"
         ],
         "xaxis": "x",
         "y": [
          0.38479695183904067
         ],
         "yaxis": "y"
        },
        {
         "alignmentgroup": "True",
         "hovertemplate": "Category=%{x}<br>Average Material Score=%{y}<extra></extra>",
         "legendgroup": "Lames",
         "marker": {
          "color": "#DB7093",
          "pattern": {
           "shape": ""
          }
         },
         "name": "Lames",
         "offsetgroup": "Lames",
         "orientation": "v",
         "showlegend": true,
         "textposition": "auto",
         "type": "bar",
         "x": [
          "Lames"
         ],
         "xaxis": "x",
         "y": [
          0.8865920159470133
         ],
         "yaxis": "y"
        },
        {
         "alignmentgroup": "True",
         "hovertemplate": "Category=%{x}<br>Average Material Score=%{y}<extra></extra>",
         "legendgroup": "Produits d'hygiène féminine",
         "marker": {
          "color": "#FFC0CB",
          "pattern": {
           "shape": ""
          }
         },
         "name": "Produits d'hygiène féminine",
         "offsetgroup": "Produits d'hygiène féminine",
         "orientation": "v",
         "showlegend": true,
         "textposition": "auto",
         "type": "bar",
         "x": [
          "Produits d'hygiène féminine"
         ],
         "xaxis": "x",
         "y": [
          0.3543356740174836
         ],
         "yaxis": "y"
        },
        {
         "alignmentgroup": "True",
         "hovertemplate": "Category=%{x}<br>Average Material Score=%{y}<extra></extra>",
         "legendgroup": "Protections, serviettes hygiéniques, couches pour adultes, protège-slips",
         "marker": {
          "color": "#FFB6C1",
          "pattern": {
           "shape": ""
          }
         },
         "name": "Protections, serviettes hygiéniques, couches pour adultes, protège-slips",
         "offsetgroup": "Protections, serviettes hygiéniques, couches pour adultes, protège-slips",
         "orientation": "v",
         "showlegend": true,
         "textposition": "auto",
         "type": "bar",
         "x": [
          "Protections, serviettes hygiéniques, couches pour adultes, protège-slips"
         ],
         "xaxis": "x",
         "y": [
          0.3543356740174836
         ],
         "yaxis": "y"
        },
        {
         "alignmentgroup": "True",
         "hovertemplate": "Category=%{x}<br>Average Material Score=%{y}<extra></extra>",
         "legendgroup": "Protège-slips",
         "marker": {
          "color": "#FF69B4",
          "pattern": {
           "shape": ""
          }
         },
         "name": "Protège-slips",
         "offsetgroup": "Protège-slips",
         "orientation": "v",
         "showlegend": true,
         "textposition": "auto",
         "type": "bar",
         "x": [
          "Protège-slips"
         ],
         "xaxis": "x",
         "y": [
          0.3817918636927623
         ],
         "yaxis": "y"
        },
        {
         "alignmentgroup": "True",
         "hovertemplate": "Category=%{x}<br>Average Material Score=%{y}<extra></extra>",
         "legendgroup": "Serviettes hygièniques",
         "marker": {
          "color": "#FF1493",
          "pattern": {
           "shape": ""
          }
         },
         "name": "Serviettes hygièniques",
         "offsetgroup": "Serviettes hygièniques",
         "orientation": "v",
         "showlegend": true,
         "textposition": "auto",
         "type": "bar",
         "x": [
          "Serviettes hygièniques"
         ],
         "xaxis": "x",
         "y": [
          0.37484968669840574
         ],
         "yaxis": "y"
        },
        {
         "alignmentgroup": "True",
         "hovertemplate": "Category=%{x}<br>Average Material Score=%{y}<extra></extra>",
         "legendgroup": "Shorties",
         "marker": {
          "color": "#DB7093",
          "pattern": {
           "shape": ""
          }
         },
         "name": "Shorties",
         "offsetgroup": "Shorties",
         "orientation": "v",
         "showlegend": true,
         "textposition": "auto",
         "type": "bar",
         "x": [
          "Shorties"
         ],
         "xaxis": "x",
         "y": [
          0.49985429288132566
         ],
         "yaxis": "y"
        },
        {
         "alignmentgroup": "True",
         "hovertemplate": "Category=%{x}<br>Average Material Score=%{y}<extra></extra>",
         "legendgroup": "Tampons",
         "marker": {
          "color": "#FFC0CB",
          "pattern": {
           "shape": ""
          }
         },
         "name": "Tampons",
         "offsetgroup": "Tampons",
         "orientation": "v",
         "showlegend": true,
         "textposition": "auto",
         "type": "bar",
         "x": [
          "Tampons"
         ],
         "xaxis": "x",
         "y": [
          0.4493300555730546
         ],
         "yaxis": "y"
        },
        {
         "alignmentgroup": "True",
         "hovertemplate": "Category=%{x}<br>Average Material Score=%{y}<extra></extra>",
         "legendgroup": "Visage",
         "marker": {
          "color": "#FFB6C1",
          "pattern": {
           "shape": ""
          }
         },
         "name": "Visage",
         "offsetgroup": "Visage",
         "orientation": "v",
         "showlegend": true,
         "textposition": "auto",
         "type": "bar",
         "x": [
          "Visage"
         ],
         "xaxis": "x",
         "y": [
          0.3543356740174836
         ],
         "yaxis": "y"
        },
        {
         "alignmentgroup": "True",
         "hovertemplate": "Category=%{x}<br>Average Material Score=%{y}<extra></extra>",
         "legendgroup": "Vitamines, minéraux et compléments",
         "marker": {
          "color": "#FF69B4",
          "pattern": {
           "shape": ""
          }
         },
         "name": "Vitamines, minéraux et compléments",
         "offsetgroup": "Vitamines, minéraux et compléments",
         "orientation": "v",
         "showlegend": true,
         "textposition": "auto",
         "type": "bar",
         "x": [
          "Vitamines, minéraux et compléments"
         ],
         "xaxis": "x",
         "y": [
          0.4042931377380799
         ],
         "yaxis": "y"
        },
        {
         "alignmentgroup": "True",
         "hovertemplate": "Category=%{x}<br>Average Material Score=%{y}<extra></extra>",
         "legendgroup": "Vêtements de contention médicaux",
         "marker": {
          "color": "#FF1493",
          "pattern": {
           "shape": ""
          }
         },
         "name": "Vêtements de contention médicaux",
         "offsetgroup": "Vêtements de contention médicaux",
         "orientation": "v",
         "showlegend": true,
         "textposition": "auto",
         "type": "bar",
         "x": [
          "Vêtements de contention médicaux"
         ],
         "xaxis": "x",
         "y": [
          0.3543356740174836
         ],
         "yaxis": "y"
        }
       ],
       "layout": {
        "barmode": "relative",
        "legend": {
         "title": {
          "text": "Category"
         },
         "tracegroupgap": 0
        },
        "template": {
         "data": {
          "bar": [
           {
            "error_x": {
             "color": "#2a3f5f"
            },
            "error_y": {
             "color": "#2a3f5f"
            },
            "marker": {
             "line": {
              "color": "#E5ECF6",
              "width": 0.5
             },
             "pattern": {
              "fillmode": "overlay",
              "size": 10,
              "solidity": 0.2
             }
            },
            "type": "bar"
           }
          ],
          "barpolar": [
           {
            "marker": {
             "line": {
              "color": "#E5ECF6",
              "width": 0.5
             },
             "pattern": {
              "fillmode": "overlay",
              "size": 10,
              "solidity": 0.2
             }
            },
            "type": "barpolar"
           }
          ],
          "carpet": [
           {
            "aaxis": {
             "endlinecolor": "#2a3f5f",
             "gridcolor": "white",
             "linecolor": "white",
             "minorgridcolor": "white",
             "startlinecolor": "#2a3f5f"
            },
            "baxis": {
             "endlinecolor": "#2a3f5f",
             "gridcolor": "white",
             "linecolor": "white",
             "minorgridcolor": "white",
             "startlinecolor": "#2a3f5f"
            },
            "type": "carpet"
           }
          ],
          "choropleth": [
           {
            "colorbar": {
             "outlinewidth": 0,
             "ticks": ""
            },
            "type": "choropleth"
           }
          ],
          "contour": [
           {
            "colorbar": {
             "outlinewidth": 0,
             "ticks": ""
            },
            "colorscale": [
             [
              0,
              "#0d0887"
             ],
             [
              0.1111111111111111,
              "#46039f"
             ],
             [
              0.2222222222222222,
              "#7201a8"
             ],
             [
              0.3333333333333333,
              "#9c179e"
             ],
             [
              0.4444444444444444,
              "#bd3786"
             ],
             [
              0.5555555555555556,
              "#d8576b"
             ],
             [
              0.6666666666666666,
              "#ed7953"
             ],
             [
              0.7777777777777778,
              "#fb9f3a"
             ],
             [
              0.8888888888888888,
              "#fdca26"
             ],
             [
              1,
              "#f0f921"
             ]
            ],
            "type": "contour"
           }
          ],
          "contourcarpet": [
           {
            "colorbar": {
             "outlinewidth": 0,
             "ticks": ""
            },
            "type": "contourcarpet"
           }
          ],
          "heatmap": [
           {
            "colorbar": {
             "outlinewidth": 0,
             "ticks": ""
            },
            "colorscale": [
             [
              0,
              "#0d0887"
             ],
             [
              0.1111111111111111,
              "#46039f"
             ],
             [
              0.2222222222222222,
              "#7201a8"
             ],
             [
              0.3333333333333333,
              "#9c179e"
             ],
             [
              0.4444444444444444,
              "#bd3786"
             ],
             [
              0.5555555555555556,
              "#d8576b"
             ],
             [
              0.6666666666666666,
              "#ed7953"
             ],
             [
              0.7777777777777778,
              "#fb9f3a"
             ],
             [
              0.8888888888888888,
              "#fdca26"
             ],
             [
              1,
              "#f0f921"
             ]
            ],
            "type": "heatmap"
           }
          ],
          "heatmapgl": [
           {
            "colorbar": {
             "outlinewidth": 0,
             "ticks": ""
            },
            "colorscale": [
             [
              0,
              "#0d0887"
             ],
             [
              0.1111111111111111,
              "#46039f"
             ],
             [
              0.2222222222222222,
              "#7201a8"
             ],
             [
              0.3333333333333333,
              "#9c179e"
             ],
             [
              0.4444444444444444,
              "#bd3786"
             ],
             [
              0.5555555555555556,
              "#d8576b"
             ],
             [
              0.6666666666666666,
              "#ed7953"
             ],
             [
              0.7777777777777778,
              "#fb9f3a"
             ],
             [
              0.8888888888888888,
              "#fdca26"
             ],
             [
              1,
              "#f0f921"
             ]
            ],
            "type": "heatmapgl"
           }
          ],
          "histogram": [
           {
            "marker": {
             "pattern": {
              "fillmode": "overlay",
              "size": 10,
              "solidity": 0.2
             }
            },
            "type": "histogram"
           }
          ],
          "histogram2d": [
           {
            "colorbar": {
             "outlinewidth": 0,
             "ticks": ""
            },
            "colorscale": [
             [
              0,
              "#0d0887"
             ],
             [
              0.1111111111111111,
              "#46039f"
             ],
             [
              0.2222222222222222,
              "#7201a8"
             ],
             [
              0.3333333333333333,
              "#9c179e"
             ],
             [
              0.4444444444444444,
              "#bd3786"
             ],
             [
              0.5555555555555556,
              "#d8576b"
             ],
             [
              0.6666666666666666,
              "#ed7953"
             ],
             [
              0.7777777777777778,
              "#fb9f3a"
             ],
             [
              0.8888888888888888,
              "#fdca26"
             ],
             [
              1,
              "#f0f921"
             ]
            ],
            "type": "histogram2d"
           }
          ],
          "histogram2dcontour": [
           {
            "colorbar": {
             "outlinewidth": 0,
             "ticks": ""
            },
            "colorscale": [
             [
              0,
              "#0d0887"
             ],
             [
              0.1111111111111111,
              "#46039f"
             ],
             [
              0.2222222222222222,
              "#7201a8"
             ],
             [
              0.3333333333333333,
              "#9c179e"
             ],
             [
              0.4444444444444444,
              "#bd3786"
             ],
             [
              0.5555555555555556,
              "#d8576b"
             ],
             [
              0.6666666666666666,
              "#ed7953"
             ],
             [
              0.7777777777777778,
              "#fb9f3a"
             ],
             [
              0.8888888888888888,
              "#fdca26"
             ],
             [
              1,
              "#f0f921"
             ]
            ],
            "type": "histogram2dcontour"
           }
          ],
          "mesh3d": [
           {
            "colorbar": {
             "outlinewidth": 0,
             "ticks": ""
            },
            "type": "mesh3d"
           }
          ],
          "parcoords": [
           {
            "line": {
             "colorbar": {
              "outlinewidth": 0,
              "ticks": ""
             }
            },
            "type": "parcoords"
           }
          ],
          "pie": [
           {
            "automargin": true,
            "type": "pie"
           }
          ],
          "scatter": [
           {
            "fillpattern": {
             "fillmode": "overlay",
             "size": 10,
             "solidity": 0.2
            },
            "type": "scatter"
           }
          ],
          "scatter3d": [
           {
            "line": {
             "colorbar": {
              "outlinewidth": 0,
              "ticks": ""
             }
            },
            "marker": {
             "colorbar": {
              "outlinewidth": 0,
              "ticks": ""
             }
            },
            "type": "scatter3d"
           }
          ],
          "scattercarpet": [
           {
            "marker": {
             "colorbar": {
              "outlinewidth": 0,
              "ticks": ""
             }
            },
            "type": "scattercarpet"
           }
          ],
          "scattergeo": [
           {
            "marker": {
             "colorbar": {
              "outlinewidth": 0,
              "ticks": ""
             }
            },
            "type": "scattergeo"
           }
          ],
          "scattergl": [
           {
            "marker": {
             "colorbar": {
              "outlinewidth": 0,
              "ticks": ""
             }
            },
            "type": "scattergl"
           }
          ],
          "scattermapbox": [
           {
            "marker": {
             "colorbar": {
              "outlinewidth": 0,
              "ticks": ""
             }
            },
            "type": "scattermapbox"
           }
          ],
          "scatterpolar": [
           {
            "marker": {
             "colorbar": {
              "outlinewidth": 0,
              "ticks": ""
             }
            },
            "type": "scatterpolar"
           }
          ],
          "scatterpolargl": [
           {
            "marker": {
             "colorbar": {
              "outlinewidth": 0,
              "ticks": ""
             }
            },
            "type": "scatterpolargl"
           }
          ],
          "scatterternary": [
           {
            "marker": {
             "colorbar": {
              "outlinewidth": 0,
              "ticks": ""
             }
            },
            "type": "scatterternary"
           }
          ],
          "surface": [
           {
            "colorbar": {
             "outlinewidth": 0,
             "ticks": ""
            },
            "colorscale": [
             [
              0,
              "#0d0887"
             ],
             [
              0.1111111111111111,
              "#46039f"
             ],
             [
              0.2222222222222222,
              "#7201a8"
             ],
             [
              0.3333333333333333,
              "#9c179e"
             ],
             [
              0.4444444444444444,
              "#bd3786"
             ],
             [
              0.5555555555555556,
              "#d8576b"
             ],
             [
              0.6666666666666666,
              "#ed7953"
             ],
             [
              0.7777777777777778,
              "#fb9f3a"
             ],
             [
              0.8888888888888888,
              "#fdca26"
             ],
             [
              1,
              "#f0f921"
             ]
            ],
            "type": "surface"
           }
          ],
          "table": [
           {
            "cells": {
             "fill": {
              "color": "#EBF0F8"
             },
             "line": {
              "color": "white"
             }
            },
            "header": {
             "fill": {
              "color": "#C8D4E3"
             },
             "line": {
              "color": "white"
             }
            },
            "type": "table"
           }
          ]
         },
         "layout": {
          "annotationdefaults": {
           "arrowcolor": "#2a3f5f",
           "arrowhead": 0,
           "arrowwidth": 1
          },
          "autotypenumbers": "strict",
          "coloraxis": {
           "colorbar": {
            "outlinewidth": 0,
            "ticks": ""
           }
          },
          "colorscale": {
           "diverging": [
            [
             0,
             "#8e0152"
            ],
            [
             0.1,
             "#c51b7d"
            ],
            [
             0.2,
             "#de77ae"
            ],
            [
             0.3,
             "#f1b6da"
            ],
            [
             0.4,
             "#fde0ef"
            ],
            [
             0.5,
             "#f7f7f7"
            ],
            [
             0.6,
             "#e6f5d0"
            ],
            [
             0.7,
             "#b8e186"
            ],
            [
             0.8,
             "#7fbc41"
            ],
            [
             0.9,
             "#4d9221"
            ],
            [
             1,
             "#276419"
            ]
           ],
           "sequential": [
            [
             0,
             "#0d0887"
            ],
            [
             0.1111111111111111,
             "#46039f"
            ],
            [
             0.2222222222222222,
             "#7201a8"
            ],
            [
             0.3333333333333333,
             "#9c179e"
            ],
            [
             0.4444444444444444,
             "#bd3786"
            ],
            [
             0.5555555555555556,
             "#d8576b"
            ],
            [
             0.6666666666666666,
             "#ed7953"
            ],
            [
             0.7777777777777778,
             "#fb9f3a"
            ],
            [
             0.8888888888888888,
             "#fdca26"
            ],
            [
             1,
             "#f0f921"
            ]
           ],
           "sequentialminus": [
            [
             0,
             "#0d0887"
            ],
            [
             0.1111111111111111,
             "#46039f"
            ],
            [
             0.2222222222222222,
             "#7201a8"
            ],
            [
             0.3333333333333333,
             "#9c179e"
            ],
            [
             0.4444444444444444,
             "#bd3786"
            ],
            [
             0.5555555555555556,
             "#d8576b"
            ],
            [
             0.6666666666666666,
             "#ed7953"
            ],
            [
             0.7777777777777778,
             "#fb9f3a"
            ],
            [
             0.8888888888888888,
             "#fdca26"
            ],
            [
             1,
             "#f0f921"
            ]
           ]
          },
          "colorway": [
           "#636efa",
           "#EF553B",
           "#00cc96",
           "#ab63fa",
           "#FFA15A",
           "#19d3f3",
           "#FF6692",
           "#B6E880",
           "#FF97FF",
           "#FECB52"
          ],
          "font": {
           "color": "#2a3f5f"
          },
          "geo": {
           "bgcolor": "white",
           "lakecolor": "white",
           "landcolor": "#E5ECF6",
           "showlakes": true,
           "showland": true,
           "subunitcolor": "white"
          },
          "hoverlabel": {
           "align": "left"
          },
          "hovermode": "closest",
          "mapbox": {
           "style": "light"
          },
          "paper_bgcolor": "white",
          "plot_bgcolor": "#E5ECF6",
          "polar": {
           "angularaxis": {
            "gridcolor": "white",
            "linecolor": "white",
            "ticks": ""
           },
           "bgcolor": "#E5ECF6",
           "radialaxis": {
            "gridcolor": "white",
            "linecolor": "white",
            "ticks": ""
           }
          },
          "scene": {
           "xaxis": {
            "backgroundcolor": "#E5ECF6",
            "gridcolor": "white",
            "gridwidth": 2,
            "linecolor": "white",
            "showbackground": true,
            "ticks": "",
            "zerolinecolor": "white"
           },
           "yaxis": {
            "backgroundcolor": "#E5ECF6",
            "gridcolor": "white",
            "gridwidth": 2,
            "linecolor": "white",
            "showbackground": true,
            "ticks": "",
            "zerolinecolor": "white"
           },
           "zaxis": {
            "backgroundcolor": "#E5ECF6",
            "gridcolor": "white",
            "gridwidth": 2,
            "linecolor": "white",
            "showbackground": true,
            "ticks": "",
            "zerolinecolor": "white"
           }
          },
          "shapedefaults": {
           "line": {
            "color": "#2a3f5f"
           }
          },
          "ternary": {
           "aaxis": {
            "gridcolor": "white",
            "linecolor": "white",
            "ticks": ""
           },
           "baxis": {
            "gridcolor": "white",
            "linecolor": "white",
            "ticks": ""
           },
           "bgcolor": "#E5ECF6",
           "caxis": {
            "gridcolor": "white",
            "linecolor": "white",
            "ticks": ""
           }
          },
          "title": {
           "x": 0.05
          },
          "xaxis": {
           "automargin": true,
           "gridcolor": "white",
           "linecolor": "white",
           "ticks": "",
           "title": {
            "standoff": 15
           },
           "zerolinecolor": "white",
           "zerolinewidth": 2
          },
          "yaxis": {
           "automargin": true,
           "gridcolor": "white",
           "linecolor": "white",
           "ticks": "",
           "title": {
            "standoff": 15
           },
           "zerolinecolor": "white",
           "zerolinewidth": 2
          }
         }
        },
        "title": {
         "text": "Average Material Score of Each Category"
        },
        "xaxis": {
         "anchor": "y",
         "categoryarray": [
          "Bannetons",
          "Beauté et soins",
          "Coupes menstruelles",
          "Culottes et slips",
          "Culottes et sous-vêtements de protection",
          "Diffuseurs d'huiles essentielles",
          "Hygiène et soins intimes",
          "Hygiène et épilation",
          "Incontinence",
          "Lames",
          "Produits d'hygiène féminine",
          "Protections, serviettes hygiéniques, couches pour adultes, protège-slips",
          "Protège-slips",
          "Serviettes hygièniques",
          "Shorties",
          "Tampons",
          "Visage",
          "Vitamines, minéraux et compléments",
          "Vêtements de contention médicaux"
         ],
         "categoryorder": "total descending",
         "domain": [
          0,
          1
         ],
         "title": {
          "text": "Category"
         }
        },
        "yaxis": {
         "anchor": "x",
         "domain": [
          0,
          1
         ],
         "title": {
          "text": "Average Material Score"
         }
        }
       }
      }
     },
     "metadata": {},
     "output_type": "display_data"
    }
   ],
   "source": [
    "average_material_per_category = products_scores.groupby('category')['material_weighted_normalized'].mean().reset_index()\n",
    "\n",
    "# Now let's create the bar graph with shades of pink for the average material score of each category\n",
    "import plotly.express as px\n",
    "\n",
    "# Define a palette of pink shades for the material scores visualization\n",
    "pink_palette_material = ['#FFC0CB', '#FFB6C1', '#FF69B4', '#FF1493', '#DB7093']\n",
    "\n",
    "fig = px.bar(average_material_per_category, x='category', y='material_weighted_normalized',\n",
    "             title=\"Average Material Score of Each Category\",\n",
    "             labels={'material_weighted_normalized': 'Average Material Score', 'category': 'Category'},\n",
    "             color='category',  # This will assign different shades to each category\n",
    "             color_discrete_sequence=pink_palette_material)  # Use the pink color palette for material scores\n",
    "\n",
    "fig.update_layout(xaxis_title='Category', yaxis_title='Average Material Score', xaxis={'categoryorder':'total descending'})\n",
    "fig.show()"
   ]
  },
  {
   "cell_type": "code",
   "execution_count": 64,
   "metadata": {},
   "outputs": [],
   "source": [
    "#products_df.drop(columns=\"category\", inplace=True)"
   ]
  },
  {
   "cell_type": "code",
   "execution_count": 65,
   "metadata": {},
   "outputs": [],
   "source": [
    "#products_df.rename(columns={\"true_cat\":\"category\"}, inplace=True)"
   ]
  },
  {
   "cell_type": "code",
   "execution_count": 66,
   "metadata": {},
   "outputs": [],
   "source": [
    "cats_to_keep = ['Tampons', 'Coupes menstruelles',\n",
    "       'Culottes et sous-vêtements de protection',\n",
    "       'Serviettes hygièniques', 'Protège-slips']\n",
    "products_df = products_df[products_df['category'].isin(cats_to_keep)]\n"
   ]
  },
  {
   "cell_type": "code",
   "execution_count": 67,
   "metadata": {},
   "outputs": [],
   "source": [
    "#products_df.drop(columns=\"Unnamed: 0\", inplace=True)"
   ]
  },
  {
   "cell_type": "code",
   "execution_count": null,
   "metadata": {},
   "outputs": [],
   "source": [
    "#products_df.to_csv(\"./products_df_true_cat.csv\")"
   ]
  },
  {
   "cell_type": "code",
   "execution_count": null,
   "metadata": {},
   "outputs": [],
   "source": []
  }
 ],
 "metadata": {
  "kernelspec": {
   "display_name": "Python 3",
   "language": "python",
   "name": "python3"
  },
  "language_info": {
   "codemirror_mode": {
    "name": "ipython",
    "version": 3
   },
   "file_extension": ".py",
   "mimetype": "text/x-python",
   "name": "python",
   "nbconvert_exporter": "python",
   "pygments_lexer": "ipython3",
   "version": "3.13.0"
  }
 },
 "nbformat": 4,
 "nbformat_minor": 2
}
